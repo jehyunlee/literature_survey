{
 "cells": [
  {
   "cell_type": "markdown",
   "metadata": {},
   "source": [
    "* code by Sihyun You (2021.12.28.)\n",
    "* edit by Jehyun Lee (2021.12.30.)"
   ]
  },
  {
   "cell_type": "code",
   "execution_count": 1,
   "metadata": {},
   "outputs": [],
   "source": [
    "%matplotlib inline\n",
    "\n",
    "import numpy as np\n",
    "import pandas as pd\n",
    "import matplotlib.pyplot as plt\n",
    "import re\n",
    "from pybliometrics.scopus import ScopusSearch"
   ]
  },
  {
   "cell_type": "code",
   "execution_count": 17,
   "metadata": {},
   "outputs": [],
   "source": [
    "def regularize_date_publication(_str):\n",
    "    token_date = _str.split(' ')\n",
    "    if (re.match('[0-9]', _str[0])):\n",
    "        day, month, year = token_date[0], token_date[1][:3].upper(), token_date[2]\n",
    "        s = ' '.join([day, month, year])\n",
    "    else:\n",
    "        month, year = token_date[0][:3].upper(), token_date[1]\n",
    "        s = ' '.join([month, year])\n",
    "        \n",
    "    return (int(year), s)\n",
    "\n",
    "def get_title_index(_pub_name, _df):\n",
    "    list_title = _df['TITLE'].values\n",
    "    for i, title in enumerate(list_title):\n",
    "        if regularize(_pub_name) == regularize(title):\n",
    "            return i\n",
    "    return -1\n",
    "\n",
    "def regularize(_str):\n",
    "    return re.sub('[^A-Za-z0-9]+', '', re.sub('&', 'and', _str)).lower()       "
   ]
  },
  {
   "cell_type": "code",
   "execution_count": 3,
   "metadata": {},
   "outputs": [],
   "source": [
    "pd.set_option(\"mode.chained_assignment\", None)\n",
    "pd.set_option(\"display.max_columns\", None)\n",
    "dfs_JCR_SCIE = []\n",
    "YEAR_START, YEAR_REMARK, YEAR_END = 2016, 2019, 2020"
   ]
  },
  {
   "cell_type": "code",
   "execution_count": 4,
   "metadata": {},
   "outputs": [
    {
     "name": "stdout",
     "output_type": "stream",
     "text": [
      "2016년도 시트를 로딩중입니다.\n",
      "2017년도 시트를 로딩중입니다.\n",
      "2018년도 시트를 로딩중입니다.\n",
      "2019년도 시트를 로딩중입니다.\n",
      "2020년도 시트를 로딩중입니다.\n"
     ]
    }
   ],
   "source": [
    "for i in range(YEAR_START, YEAR_END+1):\n",
    "    print(f\"{i}년도 시트를 로딩중입니다.\")\n",
    "    dfs_JCR_SCIE.append(pd.read_excel(f\"./data/JCR_SCIE_{i}.xlsx\"))"
   ]
  },
  {
   "cell_type": "code",
   "execution_count": 5,
   "metadata": {},
   "outputs": [
    {
     "data": {
      "text/html": [
       "<div>\n",
       "<style scoped>\n",
       "    .dataframe tbody tr th:only-of-type {\n",
       "        vertical-align: middle;\n",
       "    }\n",
       "\n",
       "    .dataframe tbody tr th {\n",
       "        vertical-align: top;\n",
       "    }\n",
       "\n",
       "    .dataframe thead th {\n",
       "        text-align: right;\n",
       "    }\n",
       "</style>\n",
       "<table border=\"1\" class=\"dataframe\">\n",
       "  <thead>\n",
       "    <tr style=\"text-align: right;\">\n",
       "      <th></th>\n",
       "      <th>순번</th>\n",
       "      <th>지원번호 내 순번</th>\n",
       "      <th>지원번호\\nApplication No.</th>\n",
       "      <th>이름(국문)</th>\n",
       "      <th>이름 (영문)\\nName</th>\n",
       "      <th>논문명 (Title)</th>\n",
       "      <th>게재일자\\nPublication Date</th>\n",
       "      <th>학술지구분</th>\n",
       "      <th>저자구분</th>\n",
       "      <th>DOIs (Final)</th>\n",
       "      <th>SCIE (Y/N)</th>\n",
       "      <th>Publication Year</th>\n",
       "      <th>Publication Date</th>\n",
       "      <th>#citation</th>\n",
       "      <th>Publication Year journal impact factor</th>\n",
       "      <th>2019\\njournal\\nimpact\\nfactor</th>\n",
       "      <th>2019 journal impact factor percentile</th>\n",
       "      <th>CNCI</th>\n",
       "      <th>1st Author</th>\n",
       "      <th>1ST AUTHOR\\n(Y/N)</th>\n",
       "      <th>Reprint Author</th>\n",
       "      <th>REPRINT AUTHOR\\n(Y/N)</th>\n",
       "      <th>Source\\n(Journal)</th>\n",
       "      <th>volume</th>\n",
       "      <th>issue</th>\n",
       "    </tr>\n",
       "  </thead>\n",
       "  <tbody>\n",
       "    <tr>\n",
       "      <th>0</th>\n",
       "      <td>1</td>\n",
       "      <td>1</td>\n",
       "      <td>0026-000001</td>\n",
       "      <td>박성일</td>\n",
       "      <td>Park, Seong-Il</td>\n",
       "      <td>Estimating blue carbon accumulated in a haloph...</td>\n",
       "      <td>2021.05.21</td>\n",
       "      <td>국외SCIE</td>\n",
       "      <td>주저자</td>\n",
       "      <td>10.1007/s11852-021-00828-1</td>\n",
       "      <td>Y</td>\n",
       "      <td>2021.0</td>\n",
       "      <td>JUN 2021</td>\n",
       "      <td>0.0</td>\n",
       "      <td>NaN</td>\n",
       "      <td>1.374</td>\n",
       "      <td>43.457944</td>\n",
       "      <td>0.0</td>\n",
       "      <td>Park, Seong-Il</td>\n",
       "      <td>Y</td>\n",
       "      <td>Um, Jung-Sup</td>\n",
       "      <td>N</td>\n",
       "      <td>JOURNAL OF COASTAL CONSERVATION</td>\n",
       "      <td>25.0</td>\n",
       "      <td>3.0</td>\n",
       "    </tr>\n",
       "    <tr>\n",
       "      <th>1</th>\n",
       "      <td>2</td>\n",
       "      <td>3</td>\n",
       "      <td>0026-000003</td>\n",
       "      <td>김기덕</td>\n",
       "      <td>Kim, Ki-Duk</td>\n",
       "      <td>Beneficial Roles of Carbon Black Additives in ...</td>\n",
       "      <td>2020.10.25</td>\n",
       "      <td>국외SCIE</td>\n",
       "      <td>주저자</td>\n",
       "      <td>10.1016/j.apcata.2020.117837</td>\n",
       "      <td>NaN</td>\n",
       "      <td>NaN</td>\n",
       "      <td>NaN</td>\n",
       "      <td>NaN</td>\n",
       "      <td>NaN</td>\n",
       "      <td>NaN</td>\n",
       "      <td>NaN</td>\n",
       "      <td>NaN</td>\n",
       "      <td>NaN</td>\n",
       "      <td>NaN</td>\n",
       "      <td>NaN</td>\n",
       "      <td>NaN</td>\n",
       "      <td>NaN</td>\n",
       "      <td>NaN</td>\n",
       "      <td>NaN</td>\n",
       "    </tr>\n",
       "    <tr>\n",
       "      <th>2</th>\n",
       "      <td>3</td>\n",
       "      <td>7</td>\n",
       "      <td>0026-000009</td>\n",
       "      <td>김효원</td>\n",
       "      <td>Kim, HyoWon</td>\n",
       "      <td>Stabilizing role of Mo in TiO2-MoOx supported ...</td>\n",
       "      <td>2020.08.14</td>\n",
       "      <td>국외SCIE</td>\n",
       "      <td>기타</td>\n",
       "      <td>10.1016/j.apcatb.2020.119433</td>\n",
       "      <td>NaN</td>\n",
       "      <td>NaN</td>\n",
       "      <td>NaN</td>\n",
       "      <td>NaN</td>\n",
       "      <td>NaN</td>\n",
       "      <td>NaN</td>\n",
       "      <td>NaN</td>\n",
       "      <td>NaN</td>\n",
       "      <td>NaN</td>\n",
       "      <td>NaN</td>\n",
       "      <td>NaN</td>\n",
       "      <td>NaN</td>\n",
       "      <td>NaN</td>\n",
       "      <td>NaN</td>\n",
       "      <td>NaN</td>\n",
       "    </tr>\n",
       "  </tbody>\n",
       "</table>\n",
       "</div>"
      ],
      "text/plain": [
       "   순번  지원번호 내 순번 지원번호\\nApplication No. 이름(국문)   이름 (영문)\\nName  \\\n",
       "0   1          1           0026-000001    박성일  Park, Seong-Il   \n",
       "1   2          3           0026-000003    김기덕     Kim, Ki-Duk   \n",
       "2   3          7           0026-000009    김효원     Kim, HyoWon   \n",
       "\n",
       "                                         논문명 (Title) 게재일자\\nPublication Date  \\\n",
       "0  Estimating blue carbon accumulated in a haloph...             2021.05.21   \n",
       "1  Beneficial Roles of Carbon Black Additives in ...             2020.10.25   \n",
       "2  Stabilizing role of Mo in TiO2-MoOx supported ...             2020.08.14   \n",
       "\n",
       "    학술지구분 저자구분                  DOIs (Final) SCIE (Y/N)  Publication Year  \\\n",
       "0  국외SCIE  주저자    10.1007/s11852-021-00828-1          Y            2021.0   \n",
       "1  국외SCIE  주저자  10.1016/j.apcata.2020.117837        NaN               NaN   \n",
       "2  국외SCIE   기타  10.1016/j.apcatb.2020.119433        NaN               NaN   \n",
       "\n",
       "  Publication Date  #citation  Publication Year journal impact factor  \\\n",
       "0         JUN 2021        0.0                                     NaN   \n",
       "1              NaN        NaN                                     NaN   \n",
       "2              NaN        NaN                                     NaN   \n",
       "\n",
       "   2019\\njournal\\nimpact\\nfactor  2019 journal impact factor percentile  CNCI  \\\n",
       "0                          1.374                              43.457944   0.0   \n",
       "1                            NaN                                    NaN   NaN   \n",
       "2                            NaN                                    NaN   NaN   \n",
       "\n",
       "       1st Author 1ST AUTHOR\\n(Y/N) Reprint Author REPRINT AUTHOR\\n(Y/N)  \\\n",
       "0  Park, Seong-Il                 Y   Um, Jung-Sup                     N   \n",
       "1             NaN               NaN            NaN                   NaN   \n",
       "2             NaN               NaN            NaN                   NaN   \n",
       "\n",
       "                 Source\\n(Journal)  volume  issue  \n",
       "0  JOURNAL OF COASTAL CONSERVATION    25.0    3.0  \n",
       "1                              NaN     NaN    NaN  \n",
       "2                              NaN     NaN    NaN  "
      ]
     },
     "execution_count": 5,
     "metadata": {},
     "output_type": "execute_result"
    }
   ],
   "source": [
    "df_applicants = pd.read_excel(\"applicants.xlsx\", header=1)\n",
    "df_applicants.head(3)"
   ]
  },
  {
   "cell_type": "code",
   "execution_count": 6,
   "metadata": {},
   "outputs": [],
   "source": [
    "df_applicants = df_applicants.drop([\"CNCI\"], axis = 1)\n",
    "list_name_en = df_applicants[\"이름 (영문)\\nName\"].values\n",
    "list_doi = df_applicants[\"DOIs (Final)\"].values"
   ]
  },
  {
   "cell_type": "code",
   "execution_count": 25,
   "metadata": {},
   "outputs": [
    {
     "name": "stdout",
     "output_type": "stream",
     "text": [
      "#check : 10.1007/s11852-021-00828-1\n",
      "#check : 10.1016/j.apcata.2020.117837\n",
      "#check : 10.1016/j.apcatb.2020.119433\n",
      "#check : 10.1016/j.renene.2020.07.002\n",
      "#check : 10.1016/j.coco.2020.100499\n",
      "#check : 10.3390/en11020447\n",
      "#check : 10.3390/en13174479\n",
      "#check : 10.1016/j.cej.2021.130445\n",
      "#check : 10.1088/0964-1726/25/4/045021\n",
      "#check : 10.1021/acsami.7b11938\n"
     ]
    }
   ],
   "source": [
    "for i, doi in enumerate(list_doi):\n",
    "    info_scopus = ScopusSearch(f\"DOI ({doi})\", download=True, subscriber=False).results[0]\n",
    "\n",
    "    k2 = YEAR_REMARK - YEAR_START\n",
    "    index_remark = get_title_index(info_scopus.publicationName, dfs_JCR_SCIE[k2])\n",
    "\n",
    "    scie_yn = 'N'\n",
    "    if index_remark > 0:\n",
    "        scie_yn = 'Y'\n",
    "    else:\n",
    "        print(\"SCIE 논문이 아닙니다.\")\n",
    "        continue\n",
    "    \n",
    "    df_applicants[\"SCIE (Y/N)\"][i] = scie_yn\n",
    "    \n",
    "    year, date = regularize_date_publication(info_scopus.coverDisplayDate)\n",
    "    df_applicants[\"Publication Year\"][i] = year\n",
    "    df_applicants[\"Publication Date\"][i] = date\n",
    "    df_applicants[\"#citation\"][i] = str(info_scopus.citedby_count)\n",
    "    \n",
    "    if year <= 2020:\n",
    "        k1 = year - YEAR_START\n",
    "        index_n = get_title_index(info_scopus.publicationName, dfs_JCR_SCIE[k1])\n",
    "        jif_n = str(dfs_JCR_SCIE[k1][\"IMPACT_FACTOR\"][index_n])\n",
    "    else:\n",
    "        jif_n = \"\"\n",
    "        \n",
    "    df_applicants[\"Publication Year journal impact factor\"][i] = jif_n\n",
    "    df_applicants[\"2019\\njournal\\nimpact\\nfactor\"][i] = str(dfs_JCR_SCIE[k2][\"IMPACT_FACTOR\"][index_remark])\n",
    "    df_applicants[\"2019 journal impact factor percentile\"][i] = str(dfs_JCR_SCIE[k2][\"JIF_PERCENTILE\"][index_remark])\n",
    "    \n",
    "    \n",
    "    try:\n",
    "        author_cru = info_scopus.author_names.split(\";\")[0]\n",
    "        print(info_scopus.author_names)\n",
    "        print(author_cru)\n",
    "        if regularize(author_cru) == regularize(list_name_en[i]):\n",
    "            first_author = list_name_en[i]\n",
    "            first_author_yn = \"Y\"\n",
    "        else:\n",
    "            first_author = author_cru\n",
    "            first_author_yn = \"N\"\n",
    "    except AttributeError as AE:\n",
    "        print(f\"#check : {info_scopus.doi}\")"
   ]
  },
  {
   "cell_type": "code",
   "execution_count": 21,
   "metadata": {},
   "outputs": [
    {
     "data": {
      "text/plain": [
       "Document(eid='2-s2.0-85106932269', doi='10.1007/s11852-021-00828-1', pii=None, pubmed_id=None, title='Estimating blue carbon accumulated in a halophyte community using UAV imagery: a case study of the southern coastal wetlands in South Korea', subtype='ar', subtypeDescription='Article', creator='Park S.I.', afid=None, affilname='Kyungpook National University', affiliation_city='Daegu', affiliation_country='South Korea', author_count=None, author_names=None, author_ids=None, author_afids=None, coverDate='2021-06-01', coverDisplayDate='June 2021', publicationName='Journal of Coastal Conservation', issn='14000350', source_id='27372', eIssn='18747841', aggregationType='Journal', volume='25', issueIdentifier='3', article_number='38', pageRange=None, description=None, authkeywords=None, citedby_count='3', openaccess='0', fund_acr=None, fund_no=None, fund_sponsor=None)"
      ]
     },
     "execution_count": 21,
     "metadata": {},
     "output_type": "execute_result"
    }
   ],
   "source": [
    "info_scopus"
   ]
  },
  {
   "cell_type": "code",
   "execution_count": 26,
   "metadata": {},
   "outputs": [
    {
     "data": {
      "text/plain": [
       "10"
      ]
     },
     "execution_count": 26,
     "metadata": {},
     "output_type": "execute_result"
    }
   ],
   "source": [
    "len(list_doi)"
   ]
  },
  {
   "cell_type": "code",
   "execution_count": null,
   "metadata": {},
   "outputs": [],
   "source": []
  },
  {
   "cell_type": "code",
   "execution_count": null,
   "metadata": {},
   "outputs": [],
   "source": []
  },
  {
   "cell_type": "code",
   "execution_count": 15,
   "metadata": {},
   "outputs": [
    {
     "data": {
      "text/plain": [
       "2017.0"
      ]
     },
     "execution_count": 15,
     "metadata": {},
     "output_type": "execute_result"
    }
   ],
   "source": [
    "df_applicants[\"Publication Year\"][i]"
   ]
  },
  {
   "cell_type": "code",
   "execution_count": null,
   "metadata": {},
   "outputs": [],
   "source": [
    "Document(eid='2-s2.0-85106932269', doi='10.1007/s11852-021-00828-1', pii=None, pubmed_id=None, title='Estimating blue carbon accumulated in a halophyte community using UAV imagery: a case study of the southern coastal wetlands in South Korea', subtype='ar', subtypeDescription='Article', creator='Park S.I.', afid=None, affilname='Kyungpook National University', affiliation_city='Daegu', affiliation_country='South Korea', author_count=None, author_names=None, author_ids=None, author_afids=None, coverDate='2021-06-01', coverDisplayDate='June 2021', publicationName='Journal of Coastal Conservation', issn='14000350', source_id='27372', eIssn='18747841', aggregationType='Journal', volume='25', issueIdentifier='3', article_number='38', pageRange=None, description=None, authkeywords=None, citedby_count='3', openaccess='0', fund_acr=None, fund_no=None, fund_sponsor=None)"
   ]
  },
  {
   "cell_type": "code",
   "execution_count": 23,
   "metadata": {},
   "outputs": [
    {
     "data": {
      "text/plain": [
       "False"
      ]
     },
     "execution_count": 23,
     "metadata": {},
     "output_type": "execute_result"
    }
   ],
   "source": [
    "info_scopus.author_names != None"
   ]
  },
  {
   "cell_type": "code",
   "execution_count": null,
   "metadata": {},
   "outputs": [],
   "source": []
  }
 ],
 "metadata": {
  "kernelspec": {
   "display_name": "Python 3",
   "language": "python",
   "name": "python3"
  },
  "language_info": {
   "codemirror_mode": {
    "name": "ipython",
    "version": 3
   },
   "file_extension": ".py",
   "mimetype": "text/x-python",
   "name": "python",
   "nbconvert_exporter": "python",
   "pygments_lexer": "ipython3",
   "version": "3.7.4"
  }
 },
 "nbformat": 4,
 "nbformat_minor": 4
}
