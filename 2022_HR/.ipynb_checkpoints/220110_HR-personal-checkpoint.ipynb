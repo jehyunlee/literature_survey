{
 "cells": [
  {
   "cell_type": "markdown",
   "metadata": {},
   "source": [
    "* code by Sihyun You (2021.12.28.)\n",
    "* edit by Jehyun Lee (2021.12.30.)\n",
    "* revised for mrnIF by Jehyun Lee (2022.01.08.)"
   ]
  },
  {
   "cell_type": "code",
   "execution_count": 1,
   "metadata": {},
   "outputs": [],
   "source": [
    "%matplotlib inline\n",
    "\n",
    "import numpy as np\n",
    "import pandas as pd\n",
    "import matplotlib.pyplot as plt\n",
    "import re\n",
    "from pybliometrics.scopus import ScopusSearch\n",
    "from bs4 import BeautifulSoup\n",
    "import requests, json\n",
    "from docx import Document\n",
    "from copy import deepcopy"
   ]
  },
  {
   "cell_type": "code",
   "execution_count": 2,
   "metadata": {},
   "outputs": [],
   "source": [
    "# Scopus API Keys\n",
    "from my_apikeys import APIKeys"
   ]
  },
  {
   "cell_type": "code",
   "execution_count": 3,
   "metadata": {},
   "outputs": [
    {
     "name": "stdout",
     "output_type": "stream",
     "text": [
      "subscriber=True\n"
     ]
    }
   ],
   "source": [
    "# subscriber (Institute: True. Home: False)\n",
    "try:\n",
    "    s_sample = ScopusSearch(f\"DOI (10.1038/s41598-021-83315-9)\").results[0]\n",
    "    subscriber=True\n",
    "except:\n",
    "    subscriber=False\n",
    "\n",
    "print(f\"subscriber={subscriber}\")    "
   ]
  },
  {
   "cell_type": "code",
   "execution_count": 4,
   "metadata": {},
   "outputs": [],
   "source": [
    "pd.set_option(\"mode.chained_assignment\", None)\n",
    "pd.set_option(\"display.max_columns\", None)\n",
    "dfs_JCR_SCIE = {}\n",
    "YEAR_START, YEAR_REMARK, YEAR_THIS = 2016, 2020, 2021"
   ]
  },
  {
   "cell_type": "code",
   "execution_count": 5,
   "metadata": {},
   "outputs": [
    {
     "name": "stdout",
     "output_type": "stream",
     "text": [
      "2016년도 시트를 로딩중입니다.\n",
      "2017년도 시트를 로딩중입니다.\n",
      "2018년도 시트를 로딩중입니다.\n",
      "2019년도 시트를 로딩중입니다.\n",
      "2020년도 시트를 로딩중입니다.\n"
     ]
    }
   ],
   "source": [
    "for y in range(YEAR_START, YEAR_THIS):\n",
    "    print(f\"{y}년도 시트를 로딩중입니다.\")\n",
    "    dfs_JCR_SCIE.update({str(y):pd.read_excel(\"./data/JCR_SCIE_(2016-2020)_merged.xlsx\", sheet_name=f\"JCR {y}\")})"
   ]
  },
  {
   "cell_type": "code",
   "execution_count": 30,
   "metadata": {},
   "outputs": [],
   "source": [
    "def regularize_date_publication(_str):\n",
    "    _str = _str.replace(\",\", \"\")\n",
    "    token_date = _str.split(' ')\n",
    "    if len(token_date) == 1: # year only\n",
    "        year = _str\n",
    "        s = _str\n",
    "    elif (re.match('[0-9]', token_date[0])):\n",
    "        day, month, year = token_date[0], token_date[1][:3].upper(), token_date[2]\n",
    "        s = ' '.join([month, day, year])\n",
    "    elif (re.match('[A-Za-z]', token_date[0]) and re.match('[0-9]', token_date[1]) and int(token_date[1])<32):    \n",
    "        month, day, year = token_date[0][:3].upper(), token_date[1], token_date[2]\n",
    "        s = ' '.join([month, day, year])\n",
    "    else:\n",
    "        month, year = token_date[0][:3].upper(), token_date[1]\n",
    "        s = ' '.join([month, year])\n",
    "        \n",
    "    return (int(year), s)\n",
    "\n",
    "def get_pub_index(_pub_name, _df):\n",
    "    list_title = _df['TITLE'].map(regularize)\n",
    "    pub_index = np.where(regularize(_pub_name) == list_title)[0]\n",
    "    if len(pub_index) > 0:\n",
    "        return pub_index\n",
    "    return np.array([])\n",
    "\n",
    "def get_pub_index_eissn(_pub_eissn, _df):\n",
    "    list_eissn = _df['EISSN'].str.replace(\"-\",\"\").values\n",
    "    pub_index = np.where(_pub_eissn == list_eissn)[0]\n",
    "    if len(pub_index) > 0:\n",
    "        return pub_index\n",
    "    return np.array([])\n",
    "\n",
    "def regularize(_str):\n",
    "    return re.sub('[^A-Za-z0-9]+', '', re.sub('&', 'and', _str)).lower()       \n",
    "\n",
    "def regularize_space(_str):\n",
    "    return re.sub('[^A-Za-z0-9]+', ' ', re.sub('&', 'and', _str)).lower()       "
   ]
  },
  {
   "cell_type": "code",
   "execution_count": 55,
   "metadata": {},
   "outputs": [],
   "source": [
    "# find the most frequent element\n",
    "def most_frequent(List):\n",
    "    return max(set(List), key = List.count)"
   ]
  },
  {
   "cell_type": "code",
   "execution_count": 6,
   "metadata": {},
   "outputs": [
    {
     "data": {
      "text/html": [
       "<div>\n",
       "<style scoped>\n",
       "    .dataframe tbody tr th:only-of-type {\n",
       "        vertical-align: middle;\n",
       "    }\n",
       "\n",
       "    .dataframe tbody tr th {\n",
       "        vertical-align: top;\n",
       "    }\n",
       "\n",
       "    .dataframe thead th {\n",
       "        text-align: right;\n",
       "    }\n",
       "</style>\n",
       "<table border=\"1\" class=\"dataframe\">\n",
       "  <thead>\n",
       "    <tr style=\"text-align: right;\">\n",
       "      <th></th>\n",
       "      <th>전체순번</th>\n",
       "      <th>수험번호내 순번</th>\n",
       "      <th>수험번호</th>\n",
       "      <th>이름</th>\n",
       "      <th>영문명</th>\n",
       "      <th>논문제목</th>\n",
       "      <th>게재일자</th>\n",
       "      <th>지원자 입력 DOI</th>\n",
       "      <th>수정 DOI</th>\n",
       "      <th>SCIE구분</th>\n",
       "      <th>역할</th>\n",
       "      <th>게재지명</th>\n",
       "      <th>출판사</th>\n",
       "      <th>ISSN</th>\n",
       "      <th>논문구분\\n(SCIE)</th>\n",
       "      <th>Publication Date</th>\n",
       "      <th>#citation</th>\n",
       "      <th>Publication Year journal impact factor</th>\n",
       "      <th>2020\\njournal\\nimpact\\nfactor</th>\n",
       "      <th>2020 journal impact factor percentile</th>\n",
       "      <th>1st Author</th>\n",
       "      <th>1ST AUTHOR\\n(Y/N)</th>\n",
       "      <th>Reprint Author</th>\n",
       "      <th>REPRINT AUTHOR\\n(Y/N)</th>\n",
       "      <th>Source\\n(Journal)</th>\n",
       "      <th>volume</th>\n",
       "      <th>issue</th>\n",
       "      <th>Notes</th>\n",
       "    </tr>\n",
       "  </thead>\n",
       "  <tbody>\n",
       "    <tr>\n",
       "      <th>0</th>\n",
       "      <td>1409</td>\n",
       "      <td>2</td>\n",
       "      <td>0088-000276</td>\n",
       "      <td>김재형</td>\n",
       "      <td>Kim, Jae Hyung</td>\n",
       "      <td>A General Strategy to Atomically Dispersed Pre...</td>\n",
       "      <td>2020.01.30</td>\n",
       "      <td>/10.1021/acsnano.9b08494</td>\n",
       "      <td>10.1021/acsnano.9b08494</td>\n",
       "      <td>국외SCIE</td>\n",
       "      <td>주저자</td>\n",
       "      <td>ACS Nano 2020, 14, 1990-2001.</td>\n",
       "      <td>ACS</td>\n",
       "      <td>-</td>\n",
       "      <td>NaN</td>\n",
       "      <td>NaN</td>\n",
       "      <td>NaN</td>\n",
       "      <td>NaN</td>\n",
       "      <td>NaN</td>\n",
       "      <td>NaN</td>\n",
       "      <td>NaN</td>\n",
       "      <td>NaN</td>\n",
       "      <td>NaN</td>\n",
       "      <td>NaN</td>\n",
       "      <td>NaN</td>\n",
       "      <td>NaN</td>\n",
       "      <td>NaN</td>\n",
       "      <td>NaN</td>\n",
       "    </tr>\n",
       "    <tr>\n",
       "      <th>1</th>\n",
       "      <td>683</td>\n",
       "      <td>3</td>\n",
       "      <td>0088-000129</td>\n",
       "      <td>유정원</td>\n",
       "      <td>Yoo, Jeongwon</td>\n",
       "      <td>Investigation of intrinsic toroidal rotation s...</td>\n",
       "      <td>2017.07.12</td>\n",
       "      <td>/10.1063/1.4991397</td>\n",
       "      <td>10.1063/1.4991397</td>\n",
       "      <td>국외SCIE</td>\n",
       "      <td>주저자</td>\n",
       "      <td>PHYSICS OF PLASMAS 24, 072510 (2017)</td>\n",
       "      <td>AIP Publishing</td>\n",
       "      <td>-</td>\n",
       "      <td>NaN</td>\n",
       "      <td>NaN</td>\n",
       "      <td>NaN</td>\n",
       "      <td>NaN</td>\n",
       "      <td>NaN</td>\n",
       "      <td>NaN</td>\n",
       "      <td>NaN</td>\n",
       "      <td>NaN</td>\n",
       "      <td>NaN</td>\n",
       "      <td>NaN</td>\n",
       "      <td>NaN</td>\n",
       "      <td>NaN</td>\n",
       "      <td>NaN</td>\n",
       "      <td>NaN</td>\n",
       "    </tr>\n",
       "    <tr>\n",
       "      <th>2</th>\n",
       "      <td>684</td>\n",
       "      <td>4</td>\n",
       "      <td>0088-000129</td>\n",
       "      <td>유정원</td>\n",
       "      <td>Yoo, Jeongwon</td>\n",
       "      <td>Experimental evidence of intrinsic ohmic rotat...</td>\n",
       "      <td>2018.04.25</td>\n",
       "      <td>/10.1063/1.5026905</td>\n",
       "      <td>10.1063/1.5026905</td>\n",
       "      <td>국외SCIE</td>\n",
       "      <td>제2저자</td>\n",
       "      <td>Phys. Plasmas 25, 044502 (2018);</td>\n",
       "      <td>AIP Publishing</td>\n",
       "      <td>-</td>\n",
       "      <td>NaN</td>\n",
       "      <td>NaN</td>\n",
       "      <td>NaN</td>\n",
       "      <td>NaN</td>\n",
       "      <td>NaN</td>\n",
       "      <td>NaN</td>\n",
       "      <td>NaN</td>\n",
       "      <td>NaN</td>\n",
       "      <td>NaN</td>\n",
       "      <td>NaN</td>\n",
       "      <td>NaN</td>\n",
       "      <td>NaN</td>\n",
       "      <td>NaN</td>\n",
       "      <td>NaN</td>\n",
       "    </tr>\n",
       "  </tbody>\n",
       "</table>\n",
       "</div>"
      ],
      "text/plain": [
       "   전체순번  수험번호내 순번         수험번호   이름             영문명  \\\n",
       "0  1409         2  0088-000276  김재형  Kim, Jae Hyung   \n",
       "1   683         3  0088-000129  유정원   Yoo, Jeongwon   \n",
       "2   684         4  0088-000129  유정원   Yoo, Jeongwon   \n",
       "\n",
       "                                                논문제목        게재일자  \\\n",
       "0  A General Strategy to Atomically Dispersed Pre...  2020.01.30   \n",
       "1  Investigation of intrinsic toroidal rotation s...  2017.07.12   \n",
       "2  Experimental evidence of intrinsic ohmic rotat...  2018.04.25   \n",
       "\n",
       "                 지원자 입력 DOI                   수정 DOI  SCIE구분    역할  \\\n",
       "0  /10.1021/acsnano.9b08494  10.1021/acsnano.9b08494  국외SCIE   주저자   \n",
       "1        /10.1063/1.4991397        10.1063/1.4991397  국외SCIE   주저자   \n",
       "2        /10.1063/1.5026905        10.1063/1.5026905  국외SCIE  제2저자   \n",
       "\n",
       "                                   게재지명             출판사 ISSN  논문구분\\n(SCIE)  \\\n",
       "0         ACS Nano 2020, 14, 1990-2001.             ACS    -           NaN   \n",
       "1  PHYSICS OF PLASMAS 24, 072510 (2017)  AIP Publishing    -           NaN   \n",
       "2      Phys. Plasmas 25, 044502 (2018);  AIP Publishing    -           NaN   \n",
       "\n",
       "   Publication Date  #citation  Publication Year journal impact factor  \\\n",
       "0               NaN        NaN                                     NaN   \n",
       "1               NaN        NaN                                     NaN   \n",
       "2               NaN        NaN                                     NaN   \n",
       "\n",
       "   2020\\njournal\\nimpact\\nfactor  2020 journal impact factor percentile  \\\n",
       "0                            NaN                                    NaN   \n",
       "1                            NaN                                    NaN   \n",
       "2                            NaN                                    NaN   \n",
       "\n",
       "   1st Author  1ST AUTHOR\\n(Y/N)  Reprint Author  REPRINT AUTHOR\\n(Y/N)  \\\n",
       "0         NaN                NaN             NaN                    NaN   \n",
       "1         NaN                NaN             NaN                    NaN   \n",
       "2         NaN                NaN             NaN                    NaN   \n",
       "\n",
       "   Source\\n(Journal)  volume  issue  Notes  \n",
       "0                NaN     NaN    NaN    NaN  \n",
       "1                NaN     NaN    NaN    NaN  \n",
       "2                NaN     NaN    NaN    NaN  "
      ]
     },
     "execution_count": 6,
     "metadata": {},
     "output_type": "execute_result"
    }
   ],
   "source": [
    "df_applicants = pd.read_excel(\"./data/HR_input.xlsx\", header=1, dtype={\"UT\":str})\n",
    "\n",
    "# display example\n",
    "df_applicants.head(3)"
   ]
  },
  {
   "cell_type": "code",
   "execution_count": 26,
   "metadata": {},
   "outputs": [
    {
     "data": {
      "text/html": [
       "<div>\n",
       "<style scoped>\n",
       "    .dataframe tbody tr th:only-of-type {\n",
       "        vertical-align: middle;\n",
       "    }\n",
       "\n",
       "    .dataframe tbody tr th {\n",
       "        vertical-align: top;\n",
       "    }\n",
       "\n",
       "    .dataframe thead th {\n",
       "        text-align: right;\n",
       "    }\n",
       "</style>\n",
       "<table border=\"1\" class=\"dataframe\">\n",
       "  <thead>\n",
       "    <tr style=\"text-align: right;\">\n",
       "      <th></th>\n",
       "      <th>수험번호</th>\n",
       "      <th>이름</th>\n",
       "      <th>영문명</th>\n",
       "      <th>논문제목</th>\n",
       "      <th>수정 DOI</th>\n",
       "    </tr>\n",
       "  </thead>\n",
       "  <tbody>\n",
       "    <tr>\n",
       "      <th>0</th>\n",
       "      <td>0088-000002</td>\n",
       "      <td>고윤지</td>\n",
       "      <td>Ko, Younji</td>\n",
       "      <td>[Room-Temperature Metallic Fusion-Induced Laye...</td>\n",
       "      <td>[10.1002/adfm.201806584, 10.1002/adfm.20210253...</td>\n",
       "    </tr>\n",
       "    <tr>\n",
       "      <th>1</th>\n",
       "      <td>0088-000003</td>\n",
       "      <td>백승준</td>\n",
       "      <td>Baik, Seungjoon</td>\n",
       "      <td>[A concept design of supercritical CO2 cooled ...</td>\n",
       "      <td>[10.1002/er.3633, 10.1016/j.apenergy.2017.08.0...</td>\n",
       "    </tr>\n",
       "    <tr>\n",
       "      <th>2</th>\n",
       "      <td>0088-000005</td>\n",
       "      <td>송준호</td>\n",
       "      <td>Song, Junho</td>\n",
       "      <td>[Time~Frequency Mask Estimation Based on Deep ...</td>\n",
       "      <td>[10.1109/TSG.2021.3066547, 10.5626/KTCP.2019.2...</td>\n",
       "    </tr>\n",
       "  </tbody>\n",
       "</table>\n",
       "</div>"
      ],
      "text/plain": [
       "          수험번호   이름              영문명  \\\n",
       "0  0088-000002  고윤지       Ko, Younji   \n",
       "1  0088-000003  백승준  Baik, Seungjoon   \n",
       "2  0088-000005  송준호      Song, Junho   \n",
       "\n",
       "                                                논문제목  \\\n",
       "0  [Room-Temperature Metallic Fusion-Induced Laye...   \n",
       "1  [A concept design of supercritical CO2 cooled ...   \n",
       "2  [Time~Frequency Mask Estimation Based on Deep ...   \n",
       "\n",
       "                                              수정 DOI  \n",
       "0  [10.1002/adfm.201806584, 10.1002/adfm.20210253...  \n",
       "1  [10.1002/er.3633, 10.1016/j.apenergy.2017.08.0...  \n",
       "2  [10.1109/TSG.2021.3066547, 10.5626/KTCP.2019.2...  "
      ]
     },
     "execution_count": 26,
     "metadata": {},
     "output_type": "execute_result"
    }
   ],
   "source": [
    "# 이름으로 정렬\n",
    "df_applicants = df_applicants.sort_values([\"이름\", \"영문명\"])\n",
    "gdf_applicants = df_applicants[[\"수험번호\", \"이름\", \"영문명\", \"논문제목\", \"수정 DOI\"]].groupby([\"수험번호\", \"이름\", \"영문명\"]).agg(list).reset_index()\n",
    "gdf_applicants.head(3)"
   ]
  },
  {
   "cell_type": "code",
   "execution_count": 60,
   "metadata": {},
   "outputs": [],
   "source": [
    "# author data 추출\n",
    "list_names= gdf_applicants[\"영문명\"].values\n",
    "list_titles= gdf_applicants[\"논문제목\"].values\n",
    "list_dois= gdf_applicants[\"수정 DOI\"].values\n",
    "\n",
    "n_applicants = gdf_applicants.shape[0]"
   ]
  },
  {
   "cell_type": "code",
   "execution_count": 62,
   "metadata": {},
   "outputs": [
    {
     "ename": "ValueError",
     "evalue": "max() arg is an empty sequence",
     "output_type": "error",
     "traceback": [
      "\u001b[0;31m---------------------------------------------------------------------------\u001b[0m",
      "\u001b[0;31mValueError\u001b[0m                                Traceback (most recent call last)",
      "\u001b[0;32m<ipython-input-62-db2e1261b8e7>\u001b[0m in \u001b[0;36m<module>\u001b[0;34m\u001b[0m\n\u001b[1;32m     43\u001b[0m             \u001b[0mlist_author_ids\u001b[0m\u001b[0;34m.\u001b[0m\u001b[0mappend\u001b[0m\u001b[0;34m(\u001b[0m\u001b[0mauthor_ids\u001b[0m\u001b[0;34m[\u001b[0m\u001b[0midx_author\u001b[0m\u001b[0;34m]\u001b[0m\u001b[0;34m)\u001b[0m\u001b[0;34m\u001b[0m\u001b[0;34m\u001b[0m\u001b[0m\n\u001b[1;32m     44\u001b[0m \u001b[0;34m\u001b[0m\u001b[0m\n\u001b[0;32m---> 45\u001b[0;31m     \u001b[0mauthor_id_final\u001b[0m \u001b[0;34m=\u001b[0m \u001b[0mmost_frequent\u001b[0m\u001b[0;34m(\u001b[0m\u001b[0mlist_author_ids\u001b[0m\u001b[0;34m)\u001b[0m\u001b[0;34m\u001b[0m\u001b[0;34m\u001b[0m\u001b[0m\n\u001b[0m\u001b[1;32m     46\u001b[0m \u001b[0;34m\u001b[0m\u001b[0m\n\u001b[1;32m     47\u001b[0m     \u001b[0;31m# personal records\u001b[0m\u001b[0;34m\u001b[0m\u001b[0;34m\u001b[0m\u001b[0;34m\u001b[0m\u001b[0m\n",
      "\u001b[0;32m<ipython-input-55-36dd3c2012ee>\u001b[0m in \u001b[0;36mmost_frequent\u001b[0;34m(List)\u001b[0m\n\u001b[1;32m      1\u001b[0m \u001b[0;32mdef\u001b[0m \u001b[0mmost_frequent\u001b[0m\u001b[0;34m(\u001b[0m\u001b[0mList\u001b[0m\u001b[0;34m)\u001b[0m\u001b[0;34m:\u001b[0m\u001b[0;34m\u001b[0m\u001b[0;34m\u001b[0m\u001b[0m\n\u001b[0;32m----> 2\u001b[0;31m     \u001b[0;32mreturn\u001b[0m \u001b[0mmax\u001b[0m\u001b[0;34m(\u001b[0m\u001b[0mset\u001b[0m\u001b[0;34m(\u001b[0m\u001b[0mList\u001b[0m\u001b[0;34m)\u001b[0m\u001b[0;34m,\u001b[0m \u001b[0mkey\u001b[0m \u001b[0;34m=\u001b[0m \u001b[0mList\u001b[0m\u001b[0;34m.\u001b[0m\u001b[0mcount\u001b[0m\u001b[0;34m)\u001b[0m\u001b[0;34m\u001b[0m\u001b[0;34m\u001b[0m\u001b[0m\n\u001b[0m",
      "\u001b[0;31mValueError\u001b[0m: max() arg is an empty sequence"
     ]
    }
   ],
   "source": [
    "df_personal = pd.DataFrame({\"수험번호\": gdf_applicants[\"수험번호\"].values,\n",
    "                            \"이름\": gdf_applicants[\"이름\"].values,\n",
    "                            \"영문명\": list_names,\n",
    "                            \"Scopus Author ID\": [np.nan] * n_applicants,\n",
    "                            \"h-index\": [np.nan] * n_applicants,\n",
    "                            \"총 출판물수\": [np.nan] * n_applicants,\n",
    "                            \"총 피인용수\": [np.nan] * n_applicants,\n",
    "                            \"Notes\": [np.nan] * n_applicants,\n",
    "                           })\n",
    "\n",
    "for i, (name, titles, dois) in enumerate(zip(list_names, list_titles, list_dois)):\n",
    "\n",
    "    # find article for the author\n",
    "    list_author_ids = []\n",
    "    for title, doi in zip(titles, dois):\n",
    "        s = ScopusSearch(f\"DOI ({doi})\", download=True, subscriber=subscriber).results\n",
    "        if s == None:\n",
    "            s = ScopusSearch(f\"TITLE ({title})\", download=True, subscriber=subscriber).results\n",
    "            if s != None:\n",
    "                info_scopus = s[0]\n",
    "            else:\n",
    "                continue\n",
    "        else:\n",
    "            info_scopus = s[0]\n",
    "        \n",
    "        ### Author data\n",
    "        authors_raw = np.array([regularize(n) for n in info_scopus.author_names.split(\";\")])\n",
    "        author_ids = info_scopus.author_ids.split(\";\")\n",
    "    \n",
    "        try:\n",
    "            idx_author = np.where(regularize(name) == authors_raw)[0][0]\n",
    "        except IndexError: # swap family and last name\n",
    "            try:\n",
    "                idx_author = np.where(regularize(\"\".join(name.split(\",\")[::-1])) == authors_raw)[0][0]\n",
    "            except IndexError : # possibly disturbed by middle names\n",
    "                idx_author=None\n",
    "                author_name_words = regularize_space(name).split(\" \")\n",
    "                name_words = [regularize_space(n).split(\" \") for n in info_scopus.author_names.split(\";\")]\n",
    "                for j, name_word in enumerate(name_words):\n",
    "                    name_check = list(set(author_name_words) - set(name_word))\n",
    "                    if len(name_check) == 0:\n",
    "                        idx_author = j\n",
    "\n",
    "        if idx_author != None:\n",
    "            list_author_ids.append(author_ids[idx_author])\n",
    "\n",
    "    if len(list_author_ids) == 0:\n",
    "        h_index = 0\n",
    "        document_count_total = 0\n",
    "        citedby_count_total = 0\n",
    "        \n",
    "    author_id_final = most_frequent(list_author_ids)\n",
    "    \n",
    "    # personal records\n",
    "    author_r = requests.get(f\"http://api.elsevier.com/content/author?author_id={author_id_final}&view=metrics\",\n",
    "                            headers={'Accept':'application/json', 'X-ELS-APIKey': APIKeys[-2]})\n",
    "    author_data = eval(json.dumps(author_r.json(), sort_keys=True, indent=4, separators=(',', ': ')))\n",
    "    h_index = author_data['author-retrieval-response'][0][\"h-index\"]\n",
    "    citedby_count_total = author_data['author-retrieval-response'][0][\"coredata\"]['cited-by-count']\n",
    "    document_count_total = author_data['author-retrieval-response'][0][\"coredata\"]['document-count']\n",
    "    \n",
    "    # write to file\n",
    "    df_personal[\"h-index\"][i] = h_index\n",
    "    df_personal['총 출판물수'][i] = document_count_total\n",
    "    df_personal['총 피인용수'][i] = citedby_count_total\n",
    "    \n",
    "df_personal.to_excel(\"applicants_personal.xlsx\", index=False)"
   ]
  },
  {
   "cell_type": "code",
   "execution_count": 63,
   "metadata": {},
   "outputs": [
    {
     "data": {
      "text/plain": [
       "9"
      ]
     },
     "execution_count": 63,
     "metadata": {},
     "output_type": "execute_result"
    }
   ],
   "source": [
    "i"
   ]
  },
  {
   "cell_type": "code",
   "execution_count": 64,
   "metadata": {},
   "outputs": [
    {
     "data": {
      "text/plain": [
       "'Kwon, Daeyong'"
      ]
     },
     "execution_count": 64,
     "metadata": {},
     "output_type": "execute_result"
    }
   ],
   "source": [
    "name"
   ]
  },
  {
   "cell_type": "code",
   "execution_count": 65,
   "metadata": {},
   "outputs": [
    {
     "data": {
      "text/plain": [
       "[]"
      ]
     },
     "execution_count": 65,
     "metadata": {},
     "output_type": "execute_result"
    }
   ],
   "source": [
    "list_author_ids"
   ]
  },
  {
   "cell_type": "code",
   "execution_count": 66,
   "metadata": {},
   "outputs": [
    {
     "data": {
      "text/plain": [
       "수험번호                                            0088-000014\n",
       "이름                                                      권대용\n",
       "영문명                                           Kwon, Daeyong\n",
       "논문제목      [외부 메모리 기반 대용량 점군 데이터의 가시화 및 편집, 선박 및 플랜트 구조물 ...\n",
       "수정 DOI         [10.7315/CDE.2020.267, 10.7315/CDE.2020.406]\n",
       "Name: 9, dtype: object"
      ]
     },
     "execution_count": 66,
     "metadata": {},
     "output_type": "execute_result"
    }
   ],
   "source": [
    "gdf_applicants.loc[9]"
   ]
  },
  {
   "cell_type": "code",
   "execution_count": null,
   "metadata": {},
   "outputs": [],
   "source": []
  }
 ],
 "metadata": {
  "kernelspec": {
   "display_name": "Python 3",
   "language": "python",
   "name": "python3"
  },
  "language_info": {
   "codemirror_mode": {
    "name": "ipython",
    "version": 3
   },
   "file_extension": ".py",
   "mimetype": "text/x-python",
   "name": "python",
   "nbconvert_exporter": "python",
   "pygments_lexer": "ipython3",
   "version": "3.7.7"
  }
 },
 "nbformat": 4,
 "nbformat_minor": 4
}
