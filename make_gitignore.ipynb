{
 "cells": [
  {
   "cell_type": "code",
   "execution_count": 1,
   "metadata": {},
   "outputs": [
    {
     "name": "stdout",
     "output_type": "stream",
     "text": [
      "210803/BIPV_ML.txt\n",
      "210803/df_ab.pkl\n",
      "Jieun/BIPV_ML_10000_all.txt\n",
      "\n"
     ]
    },
    {
     "data": {
      "text/plain": [
       "[None, None, None, None]"
      ]
     },
     "execution_count": 1,
     "metadata": {},
     "output_type": "execute_result"
    }
   ],
   "source": [
    "import os\n",
    "\n",
    "files_50m = \"50m.txt\"\n",
    "\n",
    "# 1. find files larger than 50M\n",
    "cmd_50m = f\"find -size +50000k > {files_50m}\"\n",
    "os.system(cmd_50m)\n",
    "\n",
    "# 2. edit lines and save\n",
    "items = []\n",
    "line = \" \"\n",
    "with open(files_50m, \"r\") as rf:\n",
    "    wf = open(\".gitignore\", \"w\")\n",
    "    while len(line):\n",
    "        line = rf.readline()\n",
    "        if \".git\" not in line.split(\"/\"):\n",
    "            add_item = line.lstrip(\"./\")\n",
    "            items.append(add_item)\n",
    "            wf.write(add_item)\n",
    "    wf.close()\n",
    "\n",
    "# 3. verification\n",
    "[print(item.rstrip(\"\\n\")) for item in items]"
   ]
  },
  {
   "cell_type": "code",
   "execution_count": 5,
   "metadata": {},
   "outputs": [
    {
     "data": {
      "text/plain": [
       "['Jieun/BIPV_ML_10000_all.txt', '210803/df_ab.pkl', '210803/BIPV_ML.txt', '']"
      ]
     },
     "execution_count": 5,
     "metadata": {},
     "output_type": "execute_result"
    }
   ],
   "source": [
    "items"
   ]
  },
  {
   "cell_type": "code",
   "execution_count": null,
   "metadata": {},
   "outputs": [],
   "source": []
  }
 ],
 "metadata": {
  "kernelspec": {
   "display_name": "Python 3",
   "language": "python",
   "name": "python3"
  },
  "language_info": {
   "codemirror_mode": {
    "name": "ipython",
    "version": 3
   },
   "file_extension": ".py",
   "mimetype": "text/x-python",
   "name": "python",
   "nbconvert_exporter": "python",
   "pygments_lexer": "ipython3",
   "version": "3.7.4"
  }
 },
 "nbformat": 4,
 "nbformat_minor": 4
}
