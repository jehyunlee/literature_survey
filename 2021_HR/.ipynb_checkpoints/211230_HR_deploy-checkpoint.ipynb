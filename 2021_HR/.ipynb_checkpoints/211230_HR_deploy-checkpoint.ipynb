{
 "cells": [
  {
   "cell_type": "markdown",
   "metadata": {},
   "source": [
    "* code by Sihyun You (2021.12.28.)\n",
    "* edit by Jehyun Lee (2021.12.30.)"
   ]
  },
  {
   "cell_type": "code",
   "execution_count": 149,
   "metadata": {},
   "outputs": [],
   "source": [
    "%matplotlib inline\n",
    "\n",
    "import numpy as np\n",
    "import pandas as pd\n",
    "import matplotlib.pyplot as plt\n",
    "import re\n",
    "from pybliometrics.scopus import ScopusSearch\n",
    "from bs4 import BeautifulSoup"
   ]
  },
  {
   "cell_type": "code",
   "execution_count": 42,
   "metadata": {},
   "outputs": [],
   "source": [
    "APIKeys = [\"967ac6c5db7b8b34c178035e0ea7e22c\", \n",
    "           \"55eef3b02fc28c636e2fada035cf03d2\", \n",
    "           \"e1fc56d1d9fcc86e6998a7fd79faed23\", \n",
    "           \"dcbed1c3abb36a8e80addbf185f38671\", \n",
    "           \"78d8e510bda00c5530f560f02bc051bc\", \n",
    "           \"4b9ca0308c3ae9b650f74fd19d07d657\", \n",
    "           \"8b02da5833a012844657fc27d129349f\", \n",
    "           \"6624310bd1610368c82261bc6d437be4\"]"
   ]
  },
  {
   "cell_type": "code",
   "execution_count": 2,
   "metadata": {},
   "outputs": [
    {
     "name": "stdout",
     "output_type": "stream",
     "text": [
      "subscriber=True\n"
     ]
    }
   ],
   "source": [
    "# subscriber\n",
    "try:\n",
    "    s_sample = ScopusSearch(f\"DOI (10.1038/s41598-021-83315-9)\").results[0]\n",
    "    subscriber=True\n",
    "except:\n",
    "    subscriber=False\n",
    "\n",
    "print(f\"subscriber={subscriber}\")    "
   ]
  },
  {
   "cell_type": "code",
   "execution_count": 3,
   "metadata": {},
   "outputs": [],
   "source": [
    "def regularize_date_publication(_str):\n",
    "    token_date = _str.split(' ')\n",
    "    if (re.match('[0-9]', _str[0])):\n",
    "        day, month, year = token_date[0], token_date[1][:3].upper(), token_date[2]\n",
    "        s = ' '.join([day, month, year])\n",
    "    else:\n",
    "        month, year = token_date[0][:3].upper(), token_date[1]\n",
    "        s = ' '.join([month, year])\n",
    "        \n",
    "    return (int(year), s)\n",
    "\n",
    "def get_pub_index(_pub_name, _df):\n",
    "    list_title = _df['TITLE'].map(regularize)\n",
    "    pub_index = np.where(regularize(_pub_name) == list_title)[0]\n",
    "    if len(pub_index) > 0:\n",
    "        return pub_index\n",
    "    return -1\n",
    "\n",
    "def regularize(_str):\n",
    "    return re.sub('[^A-Za-z0-9]+', '', re.sub('&', 'and', _str)).lower()       "
   ]
  },
  {
   "cell_type": "code",
   "execution_count": 7,
   "metadata": {},
   "outputs": [],
   "source": [
    "pd.set_option(\"mode.chained_assignment\", None)\n",
    "pd.set_option(\"display.max_columns\", None)\n",
    "dfs_JCR_SCIE = {}\n",
    "YEAR_START, YEAR_REMARK, YEAR_THIS = 2016, 2019, 2021"
   ]
  },
  {
   "cell_type": "code",
   "execution_count": 8,
   "metadata": {},
   "outputs": [
    {
     "name": "stdout",
     "output_type": "stream",
     "text": [
      "2016년도 시트를 로딩중입니다.\n",
      "2017년도 시트를 로딩중입니다.\n",
      "2018년도 시트를 로딩중입니다.\n",
      "2019년도 시트를 로딩중입니다.\n",
      "2020년도 시트를 로딩중입니다.\n"
     ]
    }
   ],
   "source": [
    "for i in range(YEAR_START, YEAR_THIS):\n",
    "    print(f\"{i}년도 시트를 로딩중입니다.\")\n",
    "    dfs_JCR_SCIE.update({str(i):pd.read_excel(f\"./data/JCR_SCIE_{i}.xlsx\")})"
   ]
  },
  {
   "cell_type": "code",
   "execution_count": 9,
   "metadata": {},
   "outputs": [
    {
     "data": {
      "text/plain": [
       "dict_keys(['2016', '2017', '2018', '2019', '2020'])"
      ]
     },
     "execution_count": 9,
     "metadata": {},
     "output_type": "execute_result"
    }
   ],
   "source": [
    "dfs_JCR_SCIE.keys()"
   ]
  },
  {
   "cell_type": "code",
   "execution_count": 10,
   "metadata": {},
   "outputs": [
    {
     "data": {
      "text/html": [
       "<div>\n",
       "<style scoped>\n",
       "    .dataframe tbody tr th:only-of-type {\n",
       "        vertical-align: middle;\n",
       "    }\n",
       "\n",
       "    .dataframe tbody tr th {\n",
       "        vertical-align: top;\n",
       "    }\n",
       "\n",
       "    .dataframe thead th {\n",
       "        text-align: right;\n",
       "    }\n",
       "</style>\n",
       "<table border=\"1\" class=\"dataframe\">\n",
       "  <thead>\n",
       "    <tr style=\"text-align: right;\">\n",
       "      <th></th>\n",
       "      <th>순번</th>\n",
       "      <th>지원번호 내 순번</th>\n",
       "      <th>지원번호\\nApplication No.</th>\n",
       "      <th>이름(국문)</th>\n",
       "      <th>이름 (영문)\\nName</th>\n",
       "      <th>논문명 (Title)</th>\n",
       "      <th>게재일자\\nPublication Date</th>\n",
       "      <th>학술지구분</th>\n",
       "      <th>저자구분</th>\n",
       "      <th>DOIs (Final)</th>\n",
       "      <th>SCIE (Y/N)</th>\n",
       "      <th>Publication Year</th>\n",
       "      <th>Publication Date</th>\n",
       "      <th>#citation</th>\n",
       "      <th>Publication Year journal impact factor</th>\n",
       "      <th>2019\\njournal\\nimpact\\nfactor</th>\n",
       "      <th>2019 journal impact factor percentile</th>\n",
       "      <th>CNCI</th>\n",
       "      <th>1st Author</th>\n",
       "      <th>1ST AUTHOR\\n(Y/N)</th>\n",
       "      <th>Reprint Author</th>\n",
       "      <th>REPRINT AUTHOR\\n(Y/N)</th>\n",
       "      <th>Source\\n(Journal)</th>\n",
       "      <th>volume</th>\n",
       "      <th>issue</th>\n",
       "    </tr>\n",
       "  </thead>\n",
       "  <tbody>\n",
       "    <tr>\n",
       "      <th>0</th>\n",
       "      <td>1</td>\n",
       "      <td>1</td>\n",
       "      <td>0026-000001</td>\n",
       "      <td>박성일</td>\n",
       "      <td>Park, Seong-Il</td>\n",
       "      <td>Estimating blue carbon accumulated in a haloph...</td>\n",
       "      <td>2021.05.21</td>\n",
       "      <td>국외SCIE</td>\n",
       "      <td>주저자</td>\n",
       "      <td>10.1007/s11852-021-00828-1</td>\n",
       "      <td>Y</td>\n",
       "      <td>2021.0</td>\n",
       "      <td>JUN 2021</td>\n",
       "      <td>0.0</td>\n",
       "      <td>NaN</td>\n",
       "      <td>1.374</td>\n",
       "      <td>43.457944</td>\n",
       "      <td>0.0</td>\n",
       "      <td>Park, Seong-Il</td>\n",
       "      <td>Y</td>\n",
       "      <td>Um, Jung-Sup</td>\n",
       "      <td>N</td>\n",
       "      <td>JOURNAL OF COASTAL CONSERVATION</td>\n",
       "      <td>25.0</td>\n",
       "      <td>3.0</td>\n",
       "    </tr>\n",
       "    <tr>\n",
       "      <th>1</th>\n",
       "      <td>2</td>\n",
       "      <td>3</td>\n",
       "      <td>0026-000003</td>\n",
       "      <td>김기덕</td>\n",
       "      <td>Kim, Ki-Duk</td>\n",
       "      <td>Beneficial Roles of Carbon Black Additives in ...</td>\n",
       "      <td>2020.10.25</td>\n",
       "      <td>국외SCIE</td>\n",
       "      <td>주저자</td>\n",
       "      <td>10.1016/j.apcata.2020.117837</td>\n",
       "      <td>NaN</td>\n",
       "      <td>NaN</td>\n",
       "      <td>NaN</td>\n",
       "      <td>NaN</td>\n",
       "      <td>NaN</td>\n",
       "      <td>NaN</td>\n",
       "      <td>NaN</td>\n",
       "      <td>NaN</td>\n",
       "      <td>NaN</td>\n",
       "      <td>NaN</td>\n",
       "      <td>NaN</td>\n",
       "      <td>NaN</td>\n",
       "      <td>NaN</td>\n",
       "      <td>NaN</td>\n",
       "      <td>NaN</td>\n",
       "    </tr>\n",
       "    <tr>\n",
       "      <th>2</th>\n",
       "      <td>3</td>\n",
       "      <td>7</td>\n",
       "      <td>0026-000009</td>\n",
       "      <td>김효원</td>\n",
       "      <td>Kim, HyoWon</td>\n",
       "      <td>Stabilizing role of Mo in TiO2-MoOx supported ...</td>\n",
       "      <td>2020.08.14</td>\n",
       "      <td>국외SCIE</td>\n",
       "      <td>기타</td>\n",
       "      <td>10.1016/j.apcatb.2020.119433</td>\n",
       "      <td>NaN</td>\n",
       "      <td>NaN</td>\n",
       "      <td>NaN</td>\n",
       "      <td>NaN</td>\n",
       "      <td>NaN</td>\n",
       "      <td>NaN</td>\n",
       "      <td>NaN</td>\n",
       "      <td>NaN</td>\n",
       "      <td>NaN</td>\n",
       "      <td>NaN</td>\n",
       "      <td>NaN</td>\n",
       "      <td>NaN</td>\n",
       "      <td>NaN</td>\n",
       "      <td>NaN</td>\n",
       "      <td>NaN</td>\n",
       "    </tr>\n",
       "  </tbody>\n",
       "</table>\n",
       "</div>"
      ],
      "text/plain": [
       "   순번  지원번호 내 순번 지원번호\\nApplication No. 이름(국문)   이름 (영문)\\nName  \\\n",
       "0   1          1           0026-000001    박성일  Park, Seong-Il   \n",
       "1   2          3           0026-000003    김기덕     Kim, Ki-Duk   \n",
       "2   3          7           0026-000009    김효원     Kim, HyoWon   \n",
       "\n",
       "                                         논문명 (Title) 게재일자\\nPublication Date  \\\n",
       "0  Estimating blue carbon accumulated in a haloph...             2021.05.21   \n",
       "1  Beneficial Roles of Carbon Black Additives in ...             2020.10.25   \n",
       "2  Stabilizing role of Mo in TiO2-MoOx supported ...             2020.08.14   \n",
       "\n",
       "    학술지구분 저자구분                  DOIs (Final) SCIE (Y/N)  Publication Year  \\\n",
       "0  국외SCIE  주저자    10.1007/s11852-021-00828-1          Y            2021.0   \n",
       "1  국외SCIE  주저자  10.1016/j.apcata.2020.117837        NaN               NaN   \n",
       "2  국외SCIE   기타  10.1016/j.apcatb.2020.119433        NaN               NaN   \n",
       "\n",
       "  Publication Date  #citation  Publication Year journal impact factor  \\\n",
       "0         JUN 2021        0.0                                     NaN   \n",
       "1              NaN        NaN                                     NaN   \n",
       "2              NaN        NaN                                     NaN   \n",
       "\n",
       "   2019\\njournal\\nimpact\\nfactor  2019 journal impact factor percentile  CNCI  \\\n",
       "0                          1.374                              43.457944   0.0   \n",
       "1                            NaN                                    NaN   NaN   \n",
       "2                            NaN                                    NaN   NaN   \n",
       "\n",
       "       1st Author 1ST AUTHOR\\n(Y/N) Reprint Author REPRINT AUTHOR\\n(Y/N)  \\\n",
       "0  Park, Seong-Il                 Y   Um, Jung-Sup                     N   \n",
       "1             NaN               NaN            NaN                   NaN   \n",
       "2             NaN               NaN            NaN                   NaN   \n",
       "\n",
       "                 Source\\n(Journal)  volume  issue  \n",
       "0  JOURNAL OF COASTAL CONSERVATION    25.0    3.0  \n",
       "1                              NaN     NaN    NaN  \n",
       "2                              NaN     NaN    NaN  "
      ]
     },
     "execution_count": 10,
     "metadata": {},
     "output_type": "execute_result"
    }
   ],
   "source": [
    "df_applicants = pd.read_excel(\"applicants.xlsx\", header=1)\n",
    "df_applicants.head(3)"
   ]
  },
  {
   "cell_type": "code",
   "execution_count": 11,
   "metadata": {},
   "outputs": [],
   "source": [
    "# df_applicants = df_applicants.drop([\"CNCI\"], axis = 1)\n",
    "list_name_en = df_applicants[\"이름 (영문)\\nName\"].values\n",
    "list_doi = df_applicants[\"DOIs (Final)\"].values"
   ]
  },
  {
   "cell_type": "code",
   "execution_count": 160,
   "metadata": {},
   "outputs": [
    {
     "name": "stdout",
     "output_type": "stream",
     "text": [
      "# No.0 is not available in Scopus. searching directly.\n",
      "# No.5 is not available in Scopus. searching directly.\n",
      "# No.6 is not available in Scopus. searching directly.\n",
      "# No.8 is not available in Scopus. searching directly.\n",
      "# No.9 is not available in Scopus. searching directly.\n",
      "10\n"
     ]
    }
   ],
   "source": [
    "xmls = []\n",
    "\n",
    "for i, doi in enumerate(list_doi):\n",
    "    info_scopus = ScopusSearch(f\"DOI ({doi})\", download=True, subscriber=subscriber).results[0]\n",
    "\n",
    "    index_remark = get_pub_index(info_scopus.publicationName, dfs_JCR_SCIE[str(YEAR_REMARK)])\n",
    "\n",
    "    scie_yn = 'N'\n",
    "    if len(index_remark) > 0:\n",
    "        scie_yn = 'Y'\n",
    "    else:\n",
    "        print(\"SCIE 논문이 아닙니다.\")\n",
    "        continue\n",
    "    \n",
    "    df_applicants[\"SCIE (Y/N)\"][i] = scie_yn\n",
    "    \n",
    "    year, date = regularize_date_publication(info_scopus.coverDisplayDate)\n",
    "    df_applicants[\"Publication Year\"][i] = year\n",
    "    df_applicants[\"Publication Date\"][i] = date\n",
    "    df_applicants[\"#citation\"][i] = str(info_scopus.citedby_count)\n",
    "    \n",
    "    if year < YEAR_THIS:\n",
    "        index_n = get_pub_index(info_scopus.publicationName, dfs_JCR_SCIE[str(year)])[0]\n",
    "        jif_n = str(dfs_JCR_SCIE[str(year)][\"IMPACT_FACTOR\"][index_n])\n",
    "    else:\n",
    "        jif_n = \"\"\n",
    "        \n",
    "    df_applicants[\"Publication Year journal impact factor\"][i] = jif_n\n",
    "    df_applicants[\"2019\\njournal\\nimpact\\nfactor\"][i] = str(dfs_JCR_SCIE[str(YEAR_REMARK)][\"IMPACT_FACTOR\"][index_remark[0]])\n",
    "    df_applicants[\"2019 journal impact factor percentile\"][i] = str(dfs_JCR_SCIE[str(YEAR_REMARK)].loc[index_remark, \"JIF_PERCENTILE\"].max())\n",
    "    \n",
    "    author_raw = info_scopus.author_names.split(\";\")[0]\n",
    "    if regularize(author_raw) == regularize(list_name_en[i]):\n",
    "        first_author = list_name_en[i]\n",
    "        first_author_yn = \"Y\"\n",
    "    else:\n",
    "        first_author = author_raw\n",
    "        first_author_yn = \"N\"\n",
    "\n",
    "    df_applicants[\"1st Author\"][i] = first_author\n",
    "    df_applicants[\"1ST AUTHOR\\n(Y/N)\"][i] = first_author_yn\n",
    "    \n",
    "    df_applicants[\"Source\\n(Journal)\"][i] = info_scopus.publicationName.upper()\n",
    "    df_applicants[\"volume\"][i] = info_scopus.volume\n",
    "    \n",
    "    if info_scopus.issueIdentifier != None:\n",
    "        issue = info_scopus.issueIdentifier\n",
    "    else:\n",
    "        issue = ''\n",
    "    df_applicants[\"issue\"][i] = issue\n",
    "    \n",
    "    # PDF download\n",
    "    accept = \"application/pdf\"\n",
    "    HEADERS = {\n",
    "        'X-ELS-APIKEY': APIKeys[-1],\n",
    "        'Accept': accept\n",
    "    }\n",
    "    url = f'http://api.elsevier.com/content/article/doi:{doi}?view=FULL'\n",
    "    with requests.get(url, stream=True, headers=HEADERS) as r:\n",
    "        if r.status_code == 200: # download supported in Scopus\n",
    "            if accept == \"application/pdf\":\n",
    "                for chunk in r.iter_content(chunk_size=1024*1024):\n",
    "                    with open(f\"./pdf/paper_{i}.pdf\", \"wb\") as f:\n",
    "                        f.write(chunk)\n",
    "            elif accept == \"text/xml\":\n",
    "                xml = BeautifulSoup(r.content, \"html5lib\")\n",
    "\n",
    "        elif r.status_code == 404: # not supported in Scopus\n",
    "            print(f\"# No.{i} is not available in Scopus. searching directly.\")\n",
    "            url = f\"https://doi.org/{doi}\"\n",
    "            r = requests.get(url)\n",
    "            xml = BeautifulSoup(r.content, \"html5lib\")\n",
    "\n",
    "        xmls.append(xml)\n",
    "        with open(f\"./xml/xml_{i}.xml\", \"w\") as f:\n",
    "            f.write(xml.prettify())\n",
    "\n",
    "print(len(xmls))\n",
    "df_applicants.to_excel(\"applicants_fill.xlsx\", index=False)"
   ]
  },
  {
   "cell_type": "code",
   "execution_count": 159,
   "metadata": {},
   "outputs": [
    {
     "data": {
      "text/plain": [
       "bs4.BeautifulSoup"
      ]
     },
     "execution_count": 159,
     "metadata": {},
     "output_type": "execute_result"
    }
   ],
   "source": [
    "type(xmls[0])"
   ]
  },
  {
   "cell_type": "code",
   "execution_count": null,
   "metadata": {},
   "outputs": [],
   "source": []
  },
  {
   "cell_type": "code",
   "execution_count": null,
   "metadata": {},
   "outputs": [],
   "source": []
  },
  {
   "cell_type": "code",
   "execution_count": null,
   "metadata": {},
   "outputs": [],
   "source": []
  },
  {
   "cell_type": "code",
   "execution_count": null,
   "metadata": {},
   "outputs": [],
   "source": []
  },
  {
   "cell_type": "code",
   "execution_count": null,
   "metadata": {},
   "outputs": [],
   "source": []
  },
  {
   "cell_type": "code",
   "execution_count": 73,
   "metadata": {},
   "outputs": [],
   "source": [
    "# doi = \"10.1016/j.renene.2020.07.002\"\n",
    "doi = \"10.1038/s41598-021-83315-9\""
   ]
  },
  {
   "cell_type": "code",
   "execution_count": 74,
   "metadata": {},
   "outputs": [],
   "source": [
    "url = f'http://api.elsevier.com/content/article/doi:{doi}?view=FULL'"
   ]
  },
  {
   "cell_type": "code",
   "execution_count": 143,
   "metadata": {},
   "outputs": [],
   "source": [
    "import requests\n",
    "\n",
    "HEADERS = {\n",
    "    'X-ELS-APIKEY': \"8b02da5833a012844657fc27d129349f\",\n",
    "    'Accept': 'application/pdf'\n",
    "}\n",
    "\n",
    "file_to_save_to = open(f\"pdf.pdf\", \"wb\")\n",
    "\n",
    "with requests.get(url, stream=True, headers=HEADERS) as r:\n",
    "    if r.status_code == 200:\n",
    "        for chunk in r.iter_content(chunk_size=1024*1024):\n",
    "            file_to_save_to.write(chunk)"
   ]
  },
  {
   "cell_type": "code",
   "execution_count": 58,
   "metadata": {},
   "outputs": [],
   "source": [
    "file_to_save_to.close()"
   ]
  },
  {
   "cell_type": "code",
   "execution_count": null,
   "metadata": {},
   "outputs": [],
   "source": []
  },
  {
   "cell_type": "code",
   "execution_count": 75,
   "metadata": {},
   "outputs": [],
   "source": [
    "HEADERS = {\n",
    "    'X-ELS-APIKEY': \"8b02da5833a012844657fc27d129349f\",\n",
    "    'Accept': 'text/xml'\n",
    "}\n",
    "\n",
    "r = requests.get(url, stream=True, headers=HEADERS)"
   ]
  },
  {
   "cell_type": "code",
   "execution_count": 77,
   "metadata": {},
   "outputs": [
    {
     "data": {
      "text/plain": [
       "<Response [404]>"
      ]
     },
     "execution_count": 77,
     "metadata": {},
     "output_type": "execute_result"
    }
   ],
   "source": [
    "r"
   ]
  },
  {
   "cell_type": "code",
   "execution_count": 76,
   "metadata": {},
   "outputs": [
    {
     "data": {
      "text/plain": [
       "False"
      ]
     },
     "execution_count": 76,
     "metadata": {},
     "output_type": "execute_result"
    }
   ],
   "source": [
    "\"correspond\" in r.text"
   ]
  },
  {
   "cell_type": "code",
   "execution_count": 115,
   "metadata": {},
   "outputs": [],
   "source": [
    "from  pybliometrics import scopus"
   ]
  },
  {
   "cell_type": "code",
   "execution_count": null,
   "metadata": {},
   "outputs": [],
   "source": [
    "# scihub\n"
   ]
  },
  {
   "cell_type": "code",
   "execution_count": 103,
   "metadata": {},
   "outputs": [],
   "source": [
    "url = \"https://doi.org/10.1038/s41598-021-83315-9\"\n",
    "r = requests.get(url)"
   ]
  },
  {
   "cell_type": "code",
   "execution_count": 108,
   "metadata": {},
   "outputs": [],
   "source": [
    "table = soup.find(\"div\", attrs={})"
   ]
  },
  {
   "cell_type": "code",
   "execution_count": 110,
   "metadata": {},
   "outputs": [],
   "source": [
    "from bs4 import BeautifulSoup\n",
    "\n",
    "url = \"https://doi.org/10.1038/s41598-021-83315-9\"\n",
    "r = requests.get(url)\n",
    "soup = BeautifulSoup(r.content, \"html5lib\")\n",
    "\n",
    "corresponding = []\n",
    "\n",
    "# table = soup.find(\"div\", attrs={})\n",
    "with open(\"soup.txt\", \"w\") as f:\n",
    "    f.write(soup.prettify())"
   ]
  },
  {
   "cell_type": "code",
   "execution_count": 112,
   "metadata": {},
   "outputs": [
    {
     "data": {
      "text/plain": [
       "<div class=\"u-js-hide u-hide-print\" data-test=\"author-info\"><span class=\"c-article__sub-heading\">Authors</span><ol class=\"c-article-authors-search u-list-reset\"><li id=\"auth-Hyeon_Kyu-Park\"><span class=\"c-article-authors-search__title u-h3 js-search-name\">Hyeon-Kyu Park</span><div class=\"c-article-authors-search__list\"><div class=\"c-article-authors-search__item c-article-authors-search__list-item--left\"><a class=\"c-article-button\" data-track=\"click\" data-track-action=\"author link - publication\" data-track-label=\"link\" href='/search?author=\"Hyeon-Kyu+Park\"'>View author publications</a></div><div class=\"c-article-authors-search__item c-article-authors-search__list-item--right\"><p class=\"search-in-title-js c-article-authors-search__text\">You can also search for this author in\n",
       "                        <span class=\"c-article-identifiers\"><a class=\"c-article-identifiers__item\" data-track=\"click\" data-track-action=\"author link - pubmed\" data-track-label=\"link\" href=\"http://www.ncbi.nlm.nih.gov/entrez/query.fcgi?cmd=search&amp;term=Hyeon-Kyu+Park\">PubMed</a><span class=\"u-hide\"> </span><a class=\"c-article-identifiers__item\" data-track=\"click\" data-track-action=\"author link - scholar\" data-track-label=\"link\" href=\"http://scholar.google.co.uk/scholar?as_q=&amp;num=10&amp;btnG=Search+Scholar&amp;as_epq=&amp;as_oq=&amp;as_eq=&amp;as_occt=any&amp;as_sauthors=%22Hyeon-Kyu+Park%22&amp;as_publication=&amp;as_ylo=&amp;as_yhi=&amp;as_allsubj=all&amp;hl=en\">Google Scholar</a></span></p></div></div></li><li id=\"auth-Jae_Hyeok-Lee\"><span class=\"c-article-authors-search__title u-h3 js-search-name\">Jae-Hyeok Lee</span><div class=\"c-article-authors-search__list\"><div class=\"c-article-authors-search__item c-article-authors-search__list-item--left\"><a class=\"c-article-button\" data-track=\"click\" data-track-action=\"author link - publication\" data-track-label=\"link\" href='/search?author=\"Jae-Hyeok+Lee\"'>View author publications</a></div><div class=\"c-article-authors-search__item c-article-authors-search__list-item--right\"><p class=\"search-in-title-js c-article-authors-search__text\">You can also search for this author in\n",
       "                        <span class=\"c-article-identifiers\"><a class=\"c-article-identifiers__item\" data-track=\"click\" data-track-action=\"author link - pubmed\" data-track-label=\"link\" href=\"http://www.ncbi.nlm.nih.gov/entrez/query.fcgi?cmd=search&amp;term=Jae-Hyeok+Lee\">PubMed</a><span class=\"u-hide\"> </span><a class=\"c-article-identifiers__item\" data-track=\"click\" data-track-action=\"author link - scholar\" data-track-label=\"link\" href=\"http://scholar.google.co.uk/scholar?as_q=&amp;num=10&amp;btnG=Search+Scholar&amp;as_epq=&amp;as_oq=&amp;as_eq=&amp;as_occt=any&amp;as_sauthors=%22Jae-Hyeok+Lee%22&amp;as_publication=&amp;as_ylo=&amp;as_yhi=&amp;as_allsubj=all&amp;hl=en\">Google Scholar</a></span></p></div></div></li><li id=\"auth-Jehyun-Lee\"><span class=\"c-article-authors-search__title u-h3 js-search-name\">Jehyun Lee</span><div class=\"c-article-authors-search__list\"><div class=\"c-article-authors-search__item c-article-authors-search__list-item--left\"><a class=\"c-article-button\" data-track=\"click\" data-track-action=\"author link - publication\" data-track-label=\"link\" href='/search?author=\"Jehyun+Lee\"'>View author publications</a></div><div class=\"c-article-authors-search__item c-article-authors-search__list-item--right\"><p class=\"search-in-title-js c-article-authors-search__text\">You can also search for this author in\n",
       "                        <span class=\"c-article-identifiers\"><a class=\"c-article-identifiers__item\" data-track=\"click\" data-track-action=\"author link - pubmed\" data-track-label=\"link\" href=\"http://www.ncbi.nlm.nih.gov/entrez/query.fcgi?cmd=search&amp;term=Jehyun+Lee\">PubMed</a><span class=\"u-hide\"> </span><a class=\"c-article-identifiers__item\" data-track=\"click\" data-track-action=\"author link - scholar\" data-track-label=\"link\" href=\"http://scholar.google.co.uk/scholar?as_q=&amp;num=10&amp;btnG=Search+Scholar&amp;as_epq=&amp;as_oq=&amp;as_eq=&amp;as_occt=any&amp;as_sauthors=%22Jehyun+Lee%22&amp;as_publication=&amp;as_ylo=&amp;as_yhi=&amp;as_allsubj=all&amp;hl=en\">Google Scholar</a></span></p></div></div></li><li id=\"auth-Sang_Koog-Kim\"><span class=\"c-article-authors-search__title u-h3 js-search-name\">Sang-Koog Kim</span><div class=\"c-article-authors-search__list\"><div class=\"c-article-authors-search__item c-article-authors-search__list-item--left\"><a class=\"c-article-button\" data-track=\"click\" data-track-action=\"author link - publication\" data-track-label=\"link\" href='/search?author=\"Sang-Koog+Kim\"'>View author publications</a></div><div class=\"c-article-authors-search__item c-article-authors-search__list-item--right\"><p class=\"search-in-title-js c-article-authors-search__text\">You can also search for this author in\n",
       "                        <span class=\"c-article-identifiers\"><a class=\"c-article-identifiers__item\" data-track=\"click\" data-track-action=\"author link - pubmed\" data-track-label=\"link\" href=\"http://www.ncbi.nlm.nih.gov/entrez/query.fcgi?cmd=search&amp;term=Sang-Koog+Kim\">PubMed</a><span class=\"u-hide\"> </span><a class=\"c-article-identifiers__item\" data-track=\"click\" data-track-action=\"author link - scholar\" data-track-label=\"link\" href=\"http://scholar.google.co.uk/scholar?as_q=&amp;num=10&amp;btnG=Search+Scholar&amp;as_epq=&amp;as_oq=&amp;as_eq=&amp;as_occt=any&amp;as_sauthors=%22Sang-Koog+Kim%22&amp;as_publication=&amp;as_ylo=&amp;as_yhi=&amp;as_allsubj=all&amp;hl=en\">Google Scholar</a></span></p></div></div></li></ol></div>"
      ]
     },
     "execution_count": 112,
     "metadata": {},
     "output_type": "execute_result"
    }
   ],
   "source": [
    "table = soup.find(\"div\", attrs={\"data-test\":\"author-info\"})\n",
    "table"
   ]
  },
  {
   "cell_type": "code",
   "execution_count": null,
   "metadata": {},
   "outputs": [],
   "source": []
  },
  {
   "cell_type": "code",
   "execution_count": 87,
   "metadata": {},
   "outputs": [],
   "source": [
    "import csv\n",
    "   \n",
    "URL = \"http://www.values.com/inspirational-quotes\"\n",
    "r = requests.get(URL)\n",
    "   \n",
    "soup = BeautifulSoup(r.content, 'html5lib')"
   ]
  },
  {
   "cell_type": "code",
   "execution_count": 98,
   "metadata": {},
   "outputs": [],
   "source": [
    "with open(\"soup.txt\", \"w\") as f:\n",
    "    f.write(soup.prettify())"
   ]
  },
  {
   "cell_type": "code",
   "execution_count": null,
   "metadata": {},
   "outputs": [],
   "source": []
  }
 ],
 "metadata": {
  "kernelspec": {
   "display_name": "Python 3",
   "language": "python",
   "name": "python3"
  },
  "language_info": {
   "codemirror_mode": {
    "name": "ipython",
    "version": 3
   },
   "file_extension": ".py",
   "mimetype": "text/x-python",
   "name": "python",
   "nbconvert_exporter": "python",
   "pygments_lexer": "ipython3",
   "version": "3.7.4"
  }
 },
 "nbformat": 4,
 "nbformat_minor": 4
}
