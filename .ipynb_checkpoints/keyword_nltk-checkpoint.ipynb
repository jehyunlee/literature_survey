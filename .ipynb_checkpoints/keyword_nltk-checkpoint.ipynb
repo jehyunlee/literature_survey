{
 "cells": [
  {
   "cell_type": "code",
   "execution_count": 1,
   "metadata": {},
   "outputs": [],
   "source": [
    "from copy import deepcopy\n",
    "import numpy as np\n",
    "import pandas as pd\n",
    "import json, re, nltk"
   ]
  },
  {
   "cell_type": "code",
   "execution_count": 2,
   "metadata": {},
   "outputs": [
    {
     "name": "stderr",
     "output_type": "stream",
     "text": [
      "/opt/conda/lib/python3.7/site-packages/statsmodels/tools/_testing.py:19: FutureWarning: pandas.util.testing is deprecated. Use the functions in the public API at pandas.testing instead.\n",
      "  import pandas.util.testing as tm\n"
     ]
    }
   ],
   "source": [
    "%matplotlib inline\n",
    "import matplotlib.pyplot as plt\n",
    "import seaborn as sns\n",
    "sns.set_style(\"whitegrid\")\n",
    "sns.set_context(\"talk\")"
   ]
  },
  {
   "cell_type": "code",
   "execution_count": 8,
   "metadata": {},
   "outputs": [],
   "source": [
    "scopus = pd.read_csv(\"scopus.csv\")\n",
    "\n",
    "keywords = []\n",
    "line = ''\n",
    "count = 0\n",
    "\n",
    "outfile = open(\"keywords_200619.txt\", \"w\")\n",
    "outfile.close()\n",
    "\n",
    "with open(\"BIPV_ML_all.txt\") as f:\n",
    "    while line != \"EF\":\n",
    "        line = f.readline()\n",
    "        if line[:3] == \"DE \":\n",
    "            keywords_new = line[3:].rstrip('\\n').split(\";\")\n",
    "            with open(\"keywords_200619.txt\", \"a\") as outfile:\n",
    "                for keyword_new in keywords_new:\n",
    "                    keyword_new = keyword_new.rstrip(' ').lstrip(' ')\n",
    "                    outfile.write(f'{keyword_new}\\n')\n",
    "            \n",
    "            keywords += keyword_new"
   ]
  },
  {
   "cell_type": "code",
   "execution_count": 56,
   "metadata": {},
   "outputs": [],
   "source": [
    "# retreive keywords\n",
    "keywords_raw_ = np.genfromtxt(\"keywords.txt\", dtype=\"str\", delimiter=\"\\n\", encoding='utf-8-sig') #utf-8-sig for \\ufeff removal\n",
    "\n",
    "# get unique ones\n",
    "keywords_raw_ = np.unique(keywords_raw_)\n",
    "\n",
    "# convert to lower cases\n",
    "keywords_raw = [kw.lower() for kw in keywords_raw_]\n",
    "\n",
    "# duplicate for values\n",
    "keywords_value_ = deepcopy(keywords_raw)\n",
    "\n",
    "# remove brakets \"()\"\n",
    "keywords_value = [re.sub(r'\\([^)]*\\)', \"\", kw).rstrip(' ').lstrip(' ') for kw in keywords_value_]\n",
    "\n",
    "# remove unicodes\n",
    "keywords_value = [kw.replace(\"\\u2010\", \"-\") for kw in keywords_value] # hypen\n",
    "keywords_value = [kw.replace(\"\\u2013\", \"-\") for kw in keywords_value] # dash\n",
    "keywords_value = [kw.replace(\"\\u2014\", \"-\") for kw in keywords_value] # dash\n",
    "keywords_value = [kw.replace(\"\\u2019\", \"-\") for kw in keywords_value] # right quotation mark\n",
    "keywords_value = [kw.replace(\"\\u2026\", \"...\") for kw in keywords_value] # horizontal ellipsis\n",
    "\n",
    "# remove mathematics\n",
    "keywords_value = [kw.replace(\"\\\\infty\", \"infinity\") for kw in keywords_value] # infinity symbol\n",
    "keywords_value = [kw.replace(\"\\\\mathrm{\", \"\") for kw in keywords_value] # {\n",
    "keywords_value = [kw.replace(\"}\", \"\") for kw in keywords_value] # }\n",
    "\n",
    "# remove '\"'\n",
    "keywords_value = [kw.replace('\"', \"\") for kw in keywords_value] # horizontal ellipsis\n",
    "\n",
    "keywords_dash = [] # additional dictionary, for words containing '-'\n",
    "\n",
    "count = 0\n",
    "for keyword_value in keywords_value:\n",
    "    keyword_tmp = keyword_value.split(' ')\n",
    "    for kw in keyword_tmp:\n",
    "        kw = kw.lstrip('-').rstrip('-')\n",
    "        if '-' in kw:\n",
    "            keywords_dash.append(kw)\n",
    "\n",
    "# create dictionary\n",
    "keywords_dict = dict(zip(keywords_raw, keywords_value))\n"
   ]
  },
  {
   "cell_type": "code",
   "execution_count": 58,
   "metadata": {},
   "outputs": [
    {
     "name": "stdout",
     "output_type": "stream",
     "text": [
      "2877\n",
      "['1-d', '1-mhz', '10-year', '1500-v', '2-d', 'steady-state', '2-dof-pi-fopdn', '2-dimensional', '2-stage', '2-dimensional']\n"
     ]
    }
   ],
   "source": [
    "print(len(keywords_dash))\n",
    "print(keywords_dash[:10])"
   ]
  },
  {
   "cell_type": "code",
   "execution_count": 35,
   "metadata": {},
   "outputs": [
    {
     "name": "stdout",
     "output_type": "stream",
     "text": [
      "1-d modeling: 1-d modeling\n",
      "airs total column ozone: airs total column ozone\n",
      "accuracy evaluation: accuracy evaluation\n",
      "advanced alkaline electrolyzer: advanced alkaline electrolyzer\n",
      "allocation: allocation\n",
      "antarctic stratospheric circumpolar vortex: antarctic stratospheric circumpolar vortex\n",
      "asynchrouns machine: asynchrouns machine\n",
      "bipv performance: bipv performance\n",
      "battery control algorithm: battery control algorithm\n",
      "best-so-far abc: best-so-far abc\n"
     ]
    }
   ],
   "source": [
    "for key in keywords_raw[10:1000:100]:\n",
    "    print(f\"{key}: {keywords_dict[key]}\")"
   ]
  },
  {
   "cell_type": "markdown",
   "metadata": {},
   "source": [
    "* edit `values` while keeping `keys`, "
   ]
  },
  {
   "cell_type": "code",
   "execution_count": 17,
   "metadata": {},
   "outputs": [],
   "source": [
    "# 1. words inside bracket removal\n",
    "[re.sub(r'\\([^)]*\\)', \"\", keyword_).rstrip(' ').lstrip(' ').lower() for keyword_"
   ]
  },
  {
   "cell_type": "code",
   "execution_count": 32,
   "metadata": {},
   "outputs": [
    {
     "data": {
      "text/plain": [
       "['λ-ridge concentrators',\n",
       " 'αβ0',\n",
       " 'β-blocker',\n",
       " 'ε-constraint and fuzzy decision making approaches',\n",
       " 'ε-constraint technique',\n",
       " 'μ',\n",
       " 'μ-synthesis',\n",
       " 'μ-analysis',\n",
       " 'π line model',\n",
       " '\\ufeffforecasting']"
      ]
     },
     "execution_count": 32,
     "metadata": {},
     "output_type": "execute_result"
    }
   ],
   "source": [
    "keywords_raw[-10:]"
   ]
  },
  {
   "cell_type": "code",
   "execution_count": null,
   "metadata": {},
   "outputs": [],
   "source": []
  }
 ],
 "metadata": {
  "kernelspec": {
   "display_name": "Python 3",
   "language": "python",
   "name": "python3"
  },
  "language_info": {
   "codemirror_mode": {
    "name": "ipython",
    "version": 3
   },
   "file_extension": ".py",
   "mimetype": "text/x-python",
   "name": "python",
   "nbconvert_exporter": "python",
   "pygments_lexer": "ipython3",
   "version": "3.7.4"
  }
 },
 "nbformat": 4,
 "nbformat_minor": 4
}
