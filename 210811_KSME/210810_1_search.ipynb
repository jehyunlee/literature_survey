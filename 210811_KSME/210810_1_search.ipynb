{
 "cells": [
  {
   "cell_type": "code",
   "execution_count": 1,
   "metadata": {},
   "outputs": [],
   "source": [
    "from copy import deepcopy\n",
    "import pandas as pd\n",
    "from pybliometrics.scopus import ScopusSearch\n",
    "from pybliometrics.scopus import AbstractRetrieval"
   ]
  },
  {
   "cell_type": "code",
   "execution_count": 2,
   "metadata": {},
   "outputs": [
    {
     "name": "stderr",
     "output_type": "stream",
     "text": [
      "  0%|          | 0/954 [00:00<?, ?it/s]"
     ]
    },
    {
     "name": "stdout",
     "output_type": "stream",
     "text": [
      "Downloading results for query \"TITLE-ABS-KEY ( \"energy\") AND              TITLE-ABS-KEY ( \"renewable\") AND              TITLE-ABS-KEY ( \"machine learning\" OR \"prediction\" OR \"modeling\" ) AND              ( EXCLUDE ( SUBJAREA , \"MATE\" ) OR EXCLUDE ( SUBJAREA , \"CHEM\" ) OR EXCLUDE ( SUBJAREA , \"CENG\" ) ) AND ( EXCLUDE ( SUBJAREA , \"MEDI\" ) OR EXCLUDE ( SUBJAREA , \"AGRI\" ) OR EXCLUDE ( SUBJAREA , \"BIOC\" ) OR EXCLUDE ( SUBJAREA , \"BUSI\" ) OR EXCLUDE ( SUBJAREA , \"ECON\" ) OR EXCLUDE ( SUBJAREA , \"IMMU\" ) OR EXCLUDE ( SUBJAREA , \"NEUR\" ) OR EXCLUDE ( SUBJAREA , \"PHAR\" ) OR EXCLUDE ( SUBJAREA , \"HEAL\" ) OR EXCLUDE ( SUBJAREA , \"PSYC\" ) OR EXCLUDE ( SUBJAREA , \"ARTS\" ) OR EXCLUDE ( SUBJAREA , \"VETE\" ) OR EXCLUDE ( SUBJAREA , \"NURS\" ) OR EXCLUDE ( SUBJAREA , \"DENT\" ) OR EXCLUDE ( SUBJAREA , \"Undefined\" ) ) \":\n"
     ]
    },
    {
     "name": "stderr",
     "output_type": "stream",
     "text": [
      "100%|██████████| 954/954 [15:43<00:00,  1.01it/s]\n"
     ]
    },
    {
     "name": "stdout",
     "output_type": "stream",
     "text": [
      "23805\n"
     ]
    }
   ],
   "source": [
    "s_energy_re = \\\n",
    "ScopusSearch('TITLE-ABS-KEY ( \"energy\") AND \\\n",
    "             TITLE-ABS-KEY ( \"renewable\") AND \\\n",
    "             TITLE-ABS-KEY ( \"machine learning\" OR \"prediction\" OR \"modeling\" ) AND \\\n",
    "             ( EXCLUDE ( SUBJAREA , \"MATE\" ) OR EXCLUDE ( SUBJAREA , \"CHEM\" ) OR EXCLUDE ( SUBJAREA , \"CENG\" ) ) AND ( EXCLUDE ( SUBJAREA , \"MEDI\" ) OR EXCLUDE ( SUBJAREA , \"AGRI\" ) OR EXCLUDE ( SUBJAREA , \"BIOC\" ) OR EXCLUDE ( SUBJAREA , \"BUSI\" ) OR EXCLUDE ( SUBJAREA , \"ECON\" ) OR EXCLUDE ( SUBJAREA , \"IMMU\" ) OR EXCLUDE ( SUBJAREA , \"NEUR\" ) OR EXCLUDE ( SUBJAREA , \"PHAR\" ) OR EXCLUDE ( SUBJAREA , \"HEAL\" ) OR EXCLUDE ( SUBJAREA , \"PSYC\" ) OR EXCLUDE ( SUBJAREA , \"ARTS\" ) OR EXCLUDE ( SUBJAREA , \"VETE\" ) OR EXCLUDE ( SUBJAREA , \"NURS\" ) OR EXCLUDE ( SUBJAREA , \"DENT\" ) OR EXCLUDE ( SUBJAREA , \"Undefined\" ) ) ', \n",
    "             download=True, verbose=True)\n",
    "print(s_energy_re.get_results_size())"
   ]
  },
  {
   "cell_type": "code",
   "execution_count": 8,
   "metadata": {},
   "outputs": [
    {
     "name": "stdout",
     "output_type": "stream",
     "text": [
      "(23805, 34)\n"
     ]
    },
    {
     "data": {
      "text/html": [
       "<div>\n",
       "<style scoped>\n",
       "    .dataframe tbody tr th:only-of-type {\n",
       "        vertical-align: middle;\n",
       "    }\n",
       "\n",
       "    .dataframe tbody tr th {\n",
       "        vertical-align: top;\n",
       "    }\n",
       "\n",
       "    .dataframe thead th {\n",
       "        text-align: right;\n",
       "    }\n",
       "</style>\n",
       "<table border=\"1\" class=\"dataframe\">\n",
       "  <thead>\n",
       "    <tr style=\"text-align: right;\">\n",
       "      <th></th>\n",
       "      <th>eid</th>\n",
       "      <th>doi</th>\n",
       "      <th>pii</th>\n",
       "      <th>pubmed_id</th>\n",
       "      <th>title</th>\n",
       "      <th>subtype</th>\n",
       "      <th>subtypeDescription</th>\n",
       "      <th>creator</th>\n",
       "      <th>afid</th>\n",
       "      <th>affilname</th>\n",
       "      <th>...</th>\n",
       "      <th>issueIdentifier</th>\n",
       "      <th>article_number</th>\n",
       "      <th>pageRange</th>\n",
       "      <th>description</th>\n",
       "      <th>authkeywords</th>\n",
       "      <th>citedby_count</th>\n",
       "      <th>openaccess</th>\n",
       "      <th>fund_acr</th>\n",
       "      <th>fund_no</th>\n",
       "      <th>fund_sponsor</th>\n",
       "    </tr>\n",
       "  </thead>\n",
       "  <tbody>\n",
       "    <tr>\n",
       "      <th>0</th>\n",
       "      <td>2-s2.0-85109755005</td>\n",
       "      <td>10.1016/j.ijepes.2021.107370</td>\n",
       "      <td>S0142061521006098</td>\n",
       "      <td>None</td>\n",
       "      <td>Generation maintenance scheduling with renewab...</td>\n",
       "      <td>ar</td>\n",
       "      <td>Article</td>\n",
       "      <td>Assis F.A.</td>\n",
       "      <td>60032361;60028351</td>\n",
       "      <td>Pontifícia Universidade Católica do Rio de Jan...</td>\n",
       "      <td>...</td>\n",
       "      <td>None</td>\n",
       "      <td>107370</td>\n",
       "      <td>None</td>\n",
       "      <td>This work proposes an efficient method for sol...</td>\n",
       "      <td>Generation maintenance scheduling | Optimizati...</td>\n",
       "      <td>0</td>\n",
       "      <td>0</td>\n",
       "      <td>CAPES</td>\n",
       "      <td>undefined</td>\n",
       "      <td>Coordenação de Aperfeiçoamento de Pessoal de N...</td>\n",
       "    </tr>\n",
       "    <tr>\n",
       "      <th>1</th>\n",
       "      <td>2-s2.0-85109460674</td>\n",
       "      <td>10.1016/j.aej.2021.06.026</td>\n",
       "      <td>S1110016821003872</td>\n",
       "      <td>None</td>\n",
       "      <td>A review on segregation of various high gain c...</td>\n",
       "      <td>re</td>\n",
       "      <td>Review</td>\n",
       "      <td>Divya Navamani J.</td>\n",
       "      <td>60015723;60014340</td>\n",
       "      <td>Prince Sultan University;SRM Institute of Scie...</td>\n",
       "      <td>...</td>\n",
       "      <td>1</td>\n",
       "      <td>None</td>\n",
       "      <td>675-700</td>\n",
       "      <td>Renewable powered dc microgrid is more cost-ef...</td>\n",
       "      <td>Boost converters | High gain DC/DC converter |...</td>\n",
       "      <td>0</td>\n",
       "      <td>1</td>\n",
       "      <td>PSU</td>\n",
       "      <td>undefined</td>\n",
       "      <td>Prince Sultan University</td>\n",
       "    </tr>\n",
       "    <tr>\n",
       "      <th>2</th>\n",
       "      <td>2-s2.0-85109432210</td>\n",
       "      <td>10.1016/j.aej.2021.06.028</td>\n",
       "      <td>S1110016821003902</td>\n",
       "      <td>None</td>\n",
       "      <td>Application of polynomial regression and MILP ...</td>\n",
       "      <td>ar</td>\n",
       "      <td>Article</td>\n",
       "      <td>Sarwar S.</td>\n",
       "      <td>60029157;60014982;60008665;60004351</td>\n",
       "      <td>Universiti Malaya;National Cheng Kung Universi...</td>\n",
       "      <td>...</td>\n",
       "      <td>1</td>\n",
       "      <td>None</td>\n",
       "      <td>659-674</td>\n",
       "      <td>Distributed Generation (DG) integration, espec...</td>\n",
       "      <td>Frequency instability | Load priority | Mixed ...</td>\n",
       "      <td>0</td>\n",
       "      <td>1</td>\n",
       "      <td>UM</td>\n",
       "      <td>IIRG001A-2020IISS</td>\n",
       "      <td>Universiti Malaya</td>\n",
       "    </tr>\n",
       "    <tr>\n",
       "      <th>3</th>\n",
       "      <td>2-s2.0-85108730066</td>\n",
       "      <td>10.1016/j.ces.2021.116871</td>\n",
       "      <td>S000925092100436X</td>\n",
       "      <td>None</td>\n",
       "      <td>CO&lt;inf&gt;2&lt;/inf&gt; methanation in a shell and tube...</td>\n",
       "      <td>ar</td>\n",
       "      <td>Article</td>\n",
       "      <td>Di Nardo A.</td>\n",
       "      <td>60003686</td>\n",
       "      <td>ENEA Centro Ricerche Casaccia</td>\n",
       "      <td>...</td>\n",
       "      <td>None</td>\n",
       "      <td>116871</td>\n",
       "      <td>None</td>\n",
       "      <td>CO2 methanation is gaining increasing interest...</td>\n",
       "      <td>CFD multi-tubular reactor modelling | CO  meth...</td>\n",
       "      <td>0</td>\n",
       "      <td>0</td>\n",
       "      <td>ENEA</td>\n",
       "      <td>undefined</td>\n",
       "      <td>European Neuroendocrine Association</td>\n",
       "    </tr>\n",
       "    <tr>\n",
       "      <th>4</th>\n",
       "      <td>2-s2.0-85108598105</td>\n",
       "      <td>10.1016/j.ces.2021.116862</td>\n",
       "      <td>S0009250921004279</td>\n",
       "      <td>None</td>\n",
       "      <td>Reverse traveling microwave reactor – Modellin...</td>\n",
       "      <td>ar</td>\n",
       "      <td>Article</td>\n",
       "      <td>Eghbal Sarabi F.</td>\n",
       "      <td>60118243</td>\n",
       "      <td>TU Delft - Department of Process &amp;amp; Energy</td>\n",
       "      <td>...</td>\n",
       "      <td>None</td>\n",
       "      <td>116862</td>\n",
       "      <td>None</td>\n",
       "      <td>Microwave heating presents a potentially green...</td>\n",
       "      <td>Microwave heating | Reverse traveling microwav...</td>\n",
       "      <td>0</td>\n",
       "      <td>1</td>\n",
       "      <td>H2020</td>\n",
       "      <td>680777</td>\n",
       "      <td>Horizon 2020 Framework Programme</td>\n",
       "    </tr>\n",
       "  </tbody>\n",
       "</table>\n",
       "<p>5 rows × 34 columns</p>\n",
       "</div>"
      ],
      "text/plain": [
       "                  eid                           doi                pii  \\\n",
       "0  2-s2.0-85109755005  10.1016/j.ijepes.2021.107370  S0142061521006098   \n",
       "1  2-s2.0-85109460674     10.1016/j.aej.2021.06.026  S1110016821003872   \n",
       "2  2-s2.0-85109432210     10.1016/j.aej.2021.06.028  S1110016821003902   \n",
       "3  2-s2.0-85108730066     10.1016/j.ces.2021.116871  S000925092100436X   \n",
       "4  2-s2.0-85108598105     10.1016/j.ces.2021.116862  S0009250921004279   \n",
       "\n",
       "  pubmed_id                                              title subtype  \\\n",
       "0      None  Generation maintenance scheduling with renewab...      ar   \n",
       "1      None  A review on segregation of various high gain c...      re   \n",
       "2      None  Application of polynomial regression and MILP ...      ar   \n",
       "3      None  CO<inf>2</inf> methanation in a shell and tube...      ar   \n",
       "4      None  Reverse traveling microwave reactor – Modellin...      ar   \n",
       "\n",
       "  subtypeDescription            creator                                 afid  \\\n",
       "0            Article         Assis F.A.                    60032361;60028351   \n",
       "1             Review  Divya Navamani J.                    60015723;60014340   \n",
       "2            Article          Sarwar S.  60029157;60014982;60008665;60004351   \n",
       "3            Article        Di Nardo A.                             60003686   \n",
       "4            Article   Eghbal Sarabi F.                             60118243   \n",
       "\n",
       "                                           affilname  ... issueIdentifier  \\\n",
       "0  Pontifícia Universidade Católica do Rio de Jan...  ...            None   \n",
       "1  Prince Sultan University;SRM Institute of Scie...  ...               1   \n",
       "2  Universiti Malaya;National Cheng Kung Universi...  ...               1   \n",
       "3                      ENEA Centro Ricerche Casaccia  ...            None   \n",
       "4      TU Delft - Department of Process &amp; Energy  ...            None   \n",
       "\n",
       "  article_number pageRange                                        description  \\\n",
       "0         107370      None  This work proposes an efficient method for sol...   \n",
       "1           None   675-700  Renewable powered dc microgrid is more cost-ef...   \n",
       "2           None   659-674  Distributed Generation (DG) integration, espec...   \n",
       "3         116871      None  CO2 methanation is gaining increasing interest...   \n",
       "4         116862      None  Microwave heating presents a potentially green...   \n",
       "\n",
       "                                        authkeywords citedby_count openaccess  \\\n",
       "0  Generation maintenance scheduling | Optimizati...             0          0   \n",
       "1  Boost converters | High gain DC/DC converter |...             0          1   \n",
       "2  Frequency instability | Load priority | Mixed ...             0          1   \n",
       "3  CFD multi-tubular reactor modelling | CO  meth...             0          0   \n",
       "4  Microwave heating | Reverse traveling microwav...             0          1   \n",
       "\n",
       "  fund_acr            fund_no  \\\n",
       "0    CAPES          undefined   \n",
       "1      PSU          undefined   \n",
       "2       UM  IIRG001A-2020IISS   \n",
       "3     ENEA          undefined   \n",
       "4    H2020             680777   \n",
       "\n",
       "                                        fund_sponsor  \n",
       "0  Coordenação de Aperfeiçoamento de Pessoal de N...  \n",
       "1                           Prince Sultan University  \n",
       "2                                  Universiti Malaya  \n",
       "3                European Neuroendocrine Association  \n",
       "4                   Horizon 2020 Framework Programme  \n",
       "\n",
       "[5 rows x 34 columns]"
      ]
     },
     "execution_count": 8,
     "metadata": {},
     "output_type": "execute_result"
    }
   ],
   "source": [
    "df_re = pd.DataFrame(s_energy_re.results)\n",
    "df_re.to_pickle(\"./df_re.pkl\")\n",
    "print(df_re.shape)\n",
    "df_re = df_re.loc[~df_re[\"title\"].isna()]\n",
    "df_re.head()"
   ]
  },
  {
   "cell_type": "code",
   "execution_count": 28,
   "metadata": {},
   "outputs": [
    {
     "data": {
      "text/plain": [
       "417                     10.1002/er.6679\n",
       "545         10.1016/j.egyai.2021.100060\n",
       "1148       10.17775/CSEEJPES.2020.02700\n",
       "1763         10.1007/s12667-021-00448-6\n",
       "2529         10.1007/s10462-020-09844-3\n",
       "3423         10.1016/j.rser.2020.109889\n",
       "3507    10.1109/PESGM41954.2020.9282137\n",
       "3638      10.1016/j.enbuild.2020.110013\n",
       "4613          10.1016/j.scs.2019.102010\n",
       "4947        10.1109/ACCESS.2020.3028600\n",
       "5806        10.1109/FIT47737.2019.00031\n",
       "6167     10.1016/j.enconman.2019.111799\n",
       "7466                 10.3390/app9071478\n",
       "7520       10.1016/j.renene.2018.10.047\n",
       "7860     10.1016/j.apenergy.2018.11.002\n",
       "8537                 10.3390/en12071301\n",
       "8622        10.1007/978-981-13-5995-8_7\n",
       "Name: doi, dtype: object"
      ]
     },
     "execution_count": 28,
     "metadata": {},
     "output_type": "execute_result"
    }
   ],
   "source": [
    "df_re.loc[df_re[\"title\"].str.contains(\"learning\")].loc[df_re[\"title\"].str.contains(\"review\")][\"doi\"]"
   ]
  },
  {
   "cell_type": "code",
   "execution_count": 14,
   "metadata": {},
   "outputs": [
    {
     "data": {
      "text/plain": [
       "Index(['eid', 'doi', 'pii', 'pubmed_id', 'title', 'subtype',\n",
       "       'subtypeDescription', 'creator', 'afid', 'affilname',\n",
       "       'affiliation_city', 'affiliation_country', 'author_count',\n",
       "       'author_names', 'author_ids', 'author_afids', 'coverDate',\n",
       "       'coverDisplayDate', 'publicationName', 'issn', 'source_id', 'eIssn',\n",
       "       'aggregationType', 'volume', 'issueIdentifier', 'article_number',\n",
       "       'pageRange', 'description', 'authkeywords', 'citedby_count',\n",
       "       'openaccess', 'fund_acr', 'fund_no', 'fund_sponsor'],\n",
       "      dtype='object')"
      ]
     },
     "execution_count": 14,
     "metadata": {},
     "output_type": "execute_result"
    }
   ],
   "source": []
  },
  {
   "cell_type": "code",
   "execution_count": null,
   "metadata": {},
   "outputs": [],
   "source": []
  }
 ],
 "metadata": {
  "kernelspec": {
   "display_name": "Python 3",
   "language": "python",
   "name": "python3"
  },
  "language_info": {
   "codemirror_mode": {
    "name": "ipython",
    "version": 3
   },
   "file_extension": ".py",
   "mimetype": "text/x-python",
   "name": "python",
   "nbconvert_exporter": "python",
   "pygments_lexer": "ipython3",
   "version": "3.7.7"
  }
 },
 "nbformat": 4,
 "nbformat_minor": 4
}
