{
 "cells": [
  {
   "cell_type": "markdown",
   "metadata": {},
   "source": [
    "* 1. Make Keyword dictionary\n",
    "* 2. if DE == None, Extract Keywords from abstract\n",
    "* 3. refine keywords"
   ]
  },
  {
   "cell_type": "code",
   "execution_count": 6,
   "metadata": {},
   "outputs": [],
   "source": [
    "from copy import deepcopy\n",
    "import numpy as np\n",
    "import pandas as pd\n",
    "import json\n",
    "import re"
   ]
  },
  {
   "cell_type": "markdown",
   "metadata": {},
   "source": [
    "### 1. Create Dictionary ver.1\n",
    "* crawling WOS file"
   ]
  },
  {
   "cell_type": "code",
   "execution_count": 25,
   "metadata": {},
   "outputs": [
    {
     "name": "stdout",
     "output_type": "stream",
     "text": [
      "count= 1000\n",
      "count= 2000\n",
      "count= 3000\n",
      "count= 4000\n",
      "count= 5000\n",
      "count= 6000\n",
      "count= 7000\n",
      "count= 8000\n"
     ]
    }
   ],
   "source": [
    "scopus = pd.read_csv(\"scopus.csv\")\n",
    "\n",
    "keywords = []\n",
    "line = ''\n",
    "count = 0\n",
    "\n",
    "outfile = open(\"keywords.txt\", \"w\")\n",
    "outfile.close()\n",
    "\n",
    "with open(\"BIPV_ML_all.txt\") as f:\n",
    "    while line != \"EF\":\n",
    "        line = f.readline()\n",
    "        if line[:3] == \"DE \":\n",
    "            count += 1\n",
    "            if count%1000 == 0:\n",
    "                print(f\"count= {count}\")\n",
    "            keywords_new = line[3:].rstrip('\\n').split(\"; \")\n",
    "            \n",
    "            with open(\"keywords.txt\", \"a\") as outfile:\n",
    "                outfile.write(f'# {count}\\n')\n",
    "                for keyword_new in keywords_new:\n",
    "                    outfile.write(f'{keyword_new}\\n')\n",
    "            \n",
    "            keywords += keyword_new"
   ]
  },
  {
   "cell_type": "code",
   "execution_count": null,
   "metadata": {},
   "outputs": [],
   "source": [
    "# retreive keywords\n",
    "data = np.genfromtxt(\"keywords.txt\", dtype=\"str\", delimiter=\"\\n\")\n",
    "\n",
    "# get unique ones\n",
    "datau = np.unique(data)"
   ]
  },
  {
   "cell_type": "code",
   "execution_count": 24,
   "metadata": {},
   "outputs": [],
   "source": [
    "# save as json file\n",
    "data0 = [d.strip(\"\\\"\") for d in datau]\n",
    "data1 = np.sort(data0)\n",
    "datau_dict = dict(zip(data1,[d.lower() for d in data1]))\n",
    "with open(\"keywords.json\", \"w\") as json_file:\n",
    "    json.dump(datau_dict, json_file)"
   ]
  },
  {
   "cell_type": "markdown",
   "metadata": {},
   "source": [
    "### 2. Create Dictionary ver.2 (manual process)\n",
    "* check `keywords.json` line by line. \n",
    "* add, disassemble, replace or even remove keywords."
   ]
  },
  {
   "cell_type": "markdown",
   "metadata": {},
   "source": [
    "### 3. Create Keyword Relation dictionary (manual process)\n",
    "* define which keywords are to be added for some given keywords\n",
    "* `keywords_rel.json`\n",
    "> if `key` of Relation dictionary is found in keyword, `value` is added to the dictionary.  \n",
    "> the addition will be saved to `keywords.json`."
   ]
  },
  {
   "cell_type": "code",
   "execution_count": 7,
   "metadata": {},
   "outputs": [],
   "source": [
    "WOSfilename = \"BIPV_ML_all.txt\"\n",
    "outfilename = \"BIPV_ML_kw.txt\"\n",
    "kwfilename = \"keywords.json\"\n",
    "reldicfilename = \"relative_dict.json\""
   ]
  },
  {
   "cell_type": "code",
   "execution_count": 8,
   "metadata": {},
   "outputs": [],
   "source": [
    "with open(kwfilename) as j:\n",
    "    keywords = json.load(j)\n",
    "    \n",
    "with open(reldicfilename) as j:\n",
    "    reldic = json.load(j)    "
   ]
  },
  {
   "cell_type": "code",
   "execution_count": 9,
   "metadata": {},
   "outputs": [],
   "source": [
    "# kws_in = \"(PV) Photovoltaic panel; Battery; Induction motor; Maximum power point tracking(MPPT); Supercapacitor\\n\".rstrip(\"\\n\").split(\"; \")\n",
    "# kws_out = []\n",
    "# print(kws_in)\n",
    "# keywords_out = []\n",
    "# for kw_in in kws_in:\n",
    "#     keyword = keywords[kw_in]\n",
    "#     keyword = [re.sub(r'\\([^)]*\\)', \"\", keyword_).rstrip(' ').lstrip(' ') for keyword_ in keyword]\n",
    "#     kws_out += keyword\n",
    "#     keywords_out.append(keyword)\n",
    "# print(\"1:\", kws_out)\n",
    "\n",
    "# kws_out_ = deepcopy(kws_out)\n",
    "# for kw_out in kws_out:\n",
    "#     for reldic_key in reldic_keys:\n",
    "#         if reldic_key in kw_out:\n",
    "#             kws_out_ += reldic[reldic_key]\n",
    "# print(\"2:\", kws_out_)\n",
    "\n",
    "# kws_out = np.unique(kws_out_)\n",
    "# print(\"3:\", kws_out)"
   ]
  },
  {
   "cell_type": "code",
   "execution_count": 26,
   "metadata": {},
   "outputs": [],
   "source": [
    "count = 0\n",
    "reldic_keys = list(reldic.keys())\n",
    "keywords_out_dict = {}\n",
    "\n",
    "with open(WOSfilename, \"r\") as infile:\n",
    "    with open(outfilename, \"w\") as outfile:\n",
    "        line = \" \"\n",
    "        \n",
    "        while line != \"EF\":\n",
    "            line = infile.readline()\n",
    "            if line[:3] == \"DE \":\n",
    "                line_DE = line\n",
    "                line_ID = infile.readline()\n",
    "                line_AB = infile.readline()\n",
    "                \n",
    "                count += 1\n",
    "            \n",
    "                # 1. Read from dictionary (keywords.json)\n",
    "                kws_in = line_DE[3:].rstrip(\"\\n\").split(\"; \")\n",
    "                kws_out = []\n",
    "                for kw_in in kws_in:\n",
    "                    try:\n",
    "                        keyword = keywords[kw_in]\n",
    "                        keyword = [re.sub(r'\\([^)]*\\)', \"\", keyword_).rstrip(' ').lstrip(' ').lower() for keyword_ in keyword]\n",
    "                        kws_out += keyword\n",
    "                    except:\n",
    "                        print(count, kw_in)\n",
    "                \n",
    "                # 2. Add keywords in relative dictionary\n",
    "                kws_out_ = deepcopy(kws_out)\n",
    "                for kw_out in kws_out:\n",
    "                    for reldic_key in reldic_keys:\n",
    "                        if reldic_key.lower() in kw_out:\n",
    "                            kws_out_ += reldic[reldic_key]\n",
    "                \n",
    "#                 keywords_out_list = []\n",
    "#                 for keyword_out in keywords_out_tmp:\n",
    "#                     if count < 10:\n",
    "#                         print(type(keyword_out), len(keyword_out))\n",
    "#                     keyword_out_c = deepcopy(keyword_out)\n",
    "#                     for keyword_out_ in keyword_out:\n",
    "#                         for reldic_key in reldic_keys:\n",
    "# #                             print(keyword_out_, reldic_key)\n",
    "#                             if reldic_key.lower() in keyword_out_:\n",
    "                                \n",
    "#                                 keyword_out_c += reldic[reldic_key]\n",
    "#                                 keywords_out_list.append(keyword_out_c)\n",
    "#                                 if reldic_key.lower() == \"cnn\":\n",
    "#                                     print(keyword_out_c)\n",
    "                                    \n",
    "#                 keywords_out_dict.update(dict(zip(kws_in, keywords_out_list)))\n",
    "                        \n",
    "                            \n",
    "                    \n",
    "                            \n",
    "                # 3. Keyword mining from abstract\n",
    "                if (\"shade\" in line_AB) or (\"shading\" in line_AB) or (\"shadow\" in line_AB):\n",
    "                    kws_out_ += [\"shadow\"]\n",
    "                \n",
    "                for reldic_key in reldic_keys:\n",
    "                    if reldic_key.lower() in line_AB:\n",
    "                        kws_out_ += reldic[reldic_key]\n",
    "                \n",
    "                kws_out_ = np.unique(kws_out_)\n",
    "                kws_out = deepcopy(kws_out_)\n",
    "                for kw_out in kws_out_:\n",
    "                    for reldic_key in reldic_keys:\n",
    "                        if reldic_key.lower() in kw_out:\n",
    "#                             kws_out += reldic[reldic_key]\n",
    "                            kws_out = list(set(kws_out) | set(reldic[reldic_key]))\n",
    "                \n",
    "                # 4. cleaning bad keywords\n",
    "                if 'none' in kws_out:\n",
    "                    list(kws_out).remove(\"none\")                \n",
    "                \n",
    "                # 5. write on outfile\n",
    "#                 kws_out = np.unique(kws_out_)\n",
    "                \n",
    "                DE_out = \"DE \" + \"; \".join(kws_out) + \"\\n\"\n",
    "                outfile.write(DE_out)\n",
    "                outfile.write(line_ID)\n",
    "                outfile.write(line_AB)\n",
    "            else:\n",
    "                outfile.write(line)\n",
    "\n",
    "                \n",
    "with open(\"keywords_out.json\", \"w\") as j:\n",
    "    json.dump(keywords_out, j, sort_keys=True, indent=2)\n"
   ]
  },
  {
   "cell_type": "code",
   "execution_count": 65,
   "metadata": {},
   "outputs": [
    {
     "ename": "KeyError",
     "evalue": "'dc-dc converter'",
     "output_type": "error",
     "traceback": [
      "\u001b[0;31m\u001b[0m",
      "\u001b[0;31mKeyError\u001b[0mTraceback (most recent call last)",
      "\u001b[0;32m<ipython-input-65-ef3844f6b293>\u001b[0m in \u001b[0;36m<module>\u001b[0;34m\u001b[0m\n\u001b[0;32m----> 1\u001b[0;31m \u001b[0mkeywords\u001b[0m\u001b[0;34m[\u001b[0m\u001b[0;34m'dc-dc converter'\u001b[0m\u001b[0;34m]\u001b[0m\u001b[0;34m\u001b[0m\u001b[0;34m\u001b[0m\u001b[0m\n\u001b[0m",
      "\u001b[0;31mKeyError\u001b[0m: 'dc-dc converter'"
     ]
    }
   ],
   "source": [
    "keywords['dc-dc converter']"
   ]
  },
  {
   "cell_type": "code",
   "execution_count": 33,
   "metadata": {},
   "outputs": [
    {
     "name": "stdout",
     "output_type": "stream",
     "text": [
      "['uncertainty analysis', 'analysis']\n",
      "uncertainty analysis analysis\n"
     ]
    }
   ],
   "source": [
    "print(keywords[kw])\n",
    "print(*keywords[kw])"
   ]
  },
  {
   "cell_type": "code",
   "execution_count": 23,
   "metadata": {},
   "outputs": [
    {
     "data": {
      "text/plain": [
       "True"
      ]
     },
     "execution_count": 23,
     "metadata": {},
     "output_type": "execute_result"
    }
   ],
   "source": [
    "\"ab\" in \"abs cde\""
   ]
  },
  {
   "cell_type": "code",
   "execution_count": 89,
   "metadata": {},
   "outputs": [
    {
     "data": {
      "text/plain": [
       "['(PV) Photovoltaic panel',\n",
       " 'Battery',\n",
       " 'Induction motor',\n",
       " 'Maximum power point tracking(MPPT)',\n",
       " 'Supercapacitor']"
      ]
     },
     "execution_count": 89,
     "metadata": {},
     "output_type": "execute_result"
    }
   ],
   "source": [
    "kws_in"
   ]
  },
  {
   "cell_type": "code",
   "execution_count": 32,
   "metadata": {},
   "outputs": [
    {
     "name": "stdout",
     "output_type": "stream",
     "text": [
      "['optimization', 'photovoltaic', 'reverse osmosis desalination', 'system modeling', 'wind turbine', 'optimization', 'algorithm', 'photovoltaic', 'model', 'system', 'modeling', 'model', 'wind']\n"
     ]
    }
   ],
   "source": [
    "keywords_out['Wind turbine'].remove(\"modeling\")\n",
    "print(keywords_out['Wind turbine'])"
   ]
  },
  {
   "cell_type": "code",
   "execution_count": 92,
   "metadata": {},
   "outputs": [
    {
     "data": {
      "text/plain": [
       "{'(PV) Photovoltaic panel': ['photovoltaic'],\n",
       " 'Battery': ['battery'],\n",
       " 'Induction motor': ['induction motor'],\n",
       " 'Maximum power point tracking(MPPT)': ['MPPT', 'MPP'],\n",
       " 'Supercapacitor': ['supercapacitor']}"
      ]
     },
     "execution_count": 92,
     "metadata": {},
     "output_type": "execute_result"
    }
   ],
   "source": [
    "dict(zip(kws_in, keywords_out))"
   ]
  },
  {
   "cell_type": "code",
   "execution_count": null,
   "metadata": {},
   "outputs": [],
   "source": []
  }
 ],
 "metadata": {
  "kernelspec": {
   "display_name": "Python 3",
   "language": "python",
   "name": "python3"
  },
  "language_info": {
   "codemirror_mode": {
    "name": "ipython",
    "version": 3
   },
   "file_extension": ".py",
   "mimetype": "text/x-python",
   "name": "python",
   "nbconvert_exporter": "python",
   "pygments_lexer": "ipython3",
   "version": "3.7.4"
  }
 },
 "nbformat": 4,
 "nbformat_minor": 4
}
