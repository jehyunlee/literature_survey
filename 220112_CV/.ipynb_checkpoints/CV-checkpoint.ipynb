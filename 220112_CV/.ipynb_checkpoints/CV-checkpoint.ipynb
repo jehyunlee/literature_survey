{
 "cells": [
  {
   "cell_type": "code",
   "execution_count": 1,
   "metadata": {},
   "outputs": [],
   "source": [
    "%matplotlib inline\n",
    "\n",
    "import numpy as np\n",
    "import pandas as pd\n",
    "import matplotlib.pyplot as plt\n",
    "import re\n",
    "from pybliometrics.scopus import ScopusSearch\n",
    "from bs4 import BeautifulSoup\n",
    "import requests, json\n",
    "from docx import Document\n",
    "from docx.shared import Inches"
   ]
  },
  {
   "cell_type": "code",
   "execution_count": 2,
   "metadata": {},
   "outputs": [],
   "source": [
    "# my data\n",
    "\n",
    "from my_apikeys import APIKeys\n",
    "my_name = [\"Lee, Jehyun\", \"Lee, J.\", \"Lee, J. H.\", \"Lee, Je Hyun\"]"
   ]
  },
  {
   "cell_type": "code",
   "execution_count": 3,
   "metadata": {},
   "outputs": [
    {
     "name": "stdout",
     "output_type": "stream",
     "text": [
      "subscriber=True\n"
     ]
    }
   ],
   "source": [
    "# subscriber (Institute: True. Home: False)\n",
    "try:\n",
    "    s_sample = ScopusSearch(f\"DOI (10.1021/acsnano.9b08494)\").results[0]\n",
    "    subscriber=True\n",
    "except:\n",
    "    subscriber=False\n",
    "\n",
    "print(f\"subscriber={subscriber}\")    "
   ]
  },
  {
   "cell_type": "code",
   "execution_count": 4,
   "metadata": {},
   "outputs": [
    {
     "data": {
      "text/html": [
       "<div>\n",
       "<style scoped>\n",
       "    .dataframe tbody tr th:only-of-type {\n",
       "        vertical-align: middle;\n",
       "    }\n",
       "\n",
       "    .dataframe tbody tr th {\n",
       "        vertical-align: top;\n",
       "    }\n",
       "\n",
       "    .dataframe thead th {\n",
       "        text-align: right;\n",
       "    }\n",
       "</style>\n",
       "<table border=\"1\" class=\"dataframe\">\n",
       "  <thead>\n",
       "    <tr style=\"text-align: right;\">\n",
       "      <th></th>\n",
       "      <th>DOI</th>\n",
       "      <th>TITLE_Scopus</th>\n",
       "    </tr>\n",
       "  </thead>\n",
       "  <tbody>\n",
       "    <tr>\n",
       "      <th>0</th>\n",
       "      <td>10.1021/acs.jpclett.1c01140</td>\n",
       "      <td>First-Principles-Based Machine-Learning Molecu...</td>\n",
       "    </tr>\n",
       "    <tr>\n",
       "      <th>1</th>\n",
       "      <td>10.1038/s41598-021-83315-9</td>\n",
       "      <td>Optimizing machine learning models for granula...</td>\n",
       "    </tr>\n",
       "    <tr>\n",
       "      <th>2</th>\n",
       "      <td>10.1038/srep31513</td>\n",
       "      <td>Resonant vortex-core reversal in magnetic nano...</td>\n",
       "    </tr>\n",
       "    <tr>\n",
       "      <th>3</th>\n",
       "      <td>10.1063/1.4919836</td>\n",
       "      <td>Temperature effect on vortex-core reversals in...</td>\n",
       "    </tr>\n",
       "    <tr>\n",
       "      <th>4</th>\n",
       "      <td>10.1038/srep11370</td>\n",
       "      <td>Resonantly exited precession motion of three-d...</td>\n",
       "    </tr>\n",
       "  </tbody>\n",
       "</table>\n",
       "</div>"
      ],
      "text/plain": [
       "                           DOI  \\\n",
       "0  10.1021/acs.jpclett.1c01140   \n",
       "1   10.1038/s41598-021-83315-9   \n",
       "2            10.1038/srep31513   \n",
       "3            10.1063/1.4919836   \n",
       "4            10.1038/srep11370   \n",
       "\n",
       "                                        TITLE_Scopus  \n",
       "0  First-Principles-Based Machine-Learning Molecu...  \n",
       "1  Optimizing machine learning models for granula...  \n",
       "2  Resonant vortex-core reversal in magnetic nano...  \n",
       "3  Temperature effect on vortex-core reversals in...  \n",
       "4  Resonantly exited precession motion of three-d...  "
      ]
     },
     "execution_count": 4,
     "metadata": {},
     "output_type": "execute_result"
    }
   ],
   "source": [
    "df_CV = pd.read_excel(\"my_CV.xlsx\")\n",
    "df_CV.head()"
   ]
  },
  {
   "cell_type": "code",
   "execution_count": 10,
   "metadata": {},
   "outputs": [],
   "source": [
    "def get_my_data(doi):\n",
    "    # retrieve data\n",
    "    s = ScopusSearch(f\"DOI ({doi})\").results[0]\n",
    "    \n",
    "    ### Affiliation\n",
    "    # Affiliation ID\n",
    "    afids = np.array(s.afid.split(\";\"))    \n",
    "    # Affiliation name\n",
    "    afnames = np.array(s.affilname.split(\";\"))\n",
    "    # Affiliations\n",
    "    afs = dict(zip(afids, afnames))\n",
    "    afs_all.update(afs)\n",
    "    \n",
    "    ### Author\n",
    "    # Author names\n",
    "    author_names = np.array(s.author_names.split(\";\"))\n",
    "    # Author ID\n",
    "    author_ids = np.array(s.author_ids.split(\";\"))\n",
    "    # Author Affiliation ID\n",
    "    author_afids = [a.split(\"-\") for a in np.array(s.author_afids.split(\";\"))]\n",
    "    # Authors\n",
    "    authors = list(zip(author_names, author_ids, [afs[af] if isinstance(af, str) else [afs[af_] for af_ in af] for af in author_afids], author_afids))\n",
    "    try:\n",
    "        my_idx = np.where(my_name == author_names)[0][0]\n",
    "        my_data = authors[my_idx]\n",
    "        return my_data\n",
    "    except:\n",
    "        print(authors)"
   ]
  },
  {
   "cell_type": "code",
   "execution_count": 6,
   "metadata": {},
   "outputs": [
    {
     "name": "stdout",
     "output_type": "stream",
     "text": [
      "('Lee, Jehyun', '55969873500', ['Korea Institute of Energy Research'], ['60087822'])\n",
      "('Lee, Jehyun', '55969873500', ['Korea Institute of Energy Research'], ['60087822'])\n",
      "('Lee, Jehyun', '16029235100', ['Seoul National University', 'Center of Semiconductor Research and Development'], ['60013682', '111165432'])\n",
      "('Lee, Jehyun', '16029235100', ['Seoul National University', 'Center of Semiconductor Research and Development'], ['60013682', '115225850'])\n",
      "('Lee, Jehyun', '16029235100', ['National Creative Research Initiative Center for Spin Dynamics and Spin-Wave Devices', 'Center of Semiconductor Research and Development'], ['107172817', '115225850'])\n",
      "('Lee, Jehyun', '16029235100', ['Seoul National University'], ['60013682'])\n",
      "('Lee, Jehyun', '16029235100', ['Seoul National University'], ['60013682'])\n",
      "('Lee, Jehyun', '16029235100', ['Technische Universität Wien', 'Samsung Group'], ['60018163', '60010484'])\n",
      "('Lee, Jehyun', '16029235100', ['Seoul National University'], ['60013682'])\n",
      "[('Neu, V.', '6701391076', ['Institute for Metallic Materials'], ['112806019']), ('Schulze, C.', '35181915100', ['Technische Universität Chemnitz'], ['60008069']), ('Faustini, M.', '57196395997', ['Laboratoire de Chimie de la Matière Condensée de Paris'], ['60158061']), ('Lee, J.', '7601454858', ['Seoul National University'], ['60013682']), ('Makarov, D.', '12647134800', ['Technische Universität Chemnitz', 'Leibniz-Institut für Festkörper- und Werkstoffforschung Dresden'], ['60008069', '60007746']), ('Suess, D.', '7004076065', ['Technische Universität Wien'], ['60018163']), ('Kim, S. K.', '7601587994', ['Seoul National University'], ['60013682']), ('Grosso, D.', '7006592741', ['Laboratoire de Chimie de la Matière Condensée de Paris'], ['60158061']), ('Schultz, L.', '7202762848', ['Institute for Metallic Materials'], ['112806019']), ('Albrecht, M.', '57203106416', ['Technische Universität Chemnitz'], ['60008069'])]\n",
      "None\n",
      "('Lee, Jehyun', '16029235100', ['Seoul National University'], ['60013682'])\n",
      "('Lee, Jehyun', '16029235100', ['Technische Universität Wien', 'Samsung Group'], ['60018163', '60010484'])\n",
      "('Lee, Jehyun', '16029235100', ['Samsung Group'], ['60010484'])\n",
      "[('Fiedler, G.', '15829081900', ['Technische Universität Wien'], ['60018163']), ('Fidler, J.', '35601590600', ['Technische Universität Wien'], ['60018163']), ('Lee, J.', '16029235100', ['Technische Universität Wien'], ['60018163']), ('Schrefl, T.', '7005780657', ['St. Poelten University of Applied Sciences'], ['106020258']), ('Stamps, R. L.', '7004916869', ['The University of Western Australia'], ['60031806']), ('Braun, H. B.', '7202368865', ['University College Dublin'], ['60005141']), ('Suess, D.', '7004076065', ['Technische Universität Wien'], ['60018163'])]\n",
      "None\n",
      "('Lee, Jehyun', '16029235100', ['Seoul National University'], ['60013682'])\n",
      "('Lee, Jehyun', '16029235100', ['Technische Universität Wien'], ['60018163'])\n",
      "[('Brombacher, C.', '24066478900', ['Technische Universität Chemnitz'], ['60008069']), ('Grobis, M.', '6506408315', ['Hitachi Global Storage Technologies'], ['60028078']), ('Lee, J.', '16029235100', ['Technische Universität Wien'], ['60018163']), ('Fidler, J.', '35601590600', ['Technische Universität Wien'], ['60018163']), ('Eriksson, T.', '36141028000', ['Obducat AB'], ['60114794']), ('Werner, T.', '7103151389', ['Fraunhofer Institute for Electronic Nano Systems ENAS'], ['60107761']), ('Hellwig, O.', '6604057145', ['Hitachi Global Storage Technologies'], ['60028078']), ('Albrecht, M.', '57203106416', ['Technische Universität Chemnitz'], ['60008069'])]\n",
      "None\n",
      "[('Suess, D.', '7004076065', ['Technische Universität Wien'], ['60018163']), ('Breth, L.', '38861248700', ['Technische Universität Wien'], ['60018163']), ('Lee, J.', '16029235100', ['Technische Universität Wien'], ['60018163']), ('Fuger, M.', '35725437900', ['Technische Universität Wien'], ['60018163']), ('Vogler, C.', '42762642500', ['Technische Universität Wien'], ['60018163']), ('Bruckner, F.', '44561022400', ['Technische Universität Wien'], ['60018163']), ('Bergmair, B.', '42760985600', ['Technische Universität Wien'], ['60018163']), ('Huber, T.', '57196961388', ['Technische Universität Wien'], ['60018163']), ('Fidler, J.', '35601590600', ['Technische Universität Wien'], ['60018163']), ('Schrefl, T.', '7005780657', ['University of Applied Sciences'], ['101272458'])]\n",
      "None\n",
      "('Lee, Jehyun', '16029235100', ['Technische Universität Wien'], ['60018163'])\n",
      "('Lee, Jehyun', '16029235100', ['Technische Universität Wien'], ['60018163'])\n",
      "('Lee, Jehyun', '16029235100', ['Technische Universität Wien'], ['60018163'])\n",
      "[('Schulze, C.', '35181915100', ['Technische Universität Chemnitz'], ['60008069']), ('Faustini, M.', '57196395997', ['Laboratoire de Chimie de la Matière Condensée de Paris'], ['60158061']), ('Lee, J.', '24399437900', ['Technische Universität Wien'], ['60018163']), ('Schletter, H.', '36675826300', ['Technische Universität Chemnitz'], ['60008069']), ('Lutz, M. U.', '35085326500', ['Leibniz-Institut für Festkörper- und Werkstoffforschung Dresden'], ['60007746']), ('Krone, P.', '35111493300', ['Technische Universität Chemnitz'], ['60008069']), ('Gass, M.', '24398847400', ['Daresbury Laboratory'], ['60004762']), ('Sader, K.', '24471790400', ['Daresbury Laboratory', 'MRC National Institute for Medical Research'], ['60004762', '60023477']), ('Bleloch, A. L.', '57205304389', ['Daresbury Laboratory'], ['60004762']), ('Hietschold, M.', '7003853804', ['Technische Universität Chemnitz'], ['60008069']), ('Fuger, M.', '35725437900', ['Technische Universität Wien'], ['60018163']), ('Suess, D.', '7004076065', ['Technische Universität Wien'], ['60018163']), ('Fidler, J.', '35601590600', ['Technische Universität Wien'], ['60018163']), ('Wolff, U.', '8101588800', ['Leibniz-Institut für Festkörper- und Werkstoffforschung Dresden'], ['60007746']), ('Neu, V.', '6701391076', ['Leibniz-Institut für Festkörper- und Werkstoffforschung Dresden'], ['60007746']), ('Grosso, D.', '7006592741', ['Laboratoire de Chimie de la Matière Condensée de Paris'], ['60158061']), ('Makarov, D.', '12647134800', ['Technische Universität Chemnitz', 'Leibniz-Institut für Festkörper- und Werkstoffforschung Dresden'], ['60008069', '60007746']), ('Albrecht, M.', '57203106416', ['Technische Universität Chemnitz'], ['60008069'])]\n",
      "None\n",
      "[('Schratzberger, J.', '36464221600', ['Technische Universität Wien'], ['60018163']), ('Lee, J.', '16029235100', ['Technische Universität Wien'], ['60018163']), ('Fuger, M.', '35725437900', ['Technische Universität Wien'], ['60018163']), ('Fidler, J.', '35601590600', ['Technische Universität Wien'], ['60018163']), ('Fiedler, G.', '15829081900', ['Technische Universität Wien'], ['60018163']), ('Schrefl, T.', '7005780657', ['University of Applied Sciences'], ['107108709']), ('Suess, D.', '7004076065', ['Technische Universität Wien'], ['60018163'])]\n",
      "None\n",
      "('Lee, Jehyun', '16029235100', ['Technische Universität Wien'], ['60018163'])\n",
      "[('Punz, D.', '57224429801', ['Technische Universität Wien'], ['60018163']), ('Lee, J.', '16029235100', ['Technische Universität Wien'], ['60018163']), ('Fuger, M.', '35725437900', ['Technische Universität Wien'], ['60018163']), ('Fidler, J.', '35601590600', ['Technische Universität Wien'], ['60018163']), ('Schrefl, T.', '7005780657', ['University of Applied Science'], ['105676637']), ('Suess, D.', '7004076065', ['Technische Universität Wien'], ['60018163'])]\n",
      "None\n",
      "('Lee, Jehyun', '16029235100', ['Technische Universität Wien'], ['60018163'])\n",
      "[('Sun, Cheng Jun', '16643535900', ['Western Digital', 'The Advanced Photon Source'], ['60014444', '60005498']), ('Stafford, Donald', '7102888848', ['Western Digital'], ['60014444']), ('Acharya, Ramamurthy', '36118669800', ['Western Digital'], ['60014444'])]\n",
      "None\n",
      "('Lee, Jehyun', '16029235100', ['Technische Universität Wien'], ['60018163'])\n",
      "('Lee, Jehyun', '16029235100', ['Technische Universität Wien'], ['60018163'])\n",
      "[('Winkler, G.', '7102271271', ['Technische Universität Wien'], ['60018163']), ('Suess, D.', '7004076065', ['Technische Universität Wien'], ['60018163']), ('Lee, J.', '16029235100', ['Technische Universität Wien'], ['60018163']), ('Fidler, J.', '35601590600', ['Technische Universität Wien'], ['60018163']), ('Bashir, M. A.', '24070129800', ['The University of Sheffield'], ['60001881']), ('Dean, J.', '23017937800', ['The University of Sheffield'], ['60001881']), ('Goncharov, A.', '56394838800', ['The University of Sheffield'], ['60001881']), ('Hrkac, G.', '9732912400', ['The University of Sheffield'], ['60001881']), ('Bance, S.', '16240890600', ['The University of Sheffield'], ['60001881']), ('Schrefl, T.', '7005780657', ['St. Poelten University of Applied Sciences'], ['106020258'])]\n",
      "None\n",
      "[('Suess, D.', '7004076065', ['Technische Universität Wien'], ['60018163']), ('Lee, J.', '16029235100', ['Technische Universität Wien'], ['60018163']), ('Fidler, J.', '35601590600', ['Western Digital'], ['60014444']), ('Jung, H. S.', '56301377700', ['Western Digital'], ['60014444']), ('Velu, E. M.T.', '7003526325', ['Western Digital'], ['60014444']), ('Jiang, W.', '16019702200', ['Western Digital'], ['60014444']), ('Malhotra, S. S.', '7202518582', ['Western Digital'], ['60014444']), ('Bertero, G.', '7003394095', ['Western Digital'], ['60014444']), ('Schrefl, T.', '7005780657', ['The University of Sheffield'], ['60001881'])]\n",
      "None\n",
      "('Lee, Jehyun', '16029235100', ['Seoul National University'], ['60013682'])\n",
      "('Lee, Jehyun', '16029235100', ['Technische Universität Wien'], ['60018163'])\n",
      "('Lee, Jehyun', '16029235100', ['Seoul National University', 'Technische Universität Wien'], ['60013682', '60018163'])\n",
      "[('Li, Z. W.', '57171368200', ['Lanzhou University'], ['60028265']), ('Jiao, J. Y.', '57149966200', ['Lanzhou University'], ['60028265']), ('Luo, Z.', '57205441031', ['Lanzhou University'], ['60028265']), ('Ma, T. Y.', '57085738400', ['Lanzhou University'], ['60028265']), ('Qiao, L.', '57210589201', ['Lanzhou University'], ['60028265']), ('Wang, Y.', '57196746669', ['Lanzhou University'], ['60028265']), ('Wang, T.', '56351561000', ['Lanzhou University'], ['60028265']), ('Li, F. S.', '21741072200', ['Lanzhou University'], ['60028265'])]\n",
      "None\n",
      "('Lee, Jehyun', '16029235100', ['Seoul National University', 'Technische Universität Wien'], ['60013682', '60018163'])\n",
      "[('Park, D. H.', '35118002300', ['Korea University'], ['60005273']), ('Lee, Y. B.', '22935000900', ['Korea University'], ['60005273']), ('Cho, M. Y.', '15064969300', ['Korea University'], ['60005273']), ('Kim, B. H.', '55502652800', ['Korea University'], ['60005273']), ('Lee, S. H.', '54897359300', ['Korea University'], ['60005273']), ('Hong, Y. K.', '7403392744', ['Korea University'], ['60005273']), ('Joo, J.', '18634105700', ['Korea University'], ['60005273']), ('Cheong, H. C.', '36721142600', ['Korea University'], ['60005273']), ('Lee, S. R.', '20734716400', ['Korea University'], ['60005273'])]\n",
      "None\n",
      "('Lee, Jehyun', '16029235100', ['Seoul National University', 'Technische Universität Wien'], ['60013682', '60018163'])\n",
      "[('Suess, D.', '7004076065', ['Technische Universität Wien'], ['60018163']), ('Eder, S.', '36188006300', ['Technische Universität Wien'], ['60018163']), ('Lee, J.', '16029235100', ['Technische Universität Wien'], ['60018163']), ('Dittrich, R.', '7006041174', ['Technische Universität Wien'], ['60018163']), ('Fidler, J.', '35601590600', ['Technische Universität Wien'], ['60018163']), ('Harrell, J. W.', '7102048507', ['The University of Alabama'], ['60025371']), ('Schrefl, T.', '7005780657', ['The University of Sheffield'], ['60001881']), ('Hrkac, G.', '9732912400', ['The University of Sheffield'], ['60001881']), ('Schabes, M.', '6701776854', ['Hitachi Global Storage Technologies'], ['60028078']), ('Supper, N.', '56614330000', ['Hitachi Global Storage Technologies'], ['60028078']), ('Berger, A.', '7402970520', ['Hitachi Global Storage Technologies'], ['60028078'])]\n",
      "None\n",
      "[('Jehyun, Lee', '15834698800', ['Technische Universität Wien', 'Seoul National University'], ['60018163', '60013682']), ('Suess, Dieter', '7004076065', ['Technische Universität Wien'], ['60018163']), ('Schrefl, Thomas', '7005780657', ['The University of Sheffield'], ['60001881']), ('Kyu, Hwan Oh', '6602521869', ['Seoul National University'], ['60013682']), ('Fidler, Josef', '35601590600', ['Technische Universität Wien'], ['60018163'])]\n",
      "None\n",
      "[('Jang, S. H.', '24821314300', ['Seoul National University'], ['60013682']), ('Kim, Y. W.', '8099600200', ['Seoul National University'], ['60013682']), ('Lee, J. H.', '7601451606', ['Seoul National University'], ['60013682']), ('Kim, K. Y.', '57203256286', ['Korea Institute of Science and Technology'], ['60025960'])]\n",
      "None\n",
      "('Lee, Jehyun', '16029235100', ['Seoul National University'], ['60013682'])\n",
      "[('Jang, S. H.', '24821314300', ['Seoul National University'], ['60013682']), ('Kang, T.', '8953533300', ['Seoul National University'], ['60013682']), ('Lee, J. H.', '7601462370', ['Korea Institute of Science and Technology'], ['60025960']), ('Kim, K. Y.', '57203256286', ['Korea Institute of Science and Technology'], ['60025960'])]\n",
      "None\n",
      "[('Kim, Dal Young', '7409765949', ['Korea Institute of Science and Technology'], ['60025960']), ('Kim, Jin Soo', '55881881500', ['Konkuk University'], ['60000142']), ('Park, Bae Ho', '7402834739', ['Konkuk University'], ['60000142']), ('Lee, Jeon Kook', '56524680100', ['Korea Institute of Science and Technology'], ['60025960']), ('Kim, Jang Hee', '37106931200', ['Korea Institute of Science and Technology'], ['60025960']), ('Lee, Je Hyun', '16029235100', ['Korea Institute of Science and Technology'], ['60025960']), ('Chang, Joonyeon', '57203369778', ['Korea Institute of Science and Technology'], ['60025960']), ('Kim, Hi Jung', '57191720425', ['Korea Institute of Science and Technology'], ['60025960']), ('Kim, Inyoung', '7404144290', ['Hanyang University'], ['60024872']), ('Park, Yun D.', '8081614600', ['Seoul National University'], ['60013682'])]\n",
      "None\n"
     ]
    }
   ],
   "source": [
    "afs_all = {}\n",
    "my_data_all = []\n",
    "\n",
    "for doi in df_CV[\"DOI\"].values:\n",
    "    my_data = get_my_data(doi)\n",
    "    print(my_data)\n",
    "    my_data_all.append(my_data)"
   ]
  },
  {
   "cell_type": "code",
   "execution_count": 8,
   "metadata": {},
   "outputs": [
    {
     "data": {
      "text/html": [
       "<div>\n",
       "<style scoped>\n",
       "    .dataframe tbody tr th:only-of-type {\n",
       "        vertical-align: middle;\n",
       "    }\n",
       "\n",
       "    .dataframe tbody tr th {\n",
       "        vertical-align: top;\n",
       "    }\n",
       "\n",
       "    .dataframe thead th {\n",
       "        text-align: right;\n",
       "    }\n",
       "</style>\n",
       "<table border=\"1\" class=\"dataframe\">\n",
       "  <thead>\n",
       "    <tr style=\"text-align: right;\">\n",
       "      <th></th>\n",
       "      <th>0</th>\n",
       "      <th>1</th>\n",
       "      <th>2</th>\n",
       "      <th>3</th>\n",
       "    </tr>\n",
       "  </thead>\n",
       "  <tbody>\n",
       "    <tr>\n",
       "      <th>0</th>\n",
       "      <td>Lee, Jehyun</td>\n",
       "      <td>55969873500</td>\n",
       "      <td>[Korea Institute of Energy Research]</td>\n",
       "      <td>[60087822]</td>\n",
       "    </tr>\n",
       "    <tr>\n",
       "      <th>1</th>\n",
       "      <td>Lee, Jehyun</td>\n",
       "      <td>55969873500</td>\n",
       "      <td>[Korea Institute of Energy Research]</td>\n",
       "      <td>[60087822]</td>\n",
       "    </tr>\n",
       "    <tr>\n",
       "      <th>2</th>\n",
       "      <td>Lee, Jehyun</td>\n",
       "      <td>16029235100</td>\n",
       "      <td>[Seoul National University, Center of Semicond...</td>\n",
       "      <td>[60013682, 111165432]</td>\n",
       "    </tr>\n",
       "    <tr>\n",
       "      <th>3</th>\n",
       "      <td>Lee, Jehyun</td>\n",
       "      <td>16029235100</td>\n",
       "      <td>[Seoul National University, Center of Semicond...</td>\n",
       "      <td>[60013682, 115225850]</td>\n",
       "    </tr>\n",
       "    <tr>\n",
       "      <th>4</th>\n",
       "      <td>Lee, Jehyun</td>\n",
       "      <td>16029235100</td>\n",
       "      <td>[National Creative Research Initiative Center ...</td>\n",
       "      <td>[107172817, 115225850]</td>\n",
       "    </tr>\n",
       "    <tr>\n",
       "      <th>5</th>\n",
       "      <td>Lee, Jehyun</td>\n",
       "      <td>16029235100</td>\n",
       "      <td>[Seoul National University]</td>\n",
       "      <td>[60013682]</td>\n",
       "    </tr>\n",
       "    <tr>\n",
       "      <th>6</th>\n",
       "      <td>Lee, Jehyun</td>\n",
       "      <td>16029235100</td>\n",
       "      <td>[Seoul National University]</td>\n",
       "      <td>[60013682]</td>\n",
       "    </tr>\n",
       "    <tr>\n",
       "      <th>7</th>\n",
       "      <td>Lee, Jehyun</td>\n",
       "      <td>16029235100</td>\n",
       "      <td>[Technische Universität Wien, Samsung Group]</td>\n",
       "      <td>[60018163, 60010484]</td>\n",
       "    </tr>\n",
       "    <tr>\n",
       "      <th>8</th>\n",
       "      <td>Lee, Jehyun</td>\n",
       "      <td>16029235100</td>\n",
       "      <td>[Seoul National University]</td>\n",
       "      <td>[60013682]</td>\n",
       "    </tr>\n",
       "    <tr>\n",
       "      <th>9</th>\n",
       "      <td>None</td>\n",
       "      <td>None</td>\n",
       "      <td>None</td>\n",
       "      <td>None</td>\n",
       "    </tr>\n",
       "    <tr>\n",
       "      <th>10</th>\n",
       "      <td>Lee, Jehyun</td>\n",
       "      <td>16029235100</td>\n",
       "      <td>[Seoul National University]</td>\n",
       "      <td>[60013682]</td>\n",
       "    </tr>\n",
       "    <tr>\n",
       "      <th>11</th>\n",
       "      <td>Lee, Jehyun</td>\n",
       "      <td>16029235100</td>\n",
       "      <td>[Technische Universität Wien, Samsung Group]</td>\n",
       "      <td>[60018163, 60010484]</td>\n",
       "    </tr>\n",
       "    <tr>\n",
       "      <th>12</th>\n",
       "      <td>Lee, Jehyun</td>\n",
       "      <td>16029235100</td>\n",
       "      <td>[Samsung Group]</td>\n",
       "      <td>[60010484]</td>\n",
       "    </tr>\n",
       "    <tr>\n",
       "      <th>13</th>\n",
       "      <td>None</td>\n",
       "      <td>None</td>\n",
       "      <td>None</td>\n",
       "      <td>None</td>\n",
       "    </tr>\n",
       "    <tr>\n",
       "      <th>14</th>\n",
       "      <td>Lee, Jehyun</td>\n",
       "      <td>16029235100</td>\n",
       "      <td>[Seoul National University]</td>\n",
       "      <td>[60013682]</td>\n",
       "    </tr>\n",
       "    <tr>\n",
       "      <th>15</th>\n",
       "      <td>Lee, Jehyun</td>\n",
       "      <td>16029235100</td>\n",
       "      <td>[Technische Universität Wien]</td>\n",
       "      <td>[60018163]</td>\n",
       "    </tr>\n",
       "    <tr>\n",
       "      <th>16</th>\n",
       "      <td>None</td>\n",
       "      <td>None</td>\n",
       "      <td>None</td>\n",
       "      <td>None</td>\n",
       "    </tr>\n",
       "    <tr>\n",
       "      <th>17</th>\n",
       "      <td>None</td>\n",
       "      <td>None</td>\n",
       "      <td>None</td>\n",
       "      <td>None</td>\n",
       "    </tr>\n",
       "    <tr>\n",
       "      <th>18</th>\n",
       "      <td>Lee, Jehyun</td>\n",
       "      <td>16029235100</td>\n",
       "      <td>[Technische Universität Wien]</td>\n",
       "      <td>[60018163]</td>\n",
       "    </tr>\n",
       "    <tr>\n",
       "      <th>19</th>\n",
       "      <td>Lee, Jehyun</td>\n",
       "      <td>16029235100</td>\n",
       "      <td>[Technische Universität Wien]</td>\n",
       "      <td>[60018163]</td>\n",
       "    </tr>\n",
       "    <tr>\n",
       "      <th>20</th>\n",
       "      <td>Lee, Jehyun</td>\n",
       "      <td>16029235100</td>\n",
       "      <td>[Technische Universität Wien]</td>\n",
       "      <td>[60018163]</td>\n",
       "    </tr>\n",
       "    <tr>\n",
       "      <th>21</th>\n",
       "      <td>None</td>\n",
       "      <td>None</td>\n",
       "      <td>None</td>\n",
       "      <td>None</td>\n",
       "    </tr>\n",
       "    <tr>\n",
       "      <th>22</th>\n",
       "      <td>None</td>\n",
       "      <td>None</td>\n",
       "      <td>None</td>\n",
       "      <td>None</td>\n",
       "    </tr>\n",
       "    <tr>\n",
       "      <th>23</th>\n",
       "      <td>Lee, Jehyun</td>\n",
       "      <td>16029235100</td>\n",
       "      <td>[Technische Universität Wien]</td>\n",
       "      <td>[60018163]</td>\n",
       "    </tr>\n",
       "    <tr>\n",
       "      <th>24</th>\n",
       "      <td>None</td>\n",
       "      <td>None</td>\n",
       "      <td>None</td>\n",
       "      <td>None</td>\n",
       "    </tr>\n",
       "    <tr>\n",
       "      <th>25</th>\n",
       "      <td>Lee, Jehyun</td>\n",
       "      <td>16029235100</td>\n",
       "      <td>[Technische Universität Wien]</td>\n",
       "      <td>[60018163]</td>\n",
       "    </tr>\n",
       "    <tr>\n",
       "      <th>26</th>\n",
       "      <td>None</td>\n",
       "      <td>None</td>\n",
       "      <td>None</td>\n",
       "      <td>None</td>\n",
       "    </tr>\n",
       "    <tr>\n",
       "      <th>27</th>\n",
       "      <td>Lee, Jehyun</td>\n",
       "      <td>16029235100</td>\n",
       "      <td>[Technische Universität Wien]</td>\n",
       "      <td>[60018163]</td>\n",
       "    </tr>\n",
       "    <tr>\n",
       "      <th>28</th>\n",
       "      <td>Lee, Jehyun</td>\n",
       "      <td>16029235100</td>\n",
       "      <td>[Technische Universität Wien]</td>\n",
       "      <td>[60018163]</td>\n",
       "    </tr>\n",
       "    <tr>\n",
       "      <th>29</th>\n",
       "      <td>None</td>\n",
       "      <td>None</td>\n",
       "      <td>None</td>\n",
       "      <td>None</td>\n",
       "    </tr>\n",
       "    <tr>\n",
       "      <th>30</th>\n",
       "      <td>None</td>\n",
       "      <td>None</td>\n",
       "      <td>None</td>\n",
       "      <td>None</td>\n",
       "    </tr>\n",
       "    <tr>\n",
       "      <th>31</th>\n",
       "      <td>Lee, Jehyun</td>\n",
       "      <td>16029235100</td>\n",
       "      <td>[Seoul National University]</td>\n",
       "      <td>[60013682]</td>\n",
       "    </tr>\n",
       "    <tr>\n",
       "      <th>32</th>\n",
       "      <td>Lee, Jehyun</td>\n",
       "      <td>16029235100</td>\n",
       "      <td>[Technische Universität Wien]</td>\n",
       "      <td>[60018163]</td>\n",
       "    </tr>\n",
       "    <tr>\n",
       "      <th>33</th>\n",
       "      <td>Lee, Jehyun</td>\n",
       "      <td>16029235100</td>\n",
       "      <td>[Seoul National University, Technische Univers...</td>\n",
       "      <td>[60013682, 60018163]</td>\n",
       "    </tr>\n",
       "    <tr>\n",
       "      <th>34</th>\n",
       "      <td>None</td>\n",
       "      <td>None</td>\n",
       "      <td>None</td>\n",
       "      <td>None</td>\n",
       "    </tr>\n",
       "    <tr>\n",
       "      <th>35</th>\n",
       "      <td>Lee, Jehyun</td>\n",
       "      <td>16029235100</td>\n",
       "      <td>[Seoul National University, Technische Univers...</td>\n",
       "      <td>[60013682, 60018163]</td>\n",
       "    </tr>\n",
       "    <tr>\n",
       "      <th>36</th>\n",
       "      <td>None</td>\n",
       "      <td>None</td>\n",
       "      <td>None</td>\n",
       "      <td>None</td>\n",
       "    </tr>\n",
       "    <tr>\n",
       "      <th>37</th>\n",
       "      <td>Lee, Jehyun</td>\n",
       "      <td>16029235100</td>\n",
       "      <td>[Seoul National University, Technische Univers...</td>\n",
       "      <td>[60013682, 60018163]</td>\n",
       "    </tr>\n",
       "    <tr>\n",
       "      <th>38</th>\n",
       "      <td>None</td>\n",
       "      <td>None</td>\n",
       "      <td>None</td>\n",
       "      <td>None</td>\n",
       "    </tr>\n",
       "    <tr>\n",
       "      <th>39</th>\n",
       "      <td>None</td>\n",
       "      <td>None</td>\n",
       "      <td>None</td>\n",
       "      <td>None</td>\n",
       "    </tr>\n",
       "    <tr>\n",
       "      <th>40</th>\n",
       "      <td>None</td>\n",
       "      <td>None</td>\n",
       "      <td>None</td>\n",
       "      <td>None</td>\n",
       "    </tr>\n",
       "    <tr>\n",
       "      <th>41</th>\n",
       "      <td>Lee, Jehyun</td>\n",
       "      <td>16029235100</td>\n",
       "      <td>[Seoul National University]</td>\n",
       "      <td>[60013682]</td>\n",
       "    </tr>\n",
       "    <tr>\n",
       "      <th>42</th>\n",
       "      <td>None</td>\n",
       "      <td>None</td>\n",
       "      <td>None</td>\n",
       "      <td>None</td>\n",
       "    </tr>\n",
       "    <tr>\n",
       "      <th>43</th>\n",
       "      <td>None</td>\n",
       "      <td>None</td>\n",
       "      <td>None</td>\n",
       "      <td>None</td>\n",
       "    </tr>\n",
       "  </tbody>\n",
       "</table>\n",
       "</div>"
      ],
      "text/plain": [
       "              0            1  \\\n",
       "0   Lee, Jehyun  55969873500   \n",
       "1   Lee, Jehyun  55969873500   \n",
       "2   Lee, Jehyun  16029235100   \n",
       "3   Lee, Jehyun  16029235100   \n",
       "4   Lee, Jehyun  16029235100   \n",
       "5   Lee, Jehyun  16029235100   \n",
       "6   Lee, Jehyun  16029235100   \n",
       "7   Lee, Jehyun  16029235100   \n",
       "8   Lee, Jehyun  16029235100   \n",
       "9          None         None   \n",
       "10  Lee, Jehyun  16029235100   \n",
       "11  Lee, Jehyun  16029235100   \n",
       "12  Lee, Jehyun  16029235100   \n",
       "13         None         None   \n",
       "14  Lee, Jehyun  16029235100   \n",
       "15  Lee, Jehyun  16029235100   \n",
       "16         None         None   \n",
       "17         None         None   \n",
       "18  Lee, Jehyun  16029235100   \n",
       "19  Lee, Jehyun  16029235100   \n",
       "20  Lee, Jehyun  16029235100   \n",
       "21         None         None   \n",
       "22         None         None   \n",
       "23  Lee, Jehyun  16029235100   \n",
       "24         None         None   \n",
       "25  Lee, Jehyun  16029235100   \n",
       "26         None         None   \n",
       "27  Lee, Jehyun  16029235100   \n",
       "28  Lee, Jehyun  16029235100   \n",
       "29         None         None   \n",
       "30         None         None   \n",
       "31  Lee, Jehyun  16029235100   \n",
       "32  Lee, Jehyun  16029235100   \n",
       "33  Lee, Jehyun  16029235100   \n",
       "34         None         None   \n",
       "35  Lee, Jehyun  16029235100   \n",
       "36         None         None   \n",
       "37  Lee, Jehyun  16029235100   \n",
       "38         None         None   \n",
       "39         None         None   \n",
       "40         None         None   \n",
       "41  Lee, Jehyun  16029235100   \n",
       "42         None         None   \n",
       "43         None         None   \n",
       "\n",
       "                                                    2                       3  \n",
       "0                [Korea Institute of Energy Research]              [60087822]  \n",
       "1                [Korea Institute of Energy Research]              [60087822]  \n",
       "2   [Seoul National University, Center of Semicond...   [60013682, 111165432]  \n",
       "3   [Seoul National University, Center of Semicond...   [60013682, 115225850]  \n",
       "4   [National Creative Research Initiative Center ...  [107172817, 115225850]  \n",
       "5                         [Seoul National University]              [60013682]  \n",
       "6                         [Seoul National University]              [60013682]  \n",
       "7        [Technische Universität Wien, Samsung Group]    [60018163, 60010484]  \n",
       "8                         [Seoul National University]              [60013682]  \n",
       "9                                                None                    None  \n",
       "10                        [Seoul National University]              [60013682]  \n",
       "11       [Technische Universität Wien, Samsung Group]    [60018163, 60010484]  \n",
       "12                                    [Samsung Group]              [60010484]  \n",
       "13                                               None                    None  \n",
       "14                        [Seoul National University]              [60013682]  \n",
       "15                      [Technische Universität Wien]              [60018163]  \n",
       "16                                               None                    None  \n",
       "17                                               None                    None  \n",
       "18                      [Technische Universität Wien]              [60018163]  \n",
       "19                      [Technische Universität Wien]              [60018163]  \n",
       "20                      [Technische Universität Wien]              [60018163]  \n",
       "21                                               None                    None  \n",
       "22                                               None                    None  \n",
       "23                      [Technische Universität Wien]              [60018163]  \n",
       "24                                               None                    None  \n",
       "25                      [Technische Universität Wien]              [60018163]  \n",
       "26                                               None                    None  \n",
       "27                      [Technische Universität Wien]              [60018163]  \n",
       "28                      [Technische Universität Wien]              [60018163]  \n",
       "29                                               None                    None  \n",
       "30                                               None                    None  \n",
       "31                        [Seoul National University]              [60013682]  \n",
       "32                      [Technische Universität Wien]              [60018163]  \n",
       "33  [Seoul National University, Technische Univers...    [60013682, 60018163]  \n",
       "34                                               None                    None  \n",
       "35  [Seoul National University, Technische Univers...    [60013682, 60018163]  \n",
       "36                                               None                    None  \n",
       "37  [Seoul National University, Technische Univers...    [60013682, 60018163]  \n",
       "38                                               None                    None  \n",
       "39                                               None                    None  \n",
       "40                                               None                    None  \n",
       "41                        [Seoul National University]              [60013682]  \n",
       "42                                               None                    None  \n",
       "43                                               None                    None  "
      ]
     },
     "execution_count": 8,
     "metadata": {},
     "output_type": "execute_result"
    }
   ],
   "source": [
    "pd.DataFrame(my_data_all)"
   ]
  },
  {
   "cell_type": "code",
   "execution_count": 112,
   "metadata": {},
   "outputs": [
    {
     "name": "stdout",
     "output_type": "stream",
     "text": [
      "10.1038/srep12659\n"
     ]
    },
    {
     "ename": "AttributeError",
     "evalue": "'NoneType' object has no attribute 'split'",
     "output_type": "error",
     "traceback": [
      "\u001b[0;31m---------------------------------------------------------------------------\u001b[0m",
      "\u001b[0;31mAttributeError\u001b[0m                            Traceback (most recent call last)",
      "\u001b[0;32m<ipython-input-112-fa094fe39304>\u001b[0m in \u001b[0;36m<module>\u001b[0;34m\u001b[0m\n\u001b[1;32m      4\u001b[0m \u001b[0;31m### Affiliation\u001b[0m\u001b[0;34m\u001b[0m\u001b[0;34m\u001b[0m\u001b[0;34m\u001b[0m\u001b[0m\n\u001b[1;32m      5\u001b[0m \u001b[0;31m# Affiliation ID\u001b[0m\u001b[0;34m\u001b[0m\u001b[0;34m\u001b[0m\u001b[0;34m\u001b[0m\u001b[0m\n\u001b[0;32m----> 6\u001b[0;31m \u001b[0mafids\u001b[0m \u001b[0;34m=\u001b[0m \u001b[0mnp\u001b[0m\u001b[0;34m.\u001b[0m\u001b[0marray\u001b[0m\u001b[0;34m(\u001b[0m\u001b[0ms\u001b[0m\u001b[0;34m.\u001b[0m\u001b[0mafid\u001b[0m\u001b[0;34m.\u001b[0m\u001b[0msplit\u001b[0m\u001b[0;34m(\u001b[0m\u001b[0;34m\";\"\u001b[0m\u001b[0;34m)\u001b[0m\u001b[0;34m)\u001b[0m\u001b[0;34m\u001b[0m\u001b[0;34m\u001b[0m\u001b[0m\n\u001b[0m\u001b[1;32m      7\u001b[0m \u001b[0;31m# Affiliation name\u001b[0m\u001b[0;34m\u001b[0m\u001b[0;34m\u001b[0m\u001b[0;34m\u001b[0m\u001b[0m\n\u001b[1;32m      8\u001b[0m \u001b[0mafnames\u001b[0m \u001b[0;34m=\u001b[0m \u001b[0mnp\u001b[0m\u001b[0;34m.\u001b[0m\u001b[0marray\u001b[0m\u001b[0;34m(\u001b[0m\u001b[0ms\u001b[0m\u001b[0;34m.\u001b[0m\u001b[0maffilname\u001b[0m\u001b[0;34m.\u001b[0m\u001b[0msplit\u001b[0m\u001b[0;34m(\u001b[0m\u001b[0;34m\";\"\u001b[0m\u001b[0;34m)\u001b[0m\u001b[0;34m)\u001b[0m\u001b[0;34m\u001b[0m\u001b[0;34m\u001b[0m\u001b[0m\n",
      "\u001b[0;31mAttributeError\u001b[0m: 'NoneType' object has no attribute 'split'"
     ]
    }
   ],
   "source": [
    "print(doi)\n",
    "s = ScopusSearch(f\"DOI ({doi})\").results[0]\n",
    "    \n",
    "### Affiliation\n",
    "# Affiliation ID\n",
    "afids = np.array(s.afid.split(\";\"))    \n",
    "# Affiliation name\n",
    "afnames = np.array(s.affilname.split(\";\"))\n",
    "# Affiliations\n",
    "afs = dict(zip(afids, afnames))\n",
    "print(afs)\n",
    "afs_all.update(afs)\n",
    "\n",
    "### Author\n",
    "# Author names\n",
    "author_names = np.array(s.author_names.split(\";\"))\n",
    "print(author_names)\n",
    "# Author ID\n",
    "author_ids = np.array(s.author_ids.split(\";\"))\n",
    "\n",
    "# Author Affiliation ID\n",
    "author_afids = [a.split(\"-\") for a in np.array(s.author_afids.split(\";\"))]\n",
    "# Authors\n",
    "authors = list(zip(author_names, author_ids, [afs[af] if isinstance(af, str) else [afs[af_] for af_ in af] for af in author_afids], author_afids))\n",
    "try:\n",
    "    my_idx = np.where(my_name == author_names)[0][0]\n",
    "    my_data = authors[my_idx]\n",
    "    return my_data\n",
    "except:\n",
    "    print(authors)"
   ]
  },
  {
   "cell_type": "code",
   "execution_count": 118,
   "metadata": {},
   "outputs": [
    {
     "data": {
      "text/plain": [
       "'10.1038/srep12659'"
      ]
     },
     "execution_count": 118,
     "metadata": {},
     "output_type": "execute_result"
    }
   ],
   "source": [
    "doi"
   ]
  },
  {
   "cell_type": "code",
   "execution_count": 115,
   "metadata": {},
   "outputs": [
    {
     "data": {
      "text/plain": [
       "['__add__',\n",
       " '__class__',\n",
       " '__contains__',\n",
       " '__delattr__',\n",
       " '__dir__',\n",
       " '__doc__',\n",
       " '__eq__',\n",
       " '__format__',\n",
       " '__ge__',\n",
       " '__getattribute__',\n",
       " '__getitem__',\n",
       " '__getnewargs__',\n",
       " '__gt__',\n",
       " '__hash__',\n",
       " '__init__',\n",
       " '__init_subclass__',\n",
       " '__iter__',\n",
       " '__le__',\n",
       " '__len__',\n",
       " '__lt__',\n",
       " '__module__',\n",
       " '__mul__',\n",
       " '__ne__',\n",
       " '__new__',\n",
       " '__reduce__',\n",
       " '__reduce_ex__',\n",
       " '__repr__',\n",
       " '__rmul__',\n",
       " '__setattr__',\n",
       " '__sizeof__',\n",
       " '__slots__',\n",
       " '__str__',\n",
       " '__subclasshook__',\n",
       " '_asdict',\n",
       " '_field_defaults',\n",
       " '_fields',\n",
       " '_fields_defaults',\n",
       " '_make',\n",
       " '_replace',\n",
       " 'affiliation_city',\n",
       " 'affiliation_country',\n",
       " 'affilname',\n",
       " 'afid',\n",
       " 'aggregationType',\n",
       " 'article_number',\n",
       " 'authkeywords',\n",
       " 'author_afids',\n",
       " 'author_count',\n",
       " 'author_ids',\n",
       " 'author_names',\n",
       " 'citedby_count',\n",
       " 'count',\n",
       " 'coverDate',\n",
       " 'coverDisplayDate',\n",
       " 'creator',\n",
       " 'description',\n",
       " 'doi',\n",
       " 'eIssn',\n",
       " 'eid',\n",
       " 'fund_acr',\n",
       " 'fund_no',\n",
       " 'fund_sponsor',\n",
       " 'index',\n",
       " 'issn',\n",
       " 'issueIdentifier',\n",
       " 'openaccess',\n",
       " 'pageRange',\n",
       " 'pii',\n",
       " 'publicationName',\n",
       " 'pubmed_id',\n",
       " 'source_id',\n",
       " 'subtype',\n",
       " 'subtypeDescription',\n",
       " 'title',\n",
       " 'volume']"
      ]
     },
     "execution_count": 115,
     "metadata": {},
     "output_type": "execute_result"
    }
   ],
   "source": [
    "dir(s)"
   ]
  },
  {
   "cell_type": "code",
   "execution_count": null,
   "metadata": {},
   "outputs": [],
   "source": []
  },
  {
   "cell_type": "code",
   "execution_count": 93,
   "metadata": {},
   "outputs": [
    {
     "data": {
      "text/plain": [
       "[['60013682'], ['60013682'], ['60087822'], ['60013682']]"
      ]
     },
     "execution_count": 93,
     "metadata": {},
     "output_type": "execute_result"
    }
   ],
   "source": [
    "author_afids"
   ]
  },
  {
   "cell_type": "code",
   "execution_count": 94,
   "metadata": {},
   "outputs": [
    {
     "data": {
      "text/plain": [
       "[('Park, Hyeon Kyu',\n",
       "  '57216558093',\n",
       "  ['Seoul National University'],\n",
       "  ['60013682']),\n",
       " ('Lee, Jae Hyeok',\n",
       "  '57206731799',\n",
       "  ['Seoul National University'],\n",
       "  ['60013682']),\n",
       " ('Lee, Jehyun',\n",
       "  '55969873500',\n",
       "  ['Korea Institute of Energy Research'],\n",
       "  ['60087822']),\n",
       " ('Kim, Sang Koog', '7601587994', ['Seoul National University'], ['60013682'])]"
      ]
     },
     "execution_count": 94,
     "metadata": {},
     "output_type": "execute_result"
    }
   ],
   "source": [
    "authors = list(zip(author_names, author_ids, [afs[af] if isinstance(af, str) else [afs[af_] for af_ in af] for af in author_afids], author_afids))\n",
    "authors"
   ]
  },
  {
   "cell_type": "code",
   "execution_count": 88,
   "metadata": {},
   "outputs": [
    {
     "name": "stderr",
     "output_type": "stream",
     "text": [
      "/opt/conda/lib/python3.7/site-packages/ipykernel_launcher.py:1: VisibleDeprecationWarning: Creating an ndarray from ragged nested sequences (which is a list-or-tuple of lists-or-tuples-or ndarrays with different lengths or shapes) is deprecated. If you meant to do this, you must specify 'dtype=object' when creating the ndarray\n",
      "  \"\"\"Entry point for launching an IPython kernel.\n"
     ]
    },
    {
     "data": {
      "text/plain": [
       "array([['Hong, Sung Jun', '57221590144', 'Yonsei University',\n",
       "        list(['60016912'])],\n",
       "       ['Chun, Hoje', '57195466596', 'Yonsei University',\n",
       "        list(['60016912'])],\n",
       "       ['Lee, Jehyun', '55969873500',\n",
       "        'Korea Institute of Energy Research', list(['60087822'])],\n",
       "       ['Kim, Byung Hyun', '55502655900',\n",
       "        'Korea Institute of Energy Research', list(['60087822'])],\n",
       "       ['Seo, Min Ho', '57220796436',\n",
       "        'Korea Institute of Energy Research', list(['60087822'])],\n",
       "       ['Kang, Joonhee', '56076915900',\n",
       "        'Korea Institute of Energy Research', list(['60087822'])],\n",
       "       ['Han, Byungchan', '10639592000', 'Yonsei University',\n",
       "        list(['60016912'])]], dtype=object)"
      ]
     },
     "execution_count": 88,
     "metadata": {},
     "output_type": "execute_result"
    }
   ],
   "source": [
    "authors = np.array(list(zip(author_names, author_ids, [afs[af[0]] for af in author_afids], author_afids))) \n",
    "authors"
   ]
  },
  {
   "cell_type": "code",
   "execution_count": null,
   "metadata": {},
   "outputs": [],
   "source": []
  },
  {
   "cell_type": "code",
   "execution_count": 67,
   "metadata": {},
   "outputs": [
    {
     "data": {
      "text/plain": [
       "[['60013682'],\n",
       " ['60013682'],\n",
       " ['60013682', '111165432'],\n",
       " ['60013682'],\n",
       " ['60013682']]"
      ]
     },
     "execution_count": 67,
     "metadata": {},
     "output_type": "execute_result"
    }
   ],
   "source": [
    "author_afids"
   ]
  },
  {
   "cell_type": "code",
   "execution_count": 68,
   "metadata": {},
   "outputs": [
    {
     "data": {
      "text/plain": [
       "array(['7601587994', '35738330300', '16029235100', '57206731799',\n",
       "       '57199746320'], dtype='<U11')"
      ]
     },
     "execution_count": 68,
     "metadata": {},
     "output_type": "execute_result"
    }
   ],
   "source": [
    "author_ids"
   ]
  },
  {
   "cell_type": "code",
   "execution_count": 69,
   "metadata": {},
   "outputs": [
    {
     "data": {
      "text/plain": [
       "array(['Kim, Sang Koog', 'Yoo, Myoung Woo', 'Lee, Jehyun',\n",
       "       'Lee, Jae Hyeok', 'Kim, Min Kwan'], dtype='<U15')"
      ]
     },
     "execution_count": 69,
     "metadata": {},
     "output_type": "execute_result"
    }
   ],
   "source": [
    "author_names"
   ]
  },
  {
   "cell_type": "code",
   "execution_count": 72,
   "metadata": {},
   "outputs": [
    {
     "data": {
      "text/plain": [
       "[('Kim, Sang Koog', '7601587994', ['60013682']),\n",
       " ('Yoo, Myoung Woo', '35738330300', ['60013682']),\n",
       " ('Lee, Jehyun', '16029235100', ['60013682', '111165432']),\n",
       " ('Lee, Jae Hyeok', '57206731799', ['60013682']),\n",
       " ('Kim, Min Kwan', '57199746320', ['60013682'])]"
      ]
     },
     "execution_count": 72,
     "metadata": {},
     "output_type": "execute_result"
    }
   ],
   "source": [
    "list(zip(author_names, author_ids, author_afids))"
   ]
  },
  {
   "cell_type": "code",
   "execution_count": 79,
   "metadata": {},
   "outputs": [
    {
     "data": {
      "text/plain": [
       "[('Kim, Sang Koog', '7601587994', ['Seoul National University'], ['60013682']),\n",
       " ('Yoo, Myoung Woo',\n",
       "  '35738330300',\n",
       "  ['Seoul National University'],\n",
       "  ['60013682']),\n",
       " ('Lee, Jehyun',\n",
       "  '16029235100',\n",
       "  ['Seoul National University',\n",
       "   'Center of Semiconductor Research and Development'],\n",
       "  ['60013682', '111165432']),\n",
       " ('Lee, Jae Hyeok',\n",
       "  '57206731799',\n",
       "  ['Seoul National University'],\n",
       "  ['60013682']),\n",
       " ('Kim, Min Kwan', '57199746320', ['Seoul National University'], ['60013682'])]"
      ]
     },
     "execution_count": 79,
     "metadata": {},
     "output_type": "execute_result"
    }
   ],
   "source": [
    "authors = list(zip(author_names, author_ids, [afs[af] if isinstance(af, str) else [afs[af_] for af_ in af] for af in author_afids], author_afids))\n",
    "authors"
   ]
  },
  {
   "cell_type": "code",
   "execution_count": null,
   "metadata": {},
   "outputs": [],
   "source": []
  },
  {
   "cell_type": "code",
   "execution_count": 54,
   "metadata": {},
   "outputs": [
    {
     "data": {
      "text/html": [
       "<div>\n",
       "<style scoped>\n",
       "    .dataframe tbody tr th:only-of-type {\n",
       "        vertical-align: middle;\n",
       "    }\n",
       "\n",
       "    .dataframe tbody tr th {\n",
       "        vertical-align: top;\n",
       "    }\n",
       "\n",
       "    .dataframe thead th {\n",
       "        text-align: right;\n",
       "    }\n",
       "</style>\n",
       "<table border=\"1\" class=\"dataframe\">\n",
       "  <thead>\n",
       "    <tr style=\"text-align: right;\">\n",
       "      <th></th>\n",
       "      <th>DOI</th>\n",
       "      <th>TITLE_Scopus</th>\n",
       "    </tr>\n",
       "  </thead>\n",
       "  <tbody>\n",
       "    <tr>\n",
       "      <th>0</th>\n",
       "      <td>10.1021/acs.jpclett.1c01140</td>\n",
       "      <td>First-Principles-Based Machine-Learning Molecu...</td>\n",
       "    </tr>\n",
       "    <tr>\n",
       "      <th>1</th>\n",
       "      <td>10.1038/s41598-021-83315-9</td>\n",
       "      <td>Optimizing machine learning models for granula...</td>\n",
       "    </tr>\n",
       "    <tr>\n",
       "      <th>2</th>\n",
       "      <td>10.1038/srep31513</td>\n",
       "      <td>Resonant vortex-core reversal in magnetic nano...</td>\n",
       "    </tr>\n",
       "    <tr>\n",
       "      <th>3</th>\n",
       "      <td>10.1063/1.4919836</td>\n",
       "      <td>Temperature effect on vortex-core reversals in...</td>\n",
       "    </tr>\n",
       "    <tr>\n",
       "      <th>4</th>\n",
       "      <td>10.1038/srep12659</td>\n",
       "      <td>Erratum: Resonantly excited precession motion ...</td>\n",
       "    </tr>\n",
       "    <tr>\n",
       "      <th>5</th>\n",
       "      <td>10.1063/1.4903741</td>\n",
       "      <td>Self-assembled magnetic nanospheres with three...</td>\n",
       "    </tr>\n",
       "    <tr>\n",
       "      <th>6</th>\n",
       "      <td>10.1002/adma.201303003</td>\n",
       "      <td>Magnetic microstructure of rolled-up single-la...</td>\n",
       "    </tr>\n",
       "    <tr>\n",
       "      <th>7</th>\n",
       "      <td>10.1088/0957-4484/25/4/045604</td>\n",
       "      <td>Scaling dependence and tailoring of the pinnin...</td>\n",
       "    </tr>\n",
       "    <tr>\n",
       "      <th>8</th>\n",
       "      <td>10.1142/S2010324713400018</td>\n",
       "      <td>Rolled-up permalloy nanomembranes with multipl...</td>\n",
       "    </tr>\n",
       "    <tr>\n",
       "      <th>9</th>\n",
       "      <td>10.1088/0957-4484/24/14/145702</td>\n",
       "      <td>Probing the energy barriers and magnetization ...</td>\n",
       "    </tr>\n",
       "    <tr>\n",
       "      <th>10</th>\n",
       "      <td>10.1038/srep01301</td>\n",
       "      <td>Resonant amplification of vortex-core oscillat...</td>\n",
       "    </tr>\n",
       "    <tr>\n",
       "      <th>11</th>\n",
       "      <td>10.1002/pssa.201228731</td>\n",
       "      <td>Fabrication and high-resolution electron micro...</td>\n",
       "    </tr>\n",
       "    <tr>\n",
       "      <th>12</th>\n",
       "      <td>10.1063/1.4821821</td>\n",
       "      <td>Understanding on coercivity behavior of M-type...</td>\n",
       "    </tr>\n",
       "    <tr>\n",
       "      <th>13</th>\n",
       "      <td>10.1063/1.4712033</td>\n",
       "      <td>Direct calculation of the attempt frequency of...</td>\n",
       "    </tr>\n",
       "    <tr>\n",
       "      <th>14</th>\n",
       "      <td>10.1063/1.4705690</td>\n",
       "      <td>Radial-spin-wave-mode-assisted vortex-core mag...</td>\n",
       "    </tr>\n",
       "    <tr>\n",
       "      <th>15</th>\n",
       "      <td>10.1088/0022-3727/45/49/495001</td>\n",
       "      <td>Micromagnetic study of exchange spring media w...</td>\n",
       "    </tr>\n",
       "    <tr>\n",
       "      <th>16</th>\n",
       "      <td>10.1088/0957-4484/23/2/025301</td>\n",
       "      <td>L1 &lt;inf&gt;0&lt;/inf&gt; FePtCu bit patterned media</td>\n",
       "    </tr>\n",
       "    <tr>\n",
       "      <th>17</th>\n",
       "      <td>10.1103/PhysRevB.84.224421</td>\n",
       "      <td>Calculation of coercivity of magnetic nanostru...</td>\n",
       "    </tr>\n",
       "    <tr>\n",
       "      <th>18</th>\n",
       "      <td>10.1063/1.3623752</td>\n",
       "      <td>Contribution of the easy axis orientation, ani...</td>\n",
       "    </tr>\n",
       "    <tr>\n",
       "      <th>19</th>\n",
       "      <td>10.1063/1.3595307</td>\n",
       "      <td>FePt L1&lt;inf&gt;0&lt;/inf&gt;/A1 graded media with a rou...</td>\n",
       "    </tr>\n",
       "    <tr>\n",
       "      <th>20</th>\n",
       "      <td>10.1063/1.3556773</td>\n",
       "      <td>Hard/graded exchange spring composite media ba...</td>\n",
       "    </tr>\n",
       "    <tr>\n",
       "      <th>21</th>\n",
       "      <td>10.1088/0957-4484/21/49/495701</td>\n",
       "      <td>Magnetic films on nanoperforated templates: A ...</td>\n",
       "    </tr>\n",
       "    <tr>\n",
       "      <th>22</th>\n",
       "      <td>10.1063/1.3460639</td>\n",
       "      <td>Validation of the transition state theory with...</td>\n",
       "    </tr>\n",
       "    <tr>\n",
       "      <th>23</th>\n",
       "      <td>10.1016/j.jmmm.2010.08.010</td>\n",
       "      <td>Modeling of the write and read back performanc...</td>\n",
       "    </tr>\n",
       "    <tr>\n",
       "      <th>24</th>\n",
       "      <td>10.1063/1.3372611</td>\n",
       "      <td>Theory and micromagnetics of pinning mechanism...</td>\n",
       "    </tr>\n",
       "    <tr>\n",
       "      <th>25</th>\n",
       "      <td>10.1109/TMAG.2010.2040594</td>\n",
       "      <td>TEM study on diffusion process of NiFe Schottk...</td>\n",
       "    </tr>\n",
       "    <tr>\n",
       "      <th>26</th>\n",
       "      <td>10.1109/TMAG.2010.2040714</td>\n",
       "      <td>FePt-based exchange-coupled composite perpendi...</td>\n",
       "    </tr>\n",
       "    <tr>\n",
       "      <th>27</th>\n",
       "      <td>10.1063/1.3275925</td>\n",
       "      <td>Magnetic properties of graded A1/L1&lt;inf&gt;0&lt;/inf...</td>\n",
       "    </tr>\n",
       "    <tr>\n",
       "      <th>28</th>\n",
       "      <td>10.1063/1.3257364</td>\n",
       "      <td>Increases in effective head field gradients in...</td>\n",
       "    </tr>\n",
       "    <tr>\n",
       "      <th>29</th>\n",
       "      <td>10.1063/1.3152293</td>\n",
       "      <td>Microwave-assisted three-dimensional multilaye...</td>\n",
       "    </tr>\n",
       "    <tr>\n",
       "      <th>30</th>\n",
       "      <td>10.1109/TMAG.2008.2002859</td>\n",
       "      <td>Effect of intergranular exchange on the therma...</td>\n",
       "    </tr>\n",
       "    <tr>\n",
       "      <th>31</th>\n",
       "      <td>10.1016/j.scriptamat.2009.01.031</td>\n",
       "      <td>Microstructural change of 2LiBH&lt;inf&gt;4&lt;/inf&gt;/Al...</td>\n",
       "    </tr>\n",
       "    <tr>\n",
       "      <th>32</th>\n",
       "      <td>10.1109/TMAG.2009.2018949</td>\n",
       "      <td>Contribution of convex surfaces to magnetostat...</td>\n",
       "    </tr>\n",
       "    <tr>\n",
       "      <th>33</th>\n",
       "      <td>10.1088/0022-3727/42/4/045005</td>\n",
       "      <td>Grain geometry induced reversal behaviour alte...</td>\n",
       "    </tr>\n",
       "    <tr>\n",
       "      <th>34</th>\n",
       "      <td>10.1007/s10948-018-4953-8</td>\n",
       "      <td>Microstructure and Magnetic Properties of Exch...</td>\n",
       "    </tr>\n",
       "    <tr>\n",
       "      <th>35</th>\n",
       "      <td>10.1063/1.2833302</td>\n",
       "      <td>Contribution of the shrunk interface and the c...</td>\n",
       "    </tr>\n",
       "    <tr>\n",
       "      <th>36</th>\n",
       "      <td>10.1063/1.2710748</td>\n",
       "      <td>Fabrication and magnetic characteristics of hy...</td>\n",
       "    </tr>\n",
       "    <tr>\n",
       "      <th>37</th>\n",
       "      <td>10.1016/j.jmmm.2007.04.019</td>\n",
       "      <td>Micromagnetic study of recording on ion-irradi...</td>\n",
       "    </tr>\n",
       "    <tr>\n",
       "      <th>38</th>\n",
       "      <td>10.1103/PhysRevB.75.174430</td>\n",
       "      <td>Reliability of Sharrocks equation for exchange...</td>\n",
       "    </tr>\n",
       "    <tr>\n",
       "      <th>39</th>\n",
       "      <td>10.1109/TMAG.2006.880565</td>\n",
       "      <td>Contribution of local incoherency on Gilbert-d...</td>\n",
       "    </tr>\n",
       "    <tr>\n",
       "      <th>40</th>\n",
       "      <td>10.1063/1.2126124</td>\n",
       "      <td>Si -based magnetic tunnel transistor with sing...</td>\n",
       "    </tr>\n",
       "    <tr>\n",
       "      <th>41</th>\n",
       "      <td>10.1016/j.jmmm.2003.12.624</td>\n",
       "      <td>Magnetization reversal process of the nanosize...</td>\n",
       "    </tr>\n",
       "    <tr>\n",
       "      <th>42</th>\n",
       "      <td>10.1016/j.jmmm.2003.12.707</td>\n",
       "      <td>Si-based magnetic tunnel transistor with high ...</td>\n",
       "    </tr>\n",
       "    <tr>\n",
       "      <th>43</th>\n",
       "      <td>10.1063/1.1763638</td>\n",
       "      <td>SrFeO&lt;inf&gt;3&lt;/inf&gt; nanoparticles-dispersed SrMo...</td>\n",
       "    </tr>\n",
       "  </tbody>\n",
       "</table>\n",
       "</div>"
      ],
      "text/plain": [
       "                                 DOI  \\\n",
       "0        10.1021/acs.jpclett.1c01140   \n",
       "1         10.1038/s41598-021-83315-9   \n",
       "2                  10.1038/srep31513   \n",
       "3                  10.1063/1.4919836   \n",
       "4                  10.1038/srep12659   \n",
       "5                  10.1063/1.4903741   \n",
       "6             10.1002/adma.201303003   \n",
       "7      10.1088/0957-4484/25/4/045604   \n",
       "8          10.1142/S2010324713400018   \n",
       "9     10.1088/0957-4484/24/14/145702   \n",
       "10                 10.1038/srep01301   \n",
       "11            10.1002/pssa.201228731   \n",
       "12                 10.1063/1.4821821   \n",
       "13                 10.1063/1.4712033   \n",
       "14                 10.1063/1.4705690   \n",
       "15    10.1088/0022-3727/45/49/495001   \n",
       "16     10.1088/0957-4484/23/2/025301   \n",
       "17        10.1103/PhysRevB.84.224421   \n",
       "18                 10.1063/1.3623752   \n",
       "19                 10.1063/1.3595307   \n",
       "20                 10.1063/1.3556773   \n",
       "21    10.1088/0957-4484/21/49/495701   \n",
       "22                 10.1063/1.3460639   \n",
       "23        10.1016/j.jmmm.2010.08.010   \n",
       "24                 10.1063/1.3372611   \n",
       "25         10.1109/TMAG.2010.2040594   \n",
       "26         10.1109/TMAG.2010.2040714   \n",
       "27                 10.1063/1.3275925   \n",
       "28                 10.1063/1.3257364   \n",
       "29                 10.1063/1.3152293   \n",
       "30         10.1109/TMAG.2008.2002859   \n",
       "31  10.1016/j.scriptamat.2009.01.031   \n",
       "32         10.1109/TMAG.2009.2018949   \n",
       "33     10.1088/0022-3727/42/4/045005   \n",
       "34         10.1007/s10948-018-4953-8   \n",
       "35                 10.1063/1.2833302   \n",
       "36                 10.1063/1.2710748   \n",
       "37        10.1016/j.jmmm.2007.04.019   \n",
       "38        10.1103/PhysRevB.75.174430   \n",
       "39          10.1109/TMAG.2006.880565   \n",
       "40                 10.1063/1.2126124   \n",
       "41        10.1016/j.jmmm.2003.12.624   \n",
       "42        10.1016/j.jmmm.2003.12.707   \n",
       "43                 10.1063/1.1763638   \n",
       "\n",
       "                                         TITLE_Scopus  \n",
       "0   First-Principles-Based Machine-Learning Molecu...  \n",
       "1   Optimizing machine learning models for granula...  \n",
       "2   Resonant vortex-core reversal in magnetic nano...  \n",
       "3   Temperature effect on vortex-core reversals in...  \n",
       "4   Erratum: Resonantly excited precession motion ...  \n",
       "5   Self-assembled magnetic nanospheres with three...  \n",
       "6   Magnetic microstructure of rolled-up single-la...  \n",
       "7   Scaling dependence and tailoring of the pinnin...  \n",
       "8   Rolled-up permalloy nanomembranes with multipl...  \n",
       "9   Probing the energy barriers and magnetization ...  \n",
       "10  Resonant amplification of vortex-core oscillat...  \n",
       "11  Fabrication and high-resolution electron micro...  \n",
       "12  Understanding on coercivity behavior of M-type...  \n",
       "13  Direct calculation of the attempt frequency of...  \n",
       "14  Radial-spin-wave-mode-assisted vortex-core mag...  \n",
       "15  Micromagnetic study of exchange spring media w...  \n",
       "16         L1 <inf>0</inf> FePtCu bit patterned media  \n",
       "17  Calculation of coercivity of magnetic nanostru...  \n",
       "18  Contribution of the easy axis orientation, ani...  \n",
       "19  FePt L1<inf>0</inf>/A1 graded media with a rou...  \n",
       "20  Hard/graded exchange spring composite media ba...  \n",
       "21  Magnetic films on nanoperforated templates: A ...  \n",
       "22  Validation of the transition state theory with...  \n",
       "23  Modeling of the write and read back performanc...  \n",
       "24  Theory and micromagnetics of pinning mechanism...  \n",
       "25  TEM study on diffusion process of NiFe Schottk...  \n",
       "26  FePt-based exchange-coupled composite perpendi...  \n",
       "27  Magnetic properties of graded A1/L1<inf>0</inf...  \n",
       "28  Increases in effective head field gradients in...  \n",
       "29  Microwave-assisted three-dimensional multilaye...  \n",
       "30  Effect of intergranular exchange on the therma...  \n",
       "31  Microstructural change of 2LiBH<inf>4</inf>/Al...  \n",
       "32  Contribution of convex surfaces to magnetostat...  \n",
       "33  Grain geometry induced reversal behaviour alte...  \n",
       "34  Microstructure and Magnetic Properties of Exch...  \n",
       "35  Contribution of the shrunk interface and the c...  \n",
       "36  Fabrication and magnetic characteristics of hy...  \n",
       "37  Micromagnetic study of recording on ion-irradi...  \n",
       "38  Reliability of Sharrocks equation for exchange...  \n",
       "39  Contribution of local incoherency on Gilbert-d...  \n",
       "40  Si -based magnetic tunnel transistor with sing...  \n",
       "41  Magnetization reversal process of the nanosize...  \n",
       "42  Si-based magnetic tunnel transistor with high ...  \n",
       "43  SrFeO<inf>3</inf> nanoparticles-dispersed SrMo...  "
      ]
     },
     "execution_count": 54,
     "metadata": {},
     "output_type": "execute_result"
    }
   ],
   "source": [
    "df_CV"
   ]
  },
  {
   "cell_type": "code",
   "execution_count": null,
   "metadata": {},
   "outputs": [],
   "source": []
  },
  {
   "cell_type": "code",
   "execution_count": null,
   "metadata": {},
   "outputs": [],
   "source": []
  },
  {
   "cell_type": "code",
   "execution_count": 15,
   "metadata": {},
   "outputs": [],
   "source": [
    "doi = \"10.1021/acs.jpclett.1c01140\"\n",
    "s = ScopusSearch(f\"DOI ({doi})\").results[0]"
   ]
  },
  {
   "cell_type": "code",
   "execution_count": 30,
   "metadata": {},
   "outputs": [
    {
     "data": {
      "text/plain": [
       "array(['60087822', '60016912'], dtype='<U8')"
      ]
     },
     "execution_count": 30,
     "metadata": {},
     "output_type": "execute_result"
    }
   ],
   "source": [
    "# Affiliation ID\n",
    "afids = np.array(s.afid.split(\";\"))\n",
    "afids"
   ]
  },
  {
   "cell_type": "code",
   "execution_count": 42,
   "metadata": {},
   "outputs": [
    {
     "data": {
      "text/plain": [
       "array(['Korea Institute of Energy Research', 'Yonsei University'],\n",
       "      dtype='<U34')"
      ]
     },
     "execution_count": 42,
     "metadata": {},
     "output_type": "execute_result"
    }
   ],
   "source": [
    "# Affiliation name\n",
    "afnames = np.array(s.affilname.split(\";\"))\n",
    "afnames"
   ]
  },
  {
   "cell_type": "code",
   "execution_count": 44,
   "metadata": {},
   "outputs": [
    {
     "data": {
      "text/plain": [
       "{'60087822': 'Korea Institute of Energy Research',\n",
       " '60016912': 'Yonsei University'}"
      ]
     },
     "execution_count": 44,
     "metadata": {},
     "output_type": "execute_result"
    }
   ],
   "source": [
    "# Affiliations\n",
    "afs = dict(zip(afids, afnames))\n",
    "afs"
   ]
  },
  {
   "cell_type": "code",
   "execution_count": 31,
   "metadata": {},
   "outputs": [
    {
     "data": {
      "text/plain": [
       "array(['Hong, Sung Jun', 'Chun, Hoje', 'Lee, Jehyun', 'Kim, Byung Hyun',\n",
       "       'Seo, Min Ho', 'Kang, Joonhee', 'Han, Byungchan'], dtype='<U15')"
      ]
     },
     "execution_count": 31,
     "metadata": {},
     "output_type": "execute_result"
    }
   ],
   "source": [
    "# Author names\n",
    "author_names = np.array(s.author_names.split(\";\"))\n",
    "author_names"
   ]
  },
  {
   "cell_type": "code",
   "execution_count": 32,
   "metadata": {},
   "outputs": [
    {
     "data": {
      "text/plain": [
       "array(['57221590144', '57195466596', '55969873500', '55502655900',\n",
       "       '57220796436', '56076915900', '10639592000'], dtype='<U11')"
      ]
     },
     "execution_count": 32,
     "metadata": {},
     "output_type": "execute_result"
    }
   ],
   "source": [
    "# Author ID\n",
    "author_ids = np.array(s.author_ids.split(\";\"))\n",
    "author_ids"
   ]
  },
  {
   "cell_type": "code",
   "execution_count": 33,
   "metadata": {},
   "outputs": [
    {
     "data": {
      "text/plain": [
       "array(['60016912', '60016912', '60087822', '60087822', '60087822',\n",
       "       '60087822', '60016912'], dtype='<U8')"
      ]
     },
     "execution_count": 33,
     "metadata": {},
     "output_type": "execute_result"
    }
   ],
   "source": [
    "# Author Affiliation IDs\n",
    "author_afids = np.array(s.author_afids.split(\";\"))\n",
    "author_afids"
   ]
  },
  {
   "cell_type": "code",
   "execution_count": 47,
   "metadata": {},
   "outputs": [
    {
     "data": {
      "text/plain": [
       "array([['Hong, Sung Jun', '57221590144', 'Yonsei University', '60016912'],\n",
       "       ['Chun, Hoje', '57195466596', 'Yonsei University', '60016912'],\n",
       "       ['Lee, Jehyun', '55969873500',\n",
       "        'Korea Institute of Energy Research', '60087822'],\n",
       "       ['Kim, Byung Hyun', '55502655900',\n",
       "        'Korea Institute of Energy Research', '60087822'],\n",
       "       ['Seo, Min Ho', '57220796436',\n",
       "        'Korea Institute of Energy Research', '60087822'],\n",
       "       ['Kang, Joonhee', '56076915900',\n",
       "        'Korea Institute of Energy Research', '60087822'],\n",
       "       ['Han, Byungchan', '10639592000', 'Yonsei University', '60016912']],\n",
       "      dtype='<U34')"
      ]
     },
     "execution_count": 47,
     "metadata": {},
     "output_type": "execute_result"
    }
   ],
   "source": [
    "# Authors\n",
    "authors = np.array(list(zip(author_names, author_ids, [afs[af] for af in author_afids], author_afids)))\n",
    "authors"
   ]
  },
  {
   "cell_type": "code",
   "execution_count": 48,
   "metadata": {},
   "outputs": [
    {
     "data": {
      "text/plain": [
       "array(['Lee, Jehyun', '55969873500', 'Korea Institute of Energy Research',\n",
       "       '60087822'], dtype='<U34')"
      ]
     },
     "execution_count": 48,
     "metadata": {},
     "output_type": "execute_result"
    }
   ],
   "source": [
    "my_name = \"Lee, Jehyun\"\n",
    "my_idx = np.where(my_name == author_names)[0][0]\n",
    "\n",
    "authors[my_idx]"
   ]
  },
  {
   "cell_type": "code",
   "execution_count": null,
   "metadata": {},
   "outputs": [],
   "source": []
  },
  {
   "cell_type": "code",
   "execution_count": null,
   "metadata": {},
   "outputs": [],
   "source": []
  },
  {
   "cell_type": "code",
   "execution_count": null,
   "metadata": {},
   "outputs": [],
   "source": []
  },
  {
   "cell_type": "code",
   "execution_count": 14,
   "metadata": {},
   "outputs": [
    {
     "data": {
      "text/plain": [
       "array(['10.1021/acs.jpclett.1c01140', '10.1038/s41598-021-83315-9',\n",
       "       '10.1038/srep31513', '10.1063/1.4919836', '10.1038/srep12659',\n",
       "       '10.1063/1.4903741', '10.1002/adma.201303003',\n",
       "       '10.1088/0957-4484/25/4/045604', '10.1142/S2010324713400018',\n",
       "       '10.1088/0957-4484/24/14/145702', '10.1038/srep01301',\n",
       "       '10.1002/pssa.201228731', '10.1063/1.4821821', '10.1063/1.4712033',\n",
       "       '10.1063/1.4705690', '10.1088/0022-3727/45/49/495001',\n",
       "       '10.1088/0957-4484/23/2/025301', '10.1103/PhysRevB.84.224421',\n",
       "       '10.1063/1.3623752', '10.1063/1.3595307', '10.1063/1.3556773',\n",
       "       '10.1088/0957-4484/21/49/495701', '10.1063/1.3460639',\n",
       "       '10.1016/j.jmmm.2010.08.010', '10.1063/1.3372611',\n",
       "       '10.1109/TMAG.2010.2040594', '10.1109/TMAG.2010.2040714',\n",
       "       '10.1063/1.3275925', '10.1063/1.3257364', '10.1063/1.3152293',\n",
       "       '10.1109/TMAG.2008.2002859', '10.1016/j.scriptamat.2009.01.031',\n",
       "       '10.1109/TMAG.2009.2018949', '10.1088/0022-3727/42/4/045005',\n",
       "       '10.1007/s10948-018-4953-8', '10.1063/1.2833302',\n",
       "       '10.1063/1.2710748', '10.1016/j.jmmm.2007.04.019',\n",
       "       '10.1103/PhysRevB.75.174430', '10.1109/TMAG.2006.880565',\n",
       "       '10.1063/1.2126124', '10.1016/j.jmmm.2003.12.624',\n",
       "       '10.1016/j.jmmm.2003.12.707', '10.1063/1.1763638'], dtype=object)"
      ]
     },
     "execution_count": 14,
     "metadata": {},
     "output_type": "execute_result"
    }
   ],
   "source": [
    "dois = df_CV[\"DOI\"].values\n",
    "\n",
    "for i, doi in enumerate(dois):\n",
    "    s = ScopusSearch(f\"DOI ({doi})\").results[0]"
   ]
  },
  {
   "cell_type": "code",
   "execution_count": null,
   "metadata": {},
   "outputs": [],
   "source": []
  },
  {
   "cell_type": "code",
   "execution_count": null,
   "metadata": {},
   "outputs": [],
   "source": []
  },
  {
   "cell_type": "code",
   "execution_count": null,
   "metadata": {},
   "outputs": [],
   "source": []
  },
  {
   "cell_type": "code",
   "execution_count": null,
   "metadata": {},
   "outputs": [],
   "source": []
  },
  {
   "cell_type": "code",
   "execution_count": 27,
   "metadata": {},
   "outputs": [],
   "source": [
    "# author id of \"Jehyun Lee\"\n",
    "author_id = \"55969873500\"\n",
    "\n",
    "author_r = requests.get(f\"http://api.elsevier.com/content/author?author_id={author_id}&view=metrics\",\n",
    "                        headers={'Accept':'application/json', 'X-ELS-APIKey': APIKeys[-2]})\n",
    "author_data = eval(json.dumps(author_r.json(), sort_keys=True, indent=4, separators=(',', ': ')))\n",
    "\n",
    "h_index = author_data['author-retrieval-response'][0][\"h-index\"]\n",
    "citedby_count_total = author_data['author-retrieval-response'][0][\"coredata\"]['cited-by-count']\n",
    "document_count_total = author_data['author-retrieval-response'][0][\"coredata\"]['document-count']\n",
    "\n",
    "print(h_index, citedby_count_total, document_count_total)"
   ]
  },
  {
   "cell_type": "code",
   "execution_count": 33,
   "metadata": {},
   "outputs": [
    {
     "data": {
      "text/plain": [
       "[('Hong, Sung Jun', '57221590144'),\n",
       " ('Chun, Hoje', '57195466596'),\n",
       " ('Lee, Jehyun', '55969873500'),\n",
       " ('Kim, Byung Hyun', '55502655900'),\n",
       " ('Seo, Min Ho', '57220796436'),\n",
       " ('Kang, Joonhee', '56076915900'),\n",
       " ('Han, Byungchan', '10639592000')]"
      ]
     },
     "execution_count": 33,
     "metadata": {},
     "output_type": "execute_result"
    }
   ],
   "source": [
    "title = \"First-Principles-Based Machine-Learning Molecular Dynamics for Crystalline Polymers with van der Waals interactions\"\n",
    "s_sample = ScopusSearch(f\"TITLE ({title})\").results[0]\n",
    "list(zip(s_sample.author_names.split(\";\"), s_sample.author_ids.split(\";\")))"
   ]
  },
  {
   "cell_type": "code",
   "execution_count": 34,
   "metadata": {},
   "outputs": [
    {
     "data": {
      "text/plain": [
       "[('Kim, Sang Koog', '7601587994'),\n",
       " ('Yoo, Myoung Woo', '35738330300'),\n",
       " ('Lee, Jehyun', '16029235100'),\n",
       " ('Lee, Ha Youn', '56206010000'),\n",
       " ('Lee, Jae Hyeok', '57206731799'),\n",
       " ('Gaididei, Yuri', '7005459050'),\n",
       " ('Kravchuk, Volodymyr P.', '15757587900'),\n",
       " ('Sheka, Denis D.', '6701719591')]"
      ]
     },
     "execution_count": 34,
     "metadata": {},
     "output_type": "execute_result"
    }
   ],
   "source": [
    "title = \"Resonantly excited precession motion of three-dimensional vortex core in magnetic nanospheres\"\n",
    "s_sample = ScopusSearch(f\"TITLE ({title})\").results[0]\n",
    "list(zip(s_sample.author_names.split(\";\"), s_sample.author_ids.split(\";\")))"
   ]
  },
  {
   "cell_type": "code",
   "execution_count": null,
   "metadata": {},
   "outputs": [],
   "source": [
    "author_pubs_ = requests.get(f\"http://api.elsevier.com/content/search/scopus?query=AU-ID({author_id})&field=dc:identifier&count=100\",\n",
    "                               headers={'Accept':'application/json',\n",
    "                                        'X-ELS-APIKey': APIKeys[-3]})\n",
    "author_pubs = author_pubs_.json()\n",
    "scopus_ids = [p['dc:identifier'] for p in author_pubs['search-results'][\"entry\"]]"
   ]
  },
  {
   "cell_type": "code",
   "execution_count": 18,
   "metadata": {},
   "outputs": [
    {
     "data": {
      "text/plain": [
       "100"
      ]
     },
     "execution_count": 18,
     "metadata": {},
     "output_type": "execute_result"
    }
   ],
   "source": [
    "len(author_pubs['search-results'][\"entry\"])"
   ]
  },
  {
   "cell_type": "code",
   "execution_count": 19,
   "metadata": {},
   "outputs": [],
   "source": [
    "def get_scopus_info(SCOPUS_ID):\n",
    "    url = (\"http://api.elsevier.com/content/abstract/scopus_id/\"\n",
    "          + SCOPUS_ID\n",
    "          + \"?field=authors,title,publicationName,volume,issueIdentifier,\"\n",
    "          + \"prism:pageRange,coverDate,article-number,doi,citedby-count,prism:aggregationType\")\n",
    "    resp = requests.get(url,\n",
    "                    headers={'Accept':'application/json',\n",
    "                             'X-ELS-APIKey': APIKeys[-3]})\n",
    "    results = json.loads(resp.text.encode('utf-8'))\n",
    "    \n",
    "    authors = ', '.join([au['ce:indexed-name'] for au in results['abstracts-retrieval-response']['authors']['author']])\n",
    "    title = results['abstracts-retrieval-response']['coredata']['dc:title']\n",
    "    pubtype = results['abstracts-retrieval-response']['coredata']['prism:aggregationType']\n",
    "    journal = results['abstracts-retrieval-response']['coredata']['prism:publicationName']\n",
    "    volume = results['abstracts-retrieval-response']['coredata']['prism:volume']\n",
    "    articlenum = (results['abstracts-retrieval-response']['coredata'].get('prism:pageRange') or\n",
    "                  results['abstracts-retrieval-response']['coredata'].get('article-number'))\n",
    "    date = results['abstracts-retrieval-response']['coredata']['prism:coverDate']\n",
    "    doi = 'doi:' + results['abstracts-retrieval-response']['coredata']['prism:doi']\n",
    "    cites = int(results['abstracts-retrieval-response']['coredata']['citedby-count'])\n",
    "    \n",
    "    return pubtype, f'{authors}, {title}, {journal}, {volume}, {articlenum}, ({date}). {doi} (cited {cites} times).\\n'"
   ]
  },
  {
   "cell_type": "code",
   "execution_count": 20,
   "metadata": {},
   "outputs": [
    {
     "name": "stdout",
     "output_type": "stream",
     "text": [
      "94\n"
     ]
    }
   ],
   "source": [
    "pub_no = 1\n",
    "pubs = []\n",
    "for sid in scopus_ids:\n",
    "    try:\n",
    "        pub_type, pub_info = get_scopus_info(sid)\n",
    "        if pub_type == 'Journal':\n",
    "            pubs.append(f\"{pub_info}\")\n",
    "            pub_no += 1\n",
    "    except:\n",
    "        pass\n",
    "\n",
    "print(pub_no)"
   ]
  },
  {
   "cell_type": "code",
   "execution_count": 24,
   "metadata": {},
   "outputs": [],
   "source": [
    "# export to .docx file\n",
    "document = Document()\n",
    "document.add_heading(f\"Jehyun Lee({len(pubs)} publications)\\n\")\n",
    "\n",
    "for pub in pubs:\n",
    "    document.add_paragraph(f'{pub}', style='List Number')\n",
    "document.save(f'my_CV.docx')"
   ]
  },
  {
   "cell_type": "code",
   "execution_count": null,
   "metadata": {},
   "outputs": [],
   "source": []
  }
 ],
 "metadata": {
  "kernelspec": {
   "display_name": "Python 3",
   "language": "python",
   "name": "python3"
  },
  "language_info": {
   "codemirror_mode": {
    "name": "ipython",
    "version": 3
   },
   "file_extension": ".py",
   "mimetype": "text/x-python",
   "name": "python",
   "nbconvert_exporter": "python",
   "pygments_lexer": "ipython3",
   "version": "3.7.4"
  }
 },
 "nbformat": 4,
 "nbformat_minor": 4
}
