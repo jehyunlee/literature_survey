{
 "cells": [
  {
   "cell_type": "code",
   "execution_count": 25,
   "metadata": {},
   "outputs": [],
   "source": [
    "from copy import deepcopy\n",
    "import numpy as np\n",
    "import pandas as pd\n",
    "from pybliometrics.scopus import ScopusSearch\n",
    "from pybliometrics.scopus import AbstractRetrieval"
   ]
  },
  {
   "cell_type": "code",
   "execution_count": 2,
   "metadata": {},
   "outputs": [
    {
     "name": "stdout",
     "output_type": "stream",
     "text": [
      "(14385, 34)\n"
     ]
    },
    {
     "data": {
      "text/html": [
       "<div>\n",
       "<style scoped>\n",
       "    .dataframe tbody tr th:only-of-type {\n",
       "        vertical-align: middle;\n",
       "    }\n",
       "\n",
       "    .dataframe tbody tr th {\n",
       "        vertical-align: top;\n",
       "    }\n",
       "\n",
       "    .dataframe thead th {\n",
       "        text-align: right;\n",
       "    }\n",
       "</style>\n",
       "<table border=\"1\" class=\"dataframe\">\n",
       "  <thead>\n",
       "    <tr style=\"text-align: right;\">\n",
       "      <th></th>\n",
       "      <th>eid</th>\n",
       "      <th>doi</th>\n",
       "      <th>pii</th>\n",
       "      <th>pubmed_id</th>\n",
       "      <th>title</th>\n",
       "      <th>subtype</th>\n",
       "      <th>subtypeDescription</th>\n",
       "      <th>creator</th>\n",
       "      <th>afid</th>\n",
       "      <th>affilname</th>\n",
       "      <th>...</th>\n",
       "      <th>issueIdentifier</th>\n",
       "      <th>article_number</th>\n",
       "      <th>pageRange</th>\n",
       "      <th>description</th>\n",
       "      <th>authkeywords</th>\n",
       "      <th>citedby_count</th>\n",
       "      <th>openaccess</th>\n",
       "      <th>fund_acr</th>\n",
       "      <th>fund_no</th>\n",
       "      <th>fund_sponsor</th>\n",
       "    </tr>\n",
       "  </thead>\n",
       "  <tbody>\n",
       "    <tr>\n",
       "      <th>0</th>\n",
       "      <td>2-s2.0-85110764627</td>\n",
       "      <td>10.1016/j.renene.2021.07.075</td>\n",
       "      <td>S0960148121010806</td>\n",
       "      <td>None</td>\n",
       "      <td>Markov chains estimation of the optimal period...</td>\n",
       "      <td>ar</td>\n",
       "      <td>Article</td>\n",
       "      <td>Sánchez-Barroso G.</td>\n",
       "      <td>60017838;126596986</td>\n",
       "      <td>Universidad de Extremadura;InnoDesarrollo S.L.</td>\n",
       "      <td>...</td>\n",
       "      <td>None</td>\n",
       "      <td>None</td>\n",
       "      <td>537-549</td>\n",
       "      <td>The European Dehesa has a very high potential ...</td>\n",
       "      <td>Cleaning frequency | Cleaning photovoltaic sys...</td>\n",
       "      <td>0</td>\n",
       "      <td>1</td>\n",
       "      <td>ESF</td>\n",
       "      <td>PD18047</td>\n",
       "      <td>European Social Fund</td>\n",
       "    </tr>\n",
       "    <tr>\n",
       "      <th>1</th>\n",
       "      <td>2-s2.0-85110299293</td>\n",
       "      <td>10.1016/j.energy.2021.121415</td>\n",
       "      <td>S0360544221016637</td>\n",
       "      <td>None</td>\n",
       "      <td>Stochastic modelling of variable renewables in...</td>\n",
       "      <td>ar</td>\n",
       "      <td>Article</td>\n",
       "      <td>Seljom P.</td>\n",
       "      <td>60004205;101126845</td>\n",
       "      <td>SINTEF Foundation for Scientific and Industria...</td>\n",
       "      <td>...</td>\n",
       "      <td>None</td>\n",
       "      <td>121415</td>\n",
       "      <td>None</td>\n",
       "      <td>Variable electricity generation from wind and ...</td>\n",
       "      <td>Energy-system modelling | Satellite-data | Sce...</td>\n",
       "      <td>0</td>\n",
       "      <td>0</td>\n",
       "      <td>None</td>\n",
       "      <td>268097</td>\n",
       "      <td>Norges Forskningsråd</td>\n",
       "    </tr>\n",
       "    <tr>\n",
       "      <th>2</th>\n",
       "      <td>2-s2.0-85107321575</td>\n",
       "      <td>10.1038/s41467-021-23592-0</td>\n",
       "      <td>None</td>\n",
       "      <td>34059672</td>\n",
       "      <td>Revealing composition and structure dependent ...</td>\n",
       "      <td>ar</td>\n",
       "      <td>Article</td>\n",
       "      <td>Lian W.</td>\n",
       "      <td>60089931;125236348</td>\n",
       "      <td>Hefei National Laboratory for Physical Science...</td>\n",
       "      <td>...</td>\n",
       "      <td>1</td>\n",
       "      <td>3260</td>\n",
       "      <td>None</td>\n",
       "      <td>Antimony trisulfide (Sb2S3) is a kind of emerg...</td>\n",
       "      <td>None</td>\n",
       "      <td>0</td>\n",
       "      <td>1</td>\n",
       "      <td>IUSS</td>\n",
       "      <td>22005293</td>\n",
       "      <td>National Outstanding Youth Science Fund Projec...</td>\n",
       "    </tr>\n",
       "    <tr>\n",
       "      <th>3</th>\n",
       "      <td>2-s2.0-85107176116</td>\n",
       "      <td>10.1038/s41598-021-91061-1</td>\n",
       "      <td>None</td>\n",
       "      <td>None</td>\n",
       "      <td>Combined nano and micro structuring for enhanc...</td>\n",
       "      <td>ar</td>\n",
       "      <td>Article</td>\n",
       "      <td>Perrakis G.</td>\n",
       "      <td>60072753;60029857;60001524</td>\n",
       "      <td>Texas A&amp;amp;M University at Qatar;Foundation f...</td>\n",
       "      <td>...</td>\n",
       "      <td>1</td>\n",
       "      <td>11552</td>\n",
       "      <td>None</td>\n",
       "      <td>Outdoor devices comprising materials with mid-...</td>\n",
       "      <td>None</td>\n",
       "      <td>0</td>\n",
       "      <td>1</td>\n",
       "      <td>QNRF</td>\n",
       "      <td>NPRP9-383-1-083</td>\n",
       "      <td>Qatar National Research Fund</td>\n",
       "    </tr>\n",
       "    <tr>\n",
       "      <th>4</th>\n",
       "      <td>2-s2.0-85104778117</td>\n",
       "      <td>10.1038/s41598-021-87714-w</td>\n",
       "      <td>None</td>\n",
       "      <td>33883574</td>\n",
       "      <td>Decay radius of climate decision for solar pan...</td>\n",
       "      <td>ar</td>\n",
       "      <td>Article</td>\n",
       "      <td>Barton-Henry K.</td>\n",
       "      <td>60159447;60030162;60025182;60025038;60021763</td>\n",
       "      <td>Mercator Research Institute on Global Commons ...</td>\n",
       "      <td>...</td>\n",
       "      <td>1</td>\n",
       "      <td>8571</td>\n",
       "      <td>None</td>\n",
       "      <td>To design incentives towards achieving climate...</td>\n",
       "      <td>None</td>\n",
       "      <td>0</td>\n",
       "      <td>1</td>\n",
       "      <td>None</td>\n",
       "      <td>undefined</td>\n",
       "      <td>Volkswagen Foundation</td>\n",
       "    </tr>\n",
       "  </tbody>\n",
       "</table>\n",
       "<p>5 rows × 34 columns</p>\n",
       "</div>"
      ],
      "text/plain": [
       "                  eid                           doi                pii  \\\n",
       "0  2-s2.0-85110764627  10.1016/j.renene.2021.07.075  S0960148121010806   \n",
       "1  2-s2.0-85110299293  10.1016/j.energy.2021.121415  S0360544221016637   \n",
       "2  2-s2.0-85107321575    10.1038/s41467-021-23592-0               None   \n",
       "3  2-s2.0-85107176116    10.1038/s41598-021-91061-1               None   \n",
       "4  2-s2.0-85104778117    10.1038/s41598-021-87714-w               None   \n",
       "\n",
       "  pubmed_id                                              title subtype  \\\n",
       "0      None  Markov chains estimation of the optimal period...      ar   \n",
       "1      None  Stochastic modelling of variable renewables in...      ar   \n",
       "2  34059672  Revealing composition and structure dependent ...      ar   \n",
       "3      None  Combined nano and micro structuring for enhanc...      ar   \n",
       "4  33883574  Decay radius of climate decision for solar pan...      ar   \n",
       "\n",
       "  subtypeDescription             creator  \\\n",
       "0            Article  Sánchez-Barroso G.   \n",
       "1            Article           Seljom P.   \n",
       "2            Article             Lian W.   \n",
       "3            Article         Perrakis G.   \n",
       "4            Article     Barton-Henry K.   \n",
       "\n",
       "                                           afid  \\\n",
       "0                            60017838;126596986   \n",
       "1                            60004205;101126845   \n",
       "2                            60089931;125236348   \n",
       "3                    60072753;60029857;60001524   \n",
       "4  60159447;60030162;60025182;60025038;60021763   \n",
       "\n",
       "                                           affilname  ... issueIdentifier  \\\n",
       "0     Universidad de Extremadura;InnoDesarrollo S.L.  ...            None   \n",
       "1  SINTEF Foundation for Scientific and Industria...  ...            None   \n",
       "2  Hefei National Laboratory for Physical Science...  ...               1   \n",
       "3  Texas A&amp;M University at Qatar;Foundation f...  ...               1   \n",
       "4  Mercator Research Institute on Global Commons ...  ...               1   \n",
       "\n",
       "  article_number pageRange                                        description  \\\n",
       "0           None   537-549  The European Dehesa has a very high potential ...   \n",
       "1         121415      None  Variable electricity generation from wind and ...   \n",
       "2           3260      None  Antimony trisulfide (Sb2S3) is a kind of emerg...   \n",
       "3          11552      None  Outdoor devices comprising materials with mid-...   \n",
       "4           8571      None  To design incentives towards achieving climate...   \n",
       "\n",
       "                                        authkeywords citedby_count openaccess  \\\n",
       "0  Cleaning frequency | Cleaning photovoltaic sys...             0          1   \n",
       "1  Energy-system modelling | Satellite-data | Sce...             0          0   \n",
       "2                                               None             0          1   \n",
       "3                                               None             0          1   \n",
       "4                                               None             0          1   \n",
       "\n",
       "  fund_acr          fund_no                                       fund_sponsor  \n",
       "0      ESF          PD18047                               European Social Fund  \n",
       "1     None           268097                               Norges Forskningsråd  \n",
       "2     IUSS         22005293  National Outstanding Youth Science Fund Projec...  \n",
       "3     QNRF  NPRP9-383-1-083                       Qatar National Research Fund  \n",
       "4     None        undefined                              Volkswagen Foundation  \n",
       "\n",
       "[5 rows x 34 columns]"
      ]
     },
     "execution_count": 2,
     "metadata": {},
     "output_type": "execute_result"
    }
   ],
   "source": [
    "df_bipv = pd.read_pickle(\"./210803/df_bipv.pkl\")\n",
    "print(df_bipv.shape)\n",
    "df_bipv.head()"
   ]
  },
  {
   "cell_type": "code",
   "execution_count": 4,
   "metadata": {},
   "outputs": [
    {
     "name": "stdout",
     "output_type": "stream",
     "text": [
      "(921, 34)\n"
     ]
    },
    {
     "data": {
      "text/html": [
       "<div>\n",
       "<style scoped>\n",
       "    .dataframe tbody tr th:only-of-type {\n",
       "        vertical-align: middle;\n",
       "    }\n",
       "\n",
       "    .dataframe tbody tr th {\n",
       "        vertical-align: top;\n",
       "    }\n",
       "\n",
       "    .dataframe thead th {\n",
       "        text-align: right;\n",
       "    }\n",
       "</style>\n",
       "<table border=\"1\" class=\"dataframe\">\n",
       "  <thead>\n",
       "    <tr style=\"text-align: right;\">\n",
       "      <th></th>\n",
       "      <th>eid</th>\n",
       "      <th>doi</th>\n",
       "      <th>pii</th>\n",
       "      <th>pubmed_id</th>\n",
       "      <th>title</th>\n",
       "      <th>subtype</th>\n",
       "      <th>subtypeDescription</th>\n",
       "      <th>creator</th>\n",
       "      <th>afid</th>\n",
       "      <th>affilname</th>\n",
       "      <th>...</th>\n",
       "      <th>issueIdentifier</th>\n",
       "      <th>article_number</th>\n",
       "      <th>pageRange</th>\n",
       "      <th>description</th>\n",
       "      <th>authkeywords</th>\n",
       "      <th>citedby_count</th>\n",
       "      <th>openaccess</th>\n",
       "      <th>fund_acr</th>\n",
       "      <th>fund_no</th>\n",
       "      <th>fund_sponsor</th>\n",
       "    </tr>\n",
       "  </thead>\n",
       "  <tbody>\n",
       "    <tr>\n",
       "      <th>0</th>\n",
       "      <td>2-s2.0-85110764627</td>\n",
       "      <td>10.1016/j.renene.2021.07.075</td>\n",
       "      <td>S0960148121010806</td>\n",
       "      <td>None</td>\n",
       "      <td>Markov chains estimation of the optimal period...</td>\n",
       "      <td>ar</td>\n",
       "      <td>Article</td>\n",
       "      <td>Sánchez-Barroso G.</td>\n",
       "      <td>60017838;126596986</td>\n",
       "      <td>Universidad de Extremadura;InnoDesarrollo S.L.</td>\n",
       "      <td>...</td>\n",
       "      <td>None</td>\n",
       "      <td>None</td>\n",
       "      <td>537-549</td>\n",
       "      <td>The European Dehesa has a very high potential ...</td>\n",
       "      <td>Cleaning frequency | Cleaning photovoltaic sys...</td>\n",
       "      <td>0</td>\n",
       "      <td>1</td>\n",
       "      <td>ESF</td>\n",
       "      <td>PD18047</td>\n",
       "      <td>European Social Fund</td>\n",
       "    </tr>\n",
       "    <tr>\n",
       "      <th>1</th>\n",
       "      <td>2-s2.0-85107176116</td>\n",
       "      <td>10.1038/s41598-021-91061-1</td>\n",
       "      <td>None</td>\n",
       "      <td>None</td>\n",
       "      <td>Combined nano and micro structuring for enhanc...</td>\n",
       "      <td>ar</td>\n",
       "      <td>Article</td>\n",
       "      <td>Perrakis G.</td>\n",
       "      <td>60072753;60029857;60001524</td>\n",
       "      <td>Texas A&amp;amp;M University at Qatar;Foundation f...</td>\n",
       "      <td>...</td>\n",
       "      <td>1</td>\n",
       "      <td>11552</td>\n",
       "      <td>None</td>\n",
       "      <td>Outdoor devices comprising materials with mid-...</td>\n",
       "      <td>None</td>\n",
       "      <td>0</td>\n",
       "      <td>1</td>\n",
       "      <td>QNRF</td>\n",
       "      <td>NPRP9-383-1-083</td>\n",
       "      <td>Qatar National Research Fund</td>\n",
       "    </tr>\n",
       "    <tr>\n",
       "      <th>2</th>\n",
       "      <td>2-s2.0-85108691578</td>\n",
       "      <td>10.1016/j.seta.2021.101320</td>\n",
       "      <td>S2213138821003301</td>\n",
       "      <td>None</td>\n",
       "      <td>Techno-economic optimization for grid-friendly...</td>\n",
       "      <td>ar</td>\n",
       "      <td>Article</td>\n",
       "      <td>Christiaanse T.V.</td>\n",
       "      <td>60032882;60003122</td>\n",
       "      <td>Technische Universiteit Eindhoven;University o...</td>\n",
       "      <td>...</td>\n",
       "      <td>None</td>\n",
       "      <td>101320</td>\n",
       "      <td>None</td>\n",
       "      <td>High levels of non-dispatchable photo-voltaic ...</td>\n",
       "      <td>Bi-level optimization | British Columbia | Ene...</td>\n",
       "      <td>0</td>\n",
       "      <td>0</td>\n",
       "      <td>VU</td>\n",
       "      <td>undefined</td>\n",
       "      <td>Victoria University</td>\n",
       "    </tr>\n",
       "    <tr>\n",
       "      <th>3</th>\n",
       "      <td>2-s2.0-85107622660</td>\n",
       "      <td>10.1016/j.enconman.2021.114327</td>\n",
       "      <td>S0196890421005033</td>\n",
       "      <td>None</td>\n",
       "      <td>Coordinated energy-environmental-economic opti...</td>\n",
       "      <td>ar</td>\n",
       "      <td>Article</td>\n",
       "      <td>Hong Y.</td>\n",
       "      <td>60104720;60073652;60022195;60015138;113229129</td>\n",
       "      <td>University of Nottingham Ningbo China;Tongji U...</td>\n",
       "      <td>...</td>\n",
       "      <td>None</td>\n",
       "      <td>114327</td>\n",
       "      <td>None</td>\n",
       "      <td>Given that energy-efficiency policies focus on...</td>\n",
       "      <td>Life-cycle cost analysis | Low-rise | Office b...</td>\n",
       "      <td>0</td>\n",
       "      <td>0</td>\n",
       "      <td>None</td>\n",
       "      <td>undefined</td>\n",
       "      <td>None</td>\n",
       "    </tr>\n",
       "    <tr>\n",
       "      <th>4</th>\n",
       "      <td>2-s2.0-85105000579</td>\n",
       "      <td>10.1016/j.ijepes.2021.106932</td>\n",
       "      <td>S0142061521001721</td>\n",
       "      <td>None</td>\n",
       "      <td>Cool roof coating impact on roof-mounted photo...</td>\n",
       "      <td>ar</td>\n",
       "      <td>Article</td>\n",
       "      <td>Rahmani F.</td>\n",
       "      <td>60011442;126136083</td>\n",
       "      <td>Lamar University;Momentum Bay LLC</td>\n",
       "      <td>...</td>\n",
       "      <td>None</td>\n",
       "      <td>106932</td>\n",
       "      <td>None</td>\n",
       "      <td>Cool-roofing is effective in reducing cooling ...</td>\n",
       "      <td>Cool roof coating | DC-coupled solar photovolt...</td>\n",
       "      <td>0</td>\n",
       "      <td>0</td>\n",
       "      <td>NCI</td>\n",
       "      <td>undefined</td>\n",
       "      <td>National Cancer Institute</td>\n",
       "    </tr>\n",
       "  </tbody>\n",
       "</table>\n",
       "<p>5 rows × 34 columns</p>\n",
       "</div>"
      ],
      "text/plain": [
       "                  eid                             doi                pii  \\\n",
       "0  2-s2.0-85110764627    10.1016/j.renene.2021.07.075  S0960148121010806   \n",
       "1  2-s2.0-85107176116      10.1038/s41598-021-91061-1               None   \n",
       "2  2-s2.0-85108691578      10.1016/j.seta.2021.101320  S2213138821003301   \n",
       "3  2-s2.0-85107622660  10.1016/j.enconman.2021.114327  S0196890421005033   \n",
       "4  2-s2.0-85105000579    10.1016/j.ijepes.2021.106932  S0142061521001721   \n",
       "\n",
       "  pubmed_id                                              title subtype  \\\n",
       "0      None  Markov chains estimation of the optimal period...      ar   \n",
       "1      None  Combined nano and micro structuring for enhanc...      ar   \n",
       "2      None  Techno-economic optimization for grid-friendly...      ar   \n",
       "3      None  Coordinated energy-environmental-economic opti...      ar   \n",
       "4      None  Cool roof coating impact on roof-mounted photo...      ar   \n",
       "\n",
       "  subtypeDescription             creator  \\\n",
       "0            Article  Sánchez-Barroso G.   \n",
       "1            Article         Perrakis G.   \n",
       "2            Article   Christiaanse T.V.   \n",
       "3            Article             Hong Y.   \n",
       "4            Article          Rahmani F.   \n",
       "\n",
       "                                            afid  \\\n",
       "0                             60017838;126596986   \n",
       "1                     60072753;60029857;60001524   \n",
       "2                              60032882;60003122   \n",
       "3  60104720;60073652;60022195;60015138;113229129   \n",
       "4                             60011442;126136083   \n",
       "\n",
       "                                           affilname  ... issueIdentifier  \\\n",
       "0     Universidad de Extremadura;InnoDesarrollo S.L.  ...            None   \n",
       "1  Texas A&amp;M University at Qatar;Foundation f...  ...               1   \n",
       "2  Technische Universiteit Eindhoven;University o...  ...            None   \n",
       "3  University of Nottingham Ningbo China;Tongji U...  ...            None   \n",
       "4                  Lamar University;Momentum Bay LLC  ...            None   \n",
       "\n",
       "  article_number pageRange                                        description  \\\n",
       "0           None   537-549  The European Dehesa has a very high potential ...   \n",
       "1          11552      None  Outdoor devices comprising materials with mid-...   \n",
       "2         101320      None  High levels of non-dispatchable photo-voltaic ...   \n",
       "3         114327      None  Given that energy-efficiency policies focus on...   \n",
       "4         106932      None  Cool-roofing is effective in reducing cooling ...   \n",
       "\n",
       "                                        authkeywords citedby_count openaccess  \\\n",
       "0  Cleaning frequency | Cleaning photovoltaic sys...             0          1   \n",
       "1                                               None             0          1   \n",
       "2  Bi-level optimization | British Columbia | Ene...             0          0   \n",
       "3  Life-cycle cost analysis | Low-rise | Office b...             0          0   \n",
       "4  Cool roof coating | DC-coupled solar photovolt...             0          0   \n",
       "\n",
       "  fund_acr          fund_no                  fund_sponsor  \n",
       "0      ESF          PD18047          European Social Fund  \n",
       "1     QNRF  NPRP9-383-1-083  Qatar National Research Fund  \n",
       "2       VU        undefined           Victoria University  \n",
       "3     None        undefined                          None  \n",
       "4      NCI        undefined     National Cancer Institute  \n",
       "\n",
       "[5 rows x 34 columns]"
      ]
     },
     "execution_count": 4,
     "metadata": {},
     "output_type": "execute_result"
    }
   ],
   "source": [
    "df_rooftop = pd.read_pickle(\"./210803/df_rooftop.pkl\")\n",
    "print(df_rooftop.shape)\n",
    "df_rooftop.head()"
   ]
  },
  {
   "cell_type": "code",
   "execution_count": 3,
   "metadata": {},
   "outputs": [],
   "source": [
    "filename = \"./210803/BIPV_ML.txt\"\n",
    "# artno = 0\n",
    "\n",
    "### document type\n",
    "# \"J\" = Journal\n",
    "# \"B\" = Book\n",
    "# \"S\" = Series\n",
    "# \"P\" = Patent\n",
    "dic_docu_type = {'Article': \"J\", \n",
    "                 'Review': \"J\", \n",
    "                 'Conference Paper': \"J\",\n",
    "                 'Conference Review': \"J\",\n",
    "                 'Book Chapter': \"B\",\n",
    "                 'Erratum': \"J\", \n",
    "                 'Letter': \"J\",\n",
    "                 '[No source information available]': \"J\", \n",
    "                 'Note': \"J\", \n",
    "                 'Short Survey': \"J\",\n",
    "                 'Book': \"B\", \n",
    "                 'Retracted': \"B\", \n",
    "                 'Editorial': \"S\"}\n",
    "\n",
    "### language\n",
    "dic_language = {'eng': \"English\",\n",
    "                'kor': \"Korean\"\n",
    "               }\n"
   ]
  },
  {
   "cell_type": "code",
   "execution_count": 5,
   "metadata": {},
   "outputs": [],
   "source": [
    "import os, calendar\n",
    "\n",
    "mode = \"a\" if os.path.exists(filename) else \"w\"\n",
    "\n",
    "if mode == \"w\":\n",
    "    with open(filename, mode) as datafile:\n",
    "        datafile.write(\"FN Clarivate Analytics Web of Science\\nVR 1.0\\n\")"
   ]
  },
  {
   "cell_type": "code",
   "execution_count": 6,
   "metadata": {},
   "outputs": [
    {
     "data": {
      "text/plain": [
       "eid                                                   2-s2.0-85110764627\n",
       "doi                                         10.1016/j.renene.2021.07.075\n",
       "pii                                                    S0960148121010806\n",
       "pubmed_id                                                           None\n",
       "title                  Markov chains estimation of the optimal period...\n",
       "subtype                                                               ar\n",
       "subtypeDescription                                               Article\n",
       "creator                                               Sánchez-Barroso G.\n",
       "afid                                                  60017838;126596986\n",
       "affilname                 Universidad de Extremadura;InnoDesarrollo S.L.\n",
       "affiliation_city                                         Badajoz;Badajoz\n",
       "affiliation_country                                          Spain;Spain\n",
       "author_count                                                           4\n",
       "author_names           Sánchez-Barroso, Gonzalo;González-Domínguez, J...\n",
       "author_ids               57216405703;57216406595;57197703890;57197479389\n",
       "author_afids                        60017838;60017838;60017838;126596986\n",
       "coverDate                                                     2021-12-01\n",
       "coverDisplayDate                                           December 2021\n",
       "publicationName                                         Renewable Energy\n",
       "issn                                                            09601481\n",
       "source_id                                                          27569\n",
       "eIssn                                                           18790682\n",
       "aggregationType                                                  Journal\n",
       "volume                                                               179\n",
       "issueIdentifier                                                     None\n",
       "article_number                                                      None\n",
       "pageRange                                                        537-549\n",
       "description            The European Dehesa has a very high potential ...\n",
       "authkeywords           Cleaning frequency | Cleaning photovoltaic sys...\n",
       "citedby_count                                                          0\n",
       "openaccess                                                             1\n",
       "fund_acr                                                             ESF\n",
       "fund_no                                                          PD18047\n",
       "fund_sponsor                                        European Social Fund\n",
       "Name: 0, dtype: object"
      ]
     },
     "execution_count": 6,
     "metadata": {},
     "output_type": "execute_result"
    }
   ],
   "source": [
    "df_row = df_bipv.iloc[0]\n",
    "df_row"
   ]
  },
  {
   "cell_type": "code",
   "execution_count": 7,
   "metadata": {},
   "outputs": [
    {
     "data": {
      "text/plain": [
       "0        Sánchez-Barroso, Gonzalo;González-Domínguez, J...\n",
       "1        Seljom, Pernille;Kvalbein, Lisa;Hellemo, Lars;...\n",
       "2        Lian, Weitao;Jiang, Chenhui;Yin, Yiwei;Tang, R...\n",
       "3        Perrakis, George;Tasolamprou, Anna C.;Kenanaki...\n",
       "4        Barton-Henry, Kelsey;Wenz, Leonie;Levermann, A...\n",
       "                               ...                        \n",
       "14380                  Eschenroeder, A. Q.;Martinez, J. R.\n",
       "14381    Zaar, E. I.;Zelikson, V. G.;Kitaigorodsky, M. ...\n",
       "14382            Hassan, S. A.;Dhanak, A. M.;Buelow, F. H.\n",
       "14383                     RUNYAN, W. R.;ALEXANDER, EARL G.\n",
       "14384    Keller, J. W.;Shelton, R. D.;Potter, R. A.;Lac...\n",
       "Name: author_names, Length: 14385, dtype: object"
      ]
     },
     "execution_count": 7,
     "metadata": {},
     "output_type": "execute_result"
    }
   ],
   "source": [
    "df_bipv['author_names']"
   ]
  },
  {
   "cell_type": "code",
   "execution_count": 8,
   "metadata": {},
   "outputs": [],
   "source": [
    "ab = AbstractRetrieval(df_bipv[\"eid\"].iloc[0], view=\"FULL\")"
   ]
  },
  {
   "cell_type": "code",
   "execution_count": 9,
   "metadata": {},
   "outputs": [
    {
     "data": {
      "text/plain": [
       "'j'"
      ]
     },
     "execution_count": 9,
     "metadata": {},
     "output_type": "execute_result"
    }
   ],
   "source": [
    "# 1. PT: publication type\n",
    "docu_type_ = ab.srctype\n",
    "docu_type_"
   ]
  },
  {
   "cell_type": "code",
   "execution_count": 10,
   "metadata": {},
   "outputs": [
    {
     "data": {
      "text/plain": [
       "['Sanchez-Barroso G.',\n",
       " 'Gonzalez-Dominguez J.',\n",
       " 'Garcia-Sanz-Calcedo J.',\n",
       " 'Sanz J.G.']"
      ]
     },
     "execution_count": 10,
     "metadata": {},
     "output_type": "execute_result"
    }
   ],
   "source": [
    "# 2. AU: index name\n",
    "index_name_ = [a.indexed_name for a in ab.authors]\n",
    "index_name_"
   ]
  },
  {
   "cell_type": "code",
   "execution_count": 11,
   "metadata": {},
   "outputs": [
    {
     "data": {
      "text/plain": [
       "['Sánchez-Barroso, Gonzalo',\n",
       " 'González-Domínguez, Jaime',\n",
       " 'García-Sanz-Calcedo, Justo',\n",
       " 'Sanz, Joaquín García']"
      ]
     },
     "execution_count": 11,
     "metadata": {},
     "output_type": "execute_result"
    }
   ],
   "source": [
    "# 3. AF: author name\n",
    "author_name_ = [f\"{a.surname}, {a.given_name}\" for a in ab.authors]\n",
    "author_name_"
   ]
  },
  {
   "cell_type": "code",
   "execution_count": 12,
   "metadata": {},
   "outputs": [
    {
     "data": {
      "text/plain": [
       "'Markov chains estimation of the optimal periodicity for cleaning photovoltaic panels installed in the dehesa'"
      ]
     },
     "execution_count": 12,
     "metadata": {},
     "output_type": "execute_result"
    }
   ],
   "source": [
    "# 4. TI: document title\n",
    "docu_title_ = df_row[\"title\"]\n",
    "docu_title_"
   ]
  },
  {
   "cell_type": "code",
   "execution_count": 13,
   "metadata": {},
   "outputs": [
    {
     "data": {
      "text/plain": [
       "'Renewable Energy'"
      ]
     },
     "execution_count": 13,
     "metadata": {},
     "output_type": "execute_result"
    }
   ],
   "source": [
    "# 5. SO: publication name\n",
    "src_title_ = ab.publicationName\n",
    "src_title_"
   ]
  },
  {
   "cell_type": "code",
   "execution_count": 14,
   "metadata": {},
   "outputs": [
    {
     "data": {
      "text/plain": [
       "'Renew. Energy'"
      ]
     },
     "execution_count": 14,
     "metadata": {},
     "output_type": "execute_result"
    }
   ],
   "source": [
    "# 5-1. publication abbr.\n",
    "src_abb_ = ab.sourcetitle_abbreviation\n",
    "src_abb_"
   ]
  },
  {
   "cell_type": "code",
   "execution_count": 15,
   "metadata": {},
   "outputs": [
    {
     "data": {
      "text/plain": [
       "'English'"
      ]
     },
     "execution_count": 15,
     "metadata": {},
     "output_type": "execute_result"
    }
   ],
   "source": [
    "# 6. LA : Language\n",
    "try:\n",
    "    language_ = dic_language[ab.language]\n",
    "except:\n",
    "    language_ = \"unknown\"\n",
    "language_"
   ]
  },
  {
   "cell_type": "code",
   "execution_count": 16,
   "metadata": {},
   "outputs": [
    {
     "data": {
      "text/plain": [
       "'ar'"
      ]
     },
     "execution_count": 16,
     "metadata": {},
     "output_type": "execute_result"
    }
   ],
   "source": [
    "# 7. DT : Document Type\n",
    "docu_type_ = ab.subtype\n",
    "docu_type_"
   ]
  },
  {
   "cell_type": "code",
   "execution_count": 17,
   "metadata": {},
   "outputs": [
    {
     "data": {
      "text/plain": [
       "'Cleaning frequency; Cleaning photovoltaic systems; Dust accumulation; Markov chains; Predictive maintenance'"
      ]
     },
     "execution_count": 17,
     "metadata": {},
     "output_type": "execute_result"
    }
   ],
   "source": [
    "# 8. DE : Author Keywords\n",
    "auth_kw_ = ab.authkeywords\n",
    "\n",
    "if not auth_kw_:\n",
    "    auth_kw_ = 'None'\n",
    "else:\n",
    "    auth_kw_ = '; '.join(auth_kw_)\n",
    "\n",
    "auth_kw_"
   ]
  },
  {
   "cell_type": "code",
   "execution_count": 18,
   "metadata": {},
   "outputs": [
    {
     "data": {
      "text/plain": [
       "'None'"
      ]
     },
     "execution_count": 18,
     "metadata": {},
     "output_type": "execute_result"
    }
   ],
   "source": [
    "# 9. ID : Keyword Plus\n",
    "kw_plus_ = 'None'\n",
    "kw_plus_"
   ]
  },
  {
   "cell_type": "code",
   "execution_count": 19,
   "metadata": {},
   "outputs": [
    {
     "data": {
      "text/plain": [
       "\"© 2021 The AuthorsThe European Dehesa has a very high potential for the production of clean energy due to the solar irradiation it receives. Its arid climate, however, means that airborne dust particles accumulate on the photovoltaic panels, with the resulting reduction in transmittance of the glass top-sheets. Cleaning the module surfaces involves an economic investment that, to be profitable, has to be offset by sufficient increased energy production. The objective of the present study was to determine the optimal periodicity for cleaning photovoltaic panels installed in the Dehesa, and thus subject to its specific climate. To this end, an experimental installation was set up, and three cleaning plans (monthly, quarterly, and semi-annually) were tested against equivalent not-cleaned controls. The results showed monthly cleaning to increase a year's worth of energy generation by 11.15%. From weekly inspections and continuous monitoring of the panels' output power, a Markov-chains based mathematical model of the degradation of energy production was developed. The conclusion drawn from it was that the cleaning frequency should be monthly from July to October (with the optimal frequency being every three weeks), but that from November to June cleaning is unprofitable since it provides no significant improvement in output. Modelling the degradation of energy output constitutes a powerful tool with which to increase the bankability of photovoltaic plants.\""
      ]
     },
     "execution_count": 19,
     "metadata": {},
     "output_type": "execute_result"
    }
   ],
   "source": [
    "# 10. AB : Abstract\n",
    "abstract_ = ab.abstract\n",
    "abstract_"
   ]
  },
  {
   "cell_type": "code",
   "execution_count": 30,
   "metadata": {},
   "outputs": [
    {
     "data": {
      "text/plain": [
       "[([57216405703, 57216406595, 57197703890],\n",
       "  ['Sánchez-Barroso G.', 'González-Domínguez J.', 'García-Sanz-Calcedo J.'],\n",
       "  60017838,\n",
       "  'Badajoz',\n",
       "  'Spain'),\n",
       " ([57197479389], ['Sanz J.G.'], 126596986, 'Badajoz', 'Spain')]"
      ]
     },
     "execution_count": 30,
     "metadata": {},
     "output_type": "execute_result"
    }
   ],
   "source": [
    "# 11. C1 : Author Address\n",
    "tmp = pd.DataFrame(ab.authorgroup)\n",
    "grouped = tmp.groupby('organization').agg(lambda x: list(x))\n",
    "\n",
    "aff_ids = [np.unique(aff_id)[0] for aff_id in grouped[\"affiliation_id\"].tolist()]\n",
    "citys = [np.unique(city)[0] for city in grouped[\"city\"].tolist()]\n",
    "countrys = [np.unique(country)[0] for country in grouped[\"country\"].tolist()]\n",
    "\n",
    "auids = [auid for auid in grouped[\"auid\"]]\n",
    "indexed_names = [indexed_name for indexed_name in grouped[\"indexed_name\"]]\n",
    "\n",
    "affs = list(zip(auids, indexed_names, aff_ids, citys, countrys))\n",
    "affs\n",
    "\n",
    "# df_aff = pd.DataFrame(ab.authorgroup)\n",
    "# grouped = df_aff.groupby(\"affiliation_id\")\n",
    "# grouped[[\"organization\", \"affiliation_id\", \"city\", \"country\"]]"
   ]
  },
  {
   "cell_type": "code",
   "execution_count": 58,
   "metadata": {},
   "outputs": [],
   "source": [
    "# 12. RP : Reprint Address\n",
    "rep_addr_ = \"None\""
   ]
  },
  {
   "cell_type": "code",
   "execution_count": 59,
   "metadata": {},
   "outputs": [],
   "source": [
    "# 13. EM : E-mail Address\n",
    "em_addr_ = \"None\""
   ]
  },
  {
   "cell_type": "code",
   "execution_count": 60,
   "metadata": {},
   "outputs": [],
   "source": [
    "# 14. CR : Cited References\n",
    "refs_ = []\n",
    "if ab.references != None:\n",
    "    tmp = pd.DataFrame(ab.references)\n",
    "    refcount = int(ab.refcount)\n",
    "    \n",
    "    for i in range(refcount):\n",
    "        tmp_ = tmp.iloc[i]\n",
    "        tmp_authors = tmp_['authors']\n",
    "        if tmp_authors == None:\n",
    "            tmp_authors = \"[Anonymous]\"\n",
    "        tmp_year = tmp_['publicationyear']\n",
    "        tmp_src = tmp_['sourcetitle']\n",
    "        tmp_vol = tmp_['volume']\n",
    "        tmp_page = tmp_['first']\n",
    "        tmp_doi = tmp_['doi']\n",
    "\n",
    "        ref = tmp_authors\n",
    "        for item in [tmp_year, tmp_src, tmp_vol, tmp_page]:\n",
    "            if item != None:\n",
    "                ref = ', '.join([ref, item])\n",
    "        if tmp_doi != None:\n",
    "            ref = ref + f\", DOI {tmp_doi}\"\n",
    "\n",
    "        if i == 0:\n",
    "            refs_.append(f\"CR {ref}\")\n",
    "        else:\n",
    "            refs_.append(f\"   {ref}\")"
   ]
  },
  {
   "cell_type": "code",
   "execution_count": 61,
   "metadata": {},
   "outputs": [],
   "source": [
    "# 15. NR : Cited Reference Count\n",
    "nr_ = ab.refcount\n",
    "\n",
    "# 16. TC : Web of Science Core Collection Times Cited Count\n",
    "tc_ = ab.citedby_count\n",
    "\n",
    "# 17. Z9 : Total Times Cited Count\n",
    "cc_ = tc_\n",
    "\n",
    "# 18. U1 : Usage Count (Last 180 Days)\n",
    "# 19. U2 : Usage Count (Since 2013)\n",
    "# 20. PU : Publisher = ELSEVIER SCI LTD\n",
    "# 21. PI : Publisher City = OXFORD\n",
    "# 22. PA : Publisher Address = THE BOULEVARD, LANGFORD LANE, KIDLINGTON, OXFORD OX5 1GB, OXON, ENGLAND\n",
    "# 23. SN : International Standard Serial Number (ISSN) = 0959-6526\n",
    "sn_ = \"None\" if ab.issn == None else ab.issn"
   ]
  },
  {
   "cell_type": "code",
   "execution_count": 66,
   "metadata": {},
   "outputs": [],
   "source": [
    "# 24. EI : Electronic International Standard Serial Number (eISSN) = 1879-1786\n",
    "# 25. J9 : 29-Character Source Abbreviation = J CLEAN PROD\n",
    "j9_ = ab.sourcetitle_abbreviation if ab.sourcetitle_abbreviation != None else \"None\"\n",
    "j9_ = j9_.upper()\n",
    "\n",
    "# 26. JI : ISO Source Abbreviation = J. Clean Prod.\n",
    "ji_ = ab.sourcetitle_abbreviation if ab.sourcetitle_abbreviation != None else \"None\"\n",
    "\n",
    "# 27. PD : Publication Date = JUL 1\n",
    "month = ab.coverDate.split('-')[1]\n",
    "date = ab.coverDate.split('-')[2]\n",
    "pd_ = f\"{calendar.month_name[int(month)][:3].upper()} {int(date)}\"\n",
    "\n",
    "# 28. PY : Publication Year = 2020\n",
    "py_ = ab.coverDate.split('-')[2]\n",
    "\n",
    "# 29. VL : Volumn = 260\n",
    "vl_ = ab.volume\n",
    "\n",
    "# 30. AR : Article Number = 121059\n",
    "ar_ = df_bipv[\"article_number\"].iloc[0] if df_bipv[\"article_number\"].iloc[0] != None else \"None\"\n",
    "\n",
    "# 31. DI : Digital Object Identifier = 10.1016/j.jclepro.2020.121059\n",
    "doi_ = ab.doi\n",
    "\n",
    "# 32. PG : Page Count = 14\n",
    "# 33. WC : Web of Science Categories = Green & Sustainable Science & Technology; Engineering, Environmental; Environmental Sciences\n",
    "# 34. SC : Research Areas = Science & Technology - Other Topics; Engineering; Environmental Sciences & Ecology\n",
    "tmp = pd.DataFrame(ab.subject_areas)\n",
    "tmp_ = tmp[\"area\"].tolist()\n",
    "sc_ = \"; \".join(tmp_)\n",
    "\n",
    "# 35. GA : Document Delivery Number = LL4XH\n",
    "# 36. UT : Accession Number = WOS:000531559900003\n",
    "# 37. DA : Date this report was generated. = 2020-06-14"
   ]
  },
  {
   "cell_type": "code",
   "execution_count": 57,
   "metadata": {},
   "outputs": [
    {
     "data": {
      "text/plain": [
       "[Area(area='Renewable Energy, Sustainability and the Environment', abbreviation='ENER', code=2105)]"
      ]
     },
     "execution_count": 57,
     "metadata": {},
     "output_type": "execute_result"
    }
   ],
   "source": [
    "ab.subject_areas"
   ]
  },
  {
   "cell_type": "code",
   "execution_count": 45,
   "metadata": {},
   "outputs": [
    {
     "data": {
      "text/plain": [
       "eid                                                   2-s2.0-85110764627\n",
       "doi                                         10.1016/j.renene.2021.07.075\n",
       "pii                                                    S0960148121010806\n",
       "pubmed_id                                                           None\n",
       "title                  Markov chains estimation of the optimal period...\n",
       "subtype                                                               ar\n",
       "subtypeDescription                                               Article\n",
       "creator                                               Sánchez-Barroso G.\n",
       "afid                                                  60017838;126596986\n",
       "affilname                 Universidad de Extremadura;InnoDesarrollo S.L.\n",
       "affiliation_city                                         Badajoz;Badajoz\n",
       "affiliation_country                                          Spain;Spain\n",
       "author_count                                                           4\n",
       "author_names           Sánchez-Barroso, Gonzalo;González-Domínguez, J...\n",
       "author_ids               57216405703;57216406595;57197703890;57197479389\n",
       "author_afids                        60017838;60017838;60017838;126596986\n",
       "coverDate                                                     2021-12-01\n",
       "coverDisplayDate                                           December 2021\n",
       "publicationName                                         Renewable Energy\n",
       "issn                                                            09601481\n",
       "source_id                                                          27569\n",
       "eIssn                                                           18790682\n",
       "aggregationType                                                  Journal\n",
       "volume                                                               179\n",
       "issueIdentifier                                                     None\n",
       "article_number                                                      None\n",
       "pageRange                                                        537-549\n",
       "description            The European Dehesa has a very high potential ...\n",
       "authkeywords           Cleaning frequency | Cleaning photovoltaic sys...\n",
       "citedby_count                                                          0\n",
       "openaccess                                                             1\n",
       "fund_acr                                                             ESF\n",
       "fund_no                                                          PD18047\n",
       "fund_sponsor                                        European Social Fund\n",
       "Name: 0, dtype: object"
      ]
     },
     "execution_count": 45,
     "metadata": {},
     "output_type": "execute_result"
    }
   ],
   "source": [
    "df_bipv.iloc[0]"
   ]
  },
  {
   "cell_type": "code",
   "execution_count": 48,
   "metadata": {},
   "outputs": [
    {
     "data": {
      "text/plain": [
       "['__class__',\n",
       " '__delattr__',\n",
       " '__dict__',\n",
       " '__dir__',\n",
       " '__doc__',\n",
       " '__eq__',\n",
       " '__format__',\n",
       " '__ge__',\n",
       " '__getattribute__',\n",
       " '__gt__',\n",
       " '__hash__',\n",
       " '__init__',\n",
       " '__init_subclass__',\n",
       " '__le__',\n",
       " '__lt__',\n",
       " '__module__',\n",
       " '__ne__',\n",
       " '__new__',\n",
       " '__reduce__',\n",
       " '__reduce_ex__',\n",
       " '__repr__',\n",
       " '__setattr__',\n",
       " '__sizeof__',\n",
       " '__str__',\n",
       " '__subclasshook__',\n",
       " '__weakref__',\n",
       " '_cache_file_path',\n",
       " '_confevent',\n",
       " '_head',\n",
       " '_header',\n",
       " '_json',\n",
       " '_mdate',\n",
       " '_ref',\n",
       " '_refresh',\n",
       " '_view',\n",
       " 'abstract',\n",
       " 'affiliation',\n",
       " 'aggregationType',\n",
       " 'authkeywords',\n",
       " 'authorgroup',\n",
       " 'authors',\n",
       " 'chemicals',\n",
       " 'citedby_count',\n",
       " 'citedby_link',\n",
       " 'confcode',\n",
       " 'confdate',\n",
       " 'conflocation',\n",
       " 'confname',\n",
       " 'confsponsor',\n",
       " 'contributor_group',\n",
       " 'correspondence',\n",
       " 'coverDate',\n",
       " 'description',\n",
       " 'doi',\n",
       " 'eid',\n",
       " 'endingPage',\n",
       " 'funding',\n",
       " 'funding_text',\n",
       " 'get_bibtex',\n",
       " 'get_cache_file_age',\n",
       " 'get_cache_file_mdate',\n",
       " 'get_html',\n",
       " 'get_key_remaining_quota',\n",
       " 'get_key_reset_time',\n",
       " 'get_latex',\n",
       " 'get_ris',\n",
       " 'identifier',\n",
       " 'idxterms',\n",
       " 'isbn',\n",
       " 'issn',\n",
       " 'issueIdentifier',\n",
       " 'issuetitle',\n",
       " 'language',\n",
       " 'openaccess',\n",
       " 'openaccessFlag',\n",
       " 'pageRange',\n",
       " 'pii',\n",
       " 'publicationName',\n",
       " 'publisher',\n",
       " 'publisheraddress',\n",
       " 'pubmed_id',\n",
       " 'refcount',\n",
       " 'references',\n",
       " 'scopus_link',\n",
       " 'self_link',\n",
       " 'sequencebank',\n",
       " 'source_id',\n",
       " 'sourcetitle_abbreviation',\n",
       " 'srctype',\n",
       " 'startingPage',\n",
       " 'subject_areas',\n",
       " 'subtype',\n",
       " 'subtypedescription',\n",
       " 'title',\n",
       " 'url',\n",
       " 'volume',\n",
       " 'website']"
      ]
     },
     "execution_count": 48,
     "metadata": {},
     "output_type": "execute_result"
    }
   ],
   "source": [
    "dir(ab)"
   ]
  },
  {
   "cell_type": "code",
   "execution_count": 316,
   "metadata": {},
   "outputs": [
    {
     "ename": "Scopus500Error",
     "evalue": "Error calling XAbstractRetrieval service for eid(s) 2-s2.0-84884665084",
     "output_type": "error",
     "traceback": [
      "\u001b[0;31m\u001b[0m",
      "\u001b[0;31mScopus500Error\u001b[0mTraceback (most recent call last)",
      "\u001b[0;32m<ipython-input-316-87124951c9d7>\u001b[0m in \u001b[0;36m<module>\u001b[0;34m\u001b[0m\n\u001b[1;32m      1\u001b[0m \u001b[0;32mfor\u001b[0m \u001b[0martno\u001b[0m \u001b[0;32min\u001b[0m \u001b[0mrange\u001b[0m\u001b[0;34m(\u001b[0m\u001b[0;36m398\u001b[0m\u001b[0;34m,\u001b[0m \u001b[0mscopus\u001b[0m\u001b[0;34m.\u001b[0m\u001b[0mshape\u001b[0m\u001b[0;34m[\u001b[0m\u001b[0;36m0\u001b[0m\u001b[0;34m]\u001b[0m\u001b[0;34m)\u001b[0m\u001b[0;34m:\u001b[0m\u001b[0;34m\u001b[0m\u001b[0;34m\u001b[0m\u001b[0m\n\u001b[0;32m----> 2\u001b[0;31m     \u001b[0mab\u001b[0m \u001b[0;34m=\u001b[0m \u001b[0mAbstractRetrieval\u001b[0m\u001b[0;34m(\u001b[0m\u001b[0mscopus\u001b[0m\u001b[0;34m[\u001b[0m\u001b[0;34m\"EID\"\u001b[0m\u001b[0;34m]\u001b[0m\u001b[0;34m.\u001b[0m\u001b[0miloc\u001b[0m\u001b[0;34m[\u001b[0m\u001b[0martno\u001b[0m\u001b[0;34m]\u001b[0m\u001b[0;34m,\u001b[0m \u001b[0mview\u001b[0m\u001b[0;34m=\u001b[0m\u001b[0;34m\"FULL\"\u001b[0m\u001b[0;34m)\u001b[0m\u001b[0;34m\u001b[0m\u001b[0;34m\u001b[0m\u001b[0m\n\u001b[0m\u001b[1;32m      3\u001b[0m \u001b[0;34m\u001b[0m\u001b[0m\n\u001b[1;32m      4\u001b[0m     \u001b[0;32mif\u001b[0m \u001b[0mscopus\u001b[0m\u001b[0;34m[\u001b[0m\u001b[0;34m\"Authors\"\u001b[0m\u001b[0;34m]\u001b[0m\u001b[0;34m.\u001b[0m\u001b[0miloc\u001b[0m\u001b[0;34m[\u001b[0m\u001b[0martno\u001b[0m\u001b[0;34m]\u001b[0m \u001b[0;34m!=\u001b[0m \u001b[0;34m'[No author name available]'\u001b[0m\u001b[0;34m:\u001b[0m\u001b[0;34m\u001b[0m\u001b[0;34m\u001b[0m\u001b[0m\n\u001b[1;32m      5\u001b[0m         \u001b[0mmode\u001b[0m \u001b[0;34m=\u001b[0m \u001b[0;34m\"a\"\u001b[0m \u001b[0;32mif\u001b[0m \u001b[0mos\u001b[0m\u001b[0;34m.\u001b[0m\u001b[0mpath\u001b[0m\u001b[0;34m.\u001b[0m\u001b[0mexists\u001b[0m\u001b[0;34m(\u001b[0m\u001b[0mfilename\u001b[0m\u001b[0;34m)\u001b[0m \u001b[0;32melse\u001b[0m \u001b[0;34m\"w\"\u001b[0m\u001b[0;34m\u001b[0m\u001b[0;34m\u001b[0m\u001b[0m\n",
      "\u001b[0;32m/opt/conda/lib/python3.7/site-packages/pybliometrics/scopus/abstract_retrieval.py\u001b[0m in \u001b[0;36m__init__\u001b[0;34m(self, identifier, refresh, view, id_type)\u001b[0m\n\u001b[1;32m    605\u001b[0m         \u001b[0;31m# Load json\u001b[0m\u001b[0;34m\u001b[0m\u001b[0;34m\u001b[0m\u001b[0;34m\u001b[0m\u001b[0m\n\u001b[1;32m    606\u001b[0m         Retrieval.__init__(self, identifier=identifier, id_type=id_type,\n\u001b[0;32m--> 607\u001b[0;31m                            api='AbstractRetrieval', refresh=refresh, view=view)\n\u001b[0m\u001b[1;32m    608\u001b[0m         \u001b[0mself\u001b[0m\u001b[0;34m.\u001b[0m\u001b[0m_json\u001b[0m \u001b[0;34m=\u001b[0m \u001b[0mself\u001b[0m\u001b[0;34m.\u001b[0m\u001b[0m_json\u001b[0m\u001b[0;34m[\u001b[0m\u001b[0;34m'abstracts-retrieval-response'\u001b[0m\u001b[0;34m]\u001b[0m\u001b[0;34m\u001b[0m\u001b[0;34m\u001b[0m\u001b[0m\n\u001b[1;32m    609\u001b[0m         \u001b[0mself\u001b[0m\u001b[0;34m.\u001b[0m\u001b[0m_head\u001b[0m \u001b[0;34m=\u001b[0m \u001b[0mchained_get\u001b[0m\u001b[0;34m(\u001b[0m\u001b[0mself\u001b[0m\u001b[0;34m.\u001b[0m\u001b[0m_json\u001b[0m\u001b[0;34m,\u001b[0m \u001b[0;34m[\u001b[0m\u001b[0;34m\"item\"\u001b[0m\u001b[0;34m,\u001b[0m \u001b[0;34m\"bibrecord\"\u001b[0m\u001b[0;34m,\u001b[0m \u001b[0;34m\"head\"\u001b[0m\u001b[0;34m]\u001b[0m\u001b[0;34m,\u001b[0m \u001b[0;34m{\u001b[0m\u001b[0;34m}\u001b[0m\u001b[0;34m)\u001b[0m\u001b[0;34m\u001b[0m\u001b[0;34m\u001b[0m\u001b[0m\n",
      "\u001b[0;32m/opt/conda/lib/python3.7/site-packages/pybliometrics/scopus/superclasses/retrieval.py\u001b[0m in \u001b[0;36m__init__\u001b[0;34m(self, identifier, api, refresh, view, id_type, date)\u001b[0m\n\u001b[1;32m     60\u001b[0m         \u001b[0;31m# Parse file contents\u001b[0m\u001b[0;34m\u001b[0m\u001b[0;34m\u001b[0m\u001b[0;34m\u001b[0m\u001b[0m\n\u001b[1;32m     61\u001b[0m         \u001b[0mqfile\u001b[0m \u001b[0;34m=\u001b[0m \u001b[0mjoin\u001b[0m\u001b[0;34m(\u001b[0m\u001b[0mget_folder\u001b[0m\u001b[0;34m(\u001b[0m\u001b[0mapi\u001b[0m\u001b[0;34m,\u001b[0m \u001b[0mview\u001b[0m\u001b[0;34m)\u001b[0m\u001b[0;34m,\u001b[0m \u001b[0midentifier\u001b[0m\u001b[0;34m.\u001b[0m\u001b[0mreplace\u001b[0m\u001b[0;34m(\u001b[0m\u001b[0;34m'/'\u001b[0m\u001b[0;34m,\u001b[0m \u001b[0;34m'_'\u001b[0m\u001b[0;34m)\u001b[0m\u001b[0;34m)\u001b[0m\u001b[0;34m\u001b[0m\u001b[0;34m\u001b[0m\u001b[0m\n\u001b[0;32m---> 62\u001b[0;31m         \u001b[0mBase\u001b[0m\u001b[0;34m.\u001b[0m\u001b[0m__init__\u001b[0m\u001b[0;34m(\u001b[0m\u001b[0mself\u001b[0m\u001b[0;34m,\u001b[0m \u001b[0mqfile\u001b[0m\u001b[0;34m,\u001b[0m \u001b[0mrefresh\u001b[0m\u001b[0;34m,\u001b[0m \u001b[0mparams\u001b[0m\u001b[0;34m=\u001b[0m\u001b[0mparams\u001b[0m\u001b[0;34m,\u001b[0m \u001b[0murl\u001b[0m\u001b[0;34m=\u001b[0m\u001b[0murl\u001b[0m\u001b[0;34m)\u001b[0m\u001b[0;34m\u001b[0m\u001b[0;34m\u001b[0m\u001b[0m\n\u001b[0m\u001b[1;32m     63\u001b[0m         \u001b[0;31m# print(self._json)\u001b[0m\u001b[0;34m\u001b[0m\u001b[0;34m\u001b[0m\u001b[0;34m\u001b[0m\u001b[0m\n\u001b[1;32m     64\u001b[0m         \u001b[0mself\u001b[0m\u001b[0;34m.\u001b[0m\u001b[0m_view\u001b[0m \u001b[0;34m=\u001b[0m \u001b[0mview\u001b[0m\u001b[0;34m\u001b[0m\u001b[0;34m\u001b[0m\u001b[0m\n",
      "\u001b[0;32m/opt/conda/lib/python3.7/site-packages/pybliometrics/scopus/superclasses/base.py\u001b[0m in \u001b[0;36m__init__\u001b[0;34m(self, fname, refresh, params, url, download, max_entries, verbose, *args, **kwds)\u001b[0m\n\u001b[1;32m     90\u001b[0m                     \u001b[0mself\u001b[0m\u001b[0;34m.\u001b[0m\u001b[0m_json\u001b[0m \u001b[0;34m=\u001b[0m \u001b[0;34m[\u001b[0m\u001b[0;34m]\u001b[0m\u001b[0;34m\u001b[0m\u001b[0;34m\u001b[0m\u001b[0m\n\u001b[1;32m     91\u001b[0m             \u001b[0;32melse\u001b[0m\u001b[0;34m:\u001b[0m\u001b[0;34m\u001b[0m\u001b[0;34m\u001b[0m\u001b[0m\n\u001b[0;32m---> 92\u001b[0;31m                 \u001b[0mcontent\u001b[0m \u001b[0;34m=\u001b[0m \u001b[0mget_content\u001b[0m\u001b[0;34m(\u001b[0m\u001b[0murl\u001b[0m\u001b[0;34m,\u001b[0m \u001b[0mparams\u001b[0m\u001b[0;34m,\u001b[0m \u001b[0;34m*\u001b[0m\u001b[0margs\u001b[0m\u001b[0;34m,\u001b[0m \u001b[0;34m**\u001b[0m\u001b[0mkwds\u001b[0m\u001b[0;34m)\u001b[0m\u001b[0;34m.\u001b[0m\u001b[0mtext\u001b[0m\u001b[0;34m.\u001b[0m\u001b[0mencode\u001b[0m\u001b[0;34m(\u001b[0m\u001b[0;34m'utf-8'\u001b[0m\u001b[0;34m)\u001b[0m\u001b[0;34m\u001b[0m\u001b[0;34m\u001b[0m\u001b[0m\n\u001b[0m\u001b[1;32m     93\u001b[0m                 \u001b[0mself\u001b[0m\u001b[0;34m.\u001b[0m\u001b[0m_json\u001b[0m \u001b[0;34m=\u001b[0m \u001b[0mloads\u001b[0m\u001b[0;34m(\u001b[0m\u001b[0mcontent\u001b[0m\u001b[0;34m)\u001b[0m\u001b[0;34m\u001b[0m\u001b[0;34m\u001b[0m\u001b[0m\n\u001b[1;32m     94\u001b[0m                 \u001b[0;32mwith\u001b[0m \u001b[0mopen\u001b[0m\u001b[0;34m(\u001b[0m\u001b[0mfname\u001b[0m\u001b[0;34m,\u001b[0m \u001b[0;34m'wb'\u001b[0m\u001b[0;34m)\u001b[0m \u001b[0;32mas\u001b[0m \u001b[0mf\u001b[0m\u001b[0;34m:\u001b[0m\u001b[0;34m\u001b[0m\u001b[0;34m\u001b[0m\u001b[0m\n",
      "\u001b[0;32m/opt/conda/lib/python3.7/site-packages/pybliometrics/scopus/utils/get_content.py\u001b[0m in \u001b[0;36mget_content\u001b[0;34m(url, params, *args, **kwds)\u001b[0m\n\u001b[1;32m     83\u001b[0m             \u001b[0;32mexcept\u001b[0m\u001b[0;34m:\u001b[0m\u001b[0;34m\u001b[0m\u001b[0;34m\u001b[0m\u001b[0m\n\u001b[1;32m     84\u001b[0m                 \u001b[0mreason\u001b[0m \u001b[0;34m=\u001b[0m \u001b[0;34m\"\"\u001b[0m\u001b[0;34m\u001b[0m\u001b[0;34m\u001b[0m\u001b[0m\n\u001b[0;32m---> 85\u001b[0;31m         \u001b[0;32mraise\u001b[0m \u001b[0merrors\u001b[0m\u001b[0;34m[\u001b[0m\u001b[0mresp\u001b[0m\u001b[0;34m.\u001b[0m\u001b[0mstatus_code\u001b[0m\u001b[0;34m]\u001b[0m\u001b[0;34m(\u001b[0m\u001b[0mreason\u001b[0m\u001b[0;34m)\u001b[0m\u001b[0;34m\u001b[0m\u001b[0;34m\u001b[0m\u001b[0m\n\u001b[0m\u001b[1;32m     86\u001b[0m     \u001b[0;32mexcept\u001b[0m \u001b[0mKeyError\u001b[0m\u001b[0;34m:\u001b[0m\u001b[0;34m\u001b[0m\u001b[0;34m\u001b[0m\u001b[0m\n\u001b[1;32m     87\u001b[0m         \u001b[0mresp\u001b[0m\u001b[0;34m.\u001b[0m\u001b[0mraise_for_status\u001b[0m\u001b[0;34m(\u001b[0m\u001b[0;34m)\u001b[0m\u001b[0;34m\u001b[0m\u001b[0;34m\u001b[0m\u001b[0m\n",
      "\u001b[0;31mScopus500Error\u001b[0m: Error calling XAbstractRetrieval service for eid(s) 2-s2.0-84884665084"
     ]
    }
   ],
   "source": [
    "for artno in range(df_bipv.shape[0]):\n",
    "    ab = AbstractRetrieval(scopus[\"eid\"].iloc[artno], view=\"FULL\")\n",
    "    \n",
    "    if scopus[\"Authors\"].iloc[artno] != '[No author name available]':   \n",
    "        mode = \"a\" if os.path.exists(filename) else \"w\"\n",
    "        with open(filename, mode) as datafile:\n",
    "            # 1. PT: publication type\n",
    "            docu_type_ = scopus[\"Document Type\"].iloc[artno]\n",
    "            try:\n",
    "                docu_type_0 = dic_docu_type[docu_type_]\n",
    "            except:\n",
    "                docu_type_0 = \"unknown\"\n",
    "            datafile.write(f\"PT {docu_type_0}\\n\")\n",
    "\n",
    "            # 2. AU: author names\n",
    "            indexed_name_ = pd.DataFrame(ab.authors)['indexed_name'].tolist()    \n",
    "            datafile.write(f\"AU {indexed_name_[0]}\\n\")\n",
    "            for i in range(1, len(indexed_name_)):\n",
    "                datafile.write(f\"   {indexed_name_[i]}\\n\")\n",
    "\n",
    "            # 3. AF: author names, full\n",
    "            full_name_ = pd.DataFrame(ab.authors)[[\"surname\", \"given_name\"]].apply(lambda s: f\"{s[0]}, {s[1]}\", axis=1).tolist()\n",
    "            datafile.write(f\"AF {full_name_[0]}\\n\")\n",
    "            for i in range(1, len(full_name_)):\n",
    "                datafile.write(f\"   {full_name_[i]}\\n\")\n",
    "\n",
    "            # 4. TI: document title\n",
    "            docu_title_ = scopus[\"Title\"].iloc[artno]\n",
    "            datafile.write(f\"TI {docu_title_}\\n\")\n",
    "\n",
    "            # 5. SO: publication name\n",
    "            src_title_ = scopus[\"Source title\"].iloc[artno]\n",
    "            datafile.write(f\"SO {src_title_}\\n\")\n",
    "\n",
    "            # 6. LA : Language\n",
    "            try:\n",
    "                language_ = dic_language[ab.language]\n",
    "            except:\n",
    "                language_ = \"unknown\"\n",
    "            datafile.write(f\"LA {language_}\\n\")\n",
    "\n",
    "            # 7. DT : Document Type\n",
    "            docu_type_ = scopus[\"Document Type\"].iloc[artno]\n",
    "            datafile.write(f\"DT {docu_type_}\\n\")\n",
    "\n",
    "            # 8. DE : Author Keywords\n",
    "            auth_kw_ = ab.authkeywords\n",
    "            if auth_kw_ == None:\n",
    "                datafile.write(\"DE None\\n\")\n",
    "            else:\n",
    "                datafile.write(f\"DE {'; '.join(auth_kw_)}\\n\")\n",
    "\n",
    "            # 9. ID : Keyword Plus\n",
    "            datafile.write(\"ID None\\n\")\n",
    "\n",
    "            # 10. AB : Abstract\n",
    "            datafile.write(f\"AB {ab.abstract}\\n\")\n",
    "\n",
    "            # 11. C1 : Author Address\n",
    "            tmp = pd.DataFrame(ab.authorgroup)\n",
    "            grouped = tmp.groupby('organization')\n",
    "            aff_ids = tmp[\"organization\"].unique()\n",
    "\n",
    "            if len(aff_ids) > 0:\n",
    "                for i, aff_id in enumerate(aff_ids):\n",
    "                    if aff_id != None:\n",
    "                        group = grouped.get_group(aff_id)\n",
    "                        names = group[[\"surname\", \"given_name\"]].apply(lambda s: f\"{s[0]}, {s[1]}\", axis=1).tolist()\n",
    "                        aff = group[[\"organization\", \"city\", \"postalcode\", \"addresspart\", \"country\"]].apply(lambda s: f\"{s[0]}, {s[1]}, {s[2]}, {s[3]}, {s[4]}\", axis=1).iloc[0]\n",
    "                        if i == 0:\n",
    "                            datafile.write('C1 [' + '; '.join(names) + f'] {aff}\\n')\n",
    "                        else:\n",
    "                            datafile.write('   [' + '; '.join(names) + f'] {aff}\\n')\n",
    "\n",
    "            # 12. RP : Reprint Address\n",
    "            datafile.write(f\"RP None\\n\")\n",
    "\n",
    "            # 13. EM : E-mail Address\n",
    "            datafile.write(f\"EM None\\n\")\n",
    "\n",
    "            # 14. CR : Cited References\n",
    "            if ab.references != None:\n",
    "                tmp = pd.DataFrame(ab.references)\n",
    "                refcount = int(ab.refcount)\n",
    "\n",
    "                for i in range(refcount):\n",
    "                    tmp_ = tmp.iloc[i]\n",
    "                    tmp_authors = tmp_['authors']\n",
    "                    if tmp_authors == None:\n",
    "                        tmp_authors = \"[Anonymous]\"\n",
    "                    tmp_year = tmp_['publicationyear']\n",
    "                    tmp_src = tmp_['sourcetitle']\n",
    "                    tmp_vol = tmp_['volume']\n",
    "                    tmp_page = tmp_['first']\n",
    "                    tmp_doi = tmp_['doi']\n",
    "\n",
    "                    ref = tmp_authors\n",
    "                    for item in [tmp_year, tmp_src, tmp_vol, tmp_page]:\n",
    "                        if item != None:\n",
    "                            ref = ', '.join([ref, item])\n",
    "                    if tmp_doi != None:\n",
    "                        ref = ref + f\", DOI {tmp_doi}\"\n",
    "\n",
    "                    if i == 0:\n",
    "                        datafile.write(f\"CR {ref}\\n\")\n",
    "                    else:\n",
    "                        datafile.write(f\"   {ref}\\n\")\n",
    "\n",
    "            # 15. NR : Cited Reference Count\n",
    "            datafile.write(f\"NR {refcount}\\n\")\n",
    "\n",
    "            # 16. TC : Web of Science Core Collection Times Cited Count\n",
    "            citecount = ab.citedby_count\n",
    "            datafile.write(f\"TC {citecount}\\n\")\n",
    "\n",
    "            # 17. Z9 : Total Times Cited Count\n",
    "            datafile.write(f\"Z9 {citecount}\\n\")\n",
    "\n",
    "            # 18. U1 : Usage Count (Last 180 Days)\n",
    "            # 19. U2 : Usage Count (Since 2013)\n",
    "            # 20. PU : Publisher = ELSEVIER SCI LTD\n",
    "            # 21. PI : Publisher City = OXFORD\n",
    "            # 22. PA : Publisher Address = THE BOULEVARD, LANGFORD LANE, KIDLINGTON, OXFORD OX5 1GB, OXON, ENGLAND\n",
    "            # 23. SN : International Standard Serial Number (ISSN) = 0959-6526\n",
    "            if ab.issn != None:\n",
    "                datafile.write(f\"SN {ab.issn}\\n\")\n",
    "\n",
    "            # 24. EI : Electronic International Standard Serial Number (eISSN) = 1879-1786\n",
    "            # 25. J9 : 29-Character Source Abbreviation = J CLEAN PROD\n",
    "            if ab.sourcetitle_abbreviation != None:\n",
    "                datafile.write(f\"J9 {ab.sourcetitle_abbreviation.upper()}\\n\")\n",
    "\n",
    "            # 26. JI : ISO Source Abbreviation = J. Clean Prod.\n",
    "                datafile.write(f\"JI {ab.sourcetitle_abbreviation}\\n\")\n",
    "\n",
    "            # 27. PD : Publication Date = JUL 1\n",
    "            if ab.coverDate != None:\n",
    "                month = ab.coverDate.split('-')[1]\n",
    "                date = ab.coverDate.split('-')[2]\n",
    "                datafile.write(f\"PD {calendar.month_name[int(month)][:3].upper()} {int(date)}\\n\")\n",
    "\n",
    "            # 28. PY : Publication Year = 2020\n",
    "            if scopus['Year'].iloc[artno] != None:\n",
    "                datafile.write(f\"PY {scopus['Year'].iloc[artno]}\\n\")\n",
    "\n",
    "            # 29. VL : Volumn = 260\n",
    "            if scopus['Volume'].iloc[artno] != None:\n",
    "                datafile.write(f\"VL {scopus['Volume'].iloc[artno]}\\n\")\n",
    "\n",
    "            # 30. AR : Article Number = 121059\n",
    "            if scopus['Art. No.'].iloc[artno] != None:\n",
    "                datafile.write(f\"AR {scopus['Art. No.'].iloc[artno]}\\n\")\n",
    "\n",
    "            # 31. DI : Digital Object Identifier = 10.1016/j.jclepro.2020.121059\n",
    "            if scopus['DOI'].iloc[artno] != None:\n",
    "                datafile.write(f\"DI {scopus['DOI'].iloc[artno]}\\n\")\n",
    "\n",
    "            # 32. PG : Page Count = 14\n",
    "            # 33. WC : Web of Science Categories = Green & Sustainable Science & Technology; Engineering, Environmental; Environmental Sciences\n",
    "            # 34. SC : Research Areas = Science & Technology - Other Topics; Engineering; Environmental Sciences & Ecology\n",
    "            if ab.subject_areas != None:\n",
    "                tmp = pd.DataFrame(ab.subject_areas)\n",
    "                tmp_ = tmp[\"area\"].tolist()\n",
    "                datafile.write(\"SC \" + \"; \".join(tmp_) + \"\\n\")\n",
    "            # 35. GA : Document Delivery Number = LL4XH\n",
    "            # 36. UT : Accession Number = WOS:000531559900003\n",
    "            # 37. DA : Date this report was generated. = 2020-06-14\n",
    "            datafile.write(f\"ER\\n\\n\")\n",
    "\n",
    "with open(filename, mode) as datafile:\n",
    "    datafile.write(f\"EF\")"
   ]
  }
 ],
 "metadata": {
  "kernelspec": {
   "display_name": "Python 3",
   "language": "python",
   "name": "python3"
  },
  "language_info": {
   "codemirror_mode": {
    "name": "ipython",
    "version": 3
   },
   "file_extension": ".py",
   "mimetype": "text/x-python",
   "name": "python",
   "nbconvert_exporter": "python",
   "pygments_lexer": "ipython3",
   "version": "3.7.7"
  }
 },
 "nbformat": 4,
 "nbformat_minor": 4
}
