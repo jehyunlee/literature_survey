{
 "cells": [
  {
   "cell_type": "code",
   "execution_count": 2,
   "metadata": {},
   "outputs": [],
   "source": [
    "%matplotlib inline\n",
    "\n",
    "import numpy as np\n",
    "import pandas as pd\n",
    "import matplotlib.pyplot as plt\n",
    "import re\n",
    "from pybliometrics.scopus import ScopusSearch\n",
    "from bs4 import BeautifulSoup\n",
    "import requests, json\n",
    "from docx import Document\n",
    "from docx.shared import Inches"
   ]
  },
  {
   "cell_type": "code",
   "execution_count": 3,
   "metadata": {},
   "outputs": [],
   "source": [
    "from my_apikeys import APIKeys"
   ]
  },
  {
   "cell_type": "code",
   "execution_count": null,
   "metadata": {},
   "outputs": [],
   "source": [
    "titles = [\n",
    "    \"First-Principles-Based Machine-Learning Molecular Dynamics for Crystalline Polymers with van der Waals interactions\",\n",
    "    \"Optimizing machine learning models for granular NdFeB magnets by very fast simulated annealing\",\n",
    "    \"Resonant vortex-core reversal in magnetic nano-spheres as robust mechanism of efficient energy absorption and emission\",\n",
    "    \"Temperature effect on vortex-core reversals in magnetic nanodots\",\n",
    "    \"Resonantly excited precession motion of three-dimensional vortex core in magnetic nanospheres\", \n",
    "    \"Self-assembled magnetic nanospheres with three-dimensional magnetic vortex\",\n",
    "    \"Magnetic Microstructure of Rolled-Up Single-Layer Ferromagnetic Nanomembranes\",\n",
    "    \n",
    "]"
   ]
  },
  {
   "cell_type": "code",
   "execution_count": null,
   "metadata": {},
   "outputs": [],
   "source": []
  },
  {
   "cell_type": "code",
   "execution_count": null,
   "metadata": {},
   "outputs": [],
   "source": []
  },
  {
   "cell_type": "code",
   "execution_count": 27,
   "metadata": {},
   "outputs": [],
   "source": [
    "# author id of \"Jehyun Lee\"\n",
    "author_id = \"55969873500\"\n",
    "\n",
    "author_r = requests.get(f\"http://api.elsevier.com/content/author?author_id={author_id}&view=metrics\",\n",
    "                        headers={'Accept':'application/json', 'X-ELS-APIKey': APIKeys[-2]})\n",
    "author_data = eval(json.dumps(author_r.json(), sort_keys=True, indent=4, separators=(',', ': ')))\n",
    "\n",
    "h_index = author_data['author-retrieval-response'][0][\"h-index\"]\n",
    "citedby_count_total = author_data['author-retrieval-response'][0][\"coredata\"]['cited-by-count']\n",
    "document_count_total = author_data['author-retrieval-response'][0][\"coredata\"]['document-count']\n",
    "\n",
    "print(h_index, citedby_count_total, document_count_total)"
   ]
  },
  {
   "cell_type": "code",
   "execution_count": 33,
   "metadata": {},
   "outputs": [
    {
     "data": {
      "text/plain": [
       "[('Hong, Sung Jun', '57221590144'),\n",
       " ('Chun, Hoje', '57195466596'),\n",
       " ('Lee, Jehyun', '55969873500'),\n",
       " ('Kim, Byung Hyun', '55502655900'),\n",
       " ('Seo, Min Ho', '57220796436'),\n",
       " ('Kang, Joonhee', '56076915900'),\n",
       " ('Han, Byungchan', '10639592000')]"
      ]
     },
     "execution_count": 33,
     "metadata": {},
     "output_type": "execute_result"
    }
   ],
   "source": [
    "title = \"First-Principles-Based Machine-Learning Molecular Dynamics for Crystalline Polymers with van der Waals interactions\"\n",
    "s_sample = ScopusSearch(f\"TITLE ({title})\").results[0]\n",
    "list(zip(s_sample.author_names.split(\";\"), s_sample.author_ids.split(\";\")))"
   ]
  },
  {
   "cell_type": "code",
   "execution_count": 34,
   "metadata": {},
   "outputs": [
    {
     "data": {
      "text/plain": [
       "[('Kim, Sang Koog', '7601587994'),\n",
       " ('Yoo, Myoung Woo', '35738330300'),\n",
       " ('Lee, Jehyun', '16029235100'),\n",
       " ('Lee, Ha Youn', '56206010000'),\n",
       " ('Lee, Jae Hyeok', '57206731799'),\n",
       " ('Gaididei, Yuri', '7005459050'),\n",
       " ('Kravchuk, Volodymyr P.', '15757587900'),\n",
       " ('Sheka, Denis D.', '6701719591')]"
      ]
     },
     "execution_count": 34,
     "metadata": {},
     "output_type": "execute_result"
    }
   ],
   "source": [
    "title = \"Resonantly excited precession motion of three-dimensional vortex core in magnetic nanospheres\"\n",
    "s_sample = ScopusSearch(f\"TITLE ({title})\").results[0]\n",
    "list(zip(s_sample.author_names.split(\";\"), s_sample.author_ids.split(\";\")))"
   ]
  },
  {
   "cell_type": "code",
   "execution_count": null,
   "metadata": {},
   "outputs": [],
   "source": [
    "author_pubs_ = requests.get(f\"http://api.elsevier.com/content/search/scopus?query=AU-ID({author_id})&field=dc:identifier&count=100\",\n",
    "                               headers={'Accept':'application/json',\n",
    "                                        'X-ELS-APIKey': APIKeys[-3]})\n",
    "author_pubs = author_pubs_.json()\n",
    "scopus_ids = [p['dc:identifier'] for p in author_pubs['search-results'][\"entry\"]]"
   ]
  },
  {
   "cell_type": "code",
   "execution_count": 18,
   "metadata": {},
   "outputs": [
    {
     "data": {
      "text/plain": [
       "100"
      ]
     },
     "execution_count": 18,
     "metadata": {},
     "output_type": "execute_result"
    }
   ],
   "source": [
    "len(author_pubs['search-results'][\"entry\"])"
   ]
  },
  {
   "cell_type": "code",
   "execution_count": 19,
   "metadata": {},
   "outputs": [],
   "source": [
    "def get_scopus_info(SCOPUS_ID):\n",
    "    url = (\"http://api.elsevier.com/content/abstract/scopus_id/\"\n",
    "          + SCOPUS_ID\n",
    "          + \"?field=authors,title,publicationName,volume,issueIdentifier,\"\n",
    "          + \"prism:pageRange,coverDate,article-number,doi,citedby-count,prism:aggregationType\")\n",
    "    resp = requests.get(url,\n",
    "                    headers={'Accept':'application/json',\n",
    "                             'X-ELS-APIKey': APIKeys[-3]})\n",
    "    results = json.loads(resp.text.encode('utf-8'))\n",
    "    \n",
    "    authors = ', '.join([au['ce:indexed-name'] for au in results['abstracts-retrieval-response']['authors']['author']])\n",
    "    title = results['abstracts-retrieval-response']['coredata']['dc:title']\n",
    "    pubtype = results['abstracts-retrieval-response']['coredata']['prism:aggregationType']\n",
    "    journal = results['abstracts-retrieval-response']['coredata']['prism:publicationName']\n",
    "    volume = results['abstracts-retrieval-response']['coredata']['prism:volume']\n",
    "    articlenum = (results['abstracts-retrieval-response']['coredata'].get('prism:pageRange') or\n",
    "                  results['abstracts-retrieval-response']['coredata'].get('article-number'))\n",
    "    date = results['abstracts-retrieval-response']['coredata']['prism:coverDate']\n",
    "    doi = 'doi:' + results['abstracts-retrieval-response']['coredata']['prism:doi']\n",
    "    cites = int(results['abstracts-retrieval-response']['coredata']['citedby-count'])\n",
    "    \n",
    "    return pubtype, f'{authors}, {title}, {journal}, {volume}, {articlenum}, ({date}). {doi} (cited {cites} times).\\n'"
   ]
  },
  {
   "cell_type": "code",
   "execution_count": 20,
   "metadata": {},
   "outputs": [
    {
     "name": "stdout",
     "output_type": "stream",
     "text": [
      "94\n"
     ]
    }
   ],
   "source": [
    "pub_no = 1\n",
    "pubs = []\n",
    "for sid in scopus_ids:\n",
    "    try:\n",
    "        pub_type, pub_info = get_scopus_info(sid)\n",
    "        if pub_type == 'Journal':\n",
    "            pubs.append(f\"{pub_info}\")\n",
    "            pub_no += 1\n",
    "    except:\n",
    "        pass\n",
    "\n",
    "print(pub_no)"
   ]
  },
  {
   "cell_type": "code",
   "execution_count": 24,
   "metadata": {},
   "outputs": [],
   "source": [
    "# export to .docx file\n",
    "document = Document()\n",
    "document.add_heading(f\"Jehyun Lee({len(pubs)} publications)\\n\")\n",
    "\n",
    "for pub in pubs:\n",
    "    document.add_paragraph(f'{pub}', style='List Number')\n",
    "document.save(f'my_CV.docx')"
   ]
  },
  {
   "cell_type": "code",
   "execution_count": null,
   "metadata": {},
   "outputs": [],
   "source": []
  }
 ],
 "metadata": {
  "kernelspec": {
   "display_name": "Python 3",
   "language": "python",
   "name": "python3"
  },
  "language_info": {
   "codemirror_mode": {
    "name": "ipython",
    "version": 3
   },
   "file_extension": ".py",
   "mimetype": "text/x-python",
   "name": "python",
   "nbconvert_exporter": "python",
   "pygments_lexer": "ipython3",
   "version": "3.7.4"
  }
 },
 "nbformat": 4,
 "nbformat_minor": 4
}
