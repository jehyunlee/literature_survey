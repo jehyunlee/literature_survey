{
 "cells": [
  {
   "cell_type": "code",
   "execution_count": 1,
   "metadata": {},
   "outputs": [],
   "source": [
    "%matplotlib inline\n",
    "\n",
    "import numpy as np\n",
    "import pandas as pd\n",
    "import matplotlib.pyplot as plt"
   ]
  },
  {
   "cell_type": "code",
   "execution_count": 3,
   "metadata": {},
   "outputs": [
    {
     "data": {
      "text/plain": [
       "[(1980, 140, 29414),\n",
       " (1981, 188, 31114),\n",
       " (1982, 170, 32080),\n",
       " (1983, 168, 35418),\n",
       " (1984, 226, 37805),\n",
       " (1985, 167, 38063),\n",
       " (1986, 135, 36245),\n",
       " (1987, 119, 35611),\n",
       " (1988, 101, 35488),\n",
       " (1989, 122, 38651),\n",
       " (1990, 156, 39565),\n",
       " (1991, 190, 43342),\n",
       " (1992, 272, 43732),\n",
       " (1993, 279, 49231),\n",
       " (1994, 376, 53558),\n",
       " (1995, 284, 55163),\n",
       " (1996, 436, 63704),\n",
       " (1997, 384, 65268),\n",
       " (1998, 389, 66079),\n",
       " (1999, 401, 67623),\n",
       " (2000, 532, 75352),\n",
       " (2001, 777, 80184),\n",
       " (2002, 1008, 85835),\n",
       " (2003, 1427, 93293),\n",
       " (2004, 1689, 106902),\n",
       " (2005, 2074, 115845),\n",
       " (2006, 2414, 118515),\n",
       " (2007, 3452, 127306),\n",
       " (2008, 5256, 138525),\n",
       " (2009, 5668, 147398),\n",
       " (2010, 6058, 157844),\n",
       " (2011, 7671, 176052),\n",
       " (2012, 8972, 186907),\n",
       " (2013, 10101, 200520),\n",
       " (2014, 11362, 212975),\n",
       " (2015, 11656, 220282),\n",
       " (2016, 13625, 233189),\n",
       " (2017, 16024, 258110),\n",
       " (2018, 17999, 270728),\n",
       " (2019, 21173, 294170),\n",
       " (2020, 11916, 179887)]"
      ]
     },
     "execution_count": 3,
     "metadata": {},
     "output_type": "execute_result"
    }
   ],
   "source": [
    "years = list(range(1980, 2021))\n",
    "pubs_renewable = [140, 188, 170, 168, 226, 167, 135, 119, 101, 122, 156, 190, 272, 279, 376, 284, 436, 384, 389, 401, 532, 777, 1008, 1427, 1689, 2074, 2414, 3452, 5256, 5668, 6058, 7671, 8972, 10101, 11362, 11656, 13625, 16024, 17999, 21173, 11916]\n",
    "pubs_energy = [29414, 31114, 32080, 35418, 37805, 38063, 36245, 35611, 35488, 38651, 39565, 43342, 43732, 49231, 53558, 55163, 63704, 65268, 66079, 67623, 75352, 80184, 85835, 93293, 106902, 115845, 118515, 127306, 138525, 147398, 157844, 176052, 186907, 200520, 212975, 220282, 233189, 258110, 270728, 294170, 179887]\n",
    "\n",
    "list(zip(years, pubs_renewable, pubs_energy))"
   ]
  },
  {
   "cell_type": "code",
   "execution_count": 7,
   "metadata": {},
   "outputs": [
    {
     "data": {
      "text/html": [
       "<div>\n",
       "<style scoped>\n",
       "    .dataframe tbody tr th:only-of-type {\n",
       "        vertical-align: middle;\n",
       "    }\n",
       "\n",
       "    .dataframe tbody tr th {\n",
       "        vertical-align: top;\n",
       "    }\n",
       "\n",
       "    .dataframe thead th {\n",
       "        text-align: right;\n",
       "    }\n",
       "</style>\n",
       "<table border=\"1\" class=\"dataframe\">\n",
       "  <thead>\n",
       "    <tr style=\"text-align: right;\">\n",
       "      <th></th>\n",
       "      <th>years</th>\n",
       "      <th>pubs_renewable</th>\n",
       "      <th>pubs_energy</th>\n",
       "      <th>RE/E</th>\n",
       "    </tr>\n",
       "  </thead>\n",
       "  <tbody>\n",
       "    <tr>\n",
       "      <th>0</th>\n",
       "      <td>1980</td>\n",
       "      <td>140</td>\n",
       "      <td>29414</td>\n",
       "      <td>0.475964</td>\n",
       "    </tr>\n",
       "    <tr>\n",
       "      <th>1</th>\n",
       "      <td>1981</td>\n",
       "      <td>188</td>\n",
       "      <td>31114</td>\n",
       "      <td>0.604230</td>\n",
       "    </tr>\n",
       "    <tr>\n",
       "      <th>2</th>\n",
       "      <td>1982</td>\n",
       "      <td>170</td>\n",
       "      <td>32080</td>\n",
       "      <td>0.529925</td>\n",
       "    </tr>\n",
       "    <tr>\n",
       "      <th>3</th>\n",
       "      <td>1983</td>\n",
       "      <td>168</td>\n",
       "      <td>35418</td>\n",
       "      <td>0.474335</td>\n",
       "    </tr>\n",
       "    <tr>\n",
       "      <th>4</th>\n",
       "      <td>1984</td>\n",
       "      <td>226</td>\n",
       "      <td>37805</td>\n",
       "      <td>0.597805</td>\n",
       "    </tr>\n",
       "  </tbody>\n",
       "</table>\n",
       "</div>"
      ],
      "text/plain": [
       "   years  pubs_renewable  pubs_energy      RE/E\n",
       "0   1980             140        29414  0.475964\n",
       "1   1981             188        31114  0.604230\n",
       "2   1982             170        32080  0.529925\n",
       "3   1983             168        35418  0.474335\n",
       "4   1984             226        37805  0.597805"
      ]
     },
     "execution_count": 7,
     "metadata": {},
     "output_type": "execute_result"
    }
   ],
   "source": [
    "df_pub = pd.DataFrame({\"years\":years, \"pubs_renewable\":pubs_renewable, \"pubs_energy\":pubs_energy})\n",
    "df_pub[\"RE/E\"] = df_pub[\"pubs_renewable\"]/df_pub[\"pubs_energy\"]*100\n",
    "df_pub.head()"
   ]
  },
  {
   "cell_type": "code",
   "execution_count": 8,
   "metadata": {},
   "outputs": [
    {
     "data": {
      "text/plain": [
       "[<matplotlib.lines.Line2D at 0x7f8d700426d0>]"
      ]
     },
     "execution_count": 8,
     "metadata": {},
     "output_type": "execute_result"
    },
    {
     "data": {
      "image/png": "[encoded data removed]",
      "text/plain": [
       "<Figure size 432x288 with 1 Axes>"
      ]
     },
     "metadata": {
      "needs_background": "light"
     },
     "output_type": "display_data"
    }
   ],
   "source": [
    "fig, ax = plt.subplots()\n",
    "ax.plot(df_pub[\"years\"], df_pub[\"RE/E\"])"
   ]
  },
  {
   "cell_type": "code",
   "execution_count": 9,
   "metadata": {},
   "outputs": [
    {
     "data": {
      "text/plain": [
       "[<matplotlib.lines.Line2D at 0x7f8d63b618d0>]"
      ]
     },
     "execution_count": 9,
     "metadata": {},
     "output_type": "execute_result"
    },
    {
     "data": {
      "image/png": "[encoded data removed]",
      "text/plain": [
       "<Figure size 432x288 with 1 Axes>"
      ]
     },
     "metadata": {
      "needs_background": "light"
     },
     "output_type": "display_data"
    }
   ],
   "source": [
    "fig, ax = plt.subplots()\n",
    "ax.plot(df_pub[\"years\"], df_pub[\"pubs_energy\"])\n",
    "ax.plot(df_pub[\"years\"], df_pub[\"pubs_renewable\"])"
   ]
  },
  {
   "cell_type": "code",
   "execution_count": null,
   "metadata": {},
   "outputs": [],
   "source": []
  }
 ],
 "metadata": {
  "kernelspec": {
   "display_name": "Python 3",
   "language": "python",
   "name": "python3"
  },
  "language_info": {
   "codemirror_mode": {
    "name": "ipython",
    "version": 3
   },
   "file_extension": ".py",
   "mimetype": "text/x-python",
   "name": "python",
   "nbconvert_exporter": "python",
   "pygments_lexer": "ipython3",
   "version": "3.7.4"
  }
 },
 "nbformat": 4,
 "nbformat_minor": 4
}
