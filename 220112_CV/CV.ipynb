{
 "cells": [
  {
   "cell_type": "code",
   "execution_count": 1,
   "metadata": {},
   "outputs": [],
   "source": [
    "%matplotlib inline\n",
    "\n",
    "import numpy as np\n",
    "import pandas as pd\n",
    "import matplotlib.pyplot as plt\n",
    "import re\n",
    "from pybliometrics.scopus import ScopusSearch\n",
    "from bs4 import BeautifulSoup\n",
    "import requests, json\n",
    "from docx import Document\n",
    "from docx.shared import Inches"
   ]
  },
  {
   "cell_type": "markdown",
   "metadata": {},
   "source": [
    "# my data"
   ]
  },
  {
   "cell_type": "code",
   "execution_count": 26,
   "metadata": {},
   "outputs": [],
   "source": [
    "# my data\n",
    "\n",
    "from my_apikeys import APIKeys\n",
    "my_names = [\"Lee, Jehyun\", \"Lee, J.\", \"Lee, J. H.\", \"Lee, Je Hyun\"]\n",
    "\n",
    "# including reversed name\n",
    "my_names_reverse = []\n",
    "for n in my_names:\n",
    "    n_reverse = \" \".join(n.split(\", \")[1:-1] + [n.split(\", \")[-1] + \",\"] + [n.split(\", \")[0]])\n",
    "    my_names_reverse.append(n_reverse)\n",
    "\n",
    "my_names = my_names + my_names_reverse\n",
    "\n",
    "# including without comma\n",
    "my_names_nocomma = [n.replace(\",\", \"\") for n in my_names]\n",
    "my_names = my_names + my_names_nocomma  \n"
   ]
  },
  {
   "cell_type": "code",
   "execution_count": 3,
   "metadata": {},
   "outputs": [
    {
     "name": "stdout",
     "output_type": "stream",
     "text": [
      "subscriber=True\n"
     ]
    }
   ],
   "source": [
    "# subscriber (Institute: True. Home: False)\n",
    "try:\n",
    "    s_sample = ScopusSearch(f\"DOI (10.1021/acsnano.9b08494)\").results[0]\n",
    "    subscriber=True\n",
    "except:\n",
    "    subscriber=False\n",
    "\n",
    "print(f\"subscriber={subscriber}\")    "
   ]
  },
  {
   "cell_type": "code",
   "execution_count": 4,
   "metadata": {},
   "outputs": [
    {
     "data": {
      "text/html": [
       "<div>\n",
       "<style scoped>\n",
       "    .dataframe tbody tr th:only-of-type {\n",
       "        vertical-align: middle;\n",
       "    }\n",
       "\n",
       "    .dataframe tbody tr th {\n",
       "        vertical-align: top;\n",
       "    }\n",
       "\n",
       "    .dataframe thead th {\n",
       "        text-align: right;\n",
       "    }\n",
       "</style>\n",
       "<table border=\"1\" class=\"dataframe\">\n",
       "  <thead>\n",
       "    <tr style=\"text-align: right;\">\n",
       "      <th></th>\n",
       "      <th>DOI</th>\n",
       "      <th>TITLE_Scopus</th>\n",
       "    </tr>\n",
       "  </thead>\n",
       "  <tbody>\n",
       "    <tr>\n",
       "      <th>0</th>\n",
       "      <td>10.1021/acs.jpclett.1c01140</td>\n",
       "      <td>First-Principles-Based Machine-Learning Molecu...</td>\n",
       "    </tr>\n",
       "    <tr>\n",
       "      <th>1</th>\n",
       "      <td>10.1038/s41598-021-83315-9</td>\n",
       "      <td>Optimizing machine learning models for granula...</td>\n",
       "    </tr>\n",
       "    <tr>\n",
       "      <th>2</th>\n",
       "      <td>10.1038/srep31513</td>\n",
       "      <td>Resonant vortex-core reversal in magnetic nano...</td>\n",
       "    </tr>\n",
       "    <tr>\n",
       "      <th>3</th>\n",
       "      <td>10.1063/1.4919836</td>\n",
       "      <td>Temperature effect on vortex-core reversals in...</td>\n",
       "    </tr>\n",
       "    <tr>\n",
       "      <th>4</th>\n",
       "      <td>10.1038/srep11370</td>\n",
       "      <td>Resonantly exited precession motion of three-d...</td>\n",
       "    </tr>\n",
       "  </tbody>\n",
       "</table>\n",
       "</div>"
      ],
      "text/plain": [
       "                           DOI  \\\n",
       "0  10.1021/acs.jpclett.1c01140   \n",
       "1   10.1038/s41598-021-83315-9   \n",
       "2            10.1038/srep31513   \n",
       "3            10.1063/1.4919836   \n",
       "4            10.1038/srep11370   \n",
       "\n",
       "                                        TITLE_Scopus  \n",
       "0  First-Principles-Based Machine-Learning Molecu...  \n",
       "1  Optimizing machine learning models for granula...  \n",
       "2  Resonant vortex-core reversal in magnetic nano...  \n",
       "3  Temperature effect on vortex-core reversals in...  \n",
       "4  Resonantly exited precession motion of three-d...  "
      ]
     },
     "execution_count": 4,
     "metadata": {},
     "output_type": "execute_result"
    }
   ],
   "source": [
    "df_CV = pd.read_excel(\"my_CV.xlsx\")\n",
    "df_CV.head()"
   ]
  },
  {
   "cell_type": "code",
   "execution_count": 5,
   "metadata": {},
   "outputs": [],
   "source": [
    "def get_my_data(doi):\n",
    "    # retrieve data\n",
    "    s = ScopusSearch(f\"DOI ({doi})\").results[0]\n",
    "    \n",
    "    ### Affiliation\n",
    "    # Affiliation ID\n",
    "    afids = np.array(s.afid.split(\";\"))    \n",
    "    # Affiliation name\n",
    "    afnames = np.array(s.affilname.split(\";\"))\n",
    "    # Affiliations\n",
    "    afs = dict(zip(afids, afnames))\n",
    "    afs_all.update(afs)\n",
    "    \n",
    "    ### Author\n",
    "    # Author names\n",
    "    author_names = np.array(s.author_names.split(\";\"))\n",
    "    # Author ID\n",
    "    author_ids = np.array(s.author_ids.split(\";\"))\n",
    "    # Author Affiliation ID\n",
    "    author_afids = [a.split(\"-\") for a in np.array(s.author_afids.split(\";\"))]\n",
    "    # Authors\n",
    "    authors = list(zip(author_names, author_ids, [afs[af] if isinstance(af, str) else [afs[af_] for af_ in af] for af in author_afids], author_afids))\n",
    "    \n",
    "    try:\n",
    "        # my data\n",
    "        name_search = np.array([[author_names == my_name] for my_name in my_names]).sum(axis=0).flatten()\n",
    "        my_idx = np.where(name_search > 0)[0][0]\n",
    "        my_data = list(authors[my_idx])\n",
    "        # coauthor\n",
    "        coauthor_names = list(np.delete(author_names, my_idx))\n",
    "        coauthor_ids = list(np.delete(author_ids, my_idx, 0))\n",
    "        coauthor_data = [coauthor_names, coauthor_ids]        \n",
    "        return my_data + coauthor_data\n",
    "    except:\n",
    "        print(authors)\n",
    "        pass"
   ]
  },
  {
   "cell_type": "code",
   "execution_count": 6,
   "metadata": {},
   "outputs": [],
   "source": [
    "afs_all = {}\n",
    "my_data_all = []\n",
    "\n",
    "for doi in df_CV[\"DOI\"].values:\n",
    "    data = get_my_data(doi)\n",
    "    my_data_all.append(data)"
   ]
  },
  {
   "cell_type": "code",
   "execution_count": 7,
   "metadata": {},
   "outputs": [
    {
     "data": {
      "text/html": [
       "<div>\n",
       "<style scoped>\n",
       "    .dataframe tbody tr th:only-of-type {\n",
       "        vertical-align: middle;\n",
       "    }\n",
       "\n",
       "    .dataframe tbody tr th {\n",
       "        vertical-align: top;\n",
       "    }\n",
       "\n",
       "    .dataframe thead th {\n",
       "        text-align: right;\n",
       "    }\n",
       "</style>\n",
       "<table border=\"1\" class=\"dataframe\">\n",
       "  <thead>\n",
       "    <tr style=\"text-align: right;\">\n",
       "      <th></th>\n",
       "      <th>my_name</th>\n",
       "      <th>my_id</th>\n",
       "      <th>my_afs</th>\n",
       "      <th>my_afids</th>\n",
       "      <th>co_names</th>\n",
       "      <th>co_ids</th>\n",
       "    </tr>\n",
       "  </thead>\n",
       "  <tbody>\n",
       "    <tr>\n",
       "      <th>0</th>\n",
       "      <td>Lee, Jehyun</td>\n",
       "      <td>55969873500</td>\n",
       "      <td>[Korea Institute of Energy Research]</td>\n",
       "      <td>[60087822]</td>\n",
       "      <td>[Hong, Sung Jun, Chun, Hoje, Kim, Byung Hyun, ...</td>\n",
       "      <td>[57221590144, 57195466596, 55502655900, 572207...</td>\n",
       "    </tr>\n",
       "    <tr>\n",
       "      <th>1</th>\n",
       "      <td>Lee, Jehyun</td>\n",
       "      <td>55969873500</td>\n",
       "      <td>[Korea Institute of Energy Research]</td>\n",
       "      <td>[60087822]</td>\n",
       "      <td>[Park, Hyeon Kyu, Lee, Jae Hyeok, Kim, Sang Koog]</td>\n",
       "      <td>[57216558093, 57206731799, 7601587994]</td>\n",
       "    </tr>\n",
       "    <tr>\n",
       "      <th>2</th>\n",
       "      <td>Lee, Jehyun</td>\n",
       "      <td>16029235100</td>\n",
       "      <td>[Seoul National University, Center of Semicond...</td>\n",
       "      <td>[60013682, 111165432]</td>\n",
       "      <td>[Kim, Sang Koog, Yoo, Myoung Woo, Lee, Jae Hye...</td>\n",
       "      <td>[7601587994, 35738330300, 57206731799, 5719974...</td>\n",
       "    </tr>\n",
       "    <tr>\n",
       "      <th>3</th>\n",
       "      <td>Lee, Jehyun</td>\n",
       "      <td>16029235100</td>\n",
       "      <td>[Seoul National University, Center of Semicond...</td>\n",
       "      <td>[60013682, 115225850]</td>\n",
       "      <td>[Kim, Bosung, Yoo, Myoung Woo, Kim, Sang Koog]</td>\n",
       "      <td>[56621593100, 35738330300, 7601587994]</td>\n",
       "    </tr>\n",
       "    <tr>\n",
       "      <th>4</th>\n",
       "      <td>Lee, Jehyun</td>\n",
       "      <td>16029235100</td>\n",
       "      <td>[National Creative Research Initiative Center ...</td>\n",
       "      <td>[107172817, 115225850]</td>\n",
       "      <td>[Kim, Sang Koog, Yoo, Myoung Woo, Lee, Ha Youn...</td>\n",
       "      <td>[7601587994, 35738330300, 56206010000, 5720673...</td>\n",
       "    </tr>\n",
       "  </tbody>\n",
       "</table>\n",
       "</div>"
      ],
      "text/plain": [
       "       my_name        my_id  \\\n",
       "0  Lee, Jehyun  55969873500   \n",
       "1  Lee, Jehyun  55969873500   \n",
       "2  Lee, Jehyun  16029235100   \n",
       "3  Lee, Jehyun  16029235100   \n",
       "4  Lee, Jehyun  16029235100   \n",
       "\n",
       "                                              my_afs                my_afids  \\\n",
       "0               [Korea Institute of Energy Research]              [60087822]   \n",
       "1               [Korea Institute of Energy Research]              [60087822]   \n",
       "2  [Seoul National University, Center of Semicond...   [60013682, 111165432]   \n",
       "3  [Seoul National University, Center of Semicond...   [60013682, 115225850]   \n",
       "4  [National Creative Research Initiative Center ...  [107172817, 115225850]   \n",
       "\n",
       "                                            co_names  \\\n",
       "0  [Hong, Sung Jun, Chun, Hoje, Kim, Byung Hyun, ...   \n",
       "1  [Park, Hyeon Kyu, Lee, Jae Hyeok, Kim, Sang Koog]   \n",
       "2  [Kim, Sang Koog, Yoo, Myoung Woo, Lee, Jae Hye...   \n",
       "3     [Kim, Bosung, Yoo, Myoung Woo, Kim, Sang Koog]   \n",
       "4  [Kim, Sang Koog, Yoo, Myoung Woo, Lee, Ha Youn...   \n",
       "\n",
       "                                              co_ids  \n",
       "0  [57221590144, 57195466596, 55502655900, 572207...  \n",
       "1             [57216558093, 57206731799, 7601587994]  \n",
       "2  [7601587994, 35738330300, 57206731799, 5719974...  \n",
       "3             [56621593100, 35738330300, 7601587994]  \n",
       "4  [7601587994, 35738330300, 56206010000, 5720673...  "
      ]
     },
     "execution_count": 7,
     "metadata": {},
     "output_type": "execute_result"
    }
   ],
   "source": [
    "df_my = pd.DataFrame(my_data_all, \n",
    "                     columns=[\"my_name\", \"my_id\", \"my_afs\", \"my_afids\", \"co_names\", \"co_ids\"])\n",
    "df_my.to_excel(\"my_data.xlsx\", index=False)\n",
    "df_my.head()"
   ]
  },
  {
   "cell_type": "code",
   "execution_count": 8,
   "metadata": {},
   "outputs": [
    {
     "data": {
      "text/html": [
       "<div>\n",
       "<style scoped>\n",
       "    .dataframe tbody tr th:only-of-type {\n",
       "        vertical-align: middle;\n",
       "    }\n",
       "\n",
       "    .dataframe tbody tr th {\n",
       "        vertical-align: top;\n",
       "    }\n",
       "\n",
       "    .dataframe thead th {\n",
       "        text-align: right;\n",
       "    }\n",
       "</style>\n",
       "<table border=\"1\" class=\"dataframe\">\n",
       "  <thead>\n",
       "    <tr style=\"text-align: right;\">\n",
       "      <th></th>\n",
       "      <th>my_name</th>\n",
       "      <th>my_id</th>\n",
       "      <th>my_afs</th>\n",
       "      <th>my_afids</th>\n",
       "      <th>co_names</th>\n",
       "      <th>co_ids</th>\n",
       "    </tr>\n",
       "  </thead>\n",
       "  <tbody>\n",
       "    <tr>\n",
       "      <th>0</th>\n",
       "      <td>Lee, Jehyun</td>\n",
       "      <td>55969873500</td>\n",
       "      <td>Korea Institute of Energy Research</td>\n",
       "      <td>60087822</td>\n",
       "      <td>Hong, Sung Jun</td>\n",
       "      <td>57221590144</td>\n",
       "    </tr>\n",
       "    <tr>\n",
       "      <th>0</th>\n",
       "      <td>Lee, Jehyun</td>\n",
       "      <td>55969873500</td>\n",
       "      <td>Korea Institute of Energy Research</td>\n",
       "      <td>60087822</td>\n",
       "      <td>Chun, Hoje</td>\n",
       "      <td>57195466596</td>\n",
       "    </tr>\n",
       "    <tr>\n",
       "      <th>0</th>\n",
       "      <td>Lee, Jehyun</td>\n",
       "      <td>55969873500</td>\n",
       "      <td>Korea Institute of Energy Research</td>\n",
       "      <td>60087822</td>\n",
       "      <td>Kim, Byung Hyun</td>\n",
       "      <td>55502655900</td>\n",
       "    </tr>\n",
       "    <tr>\n",
       "      <th>0</th>\n",
       "      <td>Lee, Jehyun</td>\n",
       "      <td>55969873500</td>\n",
       "      <td>Korea Institute of Energy Research</td>\n",
       "      <td>60087822</td>\n",
       "      <td>Seo, Min Ho</td>\n",
       "      <td>57220796436</td>\n",
       "    </tr>\n",
       "    <tr>\n",
       "      <th>0</th>\n",
       "      <td>Lee, Jehyun</td>\n",
       "      <td>55969873500</td>\n",
       "      <td>Korea Institute of Energy Research</td>\n",
       "      <td>60087822</td>\n",
       "      <td>Kang, Joonhee</td>\n",
       "      <td>56076915900</td>\n",
       "    </tr>\n",
       "    <tr>\n",
       "      <th>...</th>\n",
       "      <td>...</td>\n",
       "      <td>...</td>\n",
       "      <td>...</td>\n",
       "      <td>...</td>\n",
       "      <td>...</td>\n",
       "      <td>...</td>\n",
       "    </tr>\n",
       "    <tr>\n",
       "      <th>43</th>\n",
       "      <td>Lee, Je Hyun</td>\n",
       "      <td>16029235100</td>\n",
       "      <td>Korea Institute of Science and Technology</td>\n",
       "      <td>60025960</td>\n",
       "      <td>Kim, Jang Hee</td>\n",
       "      <td>37106931200</td>\n",
       "    </tr>\n",
       "    <tr>\n",
       "      <th>43</th>\n",
       "      <td>Lee, Je Hyun</td>\n",
       "      <td>16029235100</td>\n",
       "      <td>Korea Institute of Science and Technology</td>\n",
       "      <td>60025960</td>\n",
       "      <td>Chang, Joonyeon</td>\n",
       "      <td>57203369778</td>\n",
       "    </tr>\n",
       "    <tr>\n",
       "      <th>43</th>\n",
       "      <td>Lee, Je Hyun</td>\n",
       "      <td>16029235100</td>\n",
       "      <td>Korea Institute of Science and Technology</td>\n",
       "      <td>60025960</td>\n",
       "      <td>Kim, Hi Jung</td>\n",
       "      <td>57191720425</td>\n",
       "    </tr>\n",
       "    <tr>\n",
       "      <th>43</th>\n",
       "      <td>Lee, Je Hyun</td>\n",
       "      <td>16029235100</td>\n",
       "      <td>Korea Institute of Science and Technology</td>\n",
       "      <td>60025960</td>\n",
       "      <td>Kim, Inyoung</td>\n",
       "      <td>7404144290</td>\n",
       "    </tr>\n",
       "    <tr>\n",
       "      <th>43</th>\n",
       "      <td>Lee, Je Hyun</td>\n",
       "      <td>16029235100</td>\n",
       "      <td>Korea Institute of Science and Technology</td>\n",
       "      <td>60025960</td>\n",
       "      <td>Park, Yun D.</td>\n",
       "      <td>8081614600</td>\n",
       "    </tr>\n",
       "  </tbody>\n",
       "</table>\n",
       "<p>210 rows × 6 columns</p>\n",
       "</div>"
      ],
      "text/plain": [
       "         my_name        my_id                                     my_afs  \\\n",
       "0    Lee, Jehyun  55969873500         Korea Institute of Energy Research   \n",
       "0    Lee, Jehyun  55969873500         Korea Institute of Energy Research   \n",
       "0    Lee, Jehyun  55969873500         Korea Institute of Energy Research   \n",
       "0    Lee, Jehyun  55969873500         Korea Institute of Energy Research   \n",
       "0    Lee, Jehyun  55969873500         Korea Institute of Energy Research   \n",
       "..           ...          ...                                        ...   \n",
       "43  Lee, Je Hyun  16029235100  Korea Institute of Science and Technology   \n",
       "43  Lee, Je Hyun  16029235100  Korea Institute of Science and Technology   \n",
       "43  Lee, Je Hyun  16029235100  Korea Institute of Science and Technology   \n",
       "43  Lee, Je Hyun  16029235100  Korea Institute of Science and Technology   \n",
       "43  Lee, Je Hyun  16029235100  Korea Institute of Science and Technology   \n",
       "\n",
       "    my_afids         co_names       co_ids  \n",
       "0   60087822   Hong, Sung Jun  57221590144  \n",
       "0   60087822       Chun, Hoje  57195466596  \n",
       "0   60087822  Kim, Byung Hyun  55502655900  \n",
       "0   60087822      Seo, Min Ho  57220796436  \n",
       "0   60087822    Kang, Joonhee  56076915900  \n",
       "..       ...              ...          ...  \n",
       "43  60025960    Kim, Jang Hee  37106931200  \n",
       "43  60025960  Chang, Joonyeon  57203369778  \n",
       "43  60025960     Kim, Hi Jung  57191720425  \n",
       "43  60025960     Kim, Inyoung   7404144290  \n",
       "43  60025960     Park, Yun D.   8081614600  \n",
       "\n",
       "[210 rows x 6 columns]"
      ]
     },
     "execution_count": 8,
     "metadata": {},
     "output_type": "execute_result"
    }
   ],
   "source": [
    "df_my = df_my.explode([\"my_afs\", \"my_afids\"]).explode([\"co_names\", \"co_ids\"])\n",
    "df_my.drop_duplicates(inplace=True)\n",
    "df_my"
   ]
  },
  {
   "cell_type": "code",
   "execution_count": 9,
   "metadata": {},
   "outputs": [
    {
     "data": {
      "text/html": [
       "<div>\n",
       "<style scoped>\n",
       "    .dataframe tbody tr th:only-of-type {\n",
       "        vertical-align: middle;\n",
       "    }\n",
       "\n",
       "    .dataframe tbody tr th {\n",
       "        vertical-align: top;\n",
       "    }\n",
       "\n",
       "    .dataframe thead th {\n",
       "        text-align: right;\n",
       "    }\n",
       "</style>\n",
       "<table border=\"1\" class=\"dataframe\">\n",
       "  <thead>\n",
       "    <tr style=\"text-align: right;\">\n",
       "      <th></th>\n",
       "      <th>my_name</th>\n",
       "      <th>my_id</th>\n",
       "      <th>my_afs</th>\n",
       "      <th>my_afids</th>\n",
       "      <th>co_names</th>\n",
       "      <th>co_ids</th>\n",
       "    </tr>\n",
       "  </thead>\n",
       "  <tbody>\n",
       "    <tr>\n",
       "      <th>0</th>\n",
       "      <td>Jehyun, Lee</td>\n",
       "      <td>15834698800</td>\n",
       "      <td>Seoul National University</td>\n",
       "      <td>60013682</td>\n",
       "      <td>[Suess, Dieter, Schrefl, Thomas, Kyu, Hwan Oh,...</td>\n",
       "      <td>[7004076065, 7005780657, 6602521869, 35601590600]</td>\n",
       "    </tr>\n",
       "    <tr>\n",
       "      <th>1</th>\n",
       "      <td>Jehyun, Lee</td>\n",
       "      <td>15834698800</td>\n",
       "      <td>Technische Universität Wien</td>\n",
       "      <td>60018163</td>\n",
       "      <td>[Suess, Dieter, Schrefl, Thomas, Kyu, Hwan Oh,...</td>\n",
       "      <td>[7004076065, 7005780657, 6602521869, 35601590600]</td>\n",
       "    </tr>\n",
       "    <tr>\n",
       "      <th>2</th>\n",
       "      <td>Lee, J.</td>\n",
       "      <td>16029235100</td>\n",
       "      <td>Technische Universität Wien</td>\n",
       "      <td>60018163</td>\n",
       "      <td>[Fiedler, G., Fidler, J., Schrefl, T., Stamps,...</td>\n",
       "      <td>[15829081900, 35601590600, 7005780657, 7004916...</td>\n",
       "    </tr>\n",
       "    <tr>\n",
       "      <th>3</th>\n",
       "      <td>Lee, J.</td>\n",
       "      <td>24399437900</td>\n",
       "      <td>Technische Universität Wien</td>\n",
       "      <td>60018163</td>\n",
       "      <td>[Schulze, C., Faustini, M., Schletter, H., Lut...</td>\n",
       "      <td>[35181915100, 57196395997, 36675826300, 350853...</td>\n",
       "    </tr>\n",
       "    <tr>\n",
       "      <th>4</th>\n",
       "      <td>Lee, J.</td>\n",
       "      <td>7601454858</td>\n",
       "      <td>Seoul National University</td>\n",
       "      <td>60013682</td>\n",
       "      <td>[Neu, V., Schulze, C., Faustini, M., Makarov, ...</td>\n",
       "      <td>[6701391076, 35181915100, 57196395997, 1264713...</td>\n",
       "    </tr>\n",
       "    <tr>\n",
       "      <th>5</th>\n",
       "      <td>Lee, J. H.</td>\n",
       "      <td>7601451606</td>\n",
       "      <td>Seoul National University</td>\n",
       "      <td>60013682</td>\n",
       "      <td>[Jang, S. H., Kim, Y. W., Kim, K. Y.]</td>\n",
       "      <td>[24821314300, 8099600200, 57203256286]</td>\n",
       "    </tr>\n",
       "    <tr>\n",
       "      <th>6</th>\n",
       "      <td>Lee, J. H.</td>\n",
       "      <td>7601462370</td>\n",
       "      <td>Korea Institute of Science and Technology</td>\n",
       "      <td>60025960</td>\n",
       "      <td>[Jang, S. H., Kang, T., Kim, K. Y.]</td>\n",
       "      <td>[24821314300, 8953533300, 57203256286]</td>\n",
       "    </tr>\n",
       "    <tr>\n",
       "      <th>7</th>\n",
       "      <td>Lee, Je Hyun</td>\n",
       "      <td>16029235100</td>\n",
       "      <td>Korea Institute of Science and Technology</td>\n",
       "      <td>60025960</td>\n",
       "      <td>[Kim, Dal Young, Kim, Jin Soo, Park, Bae Ho, L...</td>\n",
       "      <td>[7409765949, 55881881500, 7402834739, 56524680...</td>\n",
       "    </tr>\n",
       "    <tr>\n",
       "      <th>8</th>\n",
       "      <td>Lee, Jehyun</td>\n",
       "      <td>16029235100</td>\n",
       "      <td>Center of Semiconductor Research and Development</td>\n",
       "      <td>111165432</td>\n",
       "      <td>[Kim, Sang Koog, Yoo, Myoung Woo, Lee, Jae Hye...</td>\n",
       "      <td>[7601587994, 35738330300, 57206731799, 5719974...</td>\n",
       "    </tr>\n",
       "    <tr>\n",
       "      <th>9</th>\n",
       "      <td>Lee, Jehyun</td>\n",
       "      <td>16029235100</td>\n",
       "      <td>Center of Semiconductor Research and Development</td>\n",
       "      <td>115225850</td>\n",
       "      <td>[Kim, Bosung, Yoo, Myoung Woo, Kim, Sang Koog,...</td>\n",
       "      <td>[56621593100, 35738330300, 7601587994, 5620601...</td>\n",
       "    </tr>\n",
       "    <tr>\n",
       "      <th>10</th>\n",
       "      <td>Lee, Jehyun</td>\n",
       "      <td>16029235100</td>\n",
       "      <td>National Creative Research Initiative Center f...</td>\n",
       "      <td>107172817</td>\n",
       "      <td>[Kim, Sang Koog, Yoo, Myoung Woo, Lee, Ha Youn...</td>\n",
       "      <td>[7601587994, 35738330300, 56206010000, 5720673...</td>\n",
       "    </tr>\n",
       "    <tr>\n",
       "      <th>11</th>\n",
       "      <td>Lee, Jehyun</td>\n",
       "      <td>16029235100</td>\n",
       "      <td>Samsung Group</td>\n",
       "      <td>60010484</td>\n",
       "      <td>[Makarov, Denys, Brombacher, Christoph, Dymers...</td>\n",
       "      <td>[12647134800, 24066478900, 39961295300, 700407...</td>\n",
       "    </tr>\n",
       "    <tr>\n",
       "      <th>12</th>\n",
       "      <td>Lee, Jehyun</td>\n",
       "      <td>16029235100</td>\n",
       "      <td>Seoul National University</td>\n",
       "      <td>60013682</td>\n",
       "      <td>[Kim, Sang Koog, Yoo, Myoung Woo, Lee, Jae Hye...</td>\n",
       "      <td>[7601587994, 35738330300, 57206731799, 5719974...</td>\n",
       "    </tr>\n",
       "    <tr>\n",
       "      <th>13</th>\n",
       "      <td>Lee, Jehyun</td>\n",
       "      <td>16029235100</td>\n",
       "      <td>Technische Universität Wien</td>\n",
       "      <td>60018163</td>\n",
       "      <td>[Makarov, Denys, Brombacher, Christoph, Dymers...</td>\n",
       "      <td>[12647134800, 24066478900, 39961295300, 700407...</td>\n",
       "    </tr>\n",
       "    <tr>\n",
       "      <th>14</th>\n",
       "      <td>Lee, Jehyun</td>\n",
       "      <td>55969873500</td>\n",
       "      <td>Korea Institute of Energy Research</td>\n",
       "      <td>60087822</td>\n",
       "      <td>[Hong, Sung Jun, Chun, Hoje, Kim, Byung Hyun, ...</td>\n",
       "      <td>[57221590144, 57195466596, 55502655900, 572207...</td>\n",
       "    </tr>\n",
       "  </tbody>\n",
       "</table>\n",
       "</div>"
      ],
      "text/plain": [
       "         my_name        my_id  \\\n",
       "0    Jehyun, Lee  15834698800   \n",
       "1    Jehyun, Lee  15834698800   \n",
       "2        Lee, J.  16029235100   \n",
       "3        Lee, J.  24399437900   \n",
       "4        Lee, J.   7601454858   \n",
       "5     Lee, J. H.   7601451606   \n",
       "6     Lee, J. H.   7601462370   \n",
       "7   Lee, Je Hyun  16029235100   \n",
       "8    Lee, Jehyun  16029235100   \n",
       "9    Lee, Jehyun  16029235100   \n",
       "10   Lee, Jehyun  16029235100   \n",
       "11   Lee, Jehyun  16029235100   \n",
       "12   Lee, Jehyun  16029235100   \n",
       "13   Lee, Jehyun  16029235100   \n",
       "14   Lee, Jehyun  55969873500   \n",
       "\n",
       "                                               my_afs   my_afids  \\\n",
       "0                           Seoul National University   60013682   \n",
       "1                         Technische Universität Wien   60018163   \n",
       "2                         Technische Universität Wien   60018163   \n",
       "3                         Technische Universität Wien   60018163   \n",
       "4                           Seoul National University   60013682   \n",
       "5                           Seoul National University   60013682   \n",
       "6           Korea Institute of Science and Technology   60025960   \n",
       "7           Korea Institute of Science and Technology   60025960   \n",
       "8    Center of Semiconductor Research and Development  111165432   \n",
       "9    Center of Semiconductor Research and Development  115225850   \n",
       "10  National Creative Research Initiative Center f...  107172817   \n",
       "11                                      Samsung Group   60010484   \n",
       "12                          Seoul National University   60013682   \n",
       "13                        Technische Universität Wien   60018163   \n",
       "14                 Korea Institute of Energy Research   60087822   \n",
       "\n",
       "                                             co_names  \\\n",
       "0   [Suess, Dieter, Schrefl, Thomas, Kyu, Hwan Oh,...   \n",
       "1   [Suess, Dieter, Schrefl, Thomas, Kyu, Hwan Oh,...   \n",
       "2   [Fiedler, G., Fidler, J., Schrefl, T., Stamps,...   \n",
       "3   [Schulze, C., Faustini, M., Schletter, H., Lut...   \n",
       "4   [Neu, V., Schulze, C., Faustini, M., Makarov, ...   \n",
       "5               [Jang, S. H., Kim, Y. W., Kim, K. Y.]   \n",
       "6                 [Jang, S. H., Kang, T., Kim, K. Y.]   \n",
       "7   [Kim, Dal Young, Kim, Jin Soo, Park, Bae Ho, L...   \n",
       "8   [Kim, Sang Koog, Yoo, Myoung Woo, Lee, Jae Hye...   \n",
       "9   [Kim, Bosung, Yoo, Myoung Woo, Kim, Sang Koog,...   \n",
       "10  [Kim, Sang Koog, Yoo, Myoung Woo, Lee, Ha Youn...   \n",
       "11  [Makarov, Denys, Brombacher, Christoph, Dymers...   \n",
       "12  [Kim, Sang Koog, Yoo, Myoung Woo, Lee, Jae Hye...   \n",
       "13  [Makarov, Denys, Brombacher, Christoph, Dymers...   \n",
       "14  [Hong, Sung Jun, Chun, Hoje, Kim, Byung Hyun, ...   \n",
       "\n",
       "                                               co_ids  \n",
       "0   [7004076065, 7005780657, 6602521869, 35601590600]  \n",
       "1   [7004076065, 7005780657, 6602521869, 35601590600]  \n",
       "2   [15829081900, 35601590600, 7005780657, 7004916...  \n",
       "3   [35181915100, 57196395997, 36675826300, 350853...  \n",
       "4   [6701391076, 35181915100, 57196395997, 1264713...  \n",
       "5              [24821314300, 8099600200, 57203256286]  \n",
       "6              [24821314300, 8953533300, 57203256286]  \n",
       "7   [7409765949, 55881881500, 7402834739, 56524680...  \n",
       "8   [7601587994, 35738330300, 57206731799, 5719974...  \n",
       "9   [56621593100, 35738330300, 7601587994, 5620601...  \n",
       "10  [7601587994, 35738330300, 56206010000, 5720673...  \n",
       "11  [12647134800, 24066478900, 39961295300, 700407...  \n",
       "12  [7601587994, 35738330300, 57206731799, 5719974...  \n",
       "13  [12647134800, 24066478900, 39961295300, 700407...  \n",
       "14  [57221590144, 57195466596, 55502655900, 572207...  "
      ]
     },
     "execution_count": 9,
     "metadata": {},
     "output_type": "execute_result"
    }
   ],
   "source": [
    "df_my = df_my.groupby([\"my_name\", \"my_id\", \"my_afs\", \"my_afids\"]).agg(list).reset_index()\n",
    "df_my"
   ]
  },
  {
   "cell_type": "code",
   "execution_count": 10,
   "metadata": {},
   "outputs": [
    {
     "data": {
      "text/html": [
       "<div>\n",
       "<style scoped>\n",
       "    .dataframe tbody tr th:only-of-type {\n",
       "        vertical-align: middle;\n",
       "    }\n",
       "\n",
       "    .dataframe tbody tr th {\n",
       "        vertical-align: top;\n",
       "    }\n",
       "\n",
       "    .dataframe thead th {\n",
       "        text-align: right;\n",
       "    }\n",
       "</style>\n",
       "<table border=\"1\" class=\"dataframe\">\n",
       "  <thead>\n",
       "    <tr style=\"text-align: right;\">\n",
       "      <th></th>\n",
       "      <th>my_name</th>\n",
       "      <th>my_id</th>\n",
       "      <th>my_afs</th>\n",
       "      <th>my_afids</th>\n",
       "      <th>co_names</th>\n",
       "      <th>co_ids</th>\n",
       "    </tr>\n",
       "  </thead>\n",
       "  <tbody>\n",
       "    <tr>\n",
       "      <th>count</th>\n",
       "      <td>15</td>\n",
       "      <td>15</td>\n",
       "      <td>15</td>\n",
       "      <td>15</td>\n",
       "      <td>15</td>\n",
       "      <td>15</td>\n",
       "    </tr>\n",
       "    <tr>\n",
       "      <th>unique</th>\n",
       "      <td>5</td>\n",
       "      <td>7</td>\n",
       "      <td>7</td>\n",
       "      <td>8</td>\n",
       "      <td>14</td>\n",
       "      <td>14</td>\n",
       "    </tr>\n",
       "    <tr>\n",
       "      <th>top</th>\n",
       "      <td>Lee, Jehyun</td>\n",
       "      <td>16029235100</td>\n",
       "      <td>Seoul National University</td>\n",
       "      <td>60013682</td>\n",
       "      <td>[Suess, Dieter, Schrefl, Thomas, Kyu, Hwan Oh,...</td>\n",
       "      <td>[7004076065, 7005780657, 6602521869, 35601590600]</td>\n",
       "    </tr>\n",
       "    <tr>\n",
       "      <th>freq</th>\n",
       "      <td>7</td>\n",
       "      <td>8</td>\n",
       "      <td>4</td>\n",
       "      <td>4</td>\n",
       "      <td>2</td>\n",
       "      <td>2</td>\n",
       "    </tr>\n",
       "  </tbody>\n",
       "</table>\n",
       "</div>"
      ],
      "text/plain": [
       "            my_name        my_id                     my_afs  my_afids  \\\n",
       "count            15           15                         15        15   \n",
       "unique            5            7                          7         8   \n",
       "top     Lee, Jehyun  16029235100  Seoul National University  60013682   \n",
       "freq              7            8                          4         4   \n",
       "\n",
       "                                                 co_names  \\\n",
       "count                                                  15   \n",
       "unique                                                 14   \n",
       "top     [Suess, Dieter, Schrefl, Thomas, Kyu, Hwan Oh,...   \n",
       "freq                                                    2   \n",
       "\n",
       "                                                   co_ids  \n",
       "count                                                  15  \n",
       "unique                                                 14  \n",
       "top     [7004076065, 7005780657, 6602521869, 35601590600]  \n",
       "freq                                                    2  "
      ]
     },
     "execution_count": 10,
     "metadata": {},
     "output_type": "execute_result"
    }
   ],
   "source": [
    "df_my.describe()"
   ]
  },
  {
   "cell_type": "markdown",
   "metadata": {},
   "source": [
    "# my paper"
   ]
  },
  {
   "cell_type": "code",
   "execution_count": 11,
   "metadata": {},
   "outputs": [],
   "source": [
    "# def get_scopus_info(SCOPUS_ID):\n",
    "#     url = (\"http://api.elsevier.com/content/abstract/scopus_id/\"\n",
    "#           + SCOPUS_ID\n",
    "#           + \"?field=authors,title,publicationName,volume,issueIdentifier,\"\n",
    "#           + \"prism:pageRange,coverDate,article-number,doi,citedby-count,prism:aggregationType\")\n",
    "#     resp = requests.get(url,\n",
    "#                     headers={'Accept':'application/json',\n",
    "#                              'X-ELS-APIKey': APIKeys[-3]})\n",
    "#     results = json.loads(resp.text.encode('utf-8'))\n",
    "    \n",
    "#     authors = ', '.join([au['ce:indexed-name'] for au in results['abstracts-retrieval-response']['authors']['author']])\n",
    "#     title = results['abstracts-retrieval-response']['coredata']['dc:title']\n",
    "#     pubtype = results['abstracts-retrieval-response']['coredata']['prism:aggregationType']\n",
    "#     journal = results['abstracts-retrieval-response']['coredata']['prism:publicationName']\n",
    "#     volume = results['abstracts-retrieval-response']['coredata']['prism:volume']\n",
    "#     articlenum = (results['abstracts-retrieval-response']['coredata'].get('prism:pageRange') or\n",
    "#                   results['abstracts-retrieval-response']['coredata'].get('article-number'))\n",
    "#     date = results['abstracts-retrieval-response']['coredata']['prism:coverDate']\n",
    "#     doi = 'doi:' + results['abstracts-retrieval-response']['coredata']['prism:doi']\n",
    "#     cites = int(results['abstracts-retrieval-response']['coredata']['citedby-count'])\n",
    "    \n",
    "#     return pubtype, f'{authors}, {title}, {journal}, {volume}, {articlenum}, ({date}). {doi} (cited {cites} times).\\n'"
   ]
  },
  {
   "cell_type": "code",
   "execution_count": 12,
   "metadata": {},
   "outputs": [],
   "source": [
    "# jehyun\n",
    "def get_scopus_info(SCOPUS_ID):\n",
    "    url = (\"http://api.elsevier.com/content/abstract/scopus_id/\"\n",
    "          + sid\n",
    "          + \"?field=authors,affiliations,title,publicationName,volume,issueIdentifier,\"\n",
    "          + \"prism:pageRange,coverDate,article-number,doi,citedby-count,prism:aggregationType\")\n",
    "    resp = requests.get(url,\n",
    "                    headers={'Accept':'application/json',\n",
    "                             'X-ELS-APIKey': APIKeys[-3]})\n",
    "    results = json.loads(resp.text.encode('utf-8'))\n",
    "    \n",
    "    # authors full name for check\n",
    "    authors_full = [f\"{au['ce:surname']}, {au['ce:given-name']}\" for au in results['abstracts-retrieval-response']['authors']['author']]\n",
    "    au_afs = [af[\"affiliation\"] for af in results['abstracts-retrieval-response'][\"authors\"][\"author\"]]\n",
    "    afids = []\n",
    "    for au_af in au_afs:\n",
    "        if isinstance(au_af, list):\n",
    "            afids.append([af['@id'] for af in au_af])\n",
    "        elif isinstance(au_af, dict):\n",
    "            afids.append([au_af['@id']])\n",
    "\n",
    "    authors = ', '.join([au['ce:indexed-name'] for au in results['abstracts-retrieval-response']['authors']['author']])\n",
    "    title = results['abstracts-retrieval-response']['coredata']['dc:title']\n",
    "    pubtype = results['abstracts-retrieval-response']['coredata']['prism:aggregationType']\n",
    "    journal = results['abstracts-retrieval-response']['coredata']['prism:publicationName']\n",
    "    volume = results['abstracts-retrieval-response']['coredata']['prism:volume']\n",
    "    articlenum = (results['abstracts-retrieval-response']['coredata'].get('prism:pageRange') or\n",
    "                  results['abstracts-retrieval-response']['coredata'].get('article-number'))\n",
    "    date = results['abstracts-retrieval-response']['coredata']['prism:coverDate']\n",
    "    doi = 'doi:' + results['abstracts-retrieval-response']['coredata']['prism:doi']\n",
    "    cites = int(results['abstracts-retrieval-response']['coredata']['citedby-count'])\n",
    "    \n",
    "    return pubtype, authors_full, afids, f'{authors}, {title}, {journal}, {volume}, {articlenum}, ({date}). {doi} (cited {cites} times).\\n', results"
   ]
  },
  {
   "cell_type": "code",
   "execution_count": 13,
   "metadata": {},
   "outputs": [
    {
     "data": {
      "text/html": [
       "<div>\n",
       "<style scoped>\n",
       "    .dataframe tbody tr th:only-of-type {\n",
       "        vertical-align: middle;\n",
       "    }\n",
       "\n",
       "    .dataframe tbody tr th {\n",
       "        vertical-align: top;\n",
       "    }\n",
       "\n",
       "    .dataframe thead th {\n",
       "        text-align: right;\n",
       "    }\n",
       "</style>\n",
       "<table border=\"1\" class=\"dataframe\">\n",
       "  <thead>\n",
       "    <tr style=\"text-align: right;\">\n",
       "      <th></th>\n",
       "      <th>my_name</th>\n",
       "      <th>my_id</th>\n",
       "      <th>my_afs</th>\n",
       "      <th>my_afids</th>\n",
       "      <th>co_names</th>\n",
       "      <th>co_ids</th>\n",
       "      <th>my_scopusid</th>\n",
       "    </tr>\n",
       "  </thead>\n",
       "  <tbody>\n",
       "    <tr>\n",
       "      <th>0</th>\n",
       "      <td>Jehyun, Lee</td>\n",
       "      <td>15834698800</td>\n",
       "      <td>Seoul National University</td>\n",
       "      <td>60013682</td>\n",
       "      <td>[Suess, Dieter, Schrefl, Thomas, Kyu, Hwan Oh,...</td>\n",
       "      <td>[7004076065, 7005780657, 6602521869, 35601590600]</td>\n",
       "      <td>[]</td>\n",
       "    </tr>\n",
       "    <tr>\n",
       "      <th>1</th>\n",
       "      <td>Jehyun, Lee</td>\n",
       "      <td>15834698800</td>\n",
       "      <td>Technische Universität Wien</td>\n",
       "      <td>60018163</td>\n",
       "      <td>[Suess, Dieter, Schrefl, Thomas, Kyu, Hwan Oh,...</td>\n",
       "      <td>[7004076065, 7005780657, 6602521869, 35601590600]</td>\n",
       "      <td>[]</td>\n",
       "    </tr>\n",
       "    <tr>\n",
       "      <th>2</th>\n",
       "      <td>Lee, J.</td>\n",
       "      <td>16029235100</td>\n",
       "      <td>Technische Universität Wien</td>\n",
       "      <td>60018163</td>\n",
       "      <td>[Fiedler, G., Fidler, J., Schrefl, T., Stamps,...</td>\n",
       "      <td>[15829081900, 35601590600, 7005780657, 7004916...</td>\n",
       "      <td>[]</td>\n",
       "    </tr>\n",
       "    <tr>\n",
       "      <th>3</th>\n",
       "      <td>Lee, J.</td>\n",
       "      <td>24399437900</td>\n",
       "      <td>Technische Universität Wien</td>\n",
       "      <td>60018163</td>\n",
       "      <td>[Schulze, C., Faustini, M., Schletter, H., Lut...</td>\n",
       "      <td>[35181915100, 57196395997, 36675826300, 350853...</td>\n",
       "      <td>[]</td>\n",
       "    </tr>\n",
       "    <tr>\n",
       "      <th>4</th>\n",
       "      <td>Lee, J.</td>\n",
       "      <td>7601454858</td>\n",
       "      <td>Seoul National University</td>\n",
       "      <td>60013682</td>\n",
       "      <td>[Neu, V., Schulze, C., Faustini, M., Makarov, ...</td>\n",
       "      <td>[6701391076, 35181915100, 57196395997, 1264713...</td>\n",
       "      <td>[]</td>\n",
       "    </tr>\n",
       "    <tr>\n",
       "      <th>5</th>\n",
       "      <td>Lee, J. H.</td>\n",
       "      <td>7601451606</td>\n",
       "      <td>Seoul National University</td>\n",
       "      <td>60013682</td>\n",
       "      <td>[Jang, S. H., Kim, Y. W., Kim, K. Y.]</td>\n",
       "      <td>[24821314300, 8099600200, 57203256286]</td>\n",
       "      <td>[]</td>\n",
       "    </tr>\n",
       "    <tr>\n",
       "      <th>6</th>\n",
       "      <td>Lee, J. H.</td>\n",
       "      <td>7601462370</td>\n",
       "      <td>Korea Institute of Science and Technology</td>\n",
       "      <td>60025960</td>\n",
       "      <td>[Jang, S. H., Kang, T., Kim, K. Y.]</td>\n",
       "      <td>[24821314300, 8953533300, 57203256286]</td>\n",
       "      <td>[]</td>\n",
       "    </tr>\n",
       "    <tr>\n",
       "      <th>7</th>\n",
       "      <td>Lee, Je Hyun</td>\n",
       "      <td>16029235100</td>\n",
       "      <td>Korea Institute of Science and Technology</td>\n",
       "      <td>60025960</td>\n",
       "      <td>[Kim, Dal Young, Kim, Jin Soo, Park, Bae Ho, L...</td>\n",
       "      <td>[7409765949, 55881881500, 7402834739, 56524680...</td>\n",
       "      <td>[]</td>\n",
       "    </tr>\n",
       "    <tr>\n",
       "      <th>8</th>\n",
       "      <td>Lee, Jehyun</td>\n",
       "      <td>16029235100</td>\n",
       "      <td>Center of Semiconductor Research and Development</td>\n",
       "      <td>111165432</td>\n",
       "      <td>[Kim, Sang Koog, Yoo, Myoung Woo, Lee, Jae Hye...</td>\n",
       "      <td>[7601587994, 35738330300, 57206731799, 5719974...</td>\n",
       "      <td>[]</td>\n",
       "    </tr>\n",
       "    <tr>\n",
       "      <th>9</th>\n",
       "      <td>Lee, Jehyun</td>\n",
       "      <td>16029235100</td>\n",
       "      <td>Center of Semiconductor Research and Development</td>\n",
       "      <td>115225850</td>\n",
       "      <td>[Kim, Bosung, Yoo, Myoung Woo, Kim, Sang Koog,...</td>\n",
       "      <td>[56621593100, 35738330300, 7601587994, 5620601...</td>\n",
       "      <td>[]</td>\n",
       "    </tr>\n",
       "    <tr>\n",
       "      <th>10</th>\n",
       "      <td>Lee, Jehyun</td>\n",
       "      <td>16029235100</td>\n",
       "      <td>National Creative Research Initiative Center f...</td>\n",
       "      <td>107172817</td>\n",
       "      <td>[Kim, Sang Koog, Yoo, Myoung Woo, Lee, Ha Youn...</td>\n",
       "      <td>[7601587994, 35738330300, 56206010000, 5720673...</td>\n",
       "      <td>[]</td>\n",
       "    </tr>\n",
       "    <tr>\n",
       "      <th>11</th>\n",
       "      <td>Lee, Jehyun</td>\n",
       "      <td>16029235100</td>\n",
       "      <td>Samsung Group</td>\n",
       "      <td>60010484</td>\n",
       "      <td>[Makarov, Denys, Brombacher, Christoph, Dymers...</td>\n",
       "      <td>[12647134800, 24066478900, 39961295300, 700407...</td>\n",
       "      <td>[]</td>\n",
       "    </tr>\n",
       "    <tr>\n",
       "      <th>12</th>\n",
       "      <td>Lee, Jehyun</td>\n",
       "      <td>16029235100</td>\n",
       "      <td>Seoul National University</td>\n",
       "      <td>60013682</td>\n",
       "      <td>[Kim, Sang Koog, Yoo, Myoung Woo, Lee, Jae Hye...</td>\n",
       "      <td>[7601587994, 35738330300, 57206731799, 5719974...</td>\n",
       "      <td>[]</td>\n",
       "    </tr>\n",
       "    <tr>\n",
       "      <th>13</th>\n",
       "      <td>Lee, Jehyun</td>\n",
       "      <td>16029235100</td>\n",
       "      <td>Technische Universität Wien</td>\n",
       "      <td>60018163</td>\n",
       "      <td>[Makarov, Denys, Brombacher, Christoph, Dymers...</td>\n",
       "      <td>[12647134800, 24066478900, 39961295300, 700407...</td>\n",
       "      <td>[]</td>\n",
       "    </tr>\n",
       "    <tr>\n",
       "      <th>14</th>\n",
       "      <td>Lee, Jehyun</td>\n",
       "      <td>55969873500</td>\n",
       "      <td>Korea Institute of Energy Research</td>\n",
       "      <td>60087822</td>\n",
       "      <td>[Hong, Sung Jun, Chun, Hoje, Kim, Byung Hyun, ...</td>\n",
       "      <td>[57221590144, 57195466596, 55502655900, 572207...</td>\n",
       "      <td>[]</td>\n",
       "    </tr>\n",
       "  </tbody>\n",
       "</table>\n",
       "</div>"
      ],
      "text/plain": [
       "         my_name        my_id  \\\n",
       "0    Jehyun, Lee  15834698800   \n",
       "1    Jehyun, Lee  15834698800   \n",
       "2        Lee, J.  16029235100   \n",
       "3        Lee, J.  24399437900   \n",
       "4        Lee, J.   7601454858   \n",
       "5     Lee, J. H.   7601451606   \n",
       "6     Lee, J. H.   7601462370   \n",
       "7   Lee, Je Hyun  16029235100   \n",
       "8    Lee, Jehyun  16029235100   \n",
       "9    Lee, Jehyun  16029235100   \n",
       "10   Lee, Jehyun  16029235100   \n",
       "11   Lee, Jehyun  16029235100   \n",
       "12   Lee, Jehyun  16029235100   \n",
       "13   Lee, Jehyun  16029235100   \n",
       "14   Lee, Jehyun  55969873500   \n",
       "\n",
       "                                               my_afs   my_afids  \\\n",
       "0                           Seoul National University   60013682   \n",
       "1                         Technische Universität Wien   60018163   \n",
       "2                         Technische Universität Wien   60018163   \n",
       "3                         Technische Universität Wien   60018163   \n",
       "4                           Seoul National University   60013682   \n",
       "5                           Seoul National University   60013682   \n",
       "6           Korea Institute of Science and Technology   60025960   \n",
       "7           Korea Institute of Science and Technology   60025960   \n",
       "8    Center of Semiconductor Research and Development  111165432   \n",
       "9    Center of Semiconductor Research and Development  115225850   \n",
       "10  National Creative Research Initiative Center f...  107172817   \n",
       "11                                      Samsung Group   60010484   \n",
       "12                          Seoul National University   60013682   \n",
       "13                        Technische Universität Wien   60018163   \n",
       "14                 Korea Institute of Energy Research   60087822   \n",
       "\n",
       "                                             co_names  \\\n",
       "0   [Suess, Dieter, Schrefl, Thomas, Kyu, Hwan Oh,...   \n",
       "1   [Suess, Dieter, Schrefl, Thomas, Kyu, Hwan Oh,...   \n",
       "2   [Fiedler, G., Fidler, J., Schrefl, T., Stamps,...   \n",
       "3   [Schulze, C., Faustini, M., Schletter, H., Lut...   \n",
       "4   [Neu, V., Schulze, C., Faustini, M., Makarov, ...   \n",
       "5               [Jang, S. H., Kim, Y. W., Kim, K. Y.]   \n",
       "6                 [Jang, S. H., Kang, T., Kim, K. Y.]   \n",
       "7   [Kim, Dal Young, Kim, Jin Soo, Park, Bae Ho, L...   \n",
       "8   [Kim, Sang Koog, Yoo, Myoung Woo, Lee, Jae Hye...   \n",
       "9   [Kim, Bosung, Yoo, Myoung Woo, Kim, Sang Koog,...   \n",
       "10  [Kim, Sang Koog, Yoo, Myoung Woo, Lee, Ha Youn...   \n",
       "11  [Makarov, Denys, Brombacher, Christoph, Dymers...   \n",
       "12  [Kim, Sang Koog, Yoo, Myoung Woo, Lee, Jae Hye...   \n",
       "13  [Makarov, Denys, Brombacher, Christoph, Dymers...   \n",
       "14  [Hong, Sung Jun, Chun, Hoje, Kim, Byung Hyun, ...   \n",
       "\n",
       "                                               co_ids my_scopusid  \n",
       "0   [7004076065, 7005780657, 6602521869, 35601590600]          []  \n",
       "1   [7004076065, 7005780657, 6602521869, 35601590600]          []  \n",
       "2   [15829081900, 35601590600, 7005780657, 7004916...          []  \n",
       "3   [35181915100, 57196395997, 36675826300, 350853...          []  \n",
       "4   [6701391076, 35181915100, 57196395997, 1264713...          []  \n",
       "5              [24821314300, 8099600200, 57203256286]          []  \n",
       "6              [24821314300, 8953533300, 57203256286]          []  \n",
       "7   [7409765949, 55881881500, 7402834739, 56524680...          []  \n",
       "8   [7601587994, 35738330300, 57206731799, 5719974...          []  \n",
       "9   [56621593100, 35738330300, 7601587994, 5620601...          []  \n",
       "10  [7601587994, 35738330300, 56206010000, 5720673...          []  \n",
       "11  [12647134800, 24066478900, 39961295300, 700407...          []  \n",
       "12  [7601587994, 35738330300, 57206731799, 5719974...          []  \n",
       "13  [12647134800, 24066478900, 39961295300, 700407...          []  \n",
       "14  [57221590144, 57195466596, 55502655900, 572207...          []  "
      ]
     },
     "execution_count": 13,
     "metadata": {},
     "output_type": "execute_result"
    }
   ],
   "source": [
    "df_my[\"my_scopusid\"] = [[]] * df_my.shape[0]\n",
    "df_my"
   ]
  },
  {
   "cell_type": "code",
   "execution_count": 27,
   "metadata": {},
   "outputs": [],
   "source": [
    "my_name_vs = df_my[\"my_name\"].values\n",
    "my_id_vs = df_my[\"my_id\"].values\n",
    "my_afids_vs = df_my[\"my_afids\"].values\n",
    "\n",
    "pub_no = 0\n",
    "pubs = []"
   ]
  },
  {
   "cell_type": "code",
   "execution_count": 28,
   "metadata": {},
   "outputs": [
    {
     "name": "stdout",
     "output_type": "stream",
     "text": [
      "# 0\n",
      "my_name = Jehyun, Lee\n",
      "Jehyun L., Suess D., Schrefl T., Kyu H.O., Fidler J., Contribution of local incoherency on Gilbert-damping, IEEE Transactions on Magnetics, 42, 3210-3212, (2006-10-01). doi:10.1109/TMAG.2006.880565 (cited 3 times).\n",
      "\n",
      "# 1\n",
      "my_name = Jehyun, Lee\n",
      "Jehyun L., Suess D., Schrefl T., Kyu H.O., Fidler J., Contribution of local incoherency on Gilbert-damping, IEEE Transactions on Magnetics, 42, 3210-3212, (2006-10-01). doi:10.1109/TMAG.2006.880565 (cited 3 times).\n",
      "\n",
      "# 2\n"
     ]
    },
    {
     "ename": "KeyError",
     "evalue": "'search-results'",
     "output_type": "error",
     "traceback": [
      "\u001b[0;31m---------------------------------------------------------------------------\u001b[0m",
      "\u001b[0;31mKeyError\u001b[0m                                  Traceback (most recent call last)",
      "\u001b[0;32m<timed exec>\u001b[0m in \u001b[0;36m<module>\u001b[0;34m\u001b[0m\n",
      "\u001b[0;31mKeyError\u001b[0m: 'search-results'"
     ]
    }
   ],
   "source": [
    "%%time\n",
    "\n",
    "for i, (my_name, my_id, my_afid) in enumerate(zip(my_name_vs, my_id_vs, my_afids_vs)):\n",
    "    # retrieve Scopus IDs\n",
    "    print(f\"# {i}\")\n",
    "    scopus_ids_valid = []\n",
    "    author_pubs_ = requests.get(f\"http://api.elsevier.com/content/search/scopus?query=AU-ID({my_id})&field=dc:identifier&count=200\",\n",
    "                                   headers={'Accept':'application/json',\n",
    "                                            'X-ELS-APIKey': APIKeys[-3]})\n",
    "    author_pubs = author_pubs_.json()\n",
    "    scopus_ids = [p['dc:identifier'] for p in author_pubs['search-results'][\"entry\"]]\n",
    "\n",
    "    # retrieve valid articles\n",
    "    for sid in scopus_ids:\n",
    "        try:\n",
    "            pub_type, authors_full, afids, pub_info, results = get_scopus_info(sid)\n",
    "            for my_name in my_names:\n",
    "                flag_chk = len(np.where(my_name == np.array(authors_full))[0])\n",
    "                if flag_chk > 0:\n",
    "                    print(f\"my_name = {my_name}\")\n",
    "                    break\n",
    "            \n",
    "            name_idx = np.where(my_name == np.array(authors_full))[0][0]\n",
    "            name_afid = afids[name_idx]\n",
    "            if (my_afid in name_afid) and (pub_type == 'Journal'):\n",
    "                scopus_ids_valid.append(sid)\n",
    "                pubs.append(f\"{pub_info}\")\n",
    "                pub_no += 1\n",
    "                print(pub_info)\n",
    "        except:\n",
    "            pass\n",
    "\n",
    "print(pub_no)"
   ]
  },
  {
   "cell_type": "code",
   "execution_count": 38,
   "metadata": {},
   "outputs": [
    {
     "name": "stdout",
     "output_type": "stream",
     "text": [
      "my_name = Lee, Jehyun\n"
     ]
    },
    {
     "ename": "KeyError",
     "evalue": "'affiliation'",
     "output_type": "error",
     "traceback": [
      "\u001b[0;31m---------------------------------------------------------------------------\u001b[0m",
      "\u001b[0;31mKeyError\u001b[0m                                  Traceback (most recent call last)",
      "\u001b[0;32m<ipython-input-38-29a138bd476f>\u001b[0m in \u001b[0;36m<module>\u001b[0;34m\u001b[0m\n\u001b[1;32m     12\u001b[0m \u001b[0;34m\u001b[0m\u001b[0m\n\u001b[1;32m     13\u001b[0m \u001b[0;32mfor\u001b[0m \u001b[0msid\u001b[0m \u001b[0;32min\u001b[0m \u001b[0mscopus_ids\u001b[0m\u001b[0;34m:\u001b[0m\u001b[0;34m\u001b[0m\u001b[0;34m\u001b[0m\u001b[0m\n\u001b[0;32m---> 14\u001b[0;31m     \u001b[0mpub_type\u001b[0m\u001b[0;34m,\u001b[0m \u001b[0mauthors_full\u001b[0m\u001b[0;34m,\u001b[0m \u001b[0mafids\u001b[0m\u001b[0;34m,\u001b[0m \u001b[0mpub_info\u001b[0m\u001b[0;34m,\u001b[0m \u001b[0mresults\u001b[0m \u001b[0;34m=\u001b[0m \u001b[0mget_scopus_info\u001b[0m\u001b[0;34m(\u001b[0m\u001b[0msid\u001b[0m\u001b[0;34m)\u001b[0m\u001b[0;34m\u001b[0m\u001b[0;34m\u001b[0m\u001b[0m\n\u001b[0m\u001b[1;32m     15\u001b[0m     \u001b[0;32mfor\u001b[0m \u001b[0mmy_name\u001b[0m \u001b[0;32min\u001b[0m \u001b[0mmy_names\u001b[0m\u001b[0;34m:\u001b[0m\u001b[0;34m\u001b[0m\u001b[0;34m\u001b[0m\u001b[0m\n\u001b[1;32m     16\u001b[0m         \u001b[0mflag_chk\u001b[0m \u001b[0;34m=\u001b[0m \u001b[0mlen\u001b[0m\u001b[0;34m(\u001b[0m\u001b[0mnp\u001b[0m\u001b[0;34m.\u001b[0m\u001b[0mwhere\u001b[0m\u001b[0;34m(\u001b[0m\u001b[0mmy_name\u001b[0m \u001b[0;34m==\u001b[0m \u001b[0mnp\u001b[0m\u001b[0;34m.\u001b[0m\u001b[0marray\u001b[0m\u001b[0;34m(\u001b[0m\u001b[0mauthors_full\u001b[0m\u001b[0;34m)\u001b[0m\u001b[0;34m)\u001b[0m\u001b[0;34m[\u001b[0m\u001b[0;36m0\u001b[0m\u001b[0;34m]\u001b[0m\u001b[0;34m)\u001b[0m\u001b[0;34m\u001b[0m\u001b[0;34m\u001b[0m\u001b[0m\n",
      "\u001b[0;32m<ipython-input-12-86e40b46dda9>\u001b[0m in \u001b[0;36mget_scopus_info\u001b[0;34m(SCOPUS_ID)\u001b[0m\n\u001b[1;32m     12\u001b[0m     \u001b[0;31m# authors full name for check\u001b[0m\u001b[0;34m\u001b[0m\u001b[0;34m\u001b[0m\u001b[0;34m\u001b[0m\u001b[0m\n\u001b[1;32m     13\u001b[0m     \u001b[0mauthors_full\u001b[0m \u001b[0;34m=\u001b[0m \u001b[0;34m[\u001b[0m\u001b[0;34mf\"{au['ce:surname']}, {au['ce:given-name']}\"\u001b[0m \u001b[0;32mfor\u001b[0m \u001b[0mau\u001b[0m \u001b[0;32min\u001b[0m \u001b[0mresults\u001b[0m\u001b[0;34m[\u001b[0m\u001b[0;34m'abstracts-retrieval-response'\u001b[0m\u001b[0;34m]\u001b[0m\u001b[0;34m[\u001b[0m\u001b[0;34m'authors'\u001b[0m\u001b[0;34m]\u001b[0m\u001b[0;34m[\u001b[0m\u001b[0;34m'author'\u001b[0m\u001b[0;34m]\u001b[0m\u001b[0;34m]\u001b[0m\u001b[0;34m\u001b[0m\u001b[0;34m\u001b[0m\u001b[0m\n\u001b[0;32m---> 14\u001b[0;31m     \u001b[0mau_afs\u001b[0m \u001b[0;34m=\u001b[0m \u001b[0;34m[\u001b[0m\u001b[0maf\u001b[0m\u001b[0;34m[\u001b[0m\u001b[0;34m\"affiliation\"\u001b[0m\u001b[0;34m]\u001b[0m \u001b[0;32mfor\u001b[0m \u001b[0maf\u001b[0m \u001b[0;32min\u001b[0m \u001b[0mresults\u001b[0m\u001b[0;34m[\u001b[0m\u001b[0;34m'abstracts-retrieval-response'\u001b[0m\u001b[0;34m]\u001b[0m\u001b[0;34m[\u001b[0m\u001b[0;34m\"authors\"\u001b[0m\u001b[0;34m]\u001b[0m\u001b[0;34m[\u001b[0m\u001b[0;34m\"author\"\u001b[0m\u001b[0;34m]\u001b[0m\u001b[0;34m]\u001b[0m\u001b[0;34m\u001b[0m\u001b[0;34m\u001b[0m\u001b[0m\n\u001b[0m\u001b[1;32m     15\u001b[0m     \u001b[0mafids\u001b[0m \u001b[0;34m=\u001b[0m \u001b[0;34m[\u001b[0m\u001b[0;34m]\u001b[0m\u001b[0;34m\u001b[0m\u001b[0;34m\u001b[0m\u001b[0m\n\u001b[1;32m     16\u001b[0m     \u001b[0;32mfor\u001b[0m \u001b[0mau_af\u001b[0m \u001b[0;32min\u001b[0m \u001b[0mau_afs\u001b[0m\u001b[0;34m:\u001b[0m\u001b[0;34m\u001b[0m\u001b[0;34m\u001b[0m\u001b[0m\n",
      "\u001b[0;32m<ipython-input-12-86e40b46dda9>\u001b[0m in \u001b[0;36m<listcomp>\u001b[0;34m(.0)\u001b[0m\n\u001b[1;32m     12\u001b[0m     \u001b[0;31m# authors full name for check\u001b[0m\u001b[0;34m\u001b[0m\u001b[0;34m\u001b[0m\u001b[0;34m\u001b[0m\u001b[0m\n\u001b[1;32m     13\u001b[0m     \u001b[0mauthors_full\u001b[0m \u001b[0;34m=\u001b[0m \u001b[0;34m[\u001b[0m\u001b[0;34mf\"{au['ce:surname']}, {au['ce:given-name']}\"\u001b[0m \u001b[0;32mfor\u001b[0m \u001b[0mau\u001b[0m \u001b[0;32min\u001b[0m \u001b[0mresults\u001b[0m\u001b[0;34m[\u001b[0m\u001b[0;34m'abstracts-retrieval-response'\u001b[0m\u001b[0;34m]\u001b[0m\u001b[0;34m[\u001b[0m\u001b[0;34m'authors'\u001b[0m\u001b[0;34m]\u001b[0m\u001b[0;34m[\u001b[0m\u001b[0;34m'author'\u001b[0m\u001b[0;34m]\u001b[0m\u001b[0;34m]\u001b[0m\u001b[0;34m\u001b[0m\u001b[0;34m\u001b[0m\u001b[0m\n\u001b[0;32m---> 14\u001b[0;31m     \u001b[0mau_afs\u001b[0m \u001b[0;34m=\u001b[0m \u001b[0;34m[\u001b[0m\u001b[0maf\u001b[0m\u001b[0;34m[\u001b[0m\u001b[0;34m\"affiliation\"\u001b[0m\u001b[0;34m]\u001b[0m \u001b[0;32mfor\u001b[0m \u001b[0maf\u001b[0m \u001b[0;32min\u001b[0m \u001b[0mresults\u001b[0m\u001b[0;34m[\u001b[0m\u001b[0;34m'abstracts-retrieval-response'\u001b[0m\u001b[0;34m]\u001b[0m\u001b[0;34m[\u001b[0m\u001b[0;34m\"authors\"\u001b[0m\u001b[0;34m]\u001b[0m\u001b[0;34m[\u001b[0m\u001b[0;34m\"author\"\u001b[0m\u001b[0;34m]\u001b[0m\u001b[0;34m]\u001b[0m\u001b[0;34m\u001b[0m\u001b[0;34m\u001b[0m\u001b[0m\n\u001b[0m\u001b[1;32m     15\u001b[0m     \u001b[0mafids\u001b[0m \u001b[0;34m=\u001b[0m \u001b[0;34m[\u001b[0m\u001b[0;34m]\u001b[0m\u001b[0;34m\u001b[0m\u001b[0;34m\u001b[0m\u001b[0m\n\u001b[1;32m     16\u001b[0m     \u001b[0;32mfor\u001b[0m \u001b[0mau_af\u001b[0m \u001b[0;32min\u001b[0m \u001b[0mau_afs\u001b[0m\u001b[0;34m:\u001b[0m\u001b[0;34m\u001b[0m\u001b[0;34m\u001b[0m\u001b[0m\n",
      "\u001b[0;31mKeyError\u001b[0m: 'affiliation'"
     ]
    }
   ],
   "source": [
    "i = 2\n",
    "my_name = my_name_vs[i]\n",
    "my_id = my_id_vs[i]\n",
    "my_afids = my_afids_vs[i]\n",
    "\n",
    "author_pubs_ = requests.get(f\"http://api.elsevier.com/content/search/scopus?query=AU-ID({my_id})&field=dc:identifier&count=200\",\n",
    "                               headers={'Accept':'application/json',\n",
    "                                        'X-ELS-APIKey': APIKeys[-3]})\n",
    "author_pubs = author_pubs_.json()\n",
    "scopus_ids = [p['dc:identifier'] for p in author_pubs['search-results'][\"entry\"]]\n",
    "\n",
    "\n",
    "for sid in scopus_ids:\n",
    "    pub_type, authors_full, afids, pub_info, results = get_scopus_info(sid)\n",
    "    for my_name in my_names:\n",
    "        flag_chk = len(np.where(my_name == np.array(authors_full))[0])\n",
    "        if flag_chk > 0:\n",
    "            print(f\"my_name = {my_name}\")\n",
    "            break\n",
    "\n",
    "    name_idx = np.where(my_name == np.array(authors_full))[0][0]\n",
    "    name_afid = afids[name_idx]\n",
    "    if (my_afid in name_afid) and (pub_type == 'Journal'):\n",
    "        scopus_ids_valid.append(sid)\n",
    "        pubs.append(f\"{pub_info}\")\n",
    "        pub_no += 1\n",
    "        print(pub_info)"
   ]
  },
  {
   "cell_type": "code",
   "execution_count": 25,
   "metadata": {},
   "outputs": [
    {
     "name": "stdout",
     "output_type": "stream",
     "text": [
      "Lee, J. 16029235100 60018163\n"
     ]
    }
   ],
   "source": [
    "i = 2\n",
    "my_name = my_names[i]\n",
    "my_id = my_ids[i]\n",
    "my_afid = my_afids[i]\n",
    "print(my_name, my_id, my_afid)"
   ]
  },
  {
   "cell_type": "code",
   "execution_count": 17,
   "metadata": {},
   "outputs": [],
   "source": [
    "author_pubs_ = requests.get(f\"http://api.elsevier.com/content/search/scopus?query=AU-ID({my_id})&field=dc:identifier&count=200\",\n",
    "                               headers={'Accept':'application/json',\n",
    "                                        'X-ELS-APIKey': APIKeys[-3]})\n",
    "author_pubs = author_pubs_.json()\n",
    "scopus_ids = [p['dc:identifier'] for p in author_pubs['search-results'][\"entry\"]]"
   ]
  },
  {
   "cell_type": "code",
   "execution_count": 21,
   "metadata": {},
   "outputs": [
    {
     "data": {
      "text/plain": [
       "['Lee, Jehyun', 'Oh, Kyuhwan', 'Kim, Hi-Jung', 'Kim, Kwang Youn']"
      ]
     },
     "execution_count": 21,
     "metadata": {},
     "output_type": "execute_result"
    }
   ],
   "source": [
    "authors_full"
   ]
  },
  {
   "cell_type": "code",
   "execution_count": 23,
   "metadata": {},
   "outputs": [
    {
     "data": {
      "text/plain": [
       "'Lee, J.'"
      ]
     },
     "execution_count": 23,
     "metadata": {},
     "output_type": "execute_result"
    }
   ],
   "source": [
    "my_name"
   ]
  },
  {
   "cell_type": "code",
   "execution_count": 22,
   "metadata": {},
   "outputs": [
    {
     "name": "stdout",
     "output_type": "stream",
     "text": [
      "# 1\n",
      " ['Kim, Sang-Koog', 'Yoo, Myoung-Woo', 'Lee, Jehyun', 'Lee, Jae-Hyeok', 'Kim, Min-Kwan']\n",
      "# 3\n",
      " ['Kim, Sang-Koog', 'Yoo, Myoung-Woo', 'Lee, Jehyun', 'Lee, Ha-Youn', 'Lee, Jae-Hyeok', 'Gaididei, Yuri', 'Kravchuk, Volodymyr P.', 'Sheka, Denis D.']\n",
      "# 4\n",
      " ['Kim, Bosung', 'Yoo, Myoung-Woo', 'Lee, Jehyun', 'Kim, Sang-Koog']\n",
      "# 5\n",
      " ['Kim, Min-Kwan', 'Dhak, Prasanta', 'Lee, Ha-Youn', 'Lee, Jae-Hyeok', 'Yoo, Myoung-Woo', 'Lee, Jehyun', 'Jin, Kyoungsuk', 'Chu, Arim', 'Nam, Ki Tae', 'Park, Hyun Soon', 'Aizawa, Shinji', 'Tanigaki, Toshiaki', 'Shindo, Daisuke', 'Kim, Miyoung', 'Kim, Sang-Koog']\n",
      "# 6\n",
      " ['Lee, Jehyun', 'Makarov, Denys', 'Brombacher, Christoph', 'Dymerska, Barbara', 'Suess, Dieter', 'Albrecht, Manfred', 'Fidler, Josef']\n",
      "# 7\n",
      " ['Streubel, Robert', 'Lee, Jehyun', 'Makarov, Denys', 'Im, Mi-Young', 'Karnaushenko, Daniil', 'Han, Luyang', 'Schäfer, Rudolf', 'Fischer, Peter', 'Kim, Sang-Koog', 'Schmidt, Oliver G.']\n",
      "# 8\n",
      " ['Kang, Young-Min', 'Lee, Jehyun', 'Kang, Young Jae', 'Park, Jong-Bong', 'Kim, Sang Il', 'Lee, Sang Mock', 'Ahn, Kyunghan']\n",
      "# 9\n",
      " ['Streubel, Robert', 'Makarov, Denys', 'Lee, Jehyun', 'Müller, Christian', 'Melzer, Michael', 'Schäfer, Rudolf', 'Bufon, Carlos Cesar B. O. F.', 'Kim, Sang-Koog', 'Schmidt, Oliver G.']\n",
      "# 10\n",
      " ['Lee, Jehyun', 'Dymerska, Barbara', 'Fidler, Josef', 'Alexandrakis, Vasilis', 'Speliotis, Thanassis', 'Niarchos, Dimitris', 'Pongratz, Peter', 'Suess, Dieter']\n",
      "# 11\n",
      " ['Yu, Young-Sang', 'Han, Dong-Soo', 'Yoo, Myoung-Woo', 'Lee, Ki-Suk', 'Choi, Youn-Seok', 'Jung, Hyunsung', 'Lee, Jehyun', 'Im, Mi-Young', 'Fischer, Peter', 'Kim, Sang-Koog']\n",
      "# 12\n",
      " ['Dymerska, Barbara', 'Lee, Jehyun', 'Fidler, Josef', 'Suess, Dieter']\n",
      "# 14\n",
      " ['Yoo, Myoung-Woo', 'Lee, Jehyun', 'Kim, Sang-Koog']\n",
      "# 17\n",
      " ['Lee, Jehyun', 'Brombacher, Christoph', 'Fidler, Josef', 'Dymerska, Barbara', 'Suess, Dieter', 'Albrecht, Manfred']\n",
      "# 18\n",
      " ['Lee, Jehyun', 'Alexandrakis, Vasilis', 'Fuger, Markus', 'Dymerska, Barbara', 'Suess, Dieter', 'Niarchos, Dimitris', 'Fidler, Josef']\n",
      "# 20\n",
      " ['Lee, Jehyun', 'Fuger, Markus', 'Fidler, Josef', 'Suess, Dieter', 'Schrefl, Thomas', 'Shimizu, Osamu']\n",
      "# 23\n",
      " ['Lee, Jehyun', 'Uhrmann, Thomas', 'Dimopoulos, Theodoros', 'Brückl, Hubert', 'Fidler, Josef']\n",
      "# 26\n",
      " ['Lee, Jehyun', 'Suess, Dieter', 'Schrefl, Thomas', 'Dean, Julian', 'Fidler, Josef']\n",
      "# 27\n",
      " ['Lee, Jehyun', 'Suess, Dieter', 'Schrefl, Thomas', 'Oh, Kyu Hwan', 'Fidler, Josef']\n",
      "# 29\n",
      " ['Lee, Jehyun', 'Suess, Dieter', 'Schrefl, Thomas', 'Yu, Eu Sun', 'Lee, You Sub', 'Oh, Kyu Hwan', 'Fidler, Josef']\n",
      "# 30\n",
      " ['Kim, Ji Woo', 'Friedrichs, Oliver', 'Ahn, Jae-Pyoung', 'Kim, Do Hyun', 'Kim, Seul Cham', 'Remhof, Arndt', 'Chung, Hee-Suk', 'Lee, Jehyun', 'Shim, Jae-Hyeok', 'Cho, Young Whan', 'Züttel, Andreas', 'Oh, Kyu Hwan']\n",
      "# 33\n",
      " ['Lee, Jehyun', 'Suess, Dieter', 'Schrefl, Thomas', 'Oh, Kyu Hwan', 'Fidler, Josef']\n",
      "# 34\n",
      " ['Lee, Jehyun', 'Suess, Dieter', 'Fidler, Josef', 'Schrefl, Thomas', 'Hwan Oh, Kyu']\n",
      "# 36\n",
      " ['Lee, Jehyun', 'Suess, Dieter', 'Schrefl, Thomas', 'Oh, Kyu Hwan', 'Fidler, Josef']\n",
      "# 39\n",
      " ['Ha, Hyekyung', 'Lee, Young-Sun', 'Lee, Je Hyun', 'Choi, Hwansoo', 'Kim, Chungsook']\n",
      "# 40\n",
      " ['Kim, Dal-Young', 'Kim, Jin Soo', 'Park, Bae Ho', 'Lee, Jeon-Kook', 'Kim, Jang Hee', 'Lee, Je Hyun', 'Chang, Joonyeon', 'Kim, Hi-Jung', 'Kim, Inyoung', 'Park, Yun D.']\n",
      "# 41\n",
      " ['Lee, Jehyun', 'Oh, Kyuhwan', 'Kim, Hi-Jung', 'Kim, Kwang Youn']\n"
     ]
    }
   ],
   "source": [
    "for i, sid in enumerate(scopus_ids):\n",
    "    try:\n",
    "        pub_type, authors_full, afids, pub_info, results = get_scopus_info(sid)\n",
    "        print(f\"# {i+1}\\n {authors_full}\")\n",
    "    except:\n",
    "        pass"
   ]
  },
  {
   "cell_type": "code",
   "execution_count": null,
   "metadata": {},
   "outputs": [],
   "source": []
  },
  {
   "cell_type": "code",
   "execution_count": null,
   "metadata": {},
   "outputs": [],
   "source": []
  },
  {
   "cell_type": "code",
   "execution_count": null,
   "metadata": {},
   "outputs": [],
   "source": []
  },
  {
   "cell_type": "code",
   "execution_count": 238,
   "metadata": {},
   "outputs": [
    {
     "name": "stdout",
     "output_type": "stream",
     "text": [
      "Lee, J. H. 7601451606 60013682\n"
     ]
    },
    {
     "ename": "IndexError",
     "evalue": "index 0 is out of bounds for axis 0 with size 0",
     "output_type": "error",
     "traceback": [
      "\u001b[0;31m---------------------------------------------------------------------------\u001b[0m",
      "\u001b[0;31mIndexError\u001b[0m                                Traceback (most recent call last)",
      "\u001b[0;32m<ipython-input-238-3511205ab094>\u001b[0m in \u001b[0;36m<module>\u001b[0;34m\u001b[0m\n\u001b[1;32m      1\u001b[0m \u001b[0;32mfor\u001b[0m \u001b[0mmy_name\u001b[0m\u001b[0;34m,\u001b[0m \u001b[0mmy_id\u001b[0m\u001b[0;34m,\u001b[0m \u001b[0mmy_afid\u001b[0m \u001b[0;32min\u001b[0m \u001b[0mzip\u001b[0m\u001b[0;34m(\u001b[0m\u001b[0mmy_names\u001b[0m\u001b[0;34m[\u001b[0m\u001b[0;34m-\u001b[0m\u001b[0;36m10\u001b[0m\u001b[0;34m:\u001b[0m\u001b[0;34m]\u001b[0m\u001b[0;34m,\u001b[0m \u001b[0mmy_ids\u001b[0m\u001b[0;34m[\u001b[0m\u001b[0;34m-\u001b[0m\u001b[0;36m10\u001b[0m\u001b[0;34m:\u001b[0m\u001b[0;34m]\u001b[0m\u001b[0;34m,\u001b[0m \u001b[0mmy_afids\u001b[0m\u001b[0;34m[\u001b[0m\u001b[0;34m-\u001b[0m\u001b[0;36m10\u001b[0m\u001b[0;34m:\u001b[0m\u001b[0;34m]\u001b[0m\u001b[0;34m)\u001b[0m\u001b[0;34m:\u001b[0m\u001b[0;34m\u001b[0m\u001b[0;34m\u001b[0m\u001b[0m\n\u001b[1;32m      2\u001b[0m     \u001b[0mprint\u001b[0m\u001b[0;34m(\u001b[0m\u001b[0mmy_name\u001b[0m\u001b[0;34m,\u001b[0m \u001b[0mmy_id\u001b[0m\u001b[0;34m,\u001b[0m \u001b[0mmy_afid\u001b[0m\u001b[0;34m)\u001b[0m\u001b[0;34m\u001b[0m\u001b[0;34m\u001b[0m\u001b[0m\n\u001b[0;32m----> 3\u001b[0;31m     \u001b[0mname_idx\u001b[0m \u001b[0;34m=\u001b[0m \u001b[0mnp\u001b[0m\u001b[0;34m.\u001b[0m\u001b[0mwhere\u001b[0m\u001b[0;34m(\u001b[0m\u001b[0mmy_name\u001b[0m \u001b[0;34m==\u001b[0m \u001b[0mnp\u001b[0m\u001b[0;34m.\u001b[0m\u001b[0marray\u001b[0m\u001b[0;34m(\u001b[0m\u001b[0mauthors_full\u001b[0m\u001b[0;34m)\u001b[0m\u001b[0;34m)\u001b[0m\u001b[0;34m[\u001b[0m\u001b[0;36m0\u001b[0m\u001b[0;34m]\u001b[0m\u001b[0;34m[\u001b[0m\u001b[0;36m0\u001b[0m\u001b[0;34m]\u001b[0m\u001b[0;34m\u001b[0m\u001b[0;34m\u001b[0m\u001b[0m\n\u001b[0m\u001b[1;32m      4\u001b[0m     \u001b[0mname_afid\u001b[0m \u001b[0;34m=\u001b[0m \u001b[0mafids\u001b[0m\u001b[0;34m[\u001b[0m\u001b[0mname_idx\u001b[0m\u001b[0;34m]\u001b[0m\u001b[0;34m\u001b[0m\u001b[0;34m\u001b[0m\u001b[0m\n\u001b[1;32m      5\u001b[0m     \u001b[0mprint\u001b[0m\u001b[0;34m(\u001b[0m\u001b[0;34mf\"name_idx={name_idx}, afids={afids}\"\u001b[0m\u001b[0;34m)\u001b[0m\u001b[0;34m\u001b[0m\u001b[0;34m\u001b[0m\u001b[0m\n",
      "\u001b[0;31mIndexError\u001b[0m: index 0 is out of bounds for axis 0 with size 0"
     ]
    }
   ],
   "source": [
    "for my_name, my_id, my_afid in zip(my_names[-10:], my_ids[-10:], my_afids[-10:]):\n",
    "    print(my_name, my_id, my_afid)\n",
    "    name_idx = np.where(my_name == np.array(authors_full))[0][0]\n",
    "    name_afid = afids[name_idx]\n",
    "    print(f\"name_idx={name_idx}, afids={afids}\")\n",
    "    print((my_afid in name_afid) and (pub_type == 'Journal'))\n",
    "    if (my_afid in name_afid) and (pub_type == 'Journal'):\n",
    "        pubs.append(f\"{pub_info}\")\n",
    "        pub_no += 1"
   ]
  },
  {
   "cell_type": "code",
   "execution_count": 234,
   "metadata": {},
   "outputs": [
    {
     "data": {
      "text/plain": [
       "['Park H.-K., Lee J.-H., Lee J., Kim S.-K., Optimizing machine learning models for granular NdFeB magnets by very fast simulated annealing, Scientific Reports, 11, 3792, (2021-12-01). doi:10.1038/s41598-021-83315-9 (cited 2 times).\\n']"
      ]
     },
     "execution_count": 234,
     "metadata": {},
     "output_type": "execute_result"
    }
   ],
   "source": [
    "pubs"
   ]
  },
  {
   "cell_type": "code",
   "execution_count": 230,
   "metadata": {},
   "outputs": [
    {
     "name": "stdout",
     "output_type": "stream",
     "text": [
      "Jehyun, Lee 15834698800 60013682\n",
      "Jehyun, Lee 15834698800 60018163\n",
      "Lee, J. 16029235100 60018163\n",
      "Lee, J. 24399437900 60018163\n",
      "Lee, J. 7601454858 60013682\n",
      "Lee, J. H. 7601451606 60013682\n",
      "Lee, J. H. 7601462370 60025960\n",
      "Lee, Je Hyun 16029235100 60025960\n",
      "Lee, Jehyun 16029235100 111165432\n",
      "Lee, Jehyun 16029235100 115225850\n",
      "Lee, Jehyun 16029235100 107172817\n",
      "Lee, Jehyun 16029235100 60010484\n",
      "Lee, Jehyun 16029235100 60013682\n",
      "Lee, Jehyun 16029235100 60018163\n",
      "Lee, Jehyun 55969873500 60087822\n"
     ]
    }
   ],
   "source": [
    "for my_name, my_id, my_afid in zip(my_names, my_ids, my_afids):\n",
    "    print(my_name, my_id, my_afid)"
   ]
  },
  {
   "cell_type": "code",
   "execution_count": 199,
   "metadata": {},
   "outputs": [
    {
     "name": "stdout",
     "output_type": "stream",
     "text": [
      "['Park, Hyeon-Kyu', 'Lee, Jae-Hyeok', 'Lee, Jehyun', 'Kim, Sang-Koog'] [['60013682'], ['60013682'], ['60087822'], ['60013682']]\n"
     ]
    }
   ],
   "source": [
    "sid = scopus_ids[1]\n",
    "pub_type, authors_full, afids, pub_info, results = get_scopus_info(sid)\n",
    "print(authors_full, afids)"
   ]
  },
  {
   "cell_type": "code",
   "execution_count": 202,
   "metadata": {},
   "outputs": [
    {
     "name": "stdout",
     "output_type": "stream",
     "text": [
      "Lee, Jehyun 55969873500 60087822\n"
     ]
    }
   ],
   "source": [
    "my_name = my_names[-1]\n",
    "my_id = my_ids[-1]\n",
    "my_afid = my_afids[-1]\n",
    "print(my_name, my_id, my_afid)"
   ]
  },
  {
   "cell_type": "code",
   "execution_count": 204,
   "metadata": {},
   "outputs": [
    {
     "data": {
      "text/plain": [
       "['60087822']"
      ]
     },
     "execution_count": 204,
     "metadata": {},
     "output_type": "execute_result"
    }
   ],
   "source": [
    "name_idx = np.where(my_name == np.array(authors_full))[0][0]\n",
    "name_afid = afids[name_idx]\n",
    "name_afid"
   ]
  },
  {
   "cell_type": "code",
   "execution_count": 207,
   "metadata": {},
   "outputs": [
    {
     "data": {
      "text/plain": [
       "True"
      ]
     },
     "execution_count": 207,
     "metadata": {},
     "output_type": "execute_result"
    }
   ],
   "source": [
    "(my_afid in name_afid) and (pub_type == 'Journal')"
   ]
  },
  {
   "cell_type": "code",
   "execution_count": 209,
   "metadata": {},
   "outputs": [
    {
     "data": {
      "text/plain": [
       "'SCOPUS_ID:85100912756'"
      ]
     },
     "execution_count": 209,
     "metadata": {},
     "output_type": "execute_result"
    }
   ],
   "source": [
    "scopus_ids[1]"
   ]
  },
  {
   "cell_type": "code",
   "execution_count": null,
   "metadata": {},
   "outputs": [],
   "source": []
  },
  {
   "cell_type": "code",
   "execution_count": null,
   "metadata": {},
   "outputs": [],
   "source": []
  },
  {
   "cell_type": "code",
   "execution_count": 136,
   "metadata": {},
   "outputs": [],
   "source": [
    "author_pubs_ = requests.get(f\"http://api.elsevier.com/content/search/scopus?query=AU-ID({my_id})&field=dc:identifier&count=200\",\n",
    "                               headers={'Accept':'application/json',\n",
    "                                        'X-ELS-APIKey': APIKeys[-3]})\n",
    "author_pubs = author_pubs_.json()\n",
    "scopus_ids = [p['dc:identifier'] for p in author_pubs['search-results'][\"entry\"]]\n",
    "# firstauthor = author_pubs[\"search-results\"][\"link\"][0]['@_fa']\n",
    "# print(firstauthor)"
   ]
  },
  {
   "cell_type": "code",
   "execution_count": null,
   "metadata": {},
   "outputs": [],
   "source": []
  },
  {
   "cell_type": "code",
   "execution_count": 138,
   "metadata": {},
   "outputs": [
    {
     "data": {
      "text/plain": [
       "'SCOPUS_ID:85113274970'"
      ]
     },
     "execution_count": 138,
     "metadata": {},
     "output_type": "execute_result"
    }
   ],
   "source": [
    "sid = scopus_ids[0]\n",
    "sid"
   ]
  },
  {
   "cell_type": "code",
   "execution_count": 139,
   "metadata": {},
   "outputs": [],
   "source": [
    "url = (\"http://api.elsevier.com/content/abstract/scopus_id/\"\n",
    "      + sid\n",
    "      + \"?field=authors,affiliations,title,publicationName,volume,issueIdentifier,\"\n",
    "#       + \"?field=authors,title,publicationName,volume,issueIdentifier,\"\n",
    "      + \"prism:pageRange,coverDate,article-number,doi,citedby-count,prism:aggregationType\")\n",
    "resp = requests.get(url,\n",
    "                headers={'Accept':'application/json',\n",
    "                         'X-ELS-APIKey': APIKeys[-3]})\n",
    "results = json.loads(resp.text.encode('utf-8'))"
   ]
  },
  {
   "cell_type": "code",
   "execution_count": 145,
   "metadata": {},
   "outputs": [
    {
     "data": {
      "text/plain": [
       "'Bor, Amgalan'"
      ]
     },
     "execution_count": 145,
     "metadata": {},
     "output_type": "execute_result"
    }
   ],
   "source": [
    "au = authors[0]\n",
    "name_first = au['ce:given-name']\n",
    "name_family = au['ce:surname']\n",
    "name_full = f\"{name_family}, {name_first}\"\n",
    "name_full"
   ]
  },
  {
   "cell_type": "code",
   "execution_count": 149,
   "metadata": {},
   "outputs": [
    {
     "data": {
      "text/plain": [
       "{'@id': '60012178',\n",
       " '@href': 'https://api.elsevier.com/content/affiliation/affiliation_id/60012178'}"
      ]
     },
     "execution_count": 149,
     "metadata": {},
     "output_type": "execute_result"
    }
   ],
   "source": [
    "au[\"affiliation\"]"
   ]
  },
  {
   "cell_type": "code",
   "execution_count": 151,
   "metadata": {},
   "outputs": [],
   "source": [
    "authors = results['abstracts-retrieval-response'][\"authors\"][\"author\"]\n",
    "for i, au in enumerate(authors):\n",
    "    name_first = au['ce:given-name']\n",
    "    name_family = au['ce:surname']\n",
    "    name_full = f\"{name_family}, {name_first}\"\n",
    "    if isinstance(au[\"affiliation\"], list):\n",
    "        afids = [af['@id'] for af in au[\"affiliation\"]]\n",
    "    elif isinstance(au[\"affiliation\"], dict):\n",
    "        afids = [au[\"affiliation\"]['@id']]\n",
    "    \n",
    "    if my_afid in afids:\n",
    "        print(\"ok!\")"
   ]
  },
  {
   "cell_type": "code",
   "execution_count": 132,
   "metadata": {},
   "outputs": [
    {
     "data": {
      "text/plain": [
       "['60018163', '60013682']"
      ]
     },
     "execution_count": 132,
     "metadata": {},
     "output_type": "execute_result"
    }
   ],
   "source": [
    "[af['@id'] for af in authors[0][\"affiliation\"]]"
   ]
  },
  {
   "cell_type": "code",
   "execution_count": 129,
   "metadata": {},
   "outputs": [
    {
     "data": {
      "text/plain": [
       "{'ce:given-name': 'Lee',\n",
       " 'preferred-name': {'ce:given-name': 'Lee',\n",
       "  'ce:initials': 'L.',\n",
       "  'ce:surname': 'Jehyun',\n",
       "  'ce:indexed-name': 'Jehyun L.'},\n",
       " '@seq': '1',\n",
       " 'ce:initials': 'L.',\n",
       " '@_fa': 'true',\n",
       " 'affiliation': [{'@id': '60018163',\n",
       "   '@href': 'https://api.elsevier.com/content/affiliation/affiliation_id/60018163'},\n",
       "  {'@id': '60013682',\n",
       "   '@href': 'https://api.elsevier.com/content/affiliation/affiliation_id/60013682'}],\n",
       " 'ce:surname': 'Jehyun',\n",
       " '@auid': '15834698800',\n",
       " 'author-url': 'https://api.elsevier.com/content/author/author_id/15834698800',\n",
       " 'ce:indexed-name': 'Jehyun L.'}"
      ]
     },
     "execution_count": 129,
     "metadata": {},
     "output_type": "execute_result"
    }
   ],
   "source": [
    "authors[0]"
   ]
  },
  {
   "cell_type": "code",
   "execution_count": 127,
   "metadata": {},
   "outputs": [
    {
     "data": {
      "text/plain": [
       "{'ce:given-name': 'Lee',\n",
       " 'preferred-name': {'ce:given-name': 'Lee',\n",
       "  'ce:initials': 'L.',\n",
       "  'ce:surname': 'Jehyun',\n",
       "  'ce:indexed-name': 'Jehyun L.'},\n",
       " '@seq': '1',\n",
       " 'ce:initials': 'L.',\n",
       " '@_fa': 'true',\n",
       " 'affiliation': [{'@id': '60018163',\n",
       "   '@href': 'https://api.elsevier.com/content/affiliation/affiliation_id/60018163'},\n",
       "  {'@id': '60013682',\n",
       "   '@href': 'https://api.elsevier.com/content/affiliation/affiliation_id/60013682'}],\n",
       " 'ce:surname': 'Jehyun',\n",
       " '@auid': '15834698800',\n",
       " 'author-url': 'https://api.elsevier.com/content/author/author_id/15834698800',\n",
       " 'ce:indexed-name': 'Jehyun L.'}"
      ]
     },
     "execution_count": 127,
     "metadata": {},
     "output_type": "execute_result"
    }
   ],
   "source": [
    "name_first = authors[0]['ce:given-name']\n",
    "name_family = authors[0]['ce:surname']\n",
    "name_full = f\"{name_family}, {name_first}\""
   ]
  },
  {
   "cell_type": "code",
   "execution_count": null,
   "metadata": {},
   "outputs": [],
   "source": []
  },
  {
   "cell_type": "code",
   "execution_count": null,
   "metadata": {},
   "outputs": [],
   "source": []
  },
  {
   "cell_type": "code",
   "execution_count": 91,
   "metadata": {},
   "outputs": [
    {
     "name": "stdout",
     "output_type": "stream",
     "text": [
      "1\n"
     ]
    }
   ],
   "source": [
    "pub_no = 0\n",
    "pubs = []\n",
    "for sid in scopus_ids:\n",
    "    try:\n",
    "        pub_type, pub_info = get_scopus_info(sid)\n",
    "        if pub_type == 'Journal':\n",
    "            pubs.append(f\"{pub_info}\")\n",
    "            pub_no += 1\n",
    "    except:\n",
    "        pass\n",
    "\n",
    "print(pub_no)"
   ]
  },
  {
   "cell_type": "code",
   "execution_count": 92,
   "metadata": {},
   "outputs": [
    {
     "data": {
      "text/plain": [
       "'Jehyun L., Suess D., Schrefl T., Kyu H.O., Fidler J., Contribution of local incoherency on Gilbert-damping, IEEE Transactions on Magnetics, 42, 3210-3212, (2006-10-01). doi:10.1109/TMAG.2006.880565 (cited 3 times).\\n'"
      ]
     },
     "execution_count": 92,
     "metadata": {},
     "output_type": "execute_result"
    }
   ],
   "source": [
    "pubs[0]"
   ]
  },
  {
   "cell_type": "code",
   "execution_count": null,
   "metadata": {},
   "outputs": [],
   "source": []
  },
  {
   "cell_type": "code",
   "execution_count": 14,
   "metadata": {},
   "outputs": [
    {
     "data": {
      "text/plain": [
       "array(['10.1021/acs.jpclett.1c01140', '10.1038/s41598-021-83315-9',\n",
       "       '10.1038/srep31513', '10.1063/1.4919836', '10.1038/srep12659',\n",
       "       '10.1063/1.4903741', '10.1002/adma.201303003',\n",
       "       '10.1088/0957-4484/25/4/045604', '10.1142/S2010324713400018',\n",
       "       '10.1088/0957-4484/24/14/145702', '10.1038/srep01301',\n",
       "       '10.1002/pssa.201228731', '10.1063/1.4821821', '10.1063/1.4712033',\n",
       "       '10.1063/1.4705690', '10.1088/0022-3727/45/49/495001',\n",
       "       '10.1088/0957-4484/23/2/025301', '10.1103/PhysRevB.84.224421',\n",
       "       '10.1063/1.3623752', '10.1063/1.3595307', '10.1063/1.3556773',\n",
       "       '10.1088/0957-4484/21/49/495701', '10.1063/1.3460639',\n",
       "       '10.1016/j.jmmm.2010.08.010', '10.1063/1.3372611',\n",
       "       '10.1109/TMAG.2010.2040594', '10.1109/TMAG.2010.2040714',\n",
       "       '10.1063/1.3275925', '10.1063/1.3257364', '10.1063/1.3152293',\n",
       "       '10.1109/TMAG.2008.2002859', '10.1016/j.scriptamat.2009.01.031',\n",
       "       '10.1109/TMAG.2009.2018949', '10.1088/0022-3727/42/4/045005',\n",
       "       '10.1007/s10948-018-4953-8', '10.1063/1.2833302',\n",
       "       '10.1063/1.2710748', '10.1016/j.jmmm.2007.04.019',\n",
       "       '10.1103/PhysRevB.75.174430', '10.1109/TMAG.2006.880565',\n",
       "       '10.1063/1.2126124', '10.1016/j.jmmm.2003.12.624',\n",
       "       '10.1016/j.jmmm.2003.12.707', '10.1063/1.1763638'], dtype=object)"
      ]
     },
     "execution_count": 14,
     "metadata": {},
     "output_type": "execute_result"
    }
   ],
   "source": [
    "dois = df_CV[\"DOI\"].values\n",
    "\n",
    "for i, doi in enumerate(dois):\n",
    "    s = ScopusSearch(f\"DOI ({doi})\").results[0]"
   ]
  },
  {
   "cell_type": "code",
   "execution_count": null,
   "metadata": {},
   "outputs": [],
   "source": []
  },
  {
   "cell_type": "code",
   "execution_count": null,
   "metadata": {},
   "outputs": [],
   "source": []
  },
  {
   "cell_type": "code",
   "execution_count": null,
   "metadata": {},
   "outputs": [],
   "source": []
  },
  {
   "cell_type": "code",
   "execution_count": null,
   "metadata": {},
   "outputs": [],
   "source": []
  },
  {
   "cell_type": "code",
   "execution_count": 27,
   "metadata": {},
   "outputs": [],
   "source": [
    "# author id of \"Jehyun Lee\"\n",
    "author_id = \"55969873500\"\n",
    "\n",
    "author_r = requests.get(f\"http://api.elsevier.com/content/author?author_id={author_id}&view=metrics\",\n",
    "                        headers={'Accept':'application/json', 'X-ELS-APIKey': APIKeys[-2]})\n",
    "author_data = eval(json.dumps(author_r.json(), sort_keys=True, indent=4, separators=(',', ': ')))\n",
    "\n",
    "h_index = author_data['author-retrieval-response'][0][\"h-index\"]\n",
    "citedby_count_total = author_data['author-retrieval-response'][0][\"coredata\"]['cited-by-count']\n",
    "document_count_total = author_data['author-retrieval-response'][0][\"coredata\"]['document-count']\n",
    "\n",
    "print(h_index, citedby_count_total, document_count_total)"
   ]
  },
  {
   "cell_type": "code",
   "execution_count": 33,
   "metadata": {},
   "outputs": [
    {
     "data": {
      "text/plain": [
       "[('Hong, Sung Jun', '57221590144'),\n",
       " ('Chun, Hoje', '57195466596'),\n",
       " ('Lee, Jehyun', '55969873500'),\n",
       " ('Kim, Byung Hyun', '55502655900'),\n",
       " ('Seo, Min Ho', '57220796436'),\n",
       " ('Kang, Joonhee', '56076915900'),\n",
       " ('Han, Byungchan', '10639592000')]"
      ]
     },
     "execution_count": 33,
     "metadata": {},
     "output_type": "execute_result"
    }
   ],
   "source": [
    "title = \"First-Principles-Based Machine-Learning Molecular Dynamics for Crystalline Polymers with van der Waals interactions\"\n",
    "s_sample = ScopusSearch(f\"TITLE ({title})\").results[0]\n",
    "list(zip(s_sample.author_names.split(\";\"), s_sample.author_ids.split(\";\")))"
   ]
  },
  {
   "cell_type": "code",
   "execution_count": 34,
   "metadata": {},
   "outputs": [
    {
     "data": {
      "text/plain": [
       "[('Kim, Sang Koog', '7601587994'),\n",
       " ('Yoo, Myoung Woo', '35738330300'),\n",
       " ('Lee, Jehyun', '16029235100'),\n",
       " ('Lee, Ha Youn', '56206010000'),\n",
       " ('Lee, Jae Hyeok', '57206731799'),\n",
       " ('Gaididei, Yuri', '7005459050'),\n",
       " ('Kravchuk, Volodymyr P.', '15757587900'),\n",
       " ('Sheka, Denis D.', '6701719591')]"
      ]
     },
     "execution_count": 34,
     "metadata": {},
     "output_type": "execute_result"
    }
   ],
   "source": [
    "title = \"Resonantly excited precession motion of three-dimensional vortex core in magnetic nanospheres\"\n",
    "s_sample = ScopusSearch(f\"TITLE ({title})\").results[0]\n",
    "list(zip(s_sample.author_names.split(\";\"), s_sample.author_ids.split(\";\")))"
   ]
  },
  {
   "cell_type": "code",
   "execution_count": null,
   "metadata": {},
   "outputs": [],
   "source": [
    "author_pubs_ = requests.get(f\"http://api.elsevier.com/content/search/scopus?query=AU-ID({author_id})&field=dc:identifier&count=100\",\n",
    "                               headers={'Accept':'application/json',\n",
    "                                        'X-ELS-APIKey': APIKeys[-3]})\n",
    "author_pubs = author_pubs_.json()\n",
    "scopus_ids = [p['dc:identifier'] for p in author_pubs['search-results'][\"entry\"]]"
   ]
  },
  {
   "cell_type": "code",
   "execution_count": 18,
   "metadata": {},
   "outputs": [
    {
     "data": {
      "text/plain": [
       "100"
      ]
     },
     "execution_count": 18,
     "metadata": {},
     "output_type": "execute_result"
    }
   ],
   "source": [
    "len(author_pubs['search-results'][\"entry\"])"
   ]
  },
  {
   "cell_type": "code",
   "execution_count": 19,
   "metadata": {},
   "outputs": [],
   "source": [
    "def get_scopus_info(SCOPUS_ID):\n",
    "    url = (\"http://api.elsevier.com/content/abstract/scopus_id/\"\n",
    "          + SCOPUS_ID\n",
    "          + \"?field=authors,title,publicationName,volume,issueIdentifier,\"\n",
    "          + \"prism:pageRange,coverDate,article-number,doi,citedby-count,prism:aggregationType\")\n",
    "    resp = requests.get(url,\n",
    "                    headers={'Accept':'application/json',\n",
    "                             'X-ELS-APIKey': APIKeys[-3]})\n",
    "    results = json.loads(resp.text.encode('utf-8'))\n",
    "    \n",
    "    authors = ', '.join([au['ce:indexed-name'] for au in results['abstracts-retrieval-response']['authors']['author']])\n",
    "    title = results['abstracts-retrieval-response']['coredata']['dc:title']\n",
    "    pubtype = results['abstracts-retrieval-response']['coredata']['prism:aggregationType']\n",
    "    journal = results['abstracts-retrieval-response']['coredata']['prism:publicationName']\n",
    "    volume = results['abstracts-retrieval-response']['coredata']['prism:volume']\n",
    "    articlenum = (results['abstracts-retrieval-response']['coredata'].get('prism:pageRange') or\n",
    "                  results['abstracts-retrieval-response']['coredata'].get('article-number'))\n",
    "    date = results['abstracts-retrieval-response']['coredata']['prism:coverDate']\n",
    "    doi = 'doi:' + results['abstracts-retrieval-response']['coredata']['prism:doi']\n",
    "    cites = int(results['abstracts-retrieval-response']['coredata']['citedby-count'])\n",
    "    \n",
    "    return pubtype, f'{authors}, {title}, {journal}, {volume}, {articlenum}, ({date}). {doi} (cited {cites} times).\\n'"
   ]
  },
  {
   "cell_type": "code",
   "execution_count": 20,
   "metadata": {},
   "outputs": [
    {
     "name": "stdout",
     "output_type": "stream",
     "text": [
      "94\n"
     ]
    }
   ],
   "source": [
    "pub_no = 1\n",
    "pubs = []\n",
    "for sid in scopus_ids:\n",
    "    try:\n",
    "        pub_type, pub_info = get_scopus_info(sid)\n",
    "        if pub_type == 'Journal':\n",
    "            pubs.append(f\"{pub_info}\")\n",
    "            pub_no += 1\n",
    "    except:\n",
    "        pass\n",
    "\n",
    "print(pub_no)"
   ]
  },
  {
   "cell_type": "code",
   "execution_count": 24,
   "metadata": {},
   "outputs": [],
   "source": [
    "# export to .docx file\n",
    "document = Document()\n",
    "document.add_heading(f\"Jehyun Lee({len(pubs)} publications)\\n\")\n",
    "\n",
    "for pub in pubs:\n",
    "    document.add_paragraph(f'{pub}', style='List Number')\n",
    "document.save(f'my_CV.docx')"
   ]
  },
  {
   "cell_type": "code",
   "execution_count": null,
   "metadata": {},
   "outputs": [],
   "source": []
  },
  {
   "cell_type": "code",
   "execution_count": null,
   "metadata": {},
   "outputs": [],
   "source": []
  },
  {
   "cell_type": "code",
   "execution_count": null,
   "metadata": {},
   "outputs": [],
   "source": []
  },
  {
   "cell_type": "code",
   "execution_count": null,
   "metadata": {},
   "outputs": [],
   "source": []
  }
 ],
 "metadata": {
  "kernelspec": {
   "display_name": "Python 3",
   "language": "python",
   "name": "python3"
  },
  "language_info": {
   "codemirror_mode": {
    "name": "ipython",
    "version": 3
   },
   "file_extension": ".py",
   "mimetype": "text/x-python",
   "name": "python",
   "nbconvert_exporter": "python",
   "pygments_lexer": "ipython3",
   "version": "3.7.4"
  }
 },
 "nbformat": 4,
 "nbformat_minor": 4
}
